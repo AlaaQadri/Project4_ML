{
 "cells": [
  {
   "cell_type": "markdown",
   "id": "fde3a783",
   "metadata": {},
   "source": [
    "## Import Libraries"
   ]
  },
  {
   "cell_type": "code",
   "execution_count": 1,
   "id": "2d9746be",
   "metadata": {},
   "outputs": [],
   "source": [
    "import pandas as pd \n",
    "import numpy as np \n",
    "import matplotlib.pyplot as plt \n",
    "import seaborn as sns\n",
    "import plotly.express as px"
   ]
  },
  {
   "cell_type": "markdown",
   "id": "b4e84163",
   "metadata": {},
   "source": [
    "## Read Dataset"
   ]
  },
  {
   "cell_type": "code",
   "execution_count": 2,
   "id": "867e9a40",
   "metadata": {},
   "outputs": [],
   "source": [
    "df1 = pd.read_csv(\"noon_perfumes_dataset.csv\")"
   ]
  },
  {
   "cell_type": "markdown",
   "id": "09078024",
   "metadata": {},
   "source": [
    "## EDA "
   ]
  },
  {
   "cell_type": "code",
   "execution_count": 3,
   "id": "26b2e2a9",
   "metadata": {},
   "outputs": [
    {
     "data": {
      "text/html": [
       "<div>\n",
       "<style scoped>\n",
       "    .dataframe tbody tr th:only-of-type {\n",
       "        vertical-align: middle;\n",
       "    }\n",
       "\n",
       "    .dataframe tbody tr th {\n",
       "        vertical-align: top;\n",
       "    }\n",
       "\n",
       "    .dataframe thead th {\n",
       "        text-align: right;\n",
       "    }\n",
       "</style>\n",
       "<table border=\"1\" class=\"dataframe\">\n",
       "  <thead>\n",
       "    <tr style=\"text-align: right;\">\n",
       "      <th></th>\n",
       "      <th>Unnamed: 0</th>\n",
       "      <th>brand</th>\n",
       "      <th>name</th>\n",
       "      <th>old_price</th>\n",
       "      <th>new_price</th>\n",
       "      <th>ml</th>\n",
       "      <th>concentration</th>\n",
       "      <th>department</th>\n",
       "      <th>scents</th>\n",
       "      <th>base_note</th>\n",
       "      <th>middle_note</th>\n",
       "      <th>item_rating</th>\n",
       "      <th>seller</th>\n",
       "      <th>seller_rating</th>\n",
       "      <th>num_seller_ratings</th>\n",
       "    </tr>\n",
       "  </thead>\n",
       "  <tbody>\n",
       "    <tr>\n",
       "      <th>0</th>\n",
       "      <td>0</td>\n",
       "      <td>PACO RABANNE</td>\n",
       "      <td>1 Million Lucky</td>\n",
       "      <td>395.0</td>\n",
       "      <td>244.55</td>\n",
       "      <td>100</td>\n",
       "      <td>EDT</td>\n",
       "      <td>Men</td>\n",
       "      <td>Woody</td>\n",
       "      <td>Oakmoss, Patchouli and Vetiver</td>\n",
       "      <td>Hazelnut, Jasmine, Cashmir Wood, Cedar and Honey</td>\n",
       "      <td>5.0</td>\n",
       "      <td>noon</td>\n",
       "      <td>4.2</td>\n",
       "      <td>98.1K</td>\n",
       "    </tr>\n",
       "    <tr>\n",
       "      <th>1</th>\n",
       "      <td>1</td>\n",
       "      <td>Roberto Cavalli</td>\n",
       "      <td>Paradiso Assoluto</td>\n",
       "      <td>415.0</td>\n",
       "      <td>107.95</td>\n",
       "      <td>50</td>\n",
       "      <td>EDP</td>\n",
       "      <td>Women</td>\n",
       "      <td>Floral</td>\n",
       "      <td>Vanilla, Sandalwood And Patchouli</td>\n",
       "      <td>Wild Jasmine and Red Lily</td>\n",
       "      <td>4.8</td>\n",
       "      <td>noon</td>\n",
       "      <td>4.2</td>\n",
       "      <td>98.1K</td>\n",
       "    </tr>\n",
       "    <tr>\n",
       "      <th>2</th>\n",
       "      <td>2</td>\n",
       "      <td>S.T.Dupont</td>\n",
       "      <td>Royal Amber</td>\n",
       "      <td>265.0</td>\n",
       "      <td>186.90</td>\n",
       "      <td>100</td>\n",
       "      <td>EDP</td>\n",
       "      <td>Unisex</td>\n",
       "      <td>Arabian</td>\n",
       "      <td>Lemon, Mint and Wood Moss</td>\n",
       "      <td>Sandalwood and Cedar</td>\n",
       "      <td>5.0</td>\n",
       "      <td>noon</td>\n",
       "      <td>4.2</td>\n",
       "      <td>98.1K</td>\n",
       "    </tr>\n",
       "    <tr>\n",
       "      <th>3</th>\n",
       "      <td>3</td>\n",
       "      <td>GUESS</td>\n",
       "      <td>Seductive Blue</td>\n",
       "      <td>290.0</td>\n",
       "      <td>103.20</td>\n",
       "      <td>100</td>\n",
       "      <td>EDT</td>\n",
       "      <td>Men</td>\n",
       "      <td>Spicy</td>\n",
       "      <td>Cashmere Wood, Moss And Rippled Sand Accord</td>\n",
       "      <td>Blue Coral Aquaspace Accord And Geranium</td>\n",
       "      <td>3.0</td>\n",
       "      <td>noon</td>\n",
       "      <td>4.2</td>\n",
       "      <td>98.1K</td>\n",
       "    </tr>\n",
       "    <tr>\n",
       "      <th>4</th>\n",
       "      <td>4</td>\n",
       "      <td>Roberto Cavalli</td>\n",
       "      <td>Uomo</td>\n",
       "      <td>260.0</td>\n",
       "      <td>94.95</td>\n",
       "      <td>50</td>\n",
       "      <td>EDP</td>\n",
       "      <td>Women</td>\n",
       "      <td>Arabian</td>\n",
       "      <td>Vanille, Benzoin, Tonka Bean</td>\n",
       "      <td>African Orange Flower</td>\n",
       "      <td>4.8</td>\n",
       "      <td>noon</td>\n",
       "      <td>4.2</td>\n",
       "      <td>98.1K</td>\n",
       "    </tr>\n",
       "  </tbody>\n",
       "</table>\n",
       "</div>"
      ],
      "text/plain": [
       "   Unnamed: 0            brand               name  old_price  new_price   ml  \\\n",
       "0           0     PACO RABANNE    1 Million Lucky      395.0     244.55  100   \n",
       "1           1  Roberto Cavalli  Paradiso Assoluto      415.0     107.95   50   \n",
       "2           2       S.T.Dupont        Royal Amber      265.0     186.90  100   \n",
       "3           3            GUESS     Seductive Blue      290.0     103.20  100   \n",
       "4           4  Roberto Cavalli               Uomo      260.0      94.95   50   \n",
       "\n",
       "  concentration department   scents  \\\n",
       "0           EDT        Men    Woody   \n",
       "1           EDP      Women   Floral   \n",
       "2           EDP     Unisex  Arabian   \n",
       "3           EDT        Men    Spicy   \n",
       "4           EDP      Women  Arabian   \n",
       "\n",
       "                                     base_note  \\\n",
       "0               Oakmoss, Patchouli and Vetiver   \n",
       "1            Vanilla, Sandalwood And Patchouli   \n",
       "2                    Lemon, Mint and Wood Moss   \n",
       "3  Cashmere Wood, Moss And Rippled Sand Accord   \n",
       "4                 Vanille, Benzoin, Tonka Bean   \n",
       "\n",
       "                                        middle_note  item_rating seller  \\\n",
       "0  Hazelnut, Jasmine, Cashmir Wood, Cedar and Honey          5.0   noon   \n",
       "1                         Wild Jasmine and Red Lily          4.8   noon   \n",
       "2                              Sandalwood and Cedar          5.0   noon   \n",
       "3          Blue Coral Aquaspace Accord And Geranium          3.0   noon   \n",
       "4                             African Orange Flower          4.8   noon   \n",
       "\n",
       "   seller_rating num_seller_ratings  \n",
       "0            4.2              98.1K  \n",
       "1            4.2              98.1K  \n",
       "2            4.2              98.1K  \n",
       "3            4.2              98.1K  \n",
       "4            4.2              98.1K  "
      ]
     },
     "execution_count": 3,
     "metadata": {},
     "output_type": "execute_result"
    }
   ],
   "source": [
    "df1.head()"
   ]
  },
  {
   "cell_type": "code",
   "execution_count": 4,
   "id": "3b51b781",
   "metadata": {},
   "outputs": [
    {
     "data": {
      "text/plain": [
       "(1003, 15)"
      ]
     },
     "execution_count": 4,
     "metadata": {},
     "output_type": "execute_result"
    }
   ],
   "source": [
    "df1.shape"
   ]
  },
  {
   "cell_type": "code",
   "execution_count": 5,
   "id": "1f787125",
   "metadata": {},
   "outputs": [
    {
     "data": {
      "text/html": [
       "<div>\n",
       "<style scoped>\n",
       "    .dataframe tbody tr th:only-of-type {\n",
       "        vertical-align: middle;\n",
       "    }\n",
       "\n",
       "    .dataframe tbody tr th {\n",
       "        vertical-align: top;\n",
       "    }\n",
       "\n",
       "    .dataframe thead th {\n",
       "        text-align: right;\n",
       "    }\n",
       "</style>\n",
       "<table border=\"1\" class=\"dataframe\">\n",
       "  <thead>\n",
       "    <tr style=\"text-align: right;\">\n",
       "      <th></th>\n",
       "      <th>Unnamed: 0</th>\n",
       "      <th>old_price</th>\n",
       "      <th>new_price</th>\n",
       "      <th>ml</th>\n",
       "      <th>item_rating</th>\n",
       "      <th>seller_rating</th>\n",
       "    </tr>\n",
       "  </thead>\n",
       "  <tbody>\n",
       "    <tr>\n",
       "      <th>count</th>\n",
       "      <td>1003.000000</td>\n",
       "      <td>1003.000000</td>\n",
       "      <td>1003.000000</td>\n",
       "      <td>1003.000000</td>\n",
       "      <td>1003.000000</td>\n",
       "      <td>1003.000000</td>\n",
       "    </tr>\n",
       "    <tr>\n",
       "      <th>mean</th>\n",
       "      <td>501.000000</td>\n",
       "      <td>321.176022</td>\n",
       "      <td>149.574307</td>\n",
       "      <td>92.862413</td>\n",
       "      <td>4.530907</td>\n",
       "      <td>14.143170</td>\n",
       "    </tr>\n",
       "    <tr>\n",
       "      <th>std</th>\n",
       "      <td>289.685462</td>\n",
       "      <td>234.195846</td>\n",
       "      <td>108.686013</td>\n",
       "      <td>27.496053</td>\n",
       "      <td>0.555504</td>\n",
       "      <td>64.706572</td>\n",
       "    </tr>\n",
       "    <tr>\n",
       "      <th>min</th>\n",
       "      <td>0.000000</td>\n",
       "      <td>5.350000</td>\n",
       "      <td>5.350000</td>\n",
       "      <td>1.000000</td>\n",
       "      <td>1.000000</td>\n",
       "      <td>3.500000</td>\n",
       "    </tr>\n",
       "    <tr>\n",
       "      <th>25%</th>\n",
       "      <td>250.500000</td>\n",
       "      <td>140.500000</td>\n",
       "      <td>80.325000</td>\n",
       "      <td>80.000000</td>\n",
       "      <td>4.400000</td>\n",
       "      <td>3.800000</td>\n",
       "    </tr>\n",
       "    <tr>\n",
       "      <th>50%</th>\n",
       "      <td>501.000000</td>\n",
       "      <td>310.000000</td>\n",
       "      <td>135.000000</td>\n",
       "      <td>100.000000</td>\n",
       "      <td>4.600000</td>\n",
       "      <td>3.900000</td>\n",
       "    </tr>\n",
       "    <tr>\n",
       "      <th>75%</th>\n",
       "      <td>751.500000</td>\n",
       "      <td>455.000000</td>\n",
       "      <td>198.525000</td>\n",
       "      <td>100.000000</td>\n",
       "      <td>5.000000</td>\n",
       "      <td>4.200000</td>\n",
       "    </tr>\n",
       "    <tr>\n",
       "      <th>max</th>\n",
       "      <td>1002.000000</td>\n",
       "      <td>2350.000000</td>\n",
       "      <td>904.850000</td>\n",
       "      <td>200.000000</td>\n",
       "      <td>5.000000</td>\n",
       "      <td>454.000000</td>\n",
       "    </tr>\n",
       "  </tbody>\n",
       "</table>\n",
       "</div>"
      ],
      "text/plain": [
       "        Unnamed: 0    old_price    new_price           ml  item_rating  \\\n",
       "count  1003.000000  1003.000000  1003.000000  1003.000000  1003.000000   \n",
       "mean    501.000000   321.176022   149.574307    92.862413     4.530907   \n",
       "std     289.685462   234.195846   108.686013    27.496053     0.555504   \n",
       "min       0.000000     5.350000     5.350000     1.000000     1.000000   \n",
       "25%     250.500000   140.500000    80.325000    80.000000     4.400000   \n",
       "50%     501.000000   310.000000   135.000000   100.000000     4.600000   \n",
       "75%     751.500000   455.000000   198.525000   100.000000     5.000000   \n",
       "max    1002.000000  2350.000000   904.850000   200.000000     5.000000   \n",
       "\n",
       "       seller_rating  \n",
       "count    1003.000000  \n",
       "mean       14.143170  \n",
       "std        64.706572  \n",
       "min         3.500000  \n",
       "25%         3.800000  \n",
       "50%         3.900000  \n",
       "75%         4.200000  \n",
       "max       454.000000  "
      ]
     },
     "execution_count": 5,
     "metadata": {},
     "output_type": "execute_result"
    }
   ],
   "source": [
    "df1.describe()"
   ]
  },
  {
   "cell_type": "code",
   "execution_count": 6,
   "id": "1e2e1c98",
   "metadata": {},
   "outputs": [
    {
     "name": "stdout",
     "output_type": "stream",
     "text": [
      "<class 'pandas.core.frame.DataFrame'>\n",
      "RangeIndex: 1003 entries, 0 to 1002\n",
      "Data columns (total 15 columns):\n",
      " #   Column              Non-Null Count  Dtype  \n",
      "---  ------              --------------  -----  \n",
      " 0   Unnamed: 0          1003 non-null   int64  \n",
      " 1   brand               1003 non-null   object \n",
      " 2   name                1003 non-null   object \n",
      " 3   old_price           1003 non-null   float64\n",
      " 4   new_price           1003 non-null   float64\n",
      " 5   ml                  1003 non-null   int64  \n",
      " 6   concentration       1003 non-null   object \n",
      " 7   department          1003 non-null   object \n",
      " 8   scents              1003 non-null   object \n",
      " 9   base_note           1003 non-null   object \n",
      " 10  middle_note         1003 non-null   object \n",
      " 11  item_rating         1003 non-null   float64\n",
      " 12  seller              1003 non-null   object \n",
      " 13  seller_rating       1003 non-null   float64\n",
      " 14  num_seller_ratings  1003 non-null   object \n",
      "dtypes: float64(4), int64(2), object(9)\n",
      "memory usage: 117.7+ KB\n"
     ]
    }
   ],
   "source": [
    "df1.info()"
   ]
  },
  {
   "cell_type": "code",
   "execution_count": 7,
   "id": "9be5f3ea",
   "metadata": {},
   "outputs": [],
   "source": [
    "# df1['num_seller_ratings']"
   ]
  },
  {
   "cell_type": "code",
   "execution_count": 8,
   "id": "f5f4da6d",
   "metadata": {},
   "outputs": [],
   "source": [
    "df1.drop('Unnamed: 0', axis=1, inplace=True)"
   ]
  },
  {
   "cell_type": "code",
   "execution_count": 9,
   "id": "86b74dcc",
   "metadata": {},
   "outputs": [
    {
     "data": {
      "text/plain": [
       "Index(['brand', 'name', 'old_price', 'new_price', 'ml', 'concentration',\n",
       "       'department', 'scents', 'base_note', 'middle_note', 'item_rating',\n",
       "       'seller', 'seller_rating', 'num_seller_ratings'],\n",
       "      dtype='object')"
      ]
     },
     "execution_count": 9,
     "metadata": {},
     "output_type": "execute_result"
    }
   ],
   "source": [
    "df1.columns"
   ]
  },
  {
   "cell_type": "code",
   "execution_count": 10,
   "id": "44a17e9d",
   "metadata": {},
   "outputs": [
    {
     "data": {
      "text/plain": [
       "Women     503\n",
       "Men       433\n",
       "Unisex     67\n",
       "Name: department, dtype: int64"
      ]
     },
     "execution_count": 10,
     "metadata": {},
     "output_type": "execute_result"
    }
   ],
   "source": [
    "df1['department'].replace({'Kids Unisex':'Unisex'},inplace=True)\n",
    "df1['department'].value_counts()"
   ]
  },
  {
   "cell_type": "code",
   "execution_count": 11,
   "id": "9ea2cc54",
   "metadata": {},
   "outputs": [
    {
     "data": {
      "text/plain": [
       "Calvin Klein         44\n",
       "BURBERRY             39\n",
       "HUGO BOSS            36\n",
       "Roberto Cavalli      34\n",
       "DORALL COLLECTION    32\n",
       "                     ..\n",
       "Laura Biagiotti       1\n",
       "HOUBIGANT             1\n",
       "NICOLAI               1\n",
       "marbert man           1\n",
       "Mariah Carey          1\n",
       "Name: brand, Length: 160, dtype: int64"
      ]
     },
     "execution_count": 11,
     "metadata": {},
     "output_type": "execute_result"
    }
   ],
   "source": [
    "df1['brand'].value_counts()"
   ]
  },
  {
   "cell_type": "code",
   "execution_count": 12,
   "id": "319c207e",
   "metadata": {},
   "outputs": [
    {
     "name": "stdout",
     "output_type": "stream",
     "text": [
      "Roses Vanille       8\n",
      "Pour Homme          8\n",
      "Uomo                8\n",
      "Eros                8\n",
      "Homme               8\n",
      "                   ..\n",
      "Guilty Intense      1\n",
      "Mon Florale         1\n",
      "Live Luxe           1\n",
      "Secret De Rochas    1\n",
      "Layali CPO At       1\n",
      "Name: name, Length: 594, dtype: int64\n"
     ]
    },
    {
     "data": {
      "text/plain": [
       "roses vanille             8\n",
       "uomo                      8\n",
       "pour homme                8\n",
       "homme                     8\n",
       "eros                      8\n",
       "                         ..\n",
       "milano infusion d'iris    1\n",
       "guilty intense            1\n",
       "mon florale               1\n",
       "live luxe                 1\n",
       "layali cpo at             1\n",
       "Name: name, Length: 589, dtype: int64"
      ]
     },
     "execution_count": 12,
     "metadata": {},
     "output_type": "execute_result"
    }
   ],
   "source": [
    "nn='name'\n",
    "print(df1[nn].value_counts())\n",
    "\n",
    "df1[nn]=df1[nn].apply(lambda x:x.lower())\n",
    "df1[nn].value_counts()"
   ]
  },
  {
   "cell_type": "code",
   "execution_count": 13,
   "id": "43350749",
   "metadata": {},
   "outputs": [],
   "source": [
    "# nn='seller'\n",
    "# print(df1[nn].value_counts())\n",
    "\n",
    "# df1[nn]=df1[nn].apply(lambda x:x.lower())\n",
    "# df1[nn].value_counts()"
   ]
  },
  {
   "cell_type": "code",
   "execution_count": 14,
   "id": "b2978d11",
   "metadata": {},
   "outputs": [],
   "source": [
    "df1['seller'].replace({'Swiss Arabian PerfumesPRICE UPDATE WITH 15% VAT 1 JULY 2020':'Swiss Arabian'},inplace=True)\n"
   ]
  },
  {
   "cell_type": "code",
   "execution_count": 15,
   "id": "4c1239d4",
   "metadata": {},
   "outputs": [
    {
     "data": {
      "text/plain": [
       "noon             277\n",
       "AMLAQ             92\n",
       "hadayiq baris     52\n",
       "Star.perfume      45\n",
       "B.A.G             29\n",
       "                ... \n",
       "Luxury             1\n",
       "Nuna               1\n",
       "original           1\n",
       "Dary.Dar           1\n",
       "Swiss Arabian      1\n",
       "Name: seller, Length: 117, dtype: int64"
      ]
     },
     "execution_count": 15,
     "metadata": {},
     "output_type": "execute_result"
    }
   ],
   "source": [
    "df1['seller'].value_counts()"
   ]
  },
  {
   "cell_type": "markdown",
   "id": "3805054d",
   "metadata": {},
   "source": [
    "### Add new columns"
   ]
  },
  {
   "cell_type": "code",
   "execution_count": 16,
   "id": "d0d4a7ec",
   "metadata": {},
   "outputs": [
    {
     "data": {
      "text/html": [
       "<div>\n",
       "<style scoped>\n",
       "    .dataframe tbody tr th:only-of-type {\n",
       "        vertical-align: middle;\n",
       "    }\n",
       "\n",
       "    .dataframe tbody tr th {\n",
       "        vertical-align: top;\n",
       "    }\n",
       "\n",
       "    .dataframe thead th {\n",
       "        text-align: right;\n",
       "    }\n",
       "</style>\n",
       "<table border=\"1\" class=\"dataframe\">\n",
       "  <thead>\n",
       "    <tr style=\"text-align: right;\">\n",
       "      <th></th>\n",
       "      <th>brand</th>\n",
       "      <th>name</th>\n",
       "      <th>old_price</th>\n",
       "      <th>new_price</th>\n",
       "      <th>ml</th>\n",
       "      <th>concentration</th>\n",
       "      <th>department</th>\n",
       "      <th>scents</th>\n",
       "      <th>base_note</th>\n",
       "      <th>middle_note</th>\n",
       "      <th>item_rating</th>\n",
       "      <th>seller</th>\n",
       "      <th>seller_rating</th>\n",
       "      <th>num_seller_ratings</th>\n",
       "      <th>discount%</th>\n",
       "      <th>discount_price</th>\n",
       "      <th>price/ml</th>\n",
       "    </tr>\n",
       "  </thead>\n",
       "  <tbody>\n",
       "    <tr>\n",
       "      <th>0</th>\n",
       "      <td>PACO RABANNE</td>\n",
       "      <td>1 million lucky</td>\n",
       "      <td>395.0</td>\n",
       "      <td>244.55</td>\n",
       "      <td>100</td>\n",
       "      <td>EDT</td>\n",
       "      <td>Men</td>\n",
       "      <td>Woody</td>\n",
       "      <td>Oakmoss, Patchouli and Vetiver</td>\n",
       "      <td>Hazelnut, Jasmine, Cashmir Wood, Cedar and Honey</td>\n",
       "      <td>5.0</td>\n",
       "      <td>noon</td>\n",
       "      <td>4.2</td>\n",
       "      <td>98.1K</td>\n",
       "      <td>61.9</td>\n",
       "      <td>150.4</td>\n",
       "      <td>2.4</td>\n",
       "    </tr>\n",
       "    <tr>\n",
       "      <th>1</th>\n",
       "      <td>Roberto Cavalli</td>\n",
       "      <td>paradiso assoluto</td>\n",
       "      <td>415.0</td>\n",
       "      <td>107.95</td>\n",
       "      <td>50</td>\n",
       "      <td>EDP</td>\n",
       "      <td>Women</td>\n",
       "      <td>Floral</td>\n",
       "      <td>Vanilla, Sandalwood And Patchouli</td>\n",
       "      <td>Wild Jasmine and Red Lily</td>\n",
       "      <td>4.8</td>\n",
       "      <td>noon</td>\n",
       "      <td>4.2</td>\n",
       "      <td>98.1K</td>\n",
       "      <td>26.0</td>\n",
       "      <td>307.0</td>\n",
       "      <td>2.2</td>\n",
       "    </tr>\n",
       "    <tr>\n",
       "      <th>2</th>\n",
       "      <td>S.T.Dupont</td>\n",
       "      <td>royal amber</td>\n",
       "      <td>265.0</td>\n",
       "      <td>186.90</td>\n",
       "      <td>100</td>\n",
       "      <td>EDP</td>\n",
       "      <td>Unisex</td>\n",
       "      <td>Arabian</td>\n",
       "      <td>Lemon, Mint and Wood Moss</td>\n",
       "      <td>Sandalwood and Cedar</td>\n",
       "      <td>5.0</td>\n",
       "      <td>noon</td>\n",
       "      <td>4.2</td>\n",
       "      <td>98.1K</td>\n",
       "      <td>70.5</td>\n",
       "      <td>78.1</td>\n",
       "      <td>1.9</td>\n",
       "    </tr>\n",
       "    <tr>\n",
       "      <th>3</th>\n",
       "      <td>GUESS</td>\n",
       "      <td>seductive blue</td>\n",
       "      <td>290.0</td>\n",
       "      <td>103.20</td>\n",
       "      <td>100</td>\n",
       "      <td>EDT</td>\n",
       "      <td>Men</td>\n",
       "      <td>Spicy</td>\n",
       "      <td>Cashmere Wood, Moss And Rippled Sand Accord</td>\n",
       "      <td>Blue Coral Aquaspace Accord And Geranium</td>\n",
       "      <td>3.0</td>\n",
       "      <td>noon</td>\n",
       "      <td>4.2</td>\n",
       "      <td>98.1K</td>\n",
       "      <td>35.6</td>\n",
       "      <td>186.8</td>\n",
       "      <td>1.0</td>\n",
       "    </tr>\n",
       "    <tr>\n",
       "      <th>4</th>\n",
       "      <td>Roberto Cavalli</td>\n",
       "      <td>uomo</td>\n",
       "      <td>260.0</td>\n",
       "      <td>94.95</td>\n",
       "      <td>50</td>\n",
       "      <td>EDP</td>\n",
       "      <td>Women</td>\n",
       "      <td>Arabian</td>\n",
       "      <td>Vanille, Benzoin, Tonka Bean</td>\n",
       "      <td>African Orange Flower</td>\n",
       "      <td>4.8</td>\n",
       "      <td>noon</td>\n",
       "      <td>4.2</td>\n",
       "      <td>98.1K</td>\n",
       "      <td>36.5</td>\n",
       "      <td>165.0</td>\n",
       "      <td>1.9</td>\n",
       "    </tr>\n",
       "  </tbody>\n",
       "</table>\n",
       "</div>"
      ],
      "text/plain": [
       "             brand               name  old_price  new_price   ml  \\\n",
       "0     PACO RABANNE    1 million lucky      395.0     244.55  100   \n",
       "1  Roberto Cavalli  paradiso assoluto      415.0     107.95   50   \n",
       "2       S.T.Dupont        royal amber      265.0     186.90  100   \n",
       "3            GUESS     seductive blue      290.0     103.20  100   \n",
       "4  Roberto Cavalli               uomo      260.0      94.95   50   \n",
       "\n",
       "  concentration department   scents  \\\n",
       "0           EDT        Men    Woody   \n",
       "1           EDP      Women   Floral   \n",
       "2           EDP     Unisex  Arabian   \n",
       "3           EDT        Men    Spicy   \n",
       "4           EDP      Women  Arabian   \n",
       "\n",
       "                                     base_note  \\\n",
       "0               Oakmoss, Patchouli and Vetiver   \n",
       "1            Vanilla, Sandalwood And Patchouli   \n",
       "2                    Lemon, Mint and Wood Moss   \n",
       "3  Cashmere Wood, Moss And Rippled Sand Accord   \n",
       "4                 Vanille, Benzoin, Tonka Bean   \n",
       "\n",
       "                                        middle_note  item_rating seller  \\\n",
       "0  Hazelnut, Jasmine, Cashmir Wood, Cedar and Honey          5.0   noon   \n",
       "1                         Wild Jasmine and Red Lily          4.8   noon   \n",
       "2                              Sandalwood and Cedar          5.0   noon   \n",
       "3          Blue Coral Aquaspace Accord And Geranium          3.0   noon   \n",
       "4                             African Orange Flower          4.8   noon   \n",
       "\n",
       "   seller_rating num_seller_ratings  discount%  discount_price  price/ml  \n",
       "0            4.2              98.1K       61.9           150.4       2.4  \n",
       "1            4.2              98.1K       26.0           307.0       2.2  \n",
       "2            4.2              98.1K       70.5            78.1       1.9  \n",
       "3            4.2              98.1K       35.6           186.8       1.0  \n",
       "4            4.2              98.1K       36.5           165.0       1.9  "
      ]
     },
     "execution_count": 16,
     "metadata": {},
     "output_type": "execute_result"
    }
   ],
   "source": [
    "df1['discount%']=np.round((df1['new_price']/df1['old_price']*100),decimals=1)\n",
    "df1['discount_price']=np.round((df1['old_price']-df1['new_price']),decimals=1)\n",
    "df1['price/ml']=np.round((df1['new_price']/df1['ml']),decimals=1)\n",
    "df1.head()"
   ]
  },
  {
   "cell_type": "code",
   "execution_count": 17,
   "id": "1303c04c",
   "metadata": {},
   "outputs": [
    {
     "data": {
      "text/plain": [
       "Index(['brand', 'name', 'old_price', 'new_price', 'ml', 'concentration',\n",
       "       'department', 'scents', 'base_note', 'middle_note', 'item_rating',\n",
       "       'seller', 'seller_rating', 'num_seller_ratings', 'discount%',\n",
       "       'discount_price', 'price/ml'],\n",
       "      dtype='object')"
      ]
     },
     "execution_count": 17,
     "metadata": {},
     "output_type": "execute_result"
    }
   ],
   "source": [
    "df1.columns"
   ]
  },
  {
   "cell_type": "code",
   "execution_count": 18,
   "id": "ce21455b",
   "metadata": {},
   "outputs": [
    {
     "data": {
      "text/plain": [
       "brand                 0\n",
       "name                  0\n",
       "old_price             0\n",
       "new_price             0\n",
       "ml                    0\n",
       "concentration         0\n",
       "department            0\n",
       "scents                0\n",
       "base_note             0\n",
       "middle_note           0\n",
       "item_rating           0\n",
       "seller                0\n",
       "seller_rating         0\n",
       "num_seller_ratings    0\n",
       "discount%             0\n",
       "discount_price        0\n",
       "price/ml              0\n",
       "dtype: int64"
      ]
     },
     "execution_count": 18,
     "metadata": {},
     "output_type": "execute_result"
    }
   ],
   "source": [
    "df1.isnull().sum()"
   ]
  },
  {
   "cell_type": "code",
   "execution_count": 19,
   "id": "b103cce6",
   "metadata": {},
   "outputs": [
    {
     "data": {
      "text/plain": [
       "['roses vanille',\n",
       " 'uomo',\n",
       " 'pour homme',\n",
       " 'homme',\n",
       " 'eros',\n",
       " 'encre noire',\n",
       " 'marciano',\n",
       " 'essence pure',\n",
       " 'paradiso assoluto',\n",
       " 'london',\n",
       " 'passenger',\n",
       " 'sauvage',\n",
       " 'beauty',\n",
       " 'dylan blue',\n",
       " 'sacrifice',\n",
       " 'pour femme',\n",
       " 'crystal noir',\n",
       " 'the one',\n",
       " 'ck one',\n",
       " 'cool water',\n",
       " 'one shock',\n",
       " 'legend',\n",
       " 'scandal',\n",
       " 'private collection',\n",
       " '212 vip',\n",
       " 'florence',\n",
       " 'stronger with you',\n",
       " 'good girl',\n",
       " 'burberry body',\n",
       " '212 sexy',\n",
       " 'dare',\n",
       " 'emblem',\n",
       " 'guilty absolute',\n",
       " 'narciso rodriguez',\n",
       " 'the scent',\n",
       " 'my burberry',\n",
       " 'petits et mamans',\n",
       " 'love story',\n",
       " 'bleu de chanel',\n",
       " \"l'homme\",\n",
       " 'euphoria',\n",
       " 'just cavalli',\n",
       " 'desire',\n",
       " 'floral',\n",
       " 'shuhrah',\n",
       " \"3 l'imperatrice\",\n",
       " 'scuderia red',\n",
       " 'boss the scent',\n",
       " 'happy spirit',\n",
       " 'creation',\n",
       " 'explorer',\n",
       " 'cabotine',\n",
       " 'plaisir',\n",
       " 'hot',\n",
       " 'black opium',\n",
       " 'dupont',\n",
       " 'xeryus rouge',\n",
       " 'essential',\n",
       " 'declaration',\n",
       " 'classic black',\n",
       " 'rouat al oud',\n",
       " 'the game',\n",
       " 'la vie est belle',\n",
       " 'ma vie',\n",
       " 'mr. burberry',\n",
       " 'bloom nettare di fiori',\n",
       " 'furiosa',\n",
       " \"l'interdit\",\n",
       " 'first',\n",
       " 'fantasy',\n",
       " 'l.12.12 blanc',\n",
       " 'quatre',\n",
       " 'chrome',\n",
       " 'paradiso azzurro',\n",
       " 'for women edp natural sp',\n",
       " 'musk cologne sp',\n",
       " 'l.12.12 blanc-pure',\n",
       " 'black',\n",
       " 'still',\n",
       " 'femme',\n",
       " 'sheikh al shuyukh',\n",
       " 'guilty',\n",
       " 'lacoste',\n",
       " 'plus plus masculine',\n",
       " 'k',\n",
       " 'hugo',\n",
       " 'bright crystal',\n",
       " 'eternity',\n",
       " 'nero assoluto',\n",
       " 'escape',\n",
       " 'bloom',\n",
       " 'invictus',\n",
       " 'man in black',\n",
       " 'chloe',\n",
       " 'esencia',\n",
       " 'lady emblem',\n",
       " 'jimmy',\n",
       " 'in white',\n",
       " 'pandora',\n",
       " 'amber intense',\n",
       " 'seductive',\n",
       " 'hawaii london',\n",
       " 'lotus flower aromatic par',\n",
       " 'open',\n",
       " 'beautiful',\n",
       " 'sculpture homme',\n",
       " 'intenso',\n",
       " 'my burberry bl',\n",
       " 'man pure',\n",
       " 'my burberry blush',\n",
       " '1 million lucky',\n",
       " 'custom',\n",
       " 'new york',\n",
       " 'the only one 2',\n",
       " 'eternally hot',\n",
       " '1029 collection',\n",
       " 'jaguar',\n",
       " 'velvet oud',\n",
       " 'habit rouge',\n",
       " 'ultraviolet',\n",
       " 'white linen',\n",
       " 'declaration essence',\n",
       " 'for ever',\n",
       " 'esencia pour homme',\n",
       " 'bottled night',\n",
       " 'legend spirit',\n",
       " 'allure homme sport edt for',\n",
       " 'aqva marine pour homme',\n",
       " 'si',\n",
       " 'flora',\n",
       " 'oud sharqia',\n",
       " 'place vendome',\n",
       " 'red tobacco',\n",
       " 'brown',\n",
       " 'lancy',\n",
       " 'miracle',\n",
       " 'rose greedy',\n",
       " 'extreme',\n",
       " 'classic blue',\n",
       " 'pink hearts',\n",
       " 'narciso rodriguez for her',\n",
       " 'pasha edition noir',\n",
       " 'the dreamer',\n",
       " 'mademoiselle ricci',\n",
       " 'coco mademoiselle',\n",
       " 'magnetism',\n",
       " 'silver scent',\n",
       " 'man in red',\n",
       " 'oud al-mubakhar',\n",
       " 'body',\n",
       " 'wisal',\n",
       " 'the beat',\n",
       " 'gold',\n",
       " 'reveal',\n",
       " '1 million',\n",
       " 'boss',\n",
       " 'nuit',\n",
       " 'chrome legend',\n",
       " 'oud mood',\n",
       " 'ideal',\n",
       " 'acqua di gio',\n",
       " 'white diamonds',\n",
       " 'adventure',\n",
       " 'eau de lacoste l. 12.12 noir',\n",
       " 'premier jour',\n",
       " 'desire blue',\n",
       " 'body kouros',\n",
       " 'bloom aqua di fiori',\n",
       " 'tomorrow',\n",
       " 'paradiso azzuro',\n",
       " 'oud wood',\n",
       " 'premium',\n",
       " 'al wisam day',\n",
       " 'daisy eau so fresh',\n",
       " 'nude natural spray colo',\n",
       " 'hot water',\n",
       " '5th avenue',\n",
       " 'ana abiyedh leather',\n",
       " 'si passione edp for wo',\n",
       " 'monsieur oud',\n",
       " 'lady million',\n",
       " 'burberry body intense',\n",
       " 'idylle',\n",
       " 'ck be',\n",
       " 'oud maaruf',\n",
       " 'raindrops',\n",
       " 'cold',\n",
       " 'en joy',\n",
       " 'tommy',\n",
       " \"l'instant magic\",\n",
       " 'brit rhythm intense',\n",
       " 'white musk',\n",
       " 'addict',\n",
       " 'romance',\n",
       " 'modern muse',\n",
       " 'bottled unlimited',\n",
       " 'emotion',\n",
       " 'sheikh shuyukh',\n",
       " 'ameer al oud khususi',\n",
       " 'blue',\n",
       " 'eau pour homme reno 2013',\n",
       " 'bamboo',\n",
       " 'touch of pink',\n",
       " 'tommy girl',\n",
       " 'eau de lacoste',\n",
       " 'oud touch',\n",
       " 'cavalli',\n",
       " 'visit',\n",
       " 'grey flannel',\n",
       " 'dc',\n",
       " 'rouat al musk',\n",
       " 'sheer beauty',\n",
       " 'obsession',\n",
       " 'girl of now',\n",
       " 'one million',\n",
       " 'intense euphoria',\n",
       " 'euphoria intense',\n",
       " 'women',\n",
       " 'london burberry',\n",
       " 'la panthere',\n",
       " 'zino',\n",
       " 'anfas aloud',\n",
       " \"terre d' hermes\",\n",
       " 'live',\n",
       " 'my name',\n",
       " 'in red',\n",
       " 'versace pour homme',\n",
       " 'wish',\n",
       " 'viva la juicy',\n",
       " 'schlesser essential',\n",
       " 'la nuit de l`homme',\n",
       " 'intense',\n",
       " 'organza',\n",
       " \"because it's you by emporio\",\n",
       " 'by marciano',\n",
       " 'si passione',\n",
       " 'blu',\n",
       " 'bottled tonic',\n",
       " 'desire extreme',\n",
       " 'mont blanc legend',\n",
       " 'be delicious red',\n",
       " 'classic',\n",
       " 'rive gauche homme',\n",
       " 'modern princess',\n",
       " 'club de nuit intense',\n",
       " 'anais anais loriginal',\n",
       " 'musky garden',\n",
       " \"quelques fleurs l'original\",\n",
       " 'the one royal night',\n",
       " '2.2 s..y  no.1139 eau de par',\n",
       " 'club de nuit intense man',\n",
       " 'blue lady',\n",
       " 'code',\n",
       " 'roma uomo',\n",
       " 'portraits george',\n",
       " 'victory league',\n",
       " 'delina exclusive',\n",
       " 'especially elixir',\n",
       " 'wanted',\n",
       " 'patchouli intense',\n",
       " 'secret obsession',\n",
       " \"l'homme sport\",\n",
       " 'ambre imperial',\n",
       " 'green tea',\n",
       " \"l'acquarossa\",\n",
       " 'light blue',\n",
       " 'pleasures intense',\n",
       " 'goldea the roman night absolute',\n",
       " 'marbert man',\n",
       " 'always',\n",
       " 'the brilliant game',\n",
       " '900 herbal spray',\n",
       " 'yes i am ed',\n",
       " 'just different',\n",
       " 'only the brave tattoo',\n",
       " 'islanders',\n",
       " 'cedar essence',\n",
       " 'invictus intense',\n",
       " 'bakhoor al arais',\n",
       " 'dc charged',\n",
       " 'pure oudi liquid gold',\n",
       " 'wood mystique',\n",
       " 'club de nuit milestone',\n",
       " 'orange edt sp',\n",
       " 'kalam al oud',\n",
       " 'golden blaze',\n",
       " 'black xs potion',\n",
       " 'monsieur coco vanilla',\n",
       " 'white musk perfume',\n",
       " 'wild leather',\n",
       " \"l'homme ideal\",\n",
       " 'quatre absolue de nuit',\n",
       " 'yellow diamond',\n",
       " 'amethyst exquise',\n",
       " 'pleasures',\n",
       " 'beach palm',\n",
       " 'oud al misk',\n",
       " 'oud khurafi',\n",
       " 'vision iii',\n",
       " 'alf laila o laila',\n",
       " 'manifesto',\n",
       " 'armani code',\n",
       " 'sauvage perf',\n",
       " 'kouros silver',\n",
       " 'body mini ed',\n",
       " 'my blush',\n",
       " 'olympéa intense',\n",
       " \"l'interdit edp for wo\",\n",
       " 'emblem intense',\n",
       " 'prive maison sandalwood',\n",
       " 'hawaiian musk',\n",
       " 'rush 2',\n",
       " 'dirham',\n",
       " 'roses greedy',\n",
       " 'stella',\n",
       " 'sweetheart rockstar',\n",
       " 'epic',\n",
       " 'edttouch of pink for wom',\n",
       " 'tim tom leather black',\n",
       " 'today tomorrow always',\n",
       " 'blue princess',\n",
       " 'vivaldi',\n",
       " \"eclat d'arpege\",\n",
       " 'body tender',\n",
       " 'above the law',\n",
       " 'red door',\n",
       " 'pure musc',\n",
       " 'lady presidente',\n",
       " 'one man show',\n",
       " 'cheap and chic',\n",
       " 'red',\n",
       " 'lady dorall',\n",
       " 'boss orange',\n",
       " 'modern muse chic',\n",
       " '212 wild party',\n",
       " 'chance eau tendre',\n",
       " 'boss bottled man of today',\n",
       " 'black orchid',\n",
       " 'baiser vole',\n",
       " 'eghra perfume',\n",
       " '212 s**y',\n",
       " 'zen',\n",
       " 'tool box',\n",
       " 'love touch body sp',\n",
       " 'oxygene',\n",
       " 'brit rhythm',\n",
       " 'emblem ed',\n",
       " 'plus plus feminine',\n",
       " 'amber',\n",
       " '212 vip rose',\n",
       " 'pour un homme de caron',\n",
       " '1000 miglia',\n",
       " 'rush',\n",
       " 'musk mood',\n",
       " \"l'eau d'issey pour homme\",\n",
       " 'guilty black',\n",
       " 'bottled intense',\n",
       " 'paris vivaldi',\n",
       " 'si possione',\n",
       " '8839 collection',\n",
       " 'challenge',\n",
       " 'sheer beauty essence',\n",
       " 'flora gorgeous gardenia',\n",
       " 'flora gardenia',\n",
       " 'remy',\n",
       " 'natural spray',\n",
       " 'lady emblem elixir',\n",
       " 'code absolu ed',\n",
       " 'green secret',\n",
       " 'santos d concentree',\n",
       " 'divina',\n",
       " 'eau fraiche',\n",
       " '24 carat pure gold',\n",
       " 'touch',\n",
       " 'royale',\n",
       " 'paradisio azzuro',\n",
       " 'guess',\n",
       " 'khalis pure oudi',\n",
       " 'forever',\n",
       " 'vision ii',\n",
       " \"l' imperatrice 3\",\n",
       " 'world intense',\n",
       " 'roses musk',\n",
       " 'pino silvester original',\n",
       " 'million',\n",
       " 'happy spirit forever',\n",
       " 'frank olivier',\n",
       " 'classic gold',\n",
       " 'samsara',\n",
       " 'goldea the roman night',\n",
       " 'seductive homme',\n",
       " 'noa',\n",
       " 'lalique',\n",
       " \"because it's you\",\n",
       " 'one million lucky',\n",
       " 'scuderia black',\n",
       " 'paco rabanne',\n",
       " 'black opium nuit blanche',\n",
       " 'olympea',\n",
       " 'pasha de cartier',\n",
       " 'olympêa',\n",
       " 'brit splash',\n",
       " 'oud arabi',\n",
       " 'cedrat boise',\n",
       " 'coach',\n",
       " 'ch men sports',\n",
       " 'united colors of benetton hot',\n",
       " 'dahlia divin nude',\n",
       " 'classic red',\n",
       " 'blanc pour homme',\n",
       " 'rose malaki',\n",
       " 'cold silver',\n",
       " 'man',\n",
       " 'idol',\n",
       " 'guess pink',\n",
       " 'euphoria amber gold',\n",
       " 'desire silver',\n",
       " 'honour',\n",
       " 'rumba',\n",
       " 'oud',\n",
       " 'rumeur',\n",
       " 'love touch',\n",
       " 'serpentine',\n",
       " 'debut',\n",
       " 'classic amber',\n",
       " 'gentlemen only',\n",
       " 'weekend',\n",
       " 'coco vanille',\n",
       " 'evoke',\n",
       " 'passenger spray',\n",
       " 'starwalker',\n",
       " 'my land',\n",
       " \"terre d'hermes\",\n",
       " 'splandid',\n",
       " 'vivi la juicy limited edition',\n",
       " \"la nuit de l'homme l'intense\",\n",
       " 'azure',\n",
       " 'starlight',\n",
       " 'black vanilla',\n",
       " 'the only one',\n",
       " 'grey flannel for men',\n",
       " 'knowing',\n",
       " 's.t. dupont',\n",
       " 'charlie gold',\n",
       " 'monsieur intense gold',\n",
       " '24 pure',\n",
       " 'narciso rouge',\n",
       " 'black oud',\n",
       " 'royale blue',\n",
       " 'in 2 u men',\n",
       " '1881',\n",
       " 'm7 oud absolu',\n",
       " 'gold secret',\n",
       " 'seductive blue',\n",
       " 'royal amber',\n",
       " 'hot gold',\n",
       " 'scholar',\n",
       " 'viva la juicy noir',\n",
       " 'mr.burberry',\n",
       " 'moon light',\n",
       " 'xx',\n",
       " 'nashwa',\n",
       " 'signorina eleganza',\n",
       " 'genesis oud malaki',\n",
       " 'atelier intense',\n",
       " 'tommy hilfiger',\n",
       " 'ckin2u',\n",
       " 'emblem absolu',\n",
       " 'girl of now shine',\n",
       " 'be delicious',\n",
       " 'giorgio',\n",
       " 'oud 24 hours',\n",
       " 'valentina',\n",
       " 'stronger with you intensely',\n",
       " 'molto carina',\n",
       " 'dark blue',\n",
       " 'rumba passion ted lapidus',\n",
       " 'safari',\n",
       " 'supreme bouquet',\n",
       " 'icq',\n",
       " 'libre',\n",
       " 'nomade',\n",
       " 'edition',\n",
       " 'paradiso',\n",
       " 'new york platinum',\n",
       " 'eau de moiselle',\n",
       " 'oud vanille',\n",
       " 'l.12.12 rouge',\n",
       " 'aventus',\n",
       " 'courageous',\n",
       " 'oud mood gold elixir',\n",
       " \"l'imperatrice 3\",\n",
       " 'shiyoukh al oud',\n",
       " 'leather blend',\n",
       " \"declaration d'un soir\",\n",
       " 'simple',\n",
       " 'blue jeans',\n",
       " 'bad boy',\n",
       " 'lapidus pour homme',\n",
       " 'eaudemoiselle no.1154',\n",
       " 'polo blue',\n",
       " 'lolita',\n",
       " 'super cobra',\n",
       " 'absolute',\n",
       " 'hugo man',\n",
       " 'charli blue',\n",
       " 'dc marine noir',\n",
       " 'orchidea della cina',\n",
       " 'play around',\n",
       " 'club black',\n",
       " 'blue label',\n",
       " 'vetiver',\n",
       " 'beibei bear blue par',\n",
       " 'love you like crazy',\n",
       " 'heiress',\n",
       " 'de caron',\n",
       " 'florence amber',\n",
       " 'cavali',\n",
       " 'rumeur 2 rose',\n",
       " 'shalis',\n",
       " 'new york coach dreams',\n",
       " \"magie noire l'eau\",\n",
       " 'cabotine de gres',\n",
       " 'rose essentielle',\n",
       " \"l'instant\",\n",
       " 'casmir',\n",
       " 'versace',\n",
       " \"memoire  d'une odeur edp for uni\",\n",
       " \"le'parfum\",\n",
       " 'joy of pink',\n",
       " 'hatem',\n",
       " 'modern muse nuit',\n",
       " 'santal royal',\n",
       " 'black car',\n",
       " 'darknet pour homme',\n",
       " 'mon bloom of rose',\n",
       " 'momentum intense',\n",
       " 'gabrielle',\n",
       " 'brit sheer',\n",
       " 'oud noir',\n",
       " 'dionysus',\n",
       " 'deep red',\n",
       " 'man ice',\n",
       " 'eau de cedre',\n",
       " 'allure sensuelle',\n",
       " 'rain drops',\n",
       " 'mini collection no.1075',\n",
       " 'hugo boss',\n",
       " 'nice girl',\n",
       " 'interlude',\n",
       " 'jil sander',\n",
       " 'silences',\n",
       " 'cinema',\n",
       " 'narciso',\n",
       " 'windsor',\n",
       " 'fairy dust',\n",
       " 'go',\n",
       " 'eventful',\n",
       " 'relation',\n",
       " 'cerruti',\n",
       " 'black xs',\n",
       " 'joy',\n",
       " 'prive',\n",
       " 'vetiver hombre',\n",
       " 'rare pearls',\n",
       " 'omnia crystalline',\n",
       " 'play intense',\n",
       " 'miu miu',\n",
       " 'guilty pour homme',\n",
       " 'pegasus',\n",
       " \"jeu d'amour l'elixir\",\n",
       " '212 men nyc',\n",
       " 'si fiori',\n",
       " 'royal',\n",
       " 'lanvin',\n",
       " 'idôle ed',\n",
       " 'debut night',\n",
       " 'secret de rochas',\n",
       " 'premiere',\n",
       " 'ck in2u',\n",
       " 'charlie blue',\n",
       " 'goldea',\n",
       " 'teenz',\n",
       " 'kors',\n",
       " \"milano infusion d'iris\",\n",
       " 'guilty intense',\n",
       " 'mon florale',\n",
       " 'live luxe',\n",
       " 'layali cpo at']"
      ]
     },
     "execution_count": 19,
     "metadata": {},
     "output_type": "execute_result"
    }
   ],
   "source": [
    "df1['name'].value_counts().to_frame().index.to_list()"
   ]
  },
  {
   "cell_type": "code",
   "execution_count": 20,
   "id": "64e33a20",
   "metadata": {},
   "outputs": [
    {
     "data": {
      "text/plain": [
       "5.0    275\n",
       "4.5    137\n",
       "4.6     93\n",
       "4.7     85\n",
       "4.8     83\n",
       "4.4     72\n",
       "4.0     61\n",
       "4.3     54\n",
       "4.9     28\n",
       "4.2     28\n",
       "3.0     18\n",
       "4.1     15\n",
       "3.7      7\n",
       "3.3      7\n",
       "3.8      7\n",
       "3.5      6\n",
       "1.0      6\n",
       "2.0      6\n",
       "3.4      6\n",
       "3.9      4\n",
       "2.3      3\n",
       "3.6      1\n",
       "2.9      1\n",
       "Name: item_rating, dtype: int64"
      ]
     },
     "execution_count": 20,
     "metadata": {},
     "output_type": "execute_result"
    }
   ],
   "source": [
    "df1['item_rating'].value_counts()"
   ]
  },
  {
   "cell_type": "code",
   "execution_count": 21,
   "id": "5066ca78",
   "metadata": {},
   "outputs": [
    {
     "data": {
      "text/plain": [
       "4.2      346\n",
       "3.9      217\n",
       "3.7      119\n",
       "3.8      106\n",
       "3.5       72\n",
       "3.6       46\n",
       "4.1       34\n",
       "4.3       22\n",
       "412.0     15\n",
       "4.4       12\n",
       "454.0      6\n",
       "445.0      3\n",
       "43.0       2\n",
       "4.8        2\n",
       "4.0        1\n",
       "Name: seller_rating, dtype: int64"
      ]
     },
     "execution_count": 21,
     "metadata": {},
     "output_type": "execute_result"
    }
   ],
   "source": [
    "df1['seller_rating'].value_counts() "
   ]
  },
  {
   "cell_type": "code",
   "execution_count": 22,
   "id": "6f7a21ce",
   "metadata": {},
   "outputs": [
    {
     "data": {
      "text/plain": [
       "4.2    346\n",
       "3.9    217\n",
       "3.7    119\n",
       "3.8    106\n",
       "3.5     72\n",
       "4.1     49\n",
       "3.6     46\n",
       "4.3     24\n",
       "4.4     15\n",
       "4.5      6\n",
       "4.8      2\n",
       "4.0      1\n",
       "Name: seller_rating, dtype: int64"
      ]
     },
     "execution_count": 22,
     "metadata": {},
     "output_type": "execute_result"
    }
   ],
   "source": [
    "df1['seller_rating']=df1['seller_rating'].replace({412.0:4.1, 454.0:4.5, 445.0:4.4, 43:4.3})\n",
    "df1['seller_rating'].value_counts() "
   ]
  },
  {
   "cell_type": "code",
   "execution_count": 23,
   "id": "0d19cbb9",
   "metadata": {},
   "outputs": [
    {
     "data": {
      "text/plain": [
       "98.1K    287\n",
       "135      103\n",
       "537       61\n",
       "347       57\n",
       "122       52\n",
       "14.1K     29\n",
       "98        26\n",
       "7         26\n",
       "88        23\n",
       "61        22\n",
       "76        21\n",
       "66        20\n",
       "59        18\n",
       "5         16\n",
       "75        15\n",
       "425       14\n",
       "467       14\n",
       "23        13\n",
       "450       13\n",
       "538       12\n",
       "244       12\n",
       "33        11\n",
       "69        11\n",
       "63        10\n",
       "111        9\n",
       "9          9\n",
       "4K         8\n",
       "319        7\n",
       "20         6\n",
       "32         5\n",
       "118        5\n",
       "30         5\n",
       "25         5\n",
       "8          4\n",
       "113        4\n",
       "1.9K       4\n",
       "27         4\n",
       "124        4\n",
       "1.3K       3\n",
       "199        3\n",
       "44         3\n",
       "71         3\n",
       "98.4K      2\n",
       "78         2\n",
       "56         2\n",
       "77         2\n",
       "528        2\n",
       "116        2\n",
       "531        2\n",
       "54         2\n",
       "337        1\n",
       "178        1\n",
       "235        1\n",
       "266        1\n",
       "288        1\n",
       "81         1\n",
       "21         1\n",
       "22         1\n",
       "41         1\n",
       "539        1\n",
       "Name: num_seller_ratings, dtype: int64"
      ]
     },
     "execution_count": 23,
     "metadata": {},
     "output_type": "execute_result"
    }
   ],
   "source": [
    "df1['num_seller_ratings'].value_counts()"
   ]
  },
  {
   "cell_type": "code",
   "execution_count": 24,
   "id": "96c3ad15",
   "metadata": {},
   "outputs": [],
   "source": [
    "def edit(tx):\n",
    "    if tx.rfind('K') != -1:\n",
    "        tx=tx.replace('K','')\n",
    "        if tx.rfind('.') != -1:\n",
    "            n1,n2=tx.split('.')\n",
    "            tx=f'{n1}000'\n",
    "        else:\n",
    "            tx=tx+'000'\n",
    "            \n",
    "    return float(tx)  \n",
    "    \n",
    "        \n",
    "df1['num_seller_ratings']= df1['num_seller_ratings'].apply(edit).astype(int)\n",
    "\n"
   ]
  },
  {
   "cell_type": "code",
   "execution_count": 25,
   "id": "a6a86dbc",
   "metadata": {},
   "outputs": [
    {
     "data": {
      "text/plain": [
       "98000    289\n",
       "135      103\n",
       "537       61\n",
       "347       57\n",
       "122       52\n",
       "14000     29\n",
       "98        26\n",
       "7         26\n",
       "88        23\n",
       "61        22\n",
       "76        21\n",
       "66        20\n",
       "59        18\n",
       "5         16\n",
       "75        15\n",
       "425       14\n",
       "467       14\n",
       "23        13\n",
       "450       13\n",
       "244       12\n",
       "538       12\n",
       "33        11\n",
       "69        11\n",
       "63        10\n",
       "111        9\n",
       "9          9\n",
       "4000       8\n",
       "319        7\n",
       "1000       7\n",
       "20         6\n",
       "118        5\n",
       "32         5\n",
       "25         5\n",
       "30         5\n",
       "27         4\n",
       "124        4\n",
       "8          4\n",
       "113        4\n",
       "199        3\n",
       "71         3\n",
       "44         3\n",
       "56         2\n",
       "116        2\n",
       "78         2\n",
       "77         2\n",
       "54         2\n",
       "531        2\n",
       "528        2\n",
       "41         1\n",
       "22         1\n",
       "21         1\n",
       "235        1\n",
       "337        1\n",
       "178        1\n",
       "266        1\n",
       "288        1\n",
       "81         1\n",
       "539        1\n",
       "Name: num_seller_ratings, dtype: int64"
      ]
     },
     "execution_count": 25,
     "metadata": {},
     "output_type": "execute_result"
    }
   ],
   "source": [
    "df1['num_seller_ratings'].value_counts()"
   ]
  },
  {
   "cell_type": "code",
   "execution_count": 26,
   "id": "41c02fe7",
   "metadata": {},
   "outputs": [
    {
     "name": "stdout",
     "output_type": "stream",
     "text": [
      "<class 'pandas.core.frame.DataFrame'>\n",
      "RangeIndex: 1003 entries, 0 to 1002\n",
      "Data columns (total 17 columns):\n",
      " #   Column              Non-Null Count  Dtype  \n",
      "---  ------              --------------  -----  \n",
      " 0   brand               1003 non-null   object \n",
      " 1   name                1003 non-null   object \n",
      " 2   old_price           1003 non-null   float64\n",
      " 3   new_price           1003 non-null   float64\n",
      " 4   ml                  1003 non-null   int64  \n",
      " 5   concentration       1003 non-null   object \n",
      " 6   department          1003 non-null   object \n",
      " 7   scents              1003 non-null   object \n",
      " 8   base_note           1003 non-null   object \n",
      " 9   middle_note         1003 non-null   object \n",
      " 10  item_rating         1003 non-null   float64\n",
      " 11  seller              1003 non-null   object \n",
      " 12  seller_rating       1003 non-null   float64\n",
      " 13  num_seller_ratings  1003 non-null   int32  \n",
      " 14  discount%           1003 non-null   float64\n",
      " 15  discount_price      1003 non-null   float64\n",
      " 16  price/ml            1003 non-null   float64\n",
      "dtypes: float64(7), int32(1), int64(1), object(8)\n",
      "memory usage: 129.4+ KB\n"
     ]
    }
   ],
   "source": [
    "df1.info()"
   ]
  },
  {
   "cell_type": "code",
   "execution_count": 77,
   "id": "747a8b77",
   "metadata": {},
   "outputs": [
    {
     "data": {
      "application/vnd.plotly.v1+json": {
       "config": {
        "plotlyServerURL": "https://plot.ly"
       },
       "data": [
        {
         "alignmentgroup": "True",
         "hovertemplate": "Scents=%{x}<br>Average discount =%{y}<extra></extra>",
         "legendgroup": "Jasmine",
         "marker": {
          "color": "rgb(229, 134, 6)",
          "pattern": {
           "shape": ""
          }
         },
         "name": "Jasmine",
         "offsetgroup": "Jasmine",
         "orientation": "v",
         "showlegend": true,
         "textposition": "auto",
         "type": "bar",
         "x": [
          "Jasmine"
         ],
         "xaxis": "x",
         "y": [
          74.9
         ],
         "yaxis": "y"
        },
        {
         "alignmentgroup": "True",
         "hovertemplate": "Scents=%{x}<br>Average discount =%{y}<extra></extra>",
         "legendgroup": "Sweet Aromatic",
         "marker": {
          "color": "rgb(93, 105, 177)",
          "pattern": {
           "shape": ""
          }
         },
         "name": "Sweet Aromatic",
         "offsetgroup": "Sweet Aromatic",
         "orientation": "v",
         "showlegend": true,
         "textposition": "auto",
         "type": "bar",
         "x": [
          "Sweet Aromatic"
         ],
         "xaxis": "x",
         "y": [
          73.5
         ],
         "yaxis": "y"
        },
        {
         "alignmentgroup": "True",
         "hovertemplate": "Scents=%{x}<br>Average discount =%{y}<extra></extra>",
         "legendgroup": "Musk",
         "marker": {
          "color": "rgb(82, 188, 163)",
          "pattern": {
           "shape": ""
          }
         },
         "name": "Musk",
         "offsetgroup": "Musk",
         "orientation": "v",
         "showlegend": true,
         "textposition": "auto",
         "type": "bar",
         "x": [
          "Musk"
         ],
         "xaxis": "x",
         "y": [
          62.21
         ],
         "yaxis": "y"
        },
        {
         "alignmentgroup": "True",
         "hovertemplate": "Scents=%{x}<br>Average discount =%{y}<extra></extra>",
         "legendgroup": "Aromatic,Citrus",
         "marker": {
          "color": "rgb(153, 201, 69)",
          "pattern": {
           "shape": ""
          }
         },
         "name": "Aromatic,Citrus",
         "offsetgroup": "Aromatic,Citrus",
         "orientation": "v",
         "showlegend": true,
         "textposition": "auto",
         "type": "bar",
         "x": [
          "Aromatic,Citrus"
         ],
         "xaxis": "x",
         "y": [
          61.3
         ],
         "yaxis": "y"
        },
        {
         "alignmentgroup": "True",
         "hovertemplate": "Scents=%{x}<br>Average discount =%{y}<extra></extra>",
         "legendgroup": "Rose, Floral",
         "marker": {
          "color": "rgb(204, 97, 176)",
          "pattern": {
           "shape": ""
          }
         },
         "name": "Rose, Floral",
         "offsetgroup": "Rose, Floral",
         "orientation": "v",
         "showlegend": true,
         "textposition": "auto",
         "type": "bar",
         "x": [
          "Rose, Floral"
         ],
         "xaxis": "x",
         "y": [
          60.3
         ],
         "yaxis": "y"
        },
        {
         "alignmentgroup": "True",
         "hovertemplate": "Scents=%{x}<br>Average discount =%{y}<extra></extra>",
         "legendgroup": "Sandalwood",
         "marker": {
          "color": "rgb(36, 121, 108)",
          "pattern": {
           "shape": ""
          }
         },
         "name": "Sandalwood",
         "offsetgroup": "Sandalwood",
         "orientation": "v",
         "showlegend": true,
         "textposition": "auto",
         "type": "bar",
         "x": [
          "Sandalwood"
         ],
         "xaxis": "x",
         "y": [
          56.3
         ],
         "yaxis": "y"
        },
        {
         "alignmentgroup": "True",
         "hovertemplate": "Scents=%{x}<br>Average discount =%{y}<extra></extra>",
         "legendgroup": "Woody And Spicy",
         "marker": {
          "color": "rgb(218, 165, 27)",
          "pattern": {
           "shape": ""
          }
         },
         "name": "Woody And Spicy",
         "offsetgroup": "Woody And Spicy",
         "orientation": "v",
         "showlegend": true,
         "textposition": "auto",
         "type": "bar",
         "x": [
          "Woody And Spicy"
         ],
         "xaxis": "x",
         "y": [
          51.3
         ],
         "yaxis": "y"
        },
        {
         "alignmentgroup": "True",
         "hovertemplate": "Scents=%{x}<br>Average discount =%{y}<extra></extra>",
         "legendgroup": "Woody",
         "marker": {
          "color": "rgb(47, 138, 196)",
          "pattern": {
           "shape": ""
          }
         },
         "name": "Woody",
         "offsetgroup": "Woody",
         "orientation": "v",
         "showlegend": true,
         "textposition": "auto",
         "type": "bar",
         "x": [
          "Woody"
         ],
         "xaxis": "x",
         "y": [
          49.42
         ],
         "yaxis": "y"
        },
        {
         "alignmentgroup": "True",
         "hovertemplate": "Scents=%{x}<br>Average discount =%{y}<extra></extra>",
         "legendgroup": "Fresh",
         "marker": {
          "color": "rgb(118, 78, 159)",
          "pattern": {
           "shape": ""
          }
         },
         "name": "Fresh",
         "offsetgroup": "Fresh",
         "orientation": "v",
         "showlegend": true,
         "textposition": "auto",
         "type": "bar",
         "x": [
          "Fresh"
         ],
         "xaxis": "x",
         "y": [
          49.27
         ],
         "yaxis": "y"
        },
        {
         "alignmentgroup": "True",
         "hovertemplate": "Scents=%{x}<br>Average discount =%{y}<extra></extra>",
         "legendgroup": "Oriental",
         "marker": {
          "color": "rgb(237, 100, 90)",
          "pattern": {
           "shape": ""
          }
         },
         "name": "Oriental",
         "offsetgroup": "Oriental",
         "orientation": "v",
         "showlegend": true,
         "textposition": "auto",
         "type": "bar",
         "x": [
          "Oriental"
         ],
         "xaxis": "x",
         "y": [
          48.31
         ],
         "yaxis": "y"
        }
       ],
       "layout": {
        "barmode": "relative",
        "legend": {
         "title": {
          "text": "Scents"
         },
         "tracegroupgap": 0
        },
        "template": {
         "data": {
          "bar": [
           {
            "error_x": {
             "color": "#2a3f5f"
            },
            "error_y": {
             "color": "#2a3f5f"
            },
            "marker": {
             "line": {
              "color": "#E5ECF6",
              "width": 0.5
             },
             "pattern": {
              "fillmode": "overlay",
              "size": 10,
              "solidity": 0.2
             }
            },
            "type": "bar"
           }
          ],
          "barpolar": [
           {
            "marker": {
             "line": {
              "color": "#E5ECF6",
              "width": 0.5
             },
             "pattern": {
              "fillmode": "overlay",
              "size": 10,
              "solidity": 0.2
             }
            },
            "type": "barpolar"
           }
          ],
          "carpet": [
           {
            "aaxis": {
             "endlinecolor": "#2a3f5f",
             "gridcolor": "white",
             "linecolor": "white",
             "minorgridcolor": "white",
             "startlinecolor": "#2a3f5f"
            },
            "baxis": {
             "endlinecolor": "#2a3f5f",
             "gridcolor": "white",
             "linecolor": "white",
             "minorgridcolor": "white",
             "startlinecolor": "#2a3f5f"
            },
            "type": "carpet"
           }
          ],
          "choropleth": [
           {
            "colorbar": {
             "outlinewidth": 0,
             "ticks": ""
            },
            "type": "choropleth"
           }
          ],
          "contour": [
           {
            "colorbar": {
             "outlinewidth": 0,
             "ticks": ""
            },
            "colorscale": [
             [
              0,
              "#0d0887"
             ],
             [
              0.1111111111111111,
              "#46039f"
             ],
             [
              0.2222222222222222,
              "#7201a8"
             ],
             [
              0.3333333333333333,
              "#9c179e"
             ],
             [
              0.4444444444444444,
              "#bd3786"
             ],
             [
              0.5555555555555556,
              "#d8576b"
             ],
             [
              0.6666666666666666,
              "#ed7953"
             ],
             [
              0.7777777777777778,
              "#fb9f3a"
             ],
             [
              0.8888888888888888,
              "#fdca26"
             ],
             [
              1,
              "#f0f921"
             ]
            ],
            "type": "contour"
           }
          ],
          "contourcarpet": [
           {
            "colorbar": {
             "outlinewidth": 0,
             "ticks": ""
            },
            "type": "contourcarpet"
           }
          ],
          "heatmap": [
           {
            "colorbar": {
             "outlinewidth": 0,
             "ticks": ""
            },
            "colorscale": [
             [
              0,
              "#0d0887"
             ],
             [
              0.1111111111111111,
              "#46039f"
             ],
             [
              0.2222222222222222,
              "#7201a8"
             ],
             [
              0.3333333333333333,
              "#9c179e"
             ],
             [
              0.4444444444444444,
              "#bd3786"
             ],
             [
              0.5555555555555556,
              "#d8576b"
             ],
             [
              0.6666666666666666,
              "#ed7953"
             ],
             [
              0.7777777777777778,
              "#fb9f3a"
             ],
             [
              0.8888888888888888,
              "#fdca26"
             ],
             [
              1,
              "#f0f921"
             ]
            ],
            "type": "heatmap"
           }
          ],
          "heatmapgl": [
           {
            "colorbar": {
             "outlinewidth": 0,
             "ticks": ""
            },
            "colorscale": [
             [
              0,
              "#0d0887"
             ],
             [
              0.1111111111111111,
              "#46039f"
             ],
             [
              0.2222222222222222,
              "#7201a8"
             ],
             [
              0.3333333333333333,
              "#9c179e"
             ],
             [
              0.4444444444444444,
              "#bd3786"
             ],
             [
              0.5555555555555556,
              "#d8576b"
             ],
             [
              0.6666666666666666,
              "#ed7953"
             ],
             [
              0.7777777777777778,
              "#fb9f3a"
             ],
             [
              0.8888888888888888,
              "#fdca26"
             ],
             [
              1,
              "#f0f921"
             ]
            ],
            "type": "heatmapgl"
           }
          ],
          "histogram": [
           {
            "marker": {
             "pattern": {
              "fillmode": "overlay",
              "size": 10,
              "solidity": 0.2
             }
            },
            "type": "histogram"
           }
          ],
          "histogram2d": [
           {
            "colorbar": {
             "outlinewidth": 0,
             "ticks": ""
            },
            "colorscale": [
             [
              0,
              "#0d0887"
             ],
             [
              0.1111111111111111,
              "#46039f"
             ],
             [
              0.2222222222222222,
              "#7201a8"
             ],
             [
              0.3333333333333333,
              "#9c179e"
             ],
             [
              0.4444444444444444,
              "#bd3786"
             ],
             [
              0.5555555555555556,
              "#d8576b"
             ],
             [
              0.6666666666666666,
              "#ed7953"
             ],
             [
              0.7777777777777778,
              "#fb9f3a"
             ],
             [
              0.8888888888888888,
              "#fdca26"
             ],
             [
              1,
              "#f0f921"
             ]
            ],
            "type": "histogram2d"
           }
          ],
          "histogram2dcontour": [
           {
            "colorbar": {
             "outlinewidth": 0,
             "ticks": ""
            },
            "colorscale": [
             [
              0,
              "#0d0887"
             ],
             [
              0.1111111111111111,
              "#46039f"
             ],
             [
              0.2222222222222222,
              "#7201a8"
             ],
             [
              0.3333333333333333,
              "#9c179e"
             ],
             [
              0.4444444444444444,
              "#bd3786"
             ],
             [
              0.5555555555555556,
              "#d8576b"
             ],
             [
              0.6666666666666666,
              "#ed7953"
             ],
             [
              0.7777777777777778,
              "#fb9f3a"
             ],
             [
              0.8888888888888888,
              "#fdca26"
             ],
             [
              1,
              "#f0f921"
             ]
            ],
            "type": "histogram2dcontour"
           }
          ],
          "mesh3d": [
           {
            "colorbar": {
             "outlinewidth": 0,
             "ticks": ""
            },
            "type": "mesh3d"
           }
          ],
          "parcoords": [
           {
            "line": {
             "colorbar": {
              "outlinewidth": 0,
              "ticks": ""
             }
            },
            "type": "parcoords"
           }
          ],
          "pie": [
           {
            "automargin": true,
            "type": "pie"
           }
          ],
          "scatter": [
           {
            "fillpattern": {
             "fillmode": "overlay",
             "size": 10,
             "solidity": 0.2
            },
            "type": "scatter"
           }
          ],
          "scatter3d": [
           {
            "line": {
             "colorbar": {
              "outlinewidth": 0,
              "ticks": ""
             }
            },
            "marker": {
             "colorbar": {
              "outlinewidth": 0,
              "ticks": ""
             }
            },
            "type": "scatter3d"
           }
          ],
          "scattercarpet": [
           {
            "marker": {
             "colorbar": {
              "outlinewidth": 0,
              "ticks": ""
             }
            },
            "type": "scattercarpet"
           }
          ],
          "scattergeo": [
           {
            "marker": {
             "colorbar": {
              "outlinewidth": 0,
              "ticks": ""
             }
            },
            "type": "scattergeo"
           }
          ],
          "scattergl": [
           {
            "marker": {
             "colorbar": {
              "outlinewidth": 0,
              "ticks": ""
             }
            },
            "type": "scattergl"
           }
          ],
          "scattermapbox": [
           {
            "marker": {
             "colorbar": {
              "outlinewidth": 0,
              "ticks": ""
             }
            },
            "type": "scattermapbox"
           }
          ],
          "scatterpolar": [
           {
            "marker": {
             "colorbar": {
              "outlinewidth": 0,
              "ticks": ""
             }
            },
            "type": "scatterpolar"
           }
          ],
          "scatterpolargl": [
           {
            "marker": {
             "colorbar": {
              "outlinewidth": 0,
              "ticks": ""
             }
            },
            "type": "scatterpolargl"
           }
          ],
          "scatterternary": [
           {
            "marker": {
             "colorbar": {
              "outlinewidth": 0,
              "ticks": ""
             }
            },
            "type": "scatterternary"
           }
          ],
          "surface": [
           {
            "colorbar": {
             "outlinewidth": 0,
             "ticks": ""
            },
            "colorscale": [
             [
              0,
              "#0d0887"
             ],
             [
              0.1111111111111111,
              "#46039f"
             ],
             [
              0.2222222222222222,
              "#7201a8"
             ],
             [
              0.3333333333333333,
              "#9c179e"
             ],
             [
              0.4444444444444444,
              "#bd3786"
             ],
             [
              0.5555555555555556,
              "#d8576b"
             ],
             [
              0.6666666666666666,
              "#ed7953"
             ],
             [
              0.7777777777777778,
              "#fb9f3a"
             ],
             [
              0.8888888888888888,
              "#fdca26"
             ],
             [
              1,
              "#f0f921"
             ]
            ],
            "type": "surface"
           }
          ],
          "table": [
           {
            "cells": {
             "fill": {
              "color": "#EBF0F8"
             },
             "line": {
              "color": "white"
             }
            },
            "header": {
             "fill": {
              "color": "#C8D4E3"
             },
             "line": {
              "color": "white"
             }
            },
            "type": "table"
           }
          ]
         },
         "layout": {
          "annotationdefaults": {
           "arrowcolor": "#2a3f5f",
           "arrowhead": 0,
           "arrowwidth": 1
          },
          "autotypenumbers": "strict",
          "coloraxis": {
           "colorbar": {
            "outlinewidth": 0,
            "ticks": ""
           }
          },
          "colorscale": {
           "diverging": [
            [
             0,
             "#8e0152"
            ],
            [
             0.1,
             "#c51b7d"
            ],
            [
             0.2,
             "#de77ae"
            ],
            [
             0.3,
             "#f1b6da"
            ],
            [
             0.4,
             "#fde0ef"
            ],
            [
             0.5,
             "#f7f7f7"
            ],
            [
             0.6,
             "#e6f5d0"
            ],
            [
             0.7,
             "#b8e186"
            ],
            [
             0.8,
             "#7fbc41"
            ],
            [
             0.9,
             "#4d9221"
            ],
            [
             1,
             "#276419"
            ]
           ],
           "sequential": [
            [
             0,
             "#0d0887"
            ],
            [
             0.1111111111111111,
             "#46039f"
            ],
            [
             0.2222222222222222,
             "#7201a8"
            ],
            [
             0.3333333333333333,
             "#9c179e"
            ],
            [
             0.4444444444444444,
             "#bd3786"
            ],
            [
             0.5555555555555556,
             "#d8576b"
            ],
            [
             0.6666666666666666,
             "#ed7953"
            ],
            [
             0.7777777777777778,
             "#fb9f3a"
            ],
            [
             0.8888888888888888,
             "#fdca26"
            ],
            [
             1,
             "#f0f921"
            ]
           ],
           "sequentialminus": [
            [
             0,
             "#0d0887"
            ],
            [
             0.1111111111111111,
             "#46039f"
            ],
            [
             0.2222222222222222,
             "#7201a8"
            ],
            [
             0.3333333333333333,
             "#9c179e"
            ],
            [
             0.4444444444444444,
             "#bd3786"
            ],
            [
             0.5555555555555556,
             "#d8576b"
            ],
            [
             0.6666666666666666,
             "#ed7953"
            ],
            [
             0.7777777777777778,
             "#fb9f3a"
            ],
            [
             0.8888888888888888,
             "#fdca26"
            ],
            [
             1,
             "#f0f921"
            ]
           ]
          },
          "colorway": [
           "#636efa",
           "#EF553B",
           "#00cc96",
           "#ab63fa",
           "#FFA15A",
           "#19d3f3",
           "#FF6692",
           "#B6E880",
           "#FF97FF",
           "#FECB52"
          ],
          "font": {
           "color": "#2a3f5f"
          },
          "geo": {
           "bgcolor": "white",
           "lakecolor": "white",
           "landcolor": "#E5ECF6",
           "showlakes": true,
           "showland": true,
           "subunitcolor": "white"
          },
          "hoverlabel": {
           "align": "left"
          },
          "hovermode": "closest",
          "mapbox": {
           "style": "light"
          },
          "paper_bgcolor": "white",
          "plot_bgcolor": "#E5ECF6",
          "polar": {
           "angularaxis": {
            "gridcolor": "white",
            "linecolor": "white",
            "ticks": ""
           },
           "bgcolor": "#E5ECF6",
           "radialaxis": {
            "gridcolor": "white",
            "linecolor": "white",
            "ticks": ""
           }
          },
          "scene": {
           "xaxis": {
            "backgroundcolor": "#E5ECF6",
            "gridcolor": "white",
            "gridwidth": 2,
            "linecolor": "white",
            "showbackground": true,
            "ticks": "",
            "zerolinecolor": "white"
           },
           "yaxis": {
            "backgroundcolor": "#E5ECF6",
            "gridcolor": "white",
            "gridwidth": 2,
            "linecolor": "white",
            "showbackground": true,
            "ticks": "",
            "zerolinecolor": "white"
           },
           "zaxis": {
            "backgroundcolor": "#E5ECF6",
            "gridcolor": "white",
            "gridwidth": 2,
            "linecolor": "white",
            "showbackground": true,
            "ticks": "",
            "zerolinecolor": "white"
           }
          },
          "shapedefaults": {
           "line": {
            "color": "#2a3f5f"
           }
          },
          "ternary": {
           "aaxis": {
            "gridcolor": "white",
            "linecolor": "white",
            "ticks": ""
           },
           "baxis": {
            "gridcolor": "white",
            "linecolor": "white",
            "ticks": ""
           },
           "bgcolor": "#E5ECF6",
           "caxis": {
            "gridcolor": "white",
            "linecolor": "white",
            "ticks": ""
           }
          },
          "title": {
           "x": 0.05
          },
          "xaxis": {
           "automargin": true,
           "gridcolor": "white",
           "linecolor": "white",
           "ticks": "",
           "title": {
            "standoff": 15
           },
           "zerolinecolor": "white",
           "zerolinewidth": 2
          },
          "yaxis": {
           "automargin": true,
           "gridcolor": "white",
           "linecolor": "white",
           "ticks": "",
           "title": {
            "standoff": 15
           },
           "zerolinecolor": "white",
           "zerolinewidth": 2
          }
         }
        },
        "title": {
         "text": "10 Most Discounted Scents"
        },
        "xaxis": {
         "anchor": "y",
         "categoryarray": [
          "Jasmine",
          "Sweet Aromatic",
          "Musk",
          "Aromatic,Citrus",
          "Rose, Floral",
          "Sandalwood",
          "Woody And Spicy",
          "Woody",
          "Fresh",
          "Oriental"
         ],
         "categoryorder": "array",
         "domain": [
          0,
          1
         ],
         "title": {
          "text": "Scents"
         }
        },
        "yaxis": {
         "anchor": "x",
         "domain": [
          0,
          1
         ],
         "title": {
          "text": "Average discount "
         }
        }
       }
      },
      "text/html": [
       "<div>                            <div id=\"8a31be23-3c48-4607-a950-ae98a0c86815\" class=\"plotly-graph-div\" style=\"height:525px; width:100%;\"></div>            <script type=\"text/javascript\">                require([\"plotly\"], function(Plotly) {                    window.PLOTLYENV=window.PLOTLYENV || {};                                    if (document.getElementById(\"8a31be23-3c48-4607-a950-ae98a0c86815\")) {                    Plotly.newPlot(                        \"8a31be23-3c48-4607-a950-ae98a0c86815\",                        [{\"alignmentgroup\":\"True\",\"hovertemplate\":\"Scents=%{x}<br>Average discount =%{y}<extra></extra>\",\"legendgroup\":\"Jasmine\",\"marker\":{\"color\":\"rgb(229, 134, 6)\",\"pattern\":{\"shape\":\"\"}},\"name\":\"Jasmine\",\"offsetgroup\":\"Jasmine\",\"orientation\":\"v\",\"showlegend\":true,\"textposition\":\"auto\",\"x\":[\"Jasmine\"],\"xaxis\":\"x\",\"y\":[74.9],\"yaxis\":\"y\",\"type\":\"bar\"},{\"alignmentgroup\":\"True\",\"hovertemplate\":\"Scents=%{x}<br>Average discount =%{y}<extra></extra>\",\"legendgroup\":\"Sweet Aromatic\",\"marker\":{\"color\":\"rgb(93, 105, 177)\",\"pattern\":{\"shape\":\"\"}},\"name\":\"Sweet Aromatic\",\"offsetgroup\":\"Sweet Aromatic\",\"orientation\":\"v\",\"showlegend\":true,\"textposition\":\"auto\",\"x\":[\"Sweet Aromatic\"],\"xaxis\":\"x\",\"y\":[73.5],\"yaxis\":\"y\",\"type\":\"bar\"},{\"alignmentgroup\":\"True\",\"hovertemplate\":\"Scents=%{x}<br>Average discount =%{y}<extra></extra>\",\"legendgroup\":\"Musk\",\"marker\":{\"color\":\"rgb(82, 188, 163)\",\"pattern\":{\"shape\":\"\"}},\"name\":\"Musk\",\"offsetgroup\":\"Musk\",\"orientation\":\"v\",\"showlegend\":true,\"textposition\":\"auto\",\"x\":[\"Musk\"],\"xaxis\":\"x\",\"y\":[62.21],\"yaxis\":\"y\",\"type\":\"bar\"},{\"alignmentgroup\":\"True\",\"hovertemplate\":\"Scents=%{x}<br>Average discount =%{y}<extra></extra>\",\"legendgroup\":\"Aromatic,Citrus\",\"marker\":{\"color\":\"rgb(153, 201, 69)\",\"pattern\":{\"shape\":\"\"}},\"name\":\"Aromatic,Citrus\",\"offsetgroup\":\"Aromatic,Citrus\",\"orientation\":\"v\",\"showlegend\":true,\"textposition\":\"auto\",\"x\":[\"Aromatic,Citrus\"],\"xaxis\":\"x\",\"y\":[61.3],\"yaxis\":\"y\",\"type\":\"bar\"},{\"alignmentgroup\":\"True\",\"hovertemplate\":\"Scents=%{x}<br>Average discount =%{y}<extra></extra>\",\"legendgroup\":\"Rose, Floral\",\"marker\":{\"color\":\"rgb(204, 97, 176)\",\"pattern\":{\"shape\":\"\"}},\"name\":\"Rose, Floral\",\"offsetgroup\":\"Rose, Floral\",\"orientation\":\"v\",\"showlegend\":true,\"textposition\":\"auto\",\"x\":[\"Rose, Floral\"],\"xaxis\":\"x\",\"y\":[60.3],\"yaxis\":\"y\",\"type\":\"bar\"},{\"alignmentgroup\":\"True\",\"hovertemplate\":\"Scents=%{x}<br>Average discount =%{y}<extra></extra>\",\"legendgroup\":\"Sandalwood\",\"marker\":{\"color\":\"rgb(36, 121, 108)\",\"pattern\":{\"shape\":\"\"}},\"name\":\"Sandalwood\",\"offsetgroup\":\"Sandalwood\",\"orientation\":\"v\",\"showlegend\":true,\"textposition\":\"auto\",\"x\":[\"Sandalwood\"],\"xaxis\":\"x\",\"y\":[56.3],\"yaxis\":\"y\",\"type\":\"bar\"},{\"alignmentgroup\":\"True\",\"hovertemplate\":\"Scents=%{x}<br>Average discount =%{y}<extra></extra>\",\"legendgroup\":\"Woody And Spicy\",\"marker\":{\"color\":\"rgb(218, 165, 27)\",\"pattern\":{\"shape\":\"\"}},\"name\":\"Woody And Spicy\",\"offsetgroup\":\"Woody And Spicy\",\"orientation\":\"v\",\"showlegend\":true,\"textposition\":\"auto\",\"x\":[\"Woody And Spicy\"],\"xaxis\":\"x\",\"y\":[51.3],\"yaxis\":\"y\",\"type\":\"bar\"},{\"alignmentgroup\":\"True\",\"hovertemplate\":\"Scents=%{x}<br>Average discount =%{y}<extra></extra>\",\"legendgroup\":\"Woody\",\"marker\":{\"color\":\"rgb(47, 138, 196)\",\"pattern\":{\"shape\":\"\"}},\"name\":\"Woody\",\"offsetgroup\":\"Woody\",\"orientation\":\"v\",\"showlegend\":true,\"textposition\":\"auto\",\"x\":[\"Woody\"],\"xaxis\":\"x\",\"y\":[49.42],\"yaxis\":\"y\",\"type\":\"bar\"},{\"alignmentgroup\":\"True\",\"hovertemplate\":\"Scents=%{x}<br>Average discount =%{y}<extra></extra>\",\"legendgroup\":\"Fresh\",\"marker\":{\"color\":\"rgb(118, 78, 159)\",\"pattern\":{\"shape\":\"\"}},\"name\":\"Fresh\",\"offsetgroup\":\"Fresh\",\"orientation\":\"v\",\"showlegend\":true,\"textposition\":\"auto\",\"x\":[\"Fresh\"],\"xaxis\":\"x\",\"y\":[49.27],\"yaxis\":\"y\",\"type\":\"bar\"},{\"alignmentgroup\":\"True\",\"hovertemplate\":\"Scents=%{x}<br>Average discount =%{y}<extra></extra>\",\"legendgroup\":\"Oriental\",\"marker\":{\"color\":\"rgb(237, 100, 90)\",\"pattern\":{\"shape\":\"\"}},\"name\":\"Oriental\",\"offsetgroup\":\"Oriental\",\"orientation\":\"v\",\"showlegend\":true,\"textposition\":\"auto\",\"x\":[\"Oriental\"],\"xaxis\":\"x\",\"y\":[48.31],\"yaxis\":\"y\",\"type\":\"bar\"}],                        {\"template\":{\"data\":{\"histogram2dcontour\":[{\"type\":\"histogram2dcontour\",\"colorbar\":{\"outlinewidth\":0,\"ticks\":\"\"},\"colorscale\":[[0.0,\"#0d0887\"],[0.1111111111111111,\"#46039f\"],[0.2222222222222222,\"#7201a8\"],[0.3333333333333333,\"#9c179e\"],[0.4444444444444444,\"#bd3786\"],[0.5555555555555556,\"#d8576b\"],[0.6666666666666666,\"#ed7953\"],[0.7777777777777778,\"#fb9f3a\"],[0.8888888888888888,\"#fdca26\"],[1.0,\"#f0f921\"]]}],\"choropleth\":[{\"type\":\"choropleth\",\"colorbar\":{\"outlinewidth\":0,\"ticks\":\"\"}}],\"histogram2d\":[{\"type\":\"histogram2d\",\"colorbar\":{\"outlinewidth\":0,\"ticks\":\"\"},\"colorscale\":[[0.0,\"#0d0887\"],[0.1111111111111111,\"#46039f\"],[0.2222222222222222,\"#7201a8\"],[0.3333333333333333,\"#9c179e\"],[0.4444444444444444,\"#bd3786\"],[0.5555555555555556,\"#d8576b\"],[0.6666666666666666,\"#ed7953\"],[0.7777777777777778,\"#fb9f3a\"],[0.8888888888888888,\"#fdca26\"],[1.0,\"#f0f921\"]]}],\"heatmap\":[{\"type\":\"heatmap\",\"colorbar\":{\"outlinewidth\":0,\"ticks\":\"\"},\"colorscale\":[[0.0,\"#0d0887\"],[0.1111111111111111,\"#46039f\"],[0.2222222222222222,\"#7201a8\"],[0.3333333333333333,\"#9c179e\"],[0.4444444444444444,\"#bd3786\"],[0.5555555555555556,\"#d8576b\"],[0.6666666666666666,\"#ed7953\"],[0.7777777777777778,\"#fb9f3a\"],[0.8888888888888888,\"#fdca26\"],[1.0,\"#f0f921\"]]}],\"heatmapgl\":[{\"type\":\"heatmapgl\",\"colorbar\":{\"outlinewidth\":0,\"ticks\":\"\"},\"colorscale\":[[0.0,\"#0d0887\"],[0.1111111111111111,\"#46039f\"],[0.2222222222222222,\"#7201a8\"],[0.3333333333333333,\"#9c179e\"],[0.4444444444444444,\"#bd3786\"],[0.5555555555555556,\"#d8576b\"],[0.6666666666666666,\"#ed7953\"],[0.7777777777777778,\"#fb9f3a\"],[0.8888888888888888,\"#fdca26\"],[1.0,\"#f0f921\"]]}],\"contourcarpet\":[{\"type\":\"contourcarpet\",\"colorbar\":{\"outlinewidth\":0,\"ticks\":\"\"}}],\"contour\":[{\"type\":\"contour\",\"colorbar\":{\"outlinewidth\":0,\"ticks\":\"\"},\"colorscale\":[[0.0,\"#0d0887\"],[0.1111111111111111,\"#46039f\"],[0.2222222222222222,\"#7201a8\"],[0.3333333333333333,\"#9c179e\"],[0.4444444444444444,\"#bd3786\"],[0.5555555555555556,\"#d8576b\"],[0.6666666666666666,\"#ed7953\"],[0.7777777777777778,\"#fb9f3a\"],[0.8888888888888888,\"#fdca26\"],[1.0,\"#f0f921\"]]}],\"surface\":[{\"type\":\"surface\",\"colorbar\":{\"outlinewidth\":0,\"ticks\":\"\"},\"colorscale\":[[0.0,\"#0d0887\"],[0.1111111111111111,\"#46039f\"],[0.2222222222222222,\"#7201a8\"],[0.3333333333333333,\"#9c179e\"],[0.4444444444444444,\"#bd3786\"],[0.5555555555555556,\"#d8576b\"],[0.6666666666666666,\"#ed7953\"],[0.7777777777777778,\"#fb9f3a\"],[0.8888888888888888,\"#fdca26\"],[1.0,\"#f0f921\"]]}],\"mesh3d\":[{\"type\":\"mesh3d\",\"colorbar\":{\"outlinewidth\":0,\"ticks\":\"\"}}],\"scatter\":[{\"fillpattern\":{\"fillmode\":\"overlay\",\"size\":10,\"solidity\":0.2},\"type\":\"scatter\"}],\"parcoords\":[{\"type\":\"parcoords\",\"line\":{\"colorbar\":{\"outlinewidth\":0,\"ticks\":\"\"}}}],\"scatterpolargl\":[{\"type\":\"scatterpolargl\",\"marker\":{\"colorbar\":{\"outlinewidth\":0,\"ticks\":\"\"}}}],\"bar\":[{\"error_x\":{\"color\":\"#2a3f5f\"},\"error_y\":{\"color\":\"#2a3f5f\"},\"marker\":{\"line\":{\"color\":\"#E5ECF6\",\"width\":0.5},\"pattern\":{\"fillmode\":\"overlay\",\"size\":10,\"solidity\":0.2}},\"type\":\"bar\"}],\"scattergeo\":[{\"type\":\"scattergeo\",\"marker\":{\"colorbar\":{\"outlinewidth\":0,\"ticks\":\"\"}}}],\"scatterpolar\":[{\"type\":\"scatterpolar\",\"marker\":{\"colorbar\":{\"outlinewidth\":0,\"ticks\":\"\"}}}],\"histogram\":[{\"marker\":{\"pattern\":{\"fillmode\":\"overlay\",\"size\":10,\"solidity\":0.2}},\"type\":\"histogram\"}],\"scattergl\":[{\"type\":\"scattergl\",\"marker\":{\"colorbar\":{\"outlinewidth\":0,\"ticks\":\"\"}}}],\"scatter3d\":[{\"type\":\"scatter3d\",\"line\":{\"colorbar\":{\"outlinewidth\":0,\"ticks\":\"\"}},\"marker\":{\"colorbar\":{\"outlinewidth\":0,\"ticks\":\"\"}}}],\"scattermapbox\":[{\"type\":\"scattermapbox\",\"marker\":{\"colorbar\":{\"outlinewidth\":0,\"ticks\":\"\"}}}],\"scatterternary\":[{\"type\":\"scatterternary\",\"marker\":{\"colorbar\":{\"outlinewidth\":0,\"ticks\":\"\"}}}],\"scattercarpet\":[{\"type\":\"scattercarpet\",\"marker\":{\"colorbar\":{\"outlinewidth\":0,\"ticks\":\"\"}}}],\"carpet\":[{\"aaxis\":{\"endlinecolor\":\"#2a3f5f\",\"gridcolor\":\"white\",\"linecolor\":\"white\",\"minorgridcolor\":\"white\",\"startlinecolor\":\"#2a3f5f\"},\"baxis\":{\"endlinecolor\":\"#2a3f5f\",\"gridcolor\":\"white\",\"linecolor\":\"white\",\"minorgridcolor\":\"white\",\"startlinecolor\":\"#2a3f5f\"},\"type\":\"carpet\"}],\"table\":[{\"cells\":{\"fill\":{\"color\":\"#EBF0F8\"},\"line\":{\"color\":\"white\"}},\"header\":{\"fill\":{\"color\":\"#C8D4E3\"},\"line\":{\"color\":\"white\"}},\"type\":\"table\"}],\"barpolar\":[{\"marker\":{\"line\":{\"color\":\"#E5ECF6\",\"width\":0.5},\"pattern\":{\"fillmode\":\"overlay\",\"size\":10,\"solidity\":0.2}},\"type\":\"barpolar\"}],\"pie\":[{\"automargin\":true,\"type\":\"pie\"}]},\"layout\":{\"autotypenumbers\":\"strict\",\"colorway\":[\"#636efa\",\"#EF553B\",\"#00cc96\",\"#ab63fa\",\"#FFA15A\",\"#19d3f3\",\"#FF6692\",\"#B6E880\",\"#FF97FF\",\"#FECB52\"],\"font\":{\"color\":\"#2a3f5f\"},\"hovermode\":\"closest\",\"hoverlabel\":{\"align\":\"left\"},\"paper_bgcolor\":\"white\",\"plot_bgcolor\":\"#E5ECF6\",\"polar\":{\"bgcolor\":\"#E5ECF6\",\"angularaxis\":{\"gridcolor\":\"white\",\"linecolor\":\"white\",\"ticks\":\"\"},\"radialaxis\":{\"gridcolor\":\"white\",\"linecolor\":\"white\",\"ticks\":\"\"}},\"ternary\":{\"bgcolor\":\"#E5ECF6\",\"aaxis\":{\"gridcolor\":\"white\",\"linecolor\":\"white\",\"ticks\":\"\"},\"baxis\":{\"gridcolor\":\"white\",\"linecolor\":\"white\",\"ticks\":\"\"},\"caxis\":{\"gridcolor\":\"white\",\"linecolor\":\"white\",\"ticks\":\"\"}},\"coloraxis\":{\"colorbar\":{\"outlinewidth\":0,\"ticks\":\"\"}},\"colorscale\":{\"sequential\":[[0.0,\"#0d0887\"],[0.1111111111111111,\"#46039f\"],[0.2222222222222222,\"#7201a8\"],[0.3333333333333333,\"#9c179e\"],[0.4444444444444444,\"#bd3786\"],[0.5555555555555556,\"#d8576b\"],[0.6666666666666666,\"#ed7953\"],[0.7777777777777778,\"#fb9f3a\"],[0.8888888888888888,\"#fdca26\"],[1.0,\"#f0f921\"]],\"sequentialminus\":[[0.0,\"#0d0887\"],[0.1111111111111111,\"#46039f\"],[0.2222222222222222,\"#7201a8\"],[0.3333333333333333,\"#9c179e\"],[0.4444444444444444,\"#bd3786\"],[0.5555555555555556,\"#d8576b\"],[0.6666666666666666,\"#ed7953\"],[0.7777777777777778,\"#fb9f3a\"],[0.8888888888888888,\"#fdca26\"],[1.0,\"#f0f921\"]],\"diverging\":[[0,\"#8e0152\"],[0.1,\"#c51b7d\"],[0.2,\"#de77ae\"],[0.3,\"#f1b6da\"],[0.4,\"#fde0ef\"],[0.5,\"#f7f7f7\"],[0.6,\"#e6f5d0\"],[0.7,\"#b8e186\"],[0.8,\"#7fbc41\"],[0.9,\"#4d9221\"],[1,\"#276419\"]]},\"xaxis\":{\"gridcolor\":\"white\",\"linecolor\":\"white\",\"ticks\":\"\",\"title\":{\"standoff\":15},\"zerolinecolor\":\"white\",\"automargin\":true,\"zerolinewidth\":2},\"yaxis\":{\"gridcolor\":\"white\",\"linecolor\":\"white\",\"ticks\":\"\",\"title\":{\"standoff\":15},\"zerolinecolor\":\"white\",\"automargin\":true,\"zerolinewidth\":2},\"scene\":{\"xaxis\":{\"backgroundcolor\":\"#E5ECF6\",\"gridcolor\":\"white\",\"linecolor\":\"white\",\"showbackground\":true,\"ticks\":\"\",\"zerolinecolor\":\"white\",\"gridwidth\":2},\"yaxis\":{\"backgroundcolor\":\"#E5ECF6\",\"gridcolor\":\"white\",\"linecolor\":\"white\",\"showbackground\":true,\"ticks\":\"\",\"zerolinecolor\":\"white\",\"gridwidth\":2},\"zaxis\":{\"backgroundcolor\":\"#E5ECF6\",\"gridcolor\":\"white\",\"linecolor\":\"white\",\"showbackground\":true,\"ticks\":\"\",\"zerolinecolor\":\"white\",\"gridwidth\":2}},\"shapedefaults\":{\"line\":{\"color\":\"#2a3f5f\"}},\"annotationdefaults\":{\"arrowcolor\":\"#2a3f5f\",\"arrowhead\":0,\"arrowwidth\":1},\"geo\":{\"bgcolor\":\"white\",\"landcolor\":\"#E5ECF6\",\"subunitcolor\":\"white\",\"showland\":true,\"showlakes\":true,\"lakecolor\":\"white\"},\"title\":{\"x\":0.05},\"mapbox\":{\"style\":\"light\"}}},\"xaxis\":{\"anchor\":\"y\",\"domain\":[0.0,1.0],\"title\":{\"text\":\"Scents\"},\"categoryorder\":\"array\",\"categoryarray\":[\"Jasmine\",\"Sweet Aromatic\",\"Musk\",\"Aromatic,Citrus\",\"Rose, Floral\",\"Sandalwood\",\"Woody And Spicy\",\"Woody\",\"Fresh\",\"Oriental\"]},\"yaxis\":{\"anchor\":\"x\",\"domain\":[0.0,1.0],\"title\":{\"text\":\"Average discount \"}},\"legend\":{\"title\":{\"text\":\"Scents\"},\"tracegroupgap\":0},\"title\":{\"text\":\"10 Most Discounted Scents\"},\"barmode\":\"relative\"},                        {\"responsive\": true}                    ).then(function(){\n",
       "                            \n",
       "var gd = document.getElementById('8a31be23-3c48-4607-a950-ae98a0c86815');\n",
       "var x = new MutationObserver(function (mutations, observer) {{\n",
       "        var display = window.getComputedStyle(gd).display;\n",
       "        if (!display || display === 'none') {{\n",
       "            console.log([gd, 'removed!']);\n",
       "            Plotly.purge(gd);\n",
       "            observer.disconnect();\n",
       "        }}\n",
       "}});\n",
       "\n",
       "// Listen for the removal of the full notebook cells\n",
       "var notebookContainer = gd.closest('#notebook-container');\n",
       "if (notebookContainer) {{\n",
       "    x.observe(notebookContainer, {childList: true});\n",
       "}}\n",
       "\n",
       "// Listen for the clearing of the current output cell\n",
       "var outputEl = gd.closest('.output');\n",
       "if (outputEl) {{\n",
       "    x.observe(outputEl, {childList: true});\n",
       "}}\n",
       "\n",
       "                        })                };                });            </script>        </div>"
      ]
     },
     "metadata": {},
     "output_type": "display_data"
    }
   ],
   "source": [
    "df2 = df1.copy()\n",
    "df2 = df1[df1['discount%'] < 100]\n",
    "mean = df2.groupby('scents')['discount%'].mean()\n",
    "\n",
    "mean.index\n",
    "df3 = mean.reset_index()\n",
    "df3['discount%'] = df3['discount%'].round(decimals=2)\n",
    "df3 = df3.sort_values(by='discount%',ascending=False).head(10)\n",
    "\n",
    "fig = px.bar(df3, x='scents', y='discount%', title='10 Most Discounted Scents',color_discrete_sequence=px.colors.qualitative.Vivid,color='scents',labels={'discount%':'Average discount ','scents':'Scents'})\n",
    "fig.show()"
   ]
  },
  {
   "cell_type": "code",
   "execution_count": 85,
   "id": "3d940e6a",
   "metadata": {},
   "outputs": [
    {
     "data": {
      "application/vnd.plotly.v1+json": {
       "config": {
        "plotlyServerURL": "https://plot.ly"
       },
       "data": [
        {
         "alignmentgroup": "True",
         "hovertemplate": "Department=%{x}<br>Average Price=%{y}<extra></extra>",
         "legendgroup": "Women",
         "marker": {
          "color": "rgb(229, 134, 6)",
          "pattern": {
           "shape": ""
          }
         },
         "name": "Women",
         "offsetgroup": "Women",
         "orientation": "v",
         "showlegend": true,
         "textposition": "auto",
         "type": "bar",
         "x": [
          "Women"
         ],
         "xaxis": "x",
         "y": [
          162.92
         ],
         "yaxis": "y"
        },
        {
         "alignmentgroup": "True",
         "hovertemplate": "Department=%{x}<br>Average Price=%{y}<extra></extra>",
         "legendgroup": "Men",
         "marker": {
          "color": "rgb(93, 105, 177)",
          "pattern": {
           "shape": ""
          }
         },
         "name": "Men",
         "offsetgroup": "Men",
         "orientation": "v",
         "showlegend": true,
         "textposition": "auto",
         "type": "bar",
         "x": [
          "Men"
         ],
         "xaxis": "x",
         "y": [
          138.9
         ],
         "yaxis": "y"
        },
        {
         "alignmentgroup": "True",
         "hovertemplate": "Department=%{x}<br>Average Price=%{y}<extra></extra>",
         "legendgroup": "Unisex",
         "marker": {
          "color": "rgb(82, 188, 163)",
          "pattern": {
           "shape": ""
          }
         },
         "name": "Unisex",
         "offsetgroup": "Unisex",
         "orientation": "v",
         "showlegend": true,
         "textposition": "auto",
         "type": "bar",
         "x": [
          "Unisex"
         ],
         "xaxis": "x",
         "y": [
          118.38
         ],
         "yaxis": "y"
        }
       ],
       "layout": {
        "barmode": "relative",
        "legend": {
         "title": {
          "text": "Department"
         },
         "tracegroupgap": 0
        },
        "template": {
         "data": {
          "bar": [
           {
            "error_x": {
             "color": "#2a3f5f"
            },
            "error_y": {
             "color": "#2a3f5f"
            },
            "marker": {
             "line": {
              "color": "#E5ECF6",
              "width": 0.5
             },
             "pattern": {
              "fillmode": "overlay",
              "size": 10,
              "solidity": 0.2
             }
            },
            "type": "bar"
           }
          ],
          "barpolar": [
           {
            "marker": {
             "line": {
              "color": "#E5ECF6",
              "width": 0.5
             },
             "pattern": {
              "fillmode": "overlay",
              "size": 10,
              "solidity": 0.2
             }
            },
            "type": "barpolar"
           }
          ],
          "carpet": [
           {
            "aaxis": {
             "endlinecolor": "#2a3f5f",
             "gridcolor": "white",
             "linecolor": "white",
             "minorgridcolor": "white",
             "startlinecolor": "#2a3f5f"
            },
            "baxis": {
             "endlinecolor": "#2a3f5f",
             "gridcolor": "white",
             "linecolor": "white",
             "minorgridcolor": "white",
             "startlinecolor": "#2a3f5f"
            },
            "type": "carpet"
           }
          ],
          "choropleth": [
           {
            "colorbar": {
             "outlinewidth": 0,
             "ticks": ""
            },
            "type": "choropleth"
           }
          ],
          "contour": [
           {
            "colorbar": {
             "outlinewidth": 0,
             "ticks": ""
            },
            "colorscale": [
             [
              0,
              "#0d0887"
             ],
             [
              0.1111111111111111,
              "#46039f"
             ],
             [
              0.2222222222222222,
              "#7201a8"
             ],
             [
              0.3333333333333333,
              "#9c179e"
             ],
             [
              0.4444444444444444,
              "#bd3786"
             ],
             [
              0.5555555555555556,
              "#d8576b"
             ],
             [
              0.6666666666666666,
              "#ed7953"
             ],
             [
              0.7777777777777778,
              "#fb9f3a"
             ],
             [
              0.8888888888888888,
              "#fdca26"
             ],
             [
              1,
              "#f0f921"
             ]
            ],
            "type": "contour"
           }
          ],
          "contourcarpet": [
           {
            "colorbar": {
             "outlinewidth": 0,
             "ticks": ""
            },
            "type": "contourcarpet"
           }
          ],
          "heatmap": [
           {
            "colorbar": {
             "outlinewidth": 0,
             "ticks": ""
            },
            "colorscale": [
             [
              0,
              "#0d0887"
             ],
             [
              0.1111111111111111,
              "#46039f"
             ],
             [
              0.2222222222222222,
              "#7201a8"
             ],
             [
              0.3333333333333333,
              "#9c179e"
             ],
             [
              0.4444444444444444,
              "#bd3786"
             ],
             [
              0.5555555555555556,
              "#d8576b"
             ],
             [
              0.6666666666666666,
              "#ed7953"
             ],
             [
              0.7777777777777778,
              "#fb9f3a"
             ],
             [
              0.8888888888888888,
              "#fdca26"
             ],
             [
              1,
              "#f0f921"
             ]
            ],
            "type": "heatmap"
           }
          ],
          "heatmapgl": [
           {
            "colorbar": {
             "outlinewidth": 0,
             "ticks": ""
            },
            "colorscale": [
             [
              0,
              "#0d0887"
             ],
             [
              0.1111111111111111,
              "#46039f"
             ],
             [
              0.2222222222222222,
              "#7201a8"
             ],
             [
              0.3333333333333333,
              "#9c179e"
             ],
             [
              0.4444444444444444,
              "#bd3786"
             ],
             [
              0.5555555555555556,
              "#d8576b"
             ],
             [
              0.6666666666666666,
              "#ed7953"
             ],
             [
              0.7777777777777778,
              "#fb9f3a"
             ],
             [
              0.8888888888888888,
              "#fdca26"
             ],
             [
              1,
              "#f0f921"
             ]
            ],
            "type": "heatmapgl"
           }
          ],
          "histogram": [
           {
            "marker": {
             "pattern": {
              "fillmode": "overlay",
              "size": 10,
              "solidity": 0.2
             }
            },
            "type": "histogram"
           }
          ],
          "histogram2d": [
           {
            "colorbar": {
             "outlinewidth": 0,
             "ticks": ""
            },
            "colorscale": [
             [
              0,
              "#0d0887"
             ],
             [
              0.1111111111111111,
              "#46039f"
             ],
             [
              0.2222222222222222,
              "#7201a8"
             ],
             [
              0.3333333333333333,
              "#9c179e"
             ],
             [
              0.4444444444444444,
              "#bd3786"
             ],
             [
              0.5555555555555556,
              "#d8576b"
             ],
             [
              0.6666666666666666,
              "#ed7953"
             ],
             [
              0.7777777777777778,
              "#fb9f3a"
             ],
             [
              0.8888888888888888,
              "#fdca26"
             ],
             [
              1,
              "#f0f921"
             ]
            ],
            "type": "histogram2d"
           }
          ],
          "histogram2dcontour": [
           {
            "colorbar": {
             "outlinewidth": 0,
             "ticks": ""
            },
            "colorscale": [
             [
              0,
              "#0d0887"
             ],
             [
              0.1111111111111111,
              "#46039f"
             ],
             [
              0.2222222222222222,
              "#7201a8"
             ],
             [
              0.3333333333333333,
              "#9c179e"
             ],
             [
              0.4444444444444444,
              "#bd3786"
             ],
             [
              0.5555555555555556,
              "#d8576b"
             ],
             [
              0.6666666666666666,
              "#ed7953"
             ],
             [
              0.7777777777777778,
              "#fb9f3a"
             ],
             [
              0.8888888888888888,
              "#fdca26"
             ],
             [
              1,
              "#f0f921"
             ]
            ],
            "type": "histogram2dcontour"
           }
          ],
          "mesh3d": [
           {
            "colorbar": {
             "outlinewidth": 0,
             "ticks": ""
            },
            "type": "mesh3d"
           }
          ],
          "parcoords": [
           {
            "line": {
             "colorbar": {
              "outlinewidth": 0,
              "ticks": ""
             }
            },
            "type": "parcoords"
           }
          ],
          "pie": [
           {
            "automargin": true,
            "type": "pie"
           }
          ],
          "scatter": [
           {
            "fillpattern": {
             "fillmode": "overlay",
             "size": 10,
             "solidity": 0.2
            },
            "type": "scatter"
           }
          ],
          "scatter3d": [
           {
            "line": {
             "colorbar": {
              "outlinewidth": 0,
              "ticks": ""
             }
            },
            "marker": {
             "colorbar": {
              "outlinewidth": 0,
              "ticks": ""
             }
            },
            "type": "scatter3d"
           }
          ],
          "scattercarpet": [
           {
            "marker": {
             "colorbar": {
              "outlinewidth": 0,
              "ticks": ""
             }
            },
            "type": "scattercarpet"
           }
          ],
          "scattergeo": [
           {
            "marker": {
             "colorbar": {
              "outlinewidth": 0,
              "ticks": ""
             }
            },
            "type": "scattergeo"
           }
          ],
          "scattergl": [
           {
            "marker": {
             "colorbar": {
              "outlinewidth": 0,
              "ticks": ""
             }
            },
            "type": "scattergl"
           }
          ],
          "scattermapbox": [
           {
            "marker": {
             "colorbar": {
              "outlinewidth": 0,
              "ticks": ""
             }
            },
            "type": "scattermapbox"
           }
          ],
          "scatterpolar": [
           {
            "marker": {
             "colorbar": {
              "outlinewidth": 0,
              "ticks": ""
             }
            },
            "type": "scatterpolar"
           }
          ],
          "scatterpolargl": [
           {
            "marker": {
             "colorbar": {
              "outlinewidth": 0,
              "ticks": ""
             }
            },
            "type": "scatterpolargl"
           }
          ],
          "scatterternary": [
           {
            "marker": {
             "colorbar": {
              "outlinewidth": 0,
              "ticks": ""
             }
            },
            "type": "scatterternary"
           }
          ],
          "surface": [
           {
            "colorbar": {
             "outlinewidth": 0,
             "ticks": ""
            },
            "colorscale": [
             [
              0,
              "#0d0887"
             ],
             [
              0.1111111111111111,
              "#46039f"
             ],
             [
              0.2222222222222222,
              "#7201a8"
             ],
             [
              0.3333333333333333,
              "#9c179e"
             ],
             [
              0.4444444444444444,
              "#bd3786"
             ],
             [
              0.5555555555555556,
              "#d8576b"
             ],
             [
              0.6666666666666666,
              "#ed7953"
             ],
             [
              0.7777777777777778,
              "#fb9f3a"
             ],
             [
              0.8888888888888888,
              "#fdca26"
             ],
             [
              1,
              "#f0f921"
             ]
            ],
            "type": "surface"
           }
          ],
          "table": [
           {
            "cells": {
             "fill": {
              "color": "#EBF0F8"
             },
             "line": {
              "color": "white"
             }
            },
            "header": {
             "fill": {
              "color": "#C8D4E3"
             },
             "line": {
              "color": "white"
             }
            },
            "type": "table"
           }
          ]
         },
         "layout": {
          "annotationdefaults": {
           "arrowcolor": "#2a3f5f",
           "arrowhead": 0,
           "arrowwidth": 1
          },
          "autotypenumbers": "strict",
          "coloraxis": {
           "colorbar": {
            "outlinewidth": 0,
            "ticks": ""
           }
          },
          "colorscale": {
           "diverging": [
            [
             0,
             "#8e0152"
            ],
            [
             0.1,
             "#c51b7d"
            ],
            [
             0.2,
             "#de77ae"
            ],
            [
             0.3,
             "#f1b6da"
            ],
            [
             0.4,
             "#fde0ef"
            ],
            [
             0.5,
             "#f7f7f7"
            ],
            [
             0.6,
             "#e6f5d0"
            ],
            [
             0.7,
             "#b8e186"
            ],
            [
             0.8,
             "#7fbc41"
            ],
            [
             0.9,
             "#4d9221"
            ],
            [
             1,
             "#276419"
            ]
           ],
           "sequential": [
            [
             0,
             "#0d0887"
            ],
            [
             0.1111111111111111,
             "#46039f"
            ],
            [
             0.2222222222222222,
             "#7201a8"
            ],
            [
             0.3333333333333333,
             "#9c179e"
            ],
            [
             0.4444444444444444,
             "#bd3786"
            ],
            [
             0.5555555555555556,
             "#d8576b"
            ],
            [
             0.6666666666666666,
             "#ed7953"
            ],
            [
             0.7777777777777778,
             "#fb9f3a"
            ],
            [
             0.8888888888888888,
             "#fdca26"
            ],
            [
             1,
             "#f0f921"
            ]
           ],
           "sequentialminus": [
            [
             0,
             "#0d0887"
            ],
            [
             0.1111111111111111,
             "#46039f"
            ],
            [
             0.2222222222222222,
             "#7201a8"
            ],
            [
             0.3333333333333333,
             "#9c179e"
            ],
            [
             0.4444444444444444,
             "#bd3786"
            ],
            [
             0.5555555555555556,
             "#d8576b"
            ],
            [
             0.6666666666666666,
             "#ed7953"
            ],
            [
             0.7777777777777778,
             "#fb9f3a"
            ],
            [
             0.8888888888888888,
             "#fdca26"
            ],
            [
             1,
             "#f0f921"
            ]
           ]
          },
          "colorway": [
           "#636efa",
           "#EF553B",
           "#00cc96",
           "#ab63fa",
           "#FFA15A",
           "#19d3f3",
           "#FF6692",
           "#B6E880",
           "#FF97FF",
           "#FECB52"
          ],
          "font": {
           "color": "#2a3f5f"
          },
          "geo": {
           "bgcolor": "white",
           "lakecolor": "white",
           "landcolor": "#E5ECF6",
           "showlakes": true,
           "showland": true,
           "subunitcolor": "white"
          },
          "hoverlabel": {
           "align": "left"
          },
          "hovermode": "closest",
          "mapbox": {
           "style": "light"
          },
          "paper_bgcolor": "white",
          "plot_bgcolor": "#E5ECF6",
          "polar": {
           "angularaxis": {
            "gridcolor": "white",
            "linecolor": "white",
            "ticks": ""
           },
           "bgcolor": "#E5ECF6",
           "radialaxis": {
            "gridcolor": "white",
            "linecolor": "white",
            "ticks": ""
           }
          },
          "scene": {
           "xaxis": {
            "backgroundcolor": "#E5ECF6",
            "gridcolor": "white",
            "gridwidth": 2,
            "linecolor": "white",
            "showbackground": true,
            "ticks": "",
            "zerolinecolor": "white"
           },
           "yaxis": {
            "backgroundcolor": "#E5ECF6",
            "gridcolor": "white",
            "gridwidth": 2,
            "linecolor": "white",
            "showbackground": true,
            "ticks": "",
            "zerolinecolor": "white"
           },
           "zaxis": {
            "backgroundcolor": "#E5ECF6",
            "gridcolor": "white",
            "gridwidth": 2,
            "linecolor": "white",
            "showbackground": true,
            "ticks": "",
            "zerolinecolor": "white"
           }
          },
          "shapedefaults": {
           "line": {
            "color": "#2a3f5f"
           }
          },
          "ternary": {
           "aaxis": {
            "gridcolor": "white",
            "linecolor": "white",
            "ticks": ""
           },
           "baxis": {
            "gridcolor": "white",
            "linecolor": "white",
            "ticks": ""
           },
           "bgcolor": "#E5ECF6",
           "caxis": {
            "gridcolor": "white",
            "linecolor": "white",
            "ticks": ""
           }
          },
          "title": {
           "x": 0.05
          },
          "xaxis": {
           "automargin": true,
           "gridcolor": "white",
           "linecolor": "white",
           "ticks": "",
           "title": {
            "standoff": 15
           },
           "zerolinecolor": "white",
           "zerolinewidth": 2
          },
          "yaxis": {
           "automargin": true,
           "gridcolor": "white",
           "linecolor": "white",
           "ticks": "",
           "title": {
            "standoff": 15
           },
           "zerolinecolor": "white",
           "zerolinewidth": 2
          }
         }
        },
        "title": {
         "text": "Most Expensive Perfumes based on department"
        },
        "xaxis": {
         "anchor": "y",
         "categoryarray": [
          "Women",
          "Men",
          "Unisex"
         ],
         "categoryorder": "array",
         "domain": [
          0,
          1
         ],
         "title": {
          "text": "Department"
         }
        },
        "yaxis": {
         "anchor": "x",
         "domain": [
          0,
          1
         ],
         "title": {
          "text": "Average Price"
         }
        }
       }
      },
      "text/html": [
       "<div>                            <div id=\"e102b358-7d3e-4a81-8a36-8345ceb3b736\" class=\"plotly-graph-div\" style=\"height:525px; width:100%;\"></div>            <script type=\"text/javascript\">                require([\"plotly\"], function(Plotly) {                    window.PLOTLYENV=window.PLOTLYENV || {};                                    if (document.getElementById(\"e102b358-7d3e-4a81-8a36-8345ceb3b736\")) {                    Plotly.newPlot(                        \"e102b358-7d3e-4a81-8a36-8345ceb3b736\",                        [{\"alignmentgroup\":\"True\",\"hovertemplate\":\"Department=%{x}<br>Average Price=%{y}<extra></extra>\",\"legendgroup\":\"Women\",\"marker\":{\"color\":\"rgb(229, 134, 6)\",\"pattern\":{\"shape\":\"\"}},\"name\":\"Women\",\"offsetgroup\":\"Women\",\"orientation\":\"v\",\"showlegend\":true,\"textposition\":\"auto\",\"x\":[\"Women\"],\"xaxis\":\"x\",\"y\":[162.92],\"yaxis\":\"y\",\"type\":\"bar\"},{\"alignmentgroup\":\"True\",\"hovertemplate\":\"Department=%{x}<br>Average Price=%{y}<extra></extra>\",\"legendgroup\":\"Men\",\"marker\":{\"color\":\"rgb(93, 105, 177)\",\"pattern\":{\"shape\":\"\"}},\"name\":\"Men\",\"offsetgroup\":\"Men\",\"orientation\":\"v\",\"showlegend\":true,\"textposition\":\"auto\",\"x\":[\"Men\"],\"xaxis\":\"x\",\"y\":[138.9],\"yaxis\":\"y\",\"type\":\"bar\"},{\"alignmentgroup\":\"True\",\"hovertemplate\":\"Department=%{x}<br>Average Price=%{y}<extra></extra>\",\"legendgroup\":\"Unisex\",\"marker\":{\"color\":\"rgb(82, 188, 163)\",\"pattern\":{\"shape\":\"\"}},\"name\":\"Unisex\",\"offsetgroup\":\"Unisex\",\"orientation\":\"v\",\"showlegend\":true,\"textposition\":\"auto\",\"x\":[\"Unisex\"],\"xaxis\":\"x\",\"y\":[118.38],\"yaxis\":\"y\",\"type\":\"bar\"}],                        {\"template\":{\"data\":{\"histogram2dcontour\":[{\"type\":\"histogram2dcontour\",\"colorbar\":{\"outlinewidth\":0,\"ticks\":\"\"},\"colorscale\":[[0.0,\"#0d0887\"],[0.1111111111111111,\"#46039f\"],[0.2222222222222222,\"#7201a8\"],[0.3333333333333333,\"#9c179e\"],[0.4444444444444444,\"#bd3786\"],[0.5555555555555556,\"#d8576b\"],[0.6666666666666666,\"#ed7953\"],[0.7777777777777778,\"#fb9f3a\"],[0.8888888888888888,\"#fdca26\"],[1.0,\"#f0f921\"]]}],\"choropleth\":[{\"type\":\"choropleth\",\"colorbar\":{\"outlinewidth\":0,\"ticks\":\"\"}}],\"histogram2d\":[{\"type\":\"histogram2d\",\"colorbar\":{\"outlinewidth\":0,\"ticks\":\"\"},\"colorscale\":[[0.0,\"#0d0887\"],[0.1111111111111111,\"#46039f\"],[0.2222222222222222,\"#7201a8\"],[0.3333333333333333,\"#9c179e\"],[0.4444444444444444,\"#bd3786\"],[0.5555555555555556,\"#d8576b\"],[0.6666666666666666,\"#ed7953\"],[0.7777777777777778,\"#fb9f3a\"],[0.8888888888888888,\"#fdca26\"],[1.0,\"#f0f921\"]]}],\"heatmap\":[{\"type\":\"heatmap\",\"colorbar\":{\"outlinewidth\":0,\"ticks\":\"\"},\"colorscale\":[[0.0,\"#0d0887\"],[0.1111111111111111,\"#46039f\"],[0.2222222222222222,\"#7201a8\"],[0.3333333333333333,\"#9c179e\"],[0.4444444444444444,\"#bd3786\"],[0.5555555555555556,\"#d8576b\"],[0.6666666666666666,\"#ed7953\"],[0.7777777777777778,\"#fb9f3a\"],[0.8888888888888888,\"#fdca26\"],[1.0,\"#f0f921\"]]}],\"heatmapgl\":[{\"type\":\"heatmapgl\",\"colorbar\":{\"outlinewidth\":0,\"ticks\":\"\"},\"colorscale\":[[0.0,\"#0d0887\"],[0.1111111111111111,\"#46039f\"],[0.2222222222222222,\"#7201a8\"],[0.3333333333333333,\"#9c179e\"],[0.4444444444444444,\"#bd3786\"],[0.5555555555555556,\"#d8576b\"],[0.6666666666666666,\"#ed7953\"],[0.7777777777777778,\"#fb9f3a\"],[0.8888888888888888,\"#fdca26\"],[1.0,\"#f0f921\"]]}],\"contourcarpet\":[{\"type\":\"contourcarpet\",\"colorbar\":{\"outlinewidth\":0,\"ticks\":\"\"}}],\"contour\":[{\"type\":\"contour\",\"colorbar\":{\"outlinewidth\":0,\"ticks\":\"\"},\"colorscale\":[[0.0,\"#0d0887\"],[0.1111111111111111,\"#46039f\"],[0.2222222222222222,\"#7201a8\"],[0.3333333333333333,\"#9c179e\"],[0.4444444444444444,\"#bd3786\"],[0.5555555555555556,\"#d8576b\"],[0.6666666666666666,\"#ed7953\"],[0.7777777777777778,\"#fb9f3a\"],[0.8888888888888888,\"#fdca26\"],[1.0,\"#f0f921\"]]}],\"surface\":[{\"type\":\"surface\",\"colorbar\":{\"outlinewidth\":0,\"ticks\":\"\"},\"colorscale\":[[0.0,\"#0d0887\"],[0.1111111111111111,\"#46039f\"],[0.2222222222222222,\"#7201a8\"],[0.3333333333333333,\"#9c179e\"],[0.4444444444444444,\"#bd3786\"],[0.5555555555555556,\"#d8576b\"],[0.6666666666666666,\"#ed7953\"],[0.7777777777777778,\"#fb9f3a\"],[0.8888888888888888,\"#fdca26\"],[1.0,\"#f0f921\"]]}],\"mesh3d\":[{\"type\":\"mesh3d\",\"colorbar\":{\"outlinewidth\":0,\"ticks\":\"\"}}],\"scatter\":[{\"fillpattern\":{\"fillmode\":\"overlay\",\"size\":10,\"solidity\":0.2},\"type\":\"scatter\"}],\"parcoords\":[{\"type\":\"parcoords\",\"line\":{\"colorbar\":{\"outlinewidth\":0,\"ticks\":\"\"}}}],\"scatterpolargl\":[{\"type\":\"scatterpolargl\",\"marker\":{\"colorbar\":{\"outlinewidth\":0,\"ticks\":\"\"}}}],\"bar\":[{\"error_x\":{\"color\":\"#2a3f5f\"},\"error_y\":{\"color\":\"#2a3f5f\"},\"marker\":{\"line\":{\"color\":\"#E5ECF6\",\"width\":0.5},\"pattern\":{\"fillmode\":\"overlay\",\"size\":10,\"solidity\":0.2}},\"type\":\"bar\"}],\"scattergeo\":[{\"type\":\"scattergeo\",\"marker\":{\"colorbar\":{\"outlinewidth\":0,\"ticks\":\"\"}}}],\"scatterpolar\":[{\"type\":\"scatterpolar\",\"marker\":{\"colorbar\":{\"outlinewidth\":0,\"ticks\":\"\"}}}],\"histogram\":[{\"marker\":{\"pattern\":{\"fillmode\":\"overlay\",\"size\":10,\"solidity\":0.2}},\"type\":\"histogram\"}],\"scattergl\":[{\"type\":\"scattergl\",\"marker\":{\"colorbar\":{\"outlinewidth\":0,\"ticks\":\"\"}}}],\"scatter3d\":[{\"type\":\"scatter3d\",\"line\":{\"colorbar\":{\"outlinewidth\":0,\"ticks\":\"\"}},\"marker\":{\"colorbar\":{\"outlinewidth\":0,\"ticks\":\"\"}}}],\"scattermapbox\":[{\"type\":\"scattermapbox\",\"marker\":{\"colorbar\":{\"outlinewidth\":0,\"ticks\":\"\"}}}],\"scatterternary\":[{\"type\":\"scatterternary\",\"marker\":{\"colorbar\":{\"outlinewidth\":0,\"ticks\":\"\"}}}],\"scattercarpet\":[{\"type\":\"scattercarpet\",\"marker\":{\"colorbar\":{\"outlinewidth\":0,\"ticks\":\"\"}}}],\"carpet\":[{\"aaxis\":{\"endlinecolor\":\"#2a3f5f\",\"gridcolor\":\"white\",\"linecolor\":\"white\",\"minorgridcolor\":\"white\",\"startlinecolor\":\"#2a3f5f\"},\"baxis\":{\"endlinecolor\":\"#2a3f5f\",\"gridcolor\":\"white\",\"linecolor\":\"white\",\"minorgridcolor\":\"white\",\"startlinecolor\":\"#2a3f5f\"},\"type\":\"carpet\"}],\"table\":[{\"cells\":{\"fill\":{\"color\":\"#EBF0F8\"},\"line\":{\"color\":\"white\"}},\"header\":{\"fill\":{\"color\":\"#C8D4E3\"},\"line\":{\"color\":\"white\"}},\"type\":\"table\"}],\"barpolar\":[{\"marker\":{\"line\":{\"color\":\"#E5ECF6\",\"width\":0.5},\"pattern\":{\"fillmode\":\"overlay\",\"size\":10,\"solidity\":0.2}},\"type\":\"barpolar\"}],\"pie\":[{\"automargin\":true,\"type\":\"pie\"}]},\"layout\":{\"autotypenumbers\":\"strict\",\"colorway\":[\"#636efa\",\"#EF553B\",\"#00cc96\",\"#ab63fa\",\"#FFA15A\",\"#19d3f3\",\"#FF6692\",\"#B6E880\",\"#FF97FF\",\"#FECB52\"],\"font\":{\"color\":\"#2a3f5f\"},\"hovermode\":\"closest\",\"hoverlabel\":{\"align\":\"left\"},\"paper_bgcolor\":\"white\",\"plot_bgcolor\":\"#E5ECF6\",\"polar\":{\"bgcolor\":\"#E5ECF6\",\"angularaxis\":{\"gridcolor\":\"white\",\"linecolor\":\"white\",\"ticks\":\"\"},\"radialaxis\":{\"gridcolor\":\"white\",\"linecolor\":\"white\",\"ticks\":\"\"}},\"ternary\":{\"bgcolor\":\"#E5ECF6\",\"aaxis\":{\"gridcolor\":\"white\",\"linecolor\":\"white\",\"ticks\":\"\"},\"baxis\":{\"gridcolor\":\"white\",\"linecolor\":\"white\",\"ticks\":\"\"},\"caxis\":{\"gridcolor\":\"white\",\"linecolor\":\"white\",\"ticks\":\"\"}},\"coloraxis\":{\"colorbar\":{\"outlinewidth\":0,\"ticks\":\"\"}},\"colorscale\":{\"sequential\":[[0.0,\"#0d0887\"],[0.1111111111111111,\"#46039f\"],[0.2222222222222222,\"#7201a8\"],[0.3333333333333333,\"#9c179e\"],[0.4444444444444444,\"#bd3786\"],[0.5555555555555556,\"#d8576b\"],[0.6666666666666666,\"#ed7953\"],[0.7777777777777778,\"#fb9f3a\"],[0.8888888888888888,\"#fdca26\"],[1.0,\"#f0f921\"]],\"sequentialminus\":[[0.0,\"#0d0887\"],[0.1111111111111111,\"#46039f\"],[0.2222222222222222,\"#7201a8\"],[0.3333333333333333,\"#9c179e\"],[0.4444444444444444,\"#bd3786\"],[0.5555555555555556,\"#d8576b\"],[0.6666666666666666,\"#ed7953\"],[0.7777777777777778,\"#fb9f3a\"],[0.8888888888888888,\"#fdca26\"],[1.0,\"#f0f921\"]],\"diverging\":[[0,\"#8e0152\"],[0.1,\"#c51b7d\"],[0.2,\"#de77ae\"],[0.3,\"#f1b6da\"],[0.4,\"#fde0ef\"],[0.5,\"#f7f7f7\"],[0.6,\"#e6f5d0\"],[0.7,\"#b8e186\"],[0.8,\"#7fbc41\"],[0.9,\"#4d9221\"],[1,\"#276419\"]]},\"xaxis\":{\"gridcolor\":\"white\",\"linecolor\":\"white\",\"ticks\":\"\",\"title\":{\"standoff\":15},\"zerolinecolor\":\"white\",\"automargin\":true,\"zerolinewidth\":2},\"yaxis\":{\"gridcolor\":\"white\",\"linecolor\":\"white\",\"ticks\":\"\",\"title\":{\"standoff\":15},\"zerolinecolor\":\"white\",\"automargin\":true,\"zerolinewidth\":2},\"scene\":{\"xaxis\":{\"backgroundcolor\":\"#E5ECF6\",\"gridcolor\":\"white\",\"linecolor\":\"white\",\"showbackground\":true,\"ticks\":\"\",\"zerolinecolor\":\"white\",\"gridwidth\":2},\"yaxis\":{\"backgroundcolor\":\"#E5ECF6\",\"gridcolor\":\"white\",\"linecolor\":\"white\",\"showbackground\":true,\"ticks\":\"\",\"zerolinecolor\":\"white\",\"gridwidth\":2},\"zaxis\":{\"backgroundcolor\":\"#E5ECF6\",\"gridcolor\":\"white\",\"linecolor\":\"white\",\"showbackground\":true,\"ticks\":\"\",\"zerolinecolor\":\"white\",\"gridwidth\":2}},\"shapedefaults\":{\"line\":{\"color\":\"#2a3f5f\"}},\"annotationdefaults\":{\"arrowcolor\":\"#2a3f5f\",\"arrowhead\":0,\"arrowwidth\":1},\"geo\":{\"bgcolor\":\"white\",\"landcolor\":\"#E5ECF6\",\"subunitcolor\":\"white\",\"showland\":true,\"showlakes\":true,\"lakecolor\":\"white\"},\"title\":{\"x\":0.05},\"mapbox\":{\"style\":\"light\"}}},\"xaxis\":{\"anchor\":\"y\",\"domain\":[0.0,1.0],\"title\":{\"text\":\"Department\"},\"categoryorder\":\"array\",\"categoryarray\":[\"Women\",\"Men\",\"Unisex\"]},\"yaxis\":{\"anchor\":\"x\",\"domain\":[0.0,1.0],\"title\":{\"text\":\"Average Price\"}},\"legend\":{\"title\":{\"text\":\"Department\"},\"tracegroupgap\":0},\"title\":{\"text\":\"Most Expensive Perfumes based on department\"},\"barmode\":\"relative\"},                        {\"responsive\": true}                    ).then(function(){\n",
       "                            \n",
       "var gd = document.getElementById('e102b358-7d3e-4a81-8a36-8345ceb3b736');\n",
       "var x = new MutationObserver(function (mutations, observer) {{\n",
       "        var display = window.getComputedStyle(gd).display;\n",
       "        if (!display || display === 'none') {{\n",
       "            console.log([gd, 'removed!']);\n",
       "            Plotly.purge(gd);\n",
       "            observer.disconnect();\n",
       "        }}\n",
       "}});\n",
       "\n",
       "// Listen for the removal of the full notebook cells\n",
       "var notebookContainer = gd.closest('#notebook-container');\n",
       "if (notebookContainer) {{\n",
       "    x.observe(notebookContainer, {childList: true});\n",
       "}}\n",
       "\n",
       "// Listen for the clearing of the current output cell\n",
       "var outputEl = gd.closest('.output');\n",
       "if (outputEl) {{\n",
       "    x.observe(outputEl, {childList: true});\n",
       "}}\n",
       "\n",
       "                        })                };                });            </script>        </div>"
      ]
     },
     "metadata": {},
     "output_type": "display_data"
    }
   ],
   "source": [
    "df2 = df1.copy()\n",
    "mean = df2.groupby('department')['new_price'].mean()\n",
    "\n",
    "mean.index\n",
    "df3 = mean.reset_index()\n",
    "df3['new_price'] = df3['new_price'].round(decimals=2)\n",
    "df3 = df3.sort_values(by='new_price',ascending=False).head(10)\n",
    "\n",
    "fig = px.bar(df3, x='department', y='new_price', title='Most Expensive Perfumes based on department',color_discrete_sequence=px.colors.qualitative.Vivid,color='department',labels={'new_price':'Average Price','department':'Department'})\n",
    "fig.show()"
   ]
  },
  {
   "cell_type": "code",
   "execution_count": 90,
   "id": "aed52885",
   "metadata": {},
   "outputs": [
    {
     "data": {
      "application/vnd.plotly.v1+json": {
       "config": {
        "plotlyServerURL": "https://plot.ly"
       },
       "data": [
        {
         "hovertemplate": "Item Rating=%{x}<br>Discount=%{y}<extra></extra>",
         "legendgroup": "",
         "marker": {
          "color": "rgb(229, 134, 6)",
          "symbol": "circle"
         },
         "mode": "markers",
         "name": "",
         "orientation": "v",
         "showlegend": false,
         "type": "scatter",
         "x": [
          5,
          4.8,
          5,
          3,
          4.8,
          4.8,
          2.9,
          4.8,
          4.5,
          4.3,
          3.7,
          4.5,
          3.3,
          3,
          5,
          4.5,
          4.9,
          4.5,
          5,
          4.6,
          4,
          5,
          5,
          4.7,
          5,
          4,
          5,
          5,
          5,
          5,
          4.3,
          3,
          4.5,
          5,
          4.6,
          5,
          5,
          5,
          4.6,
          4.4,
          5,
          5,
          5,
          4.5,
          3.5,
          5,
          3.8,
          4.6,
          4.4,
          4.8,
          5,
          5,
          4,
          4.9,
          4.7,
          4.3,
          4.9,
          5,
          4.5,
          4.7,
          4.2,
          5,
          4.4,
          4,
          5,
          4.4,
          3.5,
          4.5,
          5,
          4.5,
          4.6,
          4.9,
          4,
          4.8,
          3.8,
          5,
          4.8,
          4.5,
          4.8,
          4.6,
          4.8,
          3.7,
          5,
          4.3,
          4.7,
          5,
          4.7,
          4.8,
          5,
          4.6,
          4.1,
          5,
          4.5,
          4.8,
          5,
          5,
          5,
          4.7,
          4.5,
          5,
          4.2,
          3.8,
          4.5,
          4.6,
          5,
          4.5,
          5,
          4,
          4.4,
          5,
          3.4,
          5,
          4.8,
          4.5,
          4.4,
          4.3,
          4,
          5,
          4.5,
          4.8,
          4.2,
          4.4,
          4.8,
          4,
          4.6,
          3.9,
          4.4,
          4.7,
          3.9,
          5,
          4.9,
          4.7,
          5,
          4.4,
          5,
          4,
          4.5,
          5,
          4.7,
          4.5,
          4.5,
          4.1,
          5,
          4.4,
          4.7,
          4.6,
          4.9,
          4.7,
          4.6,
          4.7,
          4.5,
          4.7,
          4.7,
          4.9,
          5,
          5,
          4.5,
          4.4,
          4.5,
          3,
          4.8,
          4,
          4.7,
          5,
          4,
          4.6,
          4.4,
          4,
          4.3,
          4.4,
          4.8,
          5,
          4.6,
          4.6,
          4.9,
          4.4,
          4,
          4.3,
          4.5,
          5,
          4.4,
          4.7,
          4.1,
          5,
          5,
          5,
          4.7,
          4.7,
          5,
          5,
          4.6,
          4.6,
          5,
          4.5,
          4.3,
          5,
          4.2,
          4,
          3.3,
          5,
          5,
          4.3,
          5,
          5,
          5,
          4.3,
          4.2,
          3,
          5,
          5,
          5,
          4.3,
          5,
          5,
          4.6,
          4.8,
          5,
          4.3,
          5,
          5,
          4.5,
          4.7,
          4.6,
          4,
          4.4,
          4.3,
          4.6,
          3.5,
          5,
          4.6,
          4.6,
          4.8,
          4,
          4.5,
          4.5,
          4.3,
          5,
          5,
          5,
          4.5,
          4.5,
          5,
          4.2,
          4.9,
          5,
          4.5,
          4.4,
          4.5,
          3,
          5,
          4.3,
          4.4,
          4.8,
          4.8,
          5,
          2,
          5,
          5,
          5,
          4,
          4.2,
          4,
          4.5,
          5,
          4.2,
          4.7,
          5,
          4.7,
          4.7,
          5,
          4.4,
          3,
          5,
          3,
          4.8,
          4.4,
          4.3,
          4.5,
          4.4,
          4.3,
          1,
          4.2,
          4.5,
          4,
          4.5,
          3,
          5,
          4.8,
          4.4,
          5,
          5,
          5,
          4.5,
          4.5,
          4.2,
          5,
          5,
          2,
          5,
          4.8,
          4.2,
          4.5,
          5,
          5,
          5,
          4.4,
          4.5,
          4.9,
          4.4,
          5,
          5,
          4.8,
          4.5,
          5,
          5,
          4.3,
          4.6,
          4.2,
          4.7,
          4.5,
          5,
          4.1,
          5,
          5,
          5,
          4.6,
          4.5,
          4.7,
          5,
          5,
          4.6,
          3.3,
          4.8,
          4.4,
          4.8,
          4,
          4.5,
          4.5,
          4.5,
          3.7,
          5,
          4.8,
          4.5,
          5,
          4,
          5,
          4.3,
          4.9,
          5,
          3.4,
          5,
          4.8,
          4.3,
          5,
          4.8,
          5,
          4,
          4.3,
          5,
          4.4,
          4.7,
          4.7,
          5,
          4,
          5,
          5,
          5,
          4.4,
          5,
          4.5,
          4.4,
          4.3,
          5,
          4.7,
          4.5,
          4.8,
          5,
          5,
          4.5,
          4.3,
          3.8,
          4.7,
          4.7,
          4.8,
          5,
          4.2,
          5,
          4.3,
          4.6,
          5,
          5,
          4,
          4,
          4.5,
          5,
          5,
          4.4,
          5,
          5,
          4.7,
          4.7,
          5,
          4.4,
          4.5,
          4.4,
          5,
          4.7,
          5,
          5,
          5,
          4.4,
          5,
          4.4,
          4.3,
          3.6,
          4.5,
          4.7,
          4.2,
          5,
          4.5,
          5,
          5,
          4.7,
          5,
          4.7,
          4,
          4.5,
          4.4,
          4.3,
          4.3,
          4.5,
          4.3,
          4.4,
          4.4,
          4.4,
          4.5,
          5,
          5,
          4.5,
          5,
          4.7,
          4.6,
          4.4,
          4.3,
          4.5,
          4.6,
          4.9,
          4.8,
          5,
          4.5,
          5,
          5,
          4.3,
          5,
          5,
          4,
          5,
          3.9,
          4.1,
          4.6,
          4,
          4.3,
          4.7,
          5,
          4.5,
          5,
          4.7,
          4.5,
          4.2,
          4.7,
          4.7,
          4.8,
          5,
          5,
          4,
          4.8,
          5,
          5,
          4.5,
          4.3,
          4.6,
          4.4,
          5,
          4.6,
          4.4,
          4.8,
          4.5,
          3.5,
          5,
          4,
          4.4,
          4.8,
          1,
          4.5,
          4.7,
          4.3,
          5,
          4.6,
          5,
          5,
          4.4,
          4.1,
          4.4,
          4,
          5,
          4,
          5,
          5,
          4.4,
          4.6,
          4.6,
          5,
          5,
          4,
          5,
          5,
          4.5,
          4,
          4.3,
          4.7,
          5,
          4.6,
          4,
          4,
          5,
          4.4,
          4.5,
          4.6,
          4,
          5,
          4,
          4.5,
          4.8,
          4.5,
          4.8,
          3.3,
          5,
          5,
          4.5,
          4.8,
          4.5,
          4.8,
          4.6,
          4.6,
          4.8,
          4.3,
          4.9,
          4.5,
          5,
          5,
          5,
          5,
          4.6,
          4.4,
          4,
          5,
          4.7,
          4,
          4.3,
          4.7,
          5,
          4.9,
          5,
          4.5,
          5,
          5,
          4.7,
          5,
          4.6,
          5,
          4.8,
          5,
          5,
          5,
          4.1,
          5,
          4.3,
          5,
          4.6,
          4.7,
          3.5,
          5,
          4.5,
          5,
          4.1,
          4,
          4,
          4.9,
          4.2,
          5,
          4.5,
          4.7,
          4.4,
          5,
          4,
          5,
          3,
          1,
          4,
          5,
          5,
          4,
          4.9,
          4.5,
          3.5,
          4.4,
          4.6,
          5,
          4.5,
          4.5,
          2,
          4.5,
          4.5,
          4.5,
          3.7,
          5,
          4.8,
          4.5,
          4.4,
          4,
          4.5,
          4.4,
          4.5,
          4.9,
          4.3,
          4.5,
          4.8,
          4,
          4.6,
          4.2,
          4.7,
          4.6,
          4.6,
          3.3,
          5,
          1,
          5,
          4.8,
          5,
          4.4,
          5,
          4.7,
          4.8,
          4.4,
          5,
          4.3,
          4.5,
          4.7,
          4.5,
          4.7,
          5,
          4.5,
          4.6,
          4.6,
          4.4,
          4.6,
          5,
          4.5,
          4.6,
          4.5,
          4.7,
          5,
          5,
          4.7,
          4.2,
          4.6,
          4.5,
          5,
          4.6,
          4.6,
          4.8,
          4.4,
          4.7,
          4.8,
          4.6,
          4.9,
          4.8,
          4.6,
          5,
          4.5,
          5,
          4.5,
          4.6,
          4.4,
          4.5,
          5,
          4.6,
          4.5,
          4.5,
          4.8,
          4.5,
          4.9,
          4.6,
          4.6,
          4.4,
          4.8,
          4.5,
          4.2,
          4.7,
          3.8,
          4.4,
          5,
          4.7,
          4,
          4.8,
          4.4,
          4.5,
          4.3,
          4.8,
          4.3,
          4.8,
          4.7,
          5,
          4.6,
          4.6,
          4.5,
          4.8,
          4.1,
          4.8,
          4.6,
          4.6,
          4.7,
          4.8,
          4.4,
          4.6,
          4.2,
          4.8,
          4.7,
          4.2,
          5,
          4.6,
          4.6,
          4.7,
          4.7,
          4.8,
          3.4,
          4.1,
          4.6,
          4.6,
          4.5,
          4,
          4.6,
          4,
          4.9,
          4.9,
          4.7,
          5,
          4.5,
          4.6,
          5,
          4.6,
          4.5,
          4.5,
          4.6,
          5,
          4.8,
          4.4,
          4.5,
          4.6,
          4.2,
          4.4,
          4.8,
          4.8,
          4.5,
          4.5,
          4.5,
          3,
          4.6,
          4.8,
          4.2,
          4.4,
          4.6,
          4.3,
          2.3,
          3.7,
          4.2,
          5,
          4.5,
          5,
          4.4,
          3.4,
          4.7,
          4.6,
          4.8,
          4.5,
          4.8,
          4.7,
          4.4,
          4.8,
          4.5,
          4.2,
          5,
          4.7,
          4.8,
          4.7,
          4.3,
          4.5,
          4.9,
          4.6,
          4.5,
          4.3,
          5,
          4.2,
          4.6,
          4.7,
          4.7,
          5,
          4.9,
          4.3,
          4.8,
          4.7,
          4.7,
          4.6,
          4.5,
          4.8,
          4.7,
          4.6,
          4.1,
          4.8,
          4.3,
          4.9,
          4.6,
          4.8,
          4.1,
          4.7,
          3,
          4.6,
          5,
          4.4,
          4.5,
          4.7,
          4.4,
          4.8,
          4.3,
          4.2,
          5,
          4.6,
          4.5,
          4.7,
          3.4,
          1,
          4.1,
          4.5,
          4,
          4.6,
          4.9,
          4.7,
          4.5,
          4.8,
          4.5,
          5,
          4.5,
          3,
          4.1,
          3.7,
          4.8,
          4.6,
          4.7,
          2,
          4.2,
          4.8,
          4.6,
          4.5,
          4.7,
          4.6,
          4.4,
          4.3,
          2.3,
          4.1,
          5,
          4,
          5,
          4.6,
          4.4,
          4.6,
          4.8,
          4.5,
          4.4,
          5,
          4.8,
          4.3,
          5,
          4.6,
          4.7,
          4.8,
          5,
          4.7,
          4.9,
          4.8,
          4.7,
          4,
          4.6
         ],
         "xaxis": "x",
         "y": [
          61.9,
          26,
          70.5,
          35.6,
          36.5,
          36.5,
          28.7,
          32.9,
          50.9,
          35.7,
          55.9,
          46.7,
          52.7,
          51.1,
          56.9,
          46.6,
          44.8,
          58.8,
          52.4,
          33.6,
          30.1,
          34.5,
          52.9,
          60.5,
          39.9,
          48.6,
          66.1,
          37.6,
          21.9,
          31.4,
          42.9,
          50.3,
          46.7,
          59.8,
          36.9,
          43.8,
          42.6,
          37.2,
          27.6,
          24.1,
          36.5,
          35,
          65.6,
          41,
          29.5,
          63.7,
          66.2,
          51.3,
          61,
          53.2,
          49.1,
          49.7,
          76.3,
          29.5,
          39.3,
          59.5,
          62.6,
          72,
          34.9,
          49.4,
          60.2,
          67.8,
          24.1,
          54.8,
          57.5,
          37.9,
          32.9,
          42.4,
          67.9,
          81.1,
          51.3,
          36.7,
          31.7,
          73.5,
          43.8,
          48.2,
          80.2,
          41,
          37.7,
          38.8,
          39.8,
          70.4,
          38.1,
          49.5,
          49.4,
          36.1,
          29.4,
          25.8,
          56,
          72.5,
          56.5,
          81,
          53.8,
          53.2,
          47,
          73.7,
          33,
          32.7,
          53.8,
          62.4,
          36.9,
          20.5,
          54.7,
          36.2,
          41.8,
          60.2,
          52.3,
          97.8,
          39.3,
          56.7,
          70.3,
          35.8,
          52.7,
          33,
          66.2,
          63.9,
          29.3,
          64.6,
          43,
          25.8,
          22.5,
          53.5,
          60.5,
          60.4,
          74,
          53.6,
          37.9,
          59.1,
          36.5,
          39.8,
          32,
          51.6,
          24,
          46,
          38.2,
          60,
          44.6,
          67.6,
          32.7,
          51.8,
          68.5,
          42.9,
          39.8,
          53.4,
          51.5,
          39.9,
          34.9,
          43.3,
          31.2,
          55.4,
          29,
          67.8,
          62.6,
          22.3,
          56.4,
          63.4,
          56.5,
          37.9,
          48.2,
          51.9,
          52,
          30,
          42.6,
          52.3,
          64,
          69.8,
          99.4,
          45.1,
          54.4,
          75,
          24.2,
          63.9,
          81.2,
          43.2,
          48,
          65.8,
          41.5,
          97.7,
          65.3,
          62.6,
          56.9,
          41.6,
          42.9,
          36.1,
          46.7,
          36.6,
          30.7,
          49.5,
          95.6,
          24.1,
          31.9,
          31.2,
          44.9,
          28.6,
          30.7,
          46.1,
          55.1,
          61.9,
          52.3,
          44.2,
          42.8,
          66,
          62,
          50.8,
          47.6,
          58.2,
          33.5,
          51.9,
          88.3,
          27.3,
          40.5,
          22.5,
          61.5,
          60.2,
          36.9,
          40.8,
          47.1,
          36.5,
          26.7,
          50.3,
          54.6,
          63.5,
          43.2,
          25.2,
          38.9,
          40.4,
          52.1,
          29.9,
          61.3,
          37.8,
          41.5,
          37.9,
          72,
          97.1,
          44.5,
          72.3,
          59.1,
          43.7,
          35.2,
          48.7,
          28.6,
          45,
          78.4,
          35.4,
          36.6,
          21.4,
          59.4,
          39.3,
          76.8,
          48.2,
          30.7,
          56.2,
          79.2,
          47.5,
          51,
          55.3,
          44.3,
          91.1,
          56.5,
          83.9,
          33.5,
          39.5,
          44.4,
          21.3,
          29.1,
          57.6,
          70.6,
          39,
          57.6,
          56.3,
          41.3,
          45.6,
          51.6,
          27.2,
          41.4,
          38.8,
          38.2,
          52,
          45.7,
          32.9,
          24.2,
          33.5,
          36.1,
          66.8,
          50.2,
          46.2,
          56.5,
          50.2,
          67.9,
          67.6,
          65.2,
          58,
          55.9,
          32.5,
          77.3,
          70.8,
          30.8,
          51.4,
          52.9,
          49.5,
          49.4,
          39.3,
          37.6,
          39.9,
          55.4,
          28.3,
          52,
          57.3,
          39.6,
          61.8,
          81.3,
          33.6,
          31.5,
          33.7,
          37.8,
          42.6,
          43.7,
          29.1,
          40.9,
          26.8,
          46.4,
          55.3,
          34.4,
          51.6,
          60.6,
          49.2,
          58.9,
          31.7,
          48.5,
          51.1,
          55.8,
          47.7,
          52.9,
          59.3,
          53.4,
          45.4,
          33.4,
          27.6,
          50.2,
          40.8,
          67.6,
          33.7,
          29.7,
          63.7,
          46.4,
          20.6,
          64.9,
          34.2,
          60.4,
          33.4,
          50.2,
          32.9,
          37,
          77,
          32.9,
          56.6,
          50.2,
          27.2,
          30.3,
          51.8,
          70.3,
          24.6,
          55.4,
          44.2,
          44.1,
          54.1,
          31.3,
          64.3,
          46.2,
          38.2,
          38,
          56.7,
          83.8,
          36.7,
          88.5,
          58.4,
          52.9,
          53.5,
          40.4,
          60.5,
          34.4,
          45.2,
          78,
          36,
          43.1,
          96.1,
          53.9,
          53.6,
          45.8,
          33.3,
          46.4,
          32.1,
          35.6,
          71.8,
          44.1,
          62.7,
          32.4,
          40.8,
          48.4,
          37.6,
          33.9,
          52.4,
          46.7,
          47.4,
          28.3,
          52.9,
          53.8,
          46.3,
          32.4,
          53.7,
          26.7,
          66,
          63.6,
          52.1,
          31.7,
          32.5,
          36,
          36.4,
          51.6,
          70.9,
          34.4,
          88,
          28,
          54.4,
          31.7,
          65.1,
          62.7,
          44.9,
          84.8,
          23,
          42.1,
          45.9,
          67.4,
          42.7,
          39.3,
          33.4,
          83.3,
          36.2,
          29,
          27.7,
          40.4,
          33,
          84.8,
          67.9,
          41,
          74,
          34.2,
          71,
          91.7,
          37.1,
          39,
          36.2,
          53.6,
          45.5,
          58.6,
          79.1,
          64.5,
          36.5,
          33.2,
          33.3,
          65.4,
          75.7,
          28.3,
          66.5,
          28.2,
          48.9,
          51.5,
          24.1,
          43.6,
          46.6,
          24.6,
          55.6,
          94.7,
          65.6,
          87.9,
          44.3,
          81.2,
          53.8,
          56.5,
          36,
          39.7,
          38,
          37.7,
          58.1,
          33.8,
          26.6,
          60.1,
          35.3,
          47.5,
          24.6,
          99.4,
          40,
          35.5,
          45.8,
          40.2,
          86.8,
          75.2,
          33.1,
          79,
          29.7,
          53.1,
          47.8,
          75,
          32.8,
          90.5,
          40,
          47.6,
          46.2,
          76.8,
          45.8,
          31.8,
          76.7,
          51.3,
          32.1,
          51.7,
          57.2,
          37.8,
          46.3,
          70.1,
          23.1,
          38.1,
          48.6,
          27.2,
          55.9,
          55.5,
          34.4,
          46.3,
          63.4,
          43.9,
          33.7,
          48.8,
          25.1,
          76.4,
          27.6,
          49.5,
          51.3,
          58.5,
          85.9,
          27.8,
          39.1,
          36.3,
          45.8,
          27.9,
          84,
          63.6,
          51.7,
          49.9,
          65.4,
          41,
          69.1,
          63.2,
          49.2,
          29.9,
          41.4,
          97.8,
          30.3,
          36,
          33.3,
          56.3,
          28,
          42.7,
          88.9,
          44.1,
          45.5,
          62.4,
          43.6,
          40.6,
          43.6,
          48.6,
          37.8,
          32.7,
          42.6,
          46.3,
          62.2,
          36.3,
          38.9,
          54.2,
          75.9,
          50.5,
          40.4,
          23.6,
          75.9,
          58.3,
          33.2,
          79.6,
          58.7,
          64.6,
          51.3,
          40.8,
          91,
          22.1,
          28.3,
          24.7,
          51,
          56.3,
          30.3,
          43.6,
          55.7,
          77.1,
          45,
          48.4,
          49.3,
          48,
          51.7,
          37.8,
          49.1,
          34.6,
          64.5,
          23.9,
          57.9,
          35.2,
          43.9,
          46.9,
          21.4,
          36.1,
          47.4,
          58.9,
          36.3,
          28.1,
          23.5,
          46,
          44.5,
          40.5,
          39,
          52.1,
          60.3,
          48.3,
          27.2,
          34.1,
          57.8,
          35,
          29,
          31.1,
          44.2,
          39.8,
          59.3,
          51.3,
          26.6,
          34.5,
          77.9,
          70.8,
          40.2,
          58.8,
          35.6,
          49,
          54.2,
          56.8,
          42.2,
          60,
          23.1,
          30.6,
          20.5,
          39.8,
          87.9,
          32.4,
          59.6,
          46.8,
          27.8,
          61.1,
          28.2,
          52.1,
          60.6,
          40.8,
          26.6,
          54.3,
          27.9,
          39.8,
          44,
          29.9,
          30.2,
          57.3,
          70,
          49,
          32.7,
          56.3,
          48.1,
          55.3,
          38.6,
          61.7,
          22.1,
          48.4,
          40.8,
          46.1,
          38.8,
          93.4,
          61.1,
          34.6,
          39.3,
          43.9,
          60.4,
          34,
          39,
          31.2,
          29,
          29.4,
          51.2,
          37,
          33.5,
          69.7,
          34.6,
          60,
          34.5,
          31,
          45.1,
          48.1,
          77.9,
          38.2,
          41.5,
          37.7,
          24.3,
          58.8,
          45.5,
          49,
          29,
          35.8,
          60,
          26.6,
          44.7,
          39.5,
          39.8,
          35.8,
          33.1,
          47.1,
          24.7,
          61.1,
          66.6,
          43,
          26.6,
          54.3,
          55.8,
          43.5,
          30.2,
          49.5,
          58.2,
          57.3,
          37.8,
          99,
          57.5,
          56.3,
          34.9,
          39.6,
          35,
          39.1,
          48.1,
          63.3,
          53.3,
          51,
          30.5,
          38.6,
          61.7,
          49.2,
          60.7,
          40.8,
          46.1,
          37.4,
          34.1,
          84.8,
          93.4,
          48.4,
          31.7,
          62.7,
          45.3,
          33.6,
          70.3,
          39.3,
          47,
          28.7,
          46.9,
          60.4,
          55.1,
          38.5,
          31.2,
          52.4,
          28.7,
          36.1,
          26.5,
          79,
          49.5,
          41.4,
          46.7,
          70.3,
          40.1,
          73.7,
          28.6,
          53.8,
          51.2,
          31.4,
          40.4,
          32.9,
          37,
          32.3,
          40.4,
          69.7,
          39,
          31,
          54,
          37.9,
          37.6,
          52.2,
          24.8,
          41.5,
          27,
          96.1,
          31.8,
          35.1,
          33.1,
          24,
          44.1,
          24.3,
          40.7,
          45.5,
          34.5,
          27.1,
          29,
          34.4,
          57.6,
          35.8,
          44.7,
          39.5,
          27.2,
          44.1,
          35.8,
          40.7,
          79.6,
          34.5,
          54.2,
          27.1,
          34.5,
          33.8,
          41,
          33.1,
          28.1,
          47.1,
          22.5,
          66.6,
          55.8,
          42,
          28.6,
          58.2,
          37.8,
          67.6,
          99,
          60.3,
          39.6,
          35,
          63.3,
          53.3,
          30.5,
          55.6,
          60.7,
          37.4,
          35.2,
          51,
          47.8,
          27.1,
          49.5,
          48.4,
          53.8,
          54.5,
          31.7,
          76.4,
          34.1,
          70.3,
          60.5,
          46.9,
          38.5,
          52.4,
          28.7,
          29.7,
          41.4,
          77.1,
          49.1,
          20.4,
          46.7,
          73.7,
          28.6,
          36.3,
          40.4,
          40.4,
          39,
          54,
          54.4,
          41.5,
          40.9,
          60.5,
          27,
          33.1,
          44.1,
          40.7,
          34.5,
          61.1,
          27.1
         ],
         "yaxis": "y"
        }
       ],
       "layout": {
        "legend": {
         "tracegroupgap": 0
        },
        "template": {
         "data": {
          "bar": [
           {
            "error_x": {
             "color": "#2a3f5f"
            },
            "error_y": {
             "color": "#2a3f5f"
            },
            "marker": {
             "line": {
              "color": "#E5ECF6",
              "width": 0.5
             },
             "pattern": {
              "fillmode": "overlay",
              "size": 10,
              "solidity": 0.2
             }
            },
            "type": "bar"
           }
          ],
          "barpolar": [
           {
            "marker": {
             "line": {
              "color": "#E5ECF6",
              "width": 0.5
             },
             "pattern": {
              "fillmode": "overlay",
              "size": 10,
              "solidity": 0.2
             }
            },
            "type": "barpolar"
           }
          ],
          "carpet": [
           {
            "aaxis": {
             "endlinecolor": "#2a3f5f",
             "gridcolor": "white",
             "linecolor": "white",
             "minorgridcolor": "white",
             "startlinecolor": "#2a3f5f"
            },
            "baxis": {
             "endlinecolor": "#2a3f5f",
             "gridcolor": "white",
             "linecolor": "white",
             "minorgridcolor": "white",
             "startlinecolor": "#2a3f5f"
            },
            "type": "carpet"
           }
          ],
          "choropleth": [
           {
            "colorbar": {
             "outlinewidth": 0,
             "ticks": ""
            },
            "type": "choropleth"
           }
          ],
          "contour": [
           {
            "colorbar": {
             "outlinewidth": 0,
             "ticks": ""
            },
            "colorscale": [
             [
              0,
              "#0d0887"
             ],
             [
              0.1111111111111111,
              "#46039f"
             ],
             [
              0.2222222222222222,
              "#7201a8"
             ],
             [
              0.3333333333333333,
              "#9c179e"
             ],
             [
              0.4444444444444444,
              "#bd3786"
             ],
             [
              0.5555555555555556,
              "#d8576b"
             ],
             [
              0.6666666666666666,
              "#ed7953"
             ],
             [
              0.7777777777777778,
              "#fb9f3a"
             ],
             [
              0.8888888888888888,
              "#fdca26"
             ],
             [
              1,
              "#f0f921"
             ]
            ],
            "type": "contour"
           }
          ],
          "contourcarpet": [
           {
            "colorbar": {
             "outlinewidth": 0,
             "ticks": ""
            },
            "type": "contourcarpet"
           }
          ],
          "heatmap": [
           {
            "colorbar": {
             "outlinewidth": 0,
             "ticks": ""
            },
            "colorscale": [
             [
              0,
              "#0d0887"
             ],
             [
              0.1111111111111111,
              "#46039f"
             ],
             [
              0.2222222222222222,
              "#7201a8"
             ],
             [
              0.3333333333333333,
              "#9c179e"
             ],
             [
              0.4444444444444444,
              "#bd3786"
             ],
             [
              0.5555555555555556,
              "#d8576b"
             ],
             [
              0.6666666666666666,
              "#ed7953"
             ],
             [
              0.7777777777777778,
              "#fb9f3a"
             ],
             [
              0.8888888888888888,
              "#fdca26"
             ],
             [
              1,
              "#f0f921"
             ]
            ],
            "type": "heatmap"
           }
          ],
          "heatmapgl": [
           {
            "colorbar": {
             "outlinewidth": 0,
             "ticks": ""
            },
            "colorscale": [
             [
              0,
              "#0d0887"
             ],
             [
              0.1111111111111111,
              "#46039f"
             ],
             [
              0.2222222222222222,
              "#7201a8"
             ],
             [
              0.3333333333333333,
              "#9c179e"
             ],
             [
              0.4444444444444444,
              "#bd3786"
             ],
             [
              0.5555555555555556,
              "#d8576b"
             ],
             [
              0.6666666666666666,
              "#ed7953"
             ],
             [
              0.7777777777777778,
              "#fb9f3a"
             ],
             [
              0.8888888888888888,
              "#fdca26"
             ],
             [
              1,
              "#f0f921"
             ]
            ],
            "type": "heatmapgl"
           }
          ],
          "histogram": [
           {
            "marker": {
             "pattern": {
              "fillmode": "overlay",
              "size": 10,
              "solidity": 0.2
             }
            },
            "type": "histogram"
           }
          ],
          "histogram2d": [
           {
            "colorbar": {
             "outlinewidth": 0,
             "ticks": ""
            },
            "colorscale": [
             [
              0,
              "#0d0887"
             ],
             [
              0.1111111111111111,
              "#46039f"
             ],
             [
              0.2222222222222222,
              "#7201a8"
             ],
             [
              0.3333333333333333,
              "#9c179e"
             ],
             [
              0.4444444444444444,
              "#bd3786"
             ],
             [
              0.5555555555555556,
              "#d8576b"
             ],
             [
              0.6666666666666666,
              "#ed7953"
             ],
             [
              0.7777777777777778,
              "#fb9f3a"
             ],
             [
              0.8888888888888888,
              "#fdca26"
             ],
             [
              1,
              "#f0f921"
             ]
            ],
            "type": "histogram2d"
           }
          ],
          "histogram2dcontour": [
           {
            "colorbar": {
             "outlinewidth": 0,
             "ticks": ""
            },
            "colorscale": [
             [
              0,
              "#0d0887"
             ],
             [
              0.1111111111111111,
              "#46039f"
             ],
             [
              0.2222222222222222,
              "#7201a8"
             ],
             [
              0.3333333333333333,
              "#9c179e"
             ],
             [
              0.4444444444444444,
              "#bd3786"
             ],
             [
              0.5555555555555556,
              "#d8576b"
             ],
             [
              0.6666666666666666,
              "#ed7953"
             ],
             [
              0.7777777777777778,
              "#fb9f3a"
             ],
             [
              0.8888888888888888,
              "#fdca26"
             ],
             [
              1,
              "#f0f921"
             ]
            ],
            "type": "histogram2dcontour"
           }
          ],
          "mesh3d": [
           {
            "colorbar": {
             "outlinewidth": 0,
             "ticks": ""
            },
            "type": "mesh3d"
           }
          ],
          "parcoords": [
           {
            "line": {
             "colorbar": {
              "outlinewidth": 0,
              "ticks": ""
             }
            },
            "type": "parcoords"
           }
          ],
          "pie": [
           {
            "automargin": true,
            "type": "pie"
           }
          ],
          "scatter": [
           {
            "fillpattern": {
             "fillmode": "overlay",
             "size": 10,
             "solidity": 0.2
            },
            "type": "scatter"
           }
          ],
          "scatter3d": [
           {
            "line": {
             "colorbar": {
              "outlinewidth": 0,
              "ticks": ""
             }
            },
            "marker": {
             "colorbar": {
              "outlinewidth": 0,
              "ticks": ""
             }
            },
            "type": "scatter3d"
           }
          ],
          "scattercarpet": [
           {
            "marker": {
             "colorbar": {
              "outlinewidth": 0,
              "ticks": ""
             }
            },
            "type": "scattercarpet"
           }
          ],
          "scattergeo": [
           {
            "marker": {
             "colorbar": {
              "outlinewidth": 0,
              "ticks": ""
             }
            },
            "type": "scattergeo"
           }
          ],
          "scattergl": [
           {
            "marker": {
             "colorbar": {
              "outlinewidth": 0,
              "ticks": ""
             }
            },
            "type": "scattergl"
           }
          ],
          "scattermapbox": [
           {
            "marker": {
             "colorbar": {
              "outlinewidth": 0,
              "ticks": ""
             }
            },
            "type": "scattermapbox"
           }
          ],
          "scatterpolar": [
           {
            "marker": {
             "colorbar": {
              "outlinewidth": 0,
              "ticks": ""
             }
            },
            "type": "scatterpolar"
           }
          ],
          "scatterpolargl": [
           {
            "marker": {
             "colorbar": {
              "outlinewidth": 0,
              "ticks": ""
             }
            },
            "type": "scatterpolargl"
           }
          ],
          "scatterternary": [
           {
            "marker": {
             "colorbar": {
              "outlinewidth": 0,
              "ticks": ""
             }
            },
            "type": "scatterternary"
           }
          ],
          "surface": [
           {
            "colorbar": {
             "outlinewidth": 0,
             "ticks": ""
            },
            "colorscale": [
             [
              0,
              "#0d0887"
             ],
             [
              0.1111111111111111,
              "#46039f"
             ],
             [
              0.2222222222222222,
              "#7201a8"
             ],
             [
              0.3333333333333333,
              "#9c179e"
             ],
             [
              0.4444444444444444,
              "#bd3786"
             ],
             [
              0.5555555555555556,
              "#d8576b"
             ],
             [
              0.6666666666666666,
              "#ed7953"
             ],
             [
              0.7777777777777778,
              "#fb9f3a"
             ],
             [
              0.8888888888888888,
              "#fdca26"
             ],
             [
              1,
              "#f0f921"
             ]
            ],
            "type": "surface"
           }
          ],
          "table": [
           {
            "cells": {
             "fill": {
              "color": "#EBF0F8"
             },
             "line": {
              "color": "white"
             }
            },
            "header": {
             "fill": {
              "color": "#C8D4E3"
             },
             "line": {
              "color": "white"
             }
            },
            "type": "table"
           }
          ]
         },
         "layout": {
          "annotationdefaults": {
           "arrowcolor": "#2a3f5f",
           "arrowhead": 0,
           "arrowwidth": 1
          },
          "autotypenumbers": "strict",
          "coloraxis": {
           "colorbar": {
            "outlinewidth": 0,
            "ticks": ""
           }
          },
          "colorscale": {
           "diverging": [
            [
             0,
             "#8e0152"
            ],
            [
             0.1,
             "#c51b7d"
            ],
            [
             0.2,
             "#de77ae"
            ],
            [
             0.3,
             "#f1b6da"
            ],
            [
             0.4,
             "#fde0ef"
            ],
            [
             0.5,
             "#f7f7f7"
            ],
            [
             0.6,
             "#e6f5d0"
            ],
            [
             0.7,
             "#b8e186"
            ],
            [
             0.8,
             "#7fbc41"
            ],
            [
             0.9,
             "#4d9221"
            ],
            [
             1,
             "#276419"
            ]
           ],
           "sequential": [
            [
             0,
             "#0d0887"
            ],
            [
             0.1111111111111111,
             "#46039f"
            ],
            [
             0.2222222222222222,
             "#7201a8"
            ],
            [
             0.3333333333333333,
             "#9c179e"
            ],
            [
             0.4444444444444444,
             "#bd3786"
            ],
            [
             0.5555555555555556,
             "#d8576b"
            ],
            [
             0.6666666666666666,
             "#ed7953"
            ],
            [
             0.7777777777777778,
             "#fb9f3a"
            ],
            [
             0.8888888888888888,
             "#fdca26"
            ],
            [
             1,
             "#f0f921"
            ]
           ],
           "sequentialminus": [
            [
             0,
             "#0d0887"
            ],
            [
             0.1111111111111111,
             "#46039f"
            ],
            [
             0.2222222222222222,
             "#7201a8"
            ],
            [
             0.3333333333333333,
             "#9c179e"
            ],
            [
             0.4444444444444444,
             "#bd3786"
            ],
            [
             0.5555555555555556,
             "#d8576b"
            ],
            [
             0.6666666666666666,
             "#ed7953"
            ],
            [
             0.7777777777777778,
             "#fb9f3a"
            ],
            [
             0.8888888888888888,
             "#fdca26"
            ],
            [
             1,
             "#f0f921"
            ]
           ]
          },
          "colorway": [
           "#636efa",
           "#EF553B",
           "#00cc96",
           "#ab63fa",
           "#FFA15A",
           "#19d3f3",
           "#FF6692",
           "#B6E880",
           "#FF97FF",
           "#FECB52"
          ],
          "font": {
           "color": "#2a3f5f"
          },
          "geo": {
           "bgcolor": "white",
           "lakecolor": "white",
           "landcolor": "#E5ECF6",
           "showlakes": true,
           "showland": true,
           "subunitcolor": "white"
          },
          "hoverlabel": {
           "align": "left"
          },
          "hovermode": "closest",
          "mapbox": {
           "style": "light"
          },
          "paper_bgcolor": "white",
          "plot_bgcolor": "#E5ECF6",
          "polar": {
           "angularaxis": {
            "gridcolor": "white",
            "linecolor": "white",
            "ticks": ""
           },
           "bgcolor": "#E5ECF6",
           "radialaxis": {
            "gridcolor": "white",
            "linecolor": "white",
            "ticks": ""
           }
          },
          "scene": {
           "xaxis": {
            "backgroundcolor": "#E5ECF6",
            "gridcolor": "white",
            "gridwidth": 2,
            "linecolor": "white",
            "showbackground": true,
            "ticks": "",
            "zerolinecolor": "white"
           },
           "yaxis": {
            "backgroundcolor": "#E5ECF6",
            "gridcolor": "white",
            "gridwidth": 2,
            "linecolor": "white",
            "showbackground": true,
            "ticks": "",
            "zerolinecolor": "white"
           },
           "zaxis": {
            "backgroundcolor": "#E5ECF6",
            "gridcolor": "white",
            "gridwidth": 2,
            "linecolor": "white",
            "showbackground": true,
            "ticks": "",
            "zerolinecolor": "white"
           }
          },
          "shapedefaults": {
           "line": {
            "color": "#2a3f5f"
           }
          },
          "ternary": {
           "aaxis": {
            "gridcolor": "white",
            "linecolor": "white",
            "ticks": ""
           },
           "baxis": {
            "gridcolor": "white",
            "linecolor": "white",
            "ticks": ""
           },
           "bgcolor": "#E5ECF6",
           "caxis": {
            "gridcolor": "white",
            "linecolor": "white",
            "ticks": ""
           }
          },
          "title": {
           "x": 0.05
          },
          "xaxis": {
           "automargin": true,
           "gridcolor": "white",
           "linecolor": "white",
           "ticks": "",
           "title": {
            "standoff": 15
           },
           "zerolinecolor": "white",
           "zerolinewidth": 2
          },
          "yaxis": {
           "automargin": true,
           "gridcolor": "white",
           "linecolor": "white",
           "ticks": "",
           "title": {
            "standoff": 15
           },
           "zerolinecolor": "white",
           "zerolinewidth": 2
          }
         }
        },
        "title": {
         "text": "Relationship Between Discount & item_rating"
        },
        "xaxis": {
         "anchor": "y",
         "domain": [
          0,
          1
         ],
         "title": {
          "text": "Item Rating"
         }
        },
        "yaxis": {
         "anchor": "x",
         "domain": [
          0,
          1
         ],
         "title": {
          "text": "Discount"
         }
        }
       }
      },
      "text/html": [
       "<div>                            <div id=\"6d5c0267-829c-477e-b65b-0bced6689003\" class=\"plotly-graph-div\" style=\"height:525px; width:100%;\"></div>            <script type=\"text/javascript\">                require([\"plotly\"], function(Plotly) {                    window.PLOTLYENV=window.PLOTLYENV || {};                                    if (document.getElementById(\"6d5c0267-829c-477e-b65b-0bced6689003\")) {                    Plotly.newPlot(                        \"6d5c0267-829c-477e-b65b-0bced6689003\",                        [{\"hovertemplate\":\"Item Rating=%{x}<br>Discount=%{y}<extra></extra>\",\"legendgroup\":\"\",\"marker\":{\"color\":\"rgb(229, 134, 6)\",\"symbol\":\"circle\"},\"mode\":\"markers\",\"name\":\"\",\"orientation\":\"v\",\"showlegend\":false,\"x\":[5.0,4.8,5.0,3.0,4.8,4.8,2.9,4.8,4.5,4.3,3.7,4.5,3.3,3.0,5.0,4.5,4.9,4.5,5.0,4.6,4.0,5.0,5.0,4.7,5.0,4.0,5.0,5.0,5.0,5.0,4.3,3.0,4.5,5.0,4.6,5.0,5.0,5.0,4.6,4.4,5.0,5.0,5.0,4.5,3.5,5.0,3.8,4.6,4.4,4.8,5.0,5.0,4.0,4.9,4.7,4.3,4.9,5.0,4.5,4.7,4.2,5.0,4.4,4.0,5.0,4.4,3.5,4.5,5.0,4.5,4.6,4.9,4.0,4.8,3.8,5.0,4.8,4.5,4.8,4.6,4.8,3.7,5.0,4.3,4.7,5.0,4.7,4.8,5.0,4.6,4.1,5.0,4.5,4.8,5.0,5.0,5.0,4.7,4.5,5.0,4.2,3.8,4.5,4.6,5.0,4.5,5.0,4.0,4.4,5.0,3.4,5.0,4.8,4.5,4.4,4.3,4.0,5.0,4.5,4.8,4.2,4.4,4.8,4.0,4.6,3.9,4.4,4.7,3.9,5.0,4.9,4.7,5.0,4.4,5.0,4.0,4.5,5.0,4.7,4.5,4.5,4.1,5.0,4.4,4.7,4.6,4.9,4.7,4.6,4.7,4.5,4.7,4.7,4.9,5.0,5.0,4.5,4.4,4.5,3.0,4.8,4.0,4.7,5.0,4.0,4.6,4.4,4.0,4.3,4.4,4.8,5.0,4.6,4.6,4.9,4.4,4.0,4.3,4.5,5.0,4.4,4.7,4.1,5.0,5.0,5.0,4.7,4.7,5.0,5.0,4.6,4.6,5.0,4.5,4.3,5.0,4.2,4.0,3.3,5.0,5.0,4.3,5.0,5.0,5.0,4.3,4.2,3.0,5.0,5.0,5.0,4.3,5.0,5.0,4.6,4.8,5.0,4.3,5.0,5.0,4.5,4.7,4.6,4.0,4.4,4.3,4.6,3.5,5.0,4.6,4.6,4.8,4.0,4.5,4.5,4.3,5.0,5.0,5.0,4.5,4.5,5.0,4.2,4.9,5.0,4.5,4.4,4.5,3.0,5.0,4.3,4.4,4.8,4.8,5.0,2.0,5.0,5.0,5.0,4.0,4.2,4.0,4.5,5.0,4.2,4.7,5.0,4.7,4.7,5.0,4.4,3.0,5.0,3.0,4.8,4.4,4.3,4.5,4.4,4.3,1.0,4.2,4.5,4.0,4.5,3.0,5.0,4.8,4.4,5.0,5.0,5.0,4.5,4.5,4.2,5.0,5.0,2.0,5.0,4.8,4.2,4.5,5.0,5.0,5.0,4.4,4.5,4.9,4.4,5.0,5.0,4.8,4.5,5.0,5.0,4.3,4.6,4.2,4.7,4.5,5.0,4.1,5.0,5.0,5.0,4.6,4.5,4.7,5.0,5.0,4.6,3.3,4.8,4.4,4.8,4.0,4.5,4.5,4.5,3.7,5.0,4.8,4.5,5.0,4.0,5.0,4.3,4.9,5.0,3.4,5.0,4.8,4.3,5.0,4.8,5.0,4.0,4.3,5.0,4.4,4.7,4.7,5.0,4.0,5.0,5.0,5.0,4.4,5.0,4.5,4.4,4.3,5.0,4.7,4.5,4.8,5.0,5.0,4.5,4.3,3.8,4.7,4.7,4.8,5.0,4.2,5.0,4.3,4.6,5.0,5.0,4.0,4.0,4.5,5.0,5.0,4.4,5.0,5.0,4.7,4.7,5.0,4.4,4.5,4.4,5.0,4.7,5.0,5.0,5.0,4.4,5.0,4.4,4.3,3.6,4.5,4.7,4.2,5.0,4.5,5.0,5.0,4.7,5.0,4.7,4.0,4.5,4.4,4.3,4.3,4.5,4.3,4.4,4.4,4.4,4.5,5.0,5.0,4.5,5.0,4.7,4.6,4.4,4.3,4.5,4.6,4.9,4.8,5.0,4.5,5.0,5.0,4.3,5.0,5.0,4.0,5.0,3.9,4.1,4.6,4.0,4.3,4.7,5.0,4.5,5.0,4.7,4.5,4.2,4.7,4.7,4.8,5.0,5.0,4.0,4.8,5.0,5.0,4.5,4.3,4.6,4.4,5.0,4.6,4.4,4.8,4.5,3.5,5.0,4.0,4.4,4.8,1.0,4.5,4.7,4.3,5.0,4.6,5.0,5.0,4.4,4.1,4.4,4.0,5.0,4.0,5.0,5.0,4.4,4.6,4.6,5.0,5.0,4.0,5.0,5.0,4.5,4.0,4.3,4.7,5.0,4.6,4.0,4.0,5.0,4.4,4.5,4.6,4.0,5.0,4.0,4.5,4.8,4.5,4.8,3.3,5.0,5.0,4.5,4.8,4.5,4.8,4.6,4.6,4.8,4.3,4.9,4.5,5.0,5.0,5.0,5.0,4.6,4.4,4.0,5.0,4.7,4.0,4.3,4.7,5.0,4.9,5.0,4.5,5.0,5.0,4.7,5.0,4.6,5.0,4.8,5.0,5.0,5.0,4.1,5.0,4.3,5.0,4.6,4.7,3.5,5.0,4.5,5.0,4.1,4.0,4.0,4.9,4.2,5.0,4.5,4.7,4.4,5.0,4.0,5.0,3.0,1.0,4.0,5.0,5.0,4.0,4.9,4.5,3.5,4.4,4.6,5.0,4.5,4.5,2.0,4.5,4.5,4.5,3.7,5.0,4.8,4.5,4.4,4.0,4.5,4.4,4.5,4.9,4.3,4.5,4.8,4.0,4.6,4.2,4.7,4.6,4.6,3.3,5.0,1.0,5.0,4.8,5.0,4.4,5.0,4.7,4.8,4.4,5.0,4.3,4.5,4.7,4.5,4.7,5.0,4.5,4.6,4.6,4.4,4.6,5.0,4.5,4.6,4.5,4.7,5.0,5.0,4.7,4.2,4.6,4.5,5.0,4.6,4.6,4.8,4.4,4.7,4.8,4.6,4.9,4.8,4.6,5.0,4.5,5.0,4.5,4.6,4.4,4.5,5.0,4.6,4.5,4.5,4.8,4.5,4.9,4.6,4.6,4.4,4.8,4.5,4.2,4.7,3.8,4.4,5.0,4.7,4.0,4.8,4.4,4.5,4.3,4.8,4.3,4.8,4.7,5.0,4.6,4.6,4.5,4.8,4.1,4.8,4.6,4.6,4.7,4.8,4.4,4.6,4.2,4.8,4.7,4.2,5.0,4.6,4.6,4.7,4.7,4.8,3.4,4.1,4.6,4.6,4.5,4.0,4.6,4.0,4.9,4.9,4.7,5.0,4.5,4.6,5.0,4.6,4.5,4.5,4.6,5.0,4.8,4.4,4.5,4.6,4.2,4.4,4.8,4.8,4.5,4.5,4.5,3.0,4.6,4.8,4.2,4.4,4.6,4.3,2.3,3.7,4.2,5.0,4.5,5.0,4.4,3.4,4.7,4.6,4.8,4.5,4.8,4.7,4.4,4.8,4.5,4.2,5.0,4.7,4.8,4.7,4.3,4.5,4.9,4.6,4.5,4.3,5.0,4.2,4.6,4.7,4.7,5.0,4.9,4.3,4.8,4.7,4.7,4.6,4.5,4.8,4.7,4.6,4.1,4.8,4.3,4.9,4.6,4.8,4.1,4.7,3.0,4.6,5.0,4.4,4.5,4.7,4.4,4.8,4.3,4.2,5.0,4.6,4.5,4.7,3.4,1.0,4.1,4.5,4.0,4.6,4.9,4.7,4.5,4.8,4.5,5.0,4.5,3.0,4.1,3.7,4.8,4.6,4.7,2.0,4.2,4.8,4.6,4.5,4.7,4.6,4.4,4.3,2.3,4.1,5.0,4.0,5.0,4.6,4.4,4.6,4.8,4.5,4.4,5.0,4.8,4.3,5.0,4.6,4.7,4.8,5.0,4.7,4.9,4.8,4.7,4.0,4.6],\"xaxis\":\"x\",\"y\":[61.9,26.0,70.5,35.6,36.5,36.5,28.7,32.9,50.9,35.7,55.9,46.7,52.7,51.1,56.9,46.6,44.8,58.8,52.4,33.6,30.1,34.5,52.9,60.5,39.9,48.6,66.1,37.6,21.9,31.4,42.9,50.3,46.7,59.8,36.9,43.8,42.6,37.2,27.6,24.1,36.5,35.0,65.6,41.0,29.5,63.7,66.2,51.3,61.0,53.2,49.1,49.7,76.3,29.5,39.3,59.5,62.6,72.0,34.9,49.4,60.2,67.8,24.1,54.8,57.5,37.9,32.9,42.4,67.9,81.1,51.3,36.7,31.7,73.5,43.8,48.2,80.2,41.0,37.7,38.8,39.8,70.4,38.1,49.5,49.4,36.1,29.4,25.8,56.0,72.5,56.5,81.0,53.8,53.2,47.0,73.7,33.0,32.7,53.8,62.4,36.9,20.5,54.7,36.2,41.8,60.2,52.3,97.8,39.3,56.7,70.3,35.8,52.7,33.0,66.2,63.9,29.3,64.6,43.0,25.8,22.5,53.5,60.5,60.4,74.0,53.6,37.9,59.1,36.5,39.8,32.0,51.6,24.0,46.0,38.2,60.0,44.6,67.6,32.7,51.8,68.5,42.9,39.8,53.4,51.5,39.9,34.9,43.3,31.2,55.4,29.0,67.8,62.6,22.3,56.4,63.4,56.5,37.9,48.2,51.9,52.0,30.0,42.6,52.3,64.0,69.8,99.4,45.1,54.4,75.0,24.2,63.9,81.2,43.2,48.0,65.8,41.5,97.7,65.3,62.6,56.9,41.6,42.9,36.1,46.7,36.6,30.7,49.5,95.6,24.1,31.9,31.2,44.9,28.6,30.7,46.1,55.1,61.9,52.3,44.2,42.8,66.0,62.0,50.8,47.6,58.2,33.5,51.9,88.3,27.3,40.5,22.5,61.5,60.2,36.9,40.8,47.1,36.5,26.7,50.3,54.6,63.5,43.2,25.2,38.9,40.4,52.1,29.9,61.3,37.8,41.5,37.9,72.0,97.1,44.5,72.3,59.1,43.7,35.2,48.7,28.6,45.0,78.4,35.4,36.6,21.4,59.4,39.3,76.8,48.2,30.7,56.2,79.2,47.5,51.0,55.3,44.3,91.1,56.5,83.9,33.5,39.5,44.4,21.3,29.1,57.6,70.6,39.0,57.6,56.3,41.3,45.6,51.6,27.2,41.4,38.8,38.2,52.0,45.7,32.9,24.2,33.5,36.1,66.8,50.2,46.2,56.5,50.2,67.9,67.6,65.2,58.0,55.9,32.5,77.3,70.8,30.8,51.4,52.9,49.5,49.4,39.3,37.6,39.9,55.4,28.3,52.0,57.3,39.6,61.8,81.3,33.6,31.5,33.7,37.8,42.6,43.7,29.1,40.9,26.8,46.4,55.3,34.4,51.6,60.6,49.2,58.9,31.7,48.5,51.1,55.8,47.7,52.9,59.3,53.4,45.4,33.4,27.6,50.2,40.8,67.6,33.7,29.7,63.7,46.4,20.6,64.9,34.2,60.4,33.4,50.2,32.9,37.0,77.0,32.9,56.6,50.2,27.2,30.3,51.8,70.3,24.6,55.4,44.2,44.1,54.1,31.3,64.3,46.2,38.2,38.0,56.7,83.8,36.7,88.5,58.4,52.9,53.5,40.4,60.5,34.4,45.2,78.0,36.0,43.1,96.1,53.9,53.6,45.8,33.3,46.4,32.1,35.6,71.8,44.1,62.7,32.4,40.8,48.4,37.6,33.9,52.4,46.7,47.4,28.3,52.9,53.8,46.3,32.4,53.7,26.7,66.0,63.6,52.1,31.7,32.5,36.0,36.4,51.6,70.9,34.4,88.0,28.0,54.4,31.7,65.1,62.7,44.9,84.8,23.0,42.1,45.9,67.4,42.7,39.3,33.4,83.3,36.2,29.0,27.7,40.4,33.0,84.8,67.9,41.0,74.0,34.2,71.0,91.7,37.1,39.0,36.2,53.6,45.5,58.6,79.1,64.5,36.5,33.2,33.3,65.4,75.7,28.3,66.5,28.2,48.9,51.5,24.1,43.6,46.6,24.6,55.6,94.7,65.6,87.9,44.3,81.2,53.8,56.5,36.0,39.7,38.0,37.7,58.1,33.8,26.6,60.1,35.3,47.5,24.6,99.4,40.0,35.5,45.8,40.2,86.8,75.2,33.1,79.0,29.7,53.1,47.8,75.0,32.8,90.5,40.0,47.6,46.2,76.8,45.8,31.8,76.7,51.3,32.1,51.7,57.2,37.8,46.3,70.1,23.1,38.1,48.6,27.2,55.9,55.5,34.4,46.3,63.4,43.9,33.7,48.8,25.1,76.4,27.6,49.5,51.3,58.5,85.9,27.8,39.1,36.3,45.8,27.9,84.0,63.6,51.7,49.9,65.4,41.0,69.1,63.2,49.2,29.9,41.4,97.8,30.3,36.0,33.3,56.3,28.0,42.7,88.9,44.1,45.5,62.4,43.6,40.6,43.6,48.6,37.8,32.7,42.6,46.3,62.2,36.3,38.9,54.2,75.9,50.5,40.4,23.6,75.9,58.3,33.2,79.6,58.7,64.6,51.3,40.8,91.0,22.1,28.3,24.7,51.0,56.3,30.3,43.6,55.7,77.1,45.0,48.4,49.3,48.0,51.7,37.8,49.1,34.6,64.5,23.9,57.9,35.2,43.9,46.9,21.4,36.1,47.4,58.9,36.3,28.1,23.5,46.0,44.5,40.5,39.0,52.1,60.3,48.3,27.2,34.1,57.8,35.0,29.0,31.1,44.2,39.8,59.3,51.3,26.6,34.5,77.9,70.8,40.2,58.8,35.6,49.0,54.2,56.8,42.2,60.0,23.1,30.6,20.5,39.8,87.9,32.4,59.6,46.8,27.8,61.1,28.2,52.1,60.6,40.8,26.6,54.3,27.9,39.8,44.0,29.9,30.2,57.3,70.0,49.0,32.7,56.3,48.1,55.3,38.6,61.7,22.1,48.4,40.8,46.1,38.8,93.4,61.1,34.6,39.3,43.9,60.4,34.0,39.0,31.2,29.0,29.4,51.2,37.0,33.5,69.7,34.6,60.0,34.5,31.0,45.1,48.1,77.9,38.2,41.5,37.7,24.3,58.8,45.5,49.0,29.0,35.8,60.0,26.6,44.7,39.5,39.8,35.8,33.1,47.1,24.7,61.1,66.6,43.0,26.6,54.3,55.8,43.5,30.2,49.5,58.2,57.3,37.8,99.0,57.5,56.3,34.9,39.6,35.0,39.1,48.1,63.3,53.3,51.0,30.5,38.6,61.7,49.2,60.7,40.8,46.1,37.4,34.1,84.8,93.4,48.4,31.7,62.7,45.3,33.6,70.3,39.3,47.0,28.7,46.9,60.4,55.1,38.5,31.2,52.4,28.7,36.1,26.5,79.0,49.5,41.4,46.7,70.3,40.1,73.7,28.6,53.8,51.2,31.4,40.4,32.9,37.0,32.3,40.4,69.7,39.0,31.0,54.0,37.9,37.6,52.2,24.8,41.5,27.0,96.1,31.8,35.1,33.1,24.0,44.1,24.3,40.7,45.5,34.5,27.1,29.0,34.4,57.6,35.8,44.7,39.5,27.2,44.1,35.8,40.7,79.6,34.5,54.2,27.1,34.5,33.8,41.0,33.1,28.1,47.1,22.5,66.6,55.8,42.0,28.6,58.2,37.8,67.6,99.0,60.3,39.6,35.0,63.3,53.3,30.5,55.6,60.7,37.4,35.2,51.0,47.8,27.1,49.5,48.4,53.8,54.5,31.7,76.4,34.1,70.3,60.5,46.9,38.5,52.4,28.7,29.7,41.4,77.1,49.1,20.4,46.7,73.7,28.6,36.3,40.4,40.4,39.0,54.0,54.4,41.5,40.9,60.5,27.0,33.1,44.1,40.7,34.5,61.1,27.1],\"yaxis\":\"y\",\"type\":\"scatter\"}],                        {\"template\":{\"data\":{\"histogram2dcontour\":[{\"type\":\"histogram2dcontour\",\"colorbar\":{\"outlinewidth\":0,\"ticks\":\"\"},\"colorscale\":[[0.0,\"#0d0887\"],[0.1111111111111111,\"#46039f\"],[0.2222222222222222,\"#7201a8\"],[0.3333333333333333,\"#9c179e\"],[0.4444444444444444,\"#bd3786\"],[0.5555555555555556,\"#d8576b\"],[0.6666666666666666,\"#ed7953\"],[0.7777777777777778,\"#fb9f3a\"],[0.8888888888888888,\"#fdca26\"],[1.0,\"#f0f921\"]]}],\"choropleth\":[{\"type\":\"choropleth\",\"colorbar\":{\"outlinewidth\":0,\"ticks\":\"\"}}],\"histogram2d\":[{\"type\":\"histogram2d\",\"colorbar\":{\"outlinewidth\":0,\"ticks\":\"\"},\"colorscale\":[[0.0,\"#0d0887\"],[0.1111111111111111,\"#46039f\"],[0.2222222222222222,\"#7201a8\"],[0.3333333333333333,\"#9c179e\"],[0.4444444444444444,\"#bd3786\"],[0.5555555555555556,\"#d8576b\"],[0.6666666666666666,\"#ed7953\"],[0.7777777777777778,\"#fb9f3a\"],[0.8888888888888888,\"#fdca26\"],[1.0,\"#f0f921\"]]}],\"heatmap\":[{\"type\":\"heatmap\",\"colorbar\":{\"outlinewidth\":0,\"ticks\":\"\"},\"colorscale\":[[0.0,\"#0d0887\"],[0.1111111111111111,\"#46039f\"],[0.2222222222222222,\"#7201a8\"],[0.3333333333333333,\"#9c179e\"],[0.4444444444444444,\"#bd3786\"],[0.5555555555555556,\"#d8576b\"],[0.6666666666666666,\"#ed7953\"],[0.7777777777777778,\"#fb9f3a\"],[0.8888888888888888,\"#fdca26\"],[1.0,\"#f0f921\"]]}],\"heatmapgl\":[{\"type\":\"heatmapgl\",\"colorbar\":{\"outlinewidth\":0,\"ticks\":\"\"},\"colorscale\":[[0.0,\"#0d0887\"],[0.1111111111111111,\"#46039f\"],[0.2222222222222222,\"#7201a8\"],[0.3333333333333333,\"#9c179e\"],[0.4444444444444444,\"#bd3786\"],[0.5555555555555556,\"#d8576b\"],[0.6666666666666666,\"#ed7953\"],[0.7777777777777778,\"#fb9f3a\"],[0.8888888888888888,\"#fdca26\"],[1.0,\"#f0f921\"]]}],\"contourcarpet\":[{\"type\":\"contourcarpet\",\"colorbar\":{\"outlinewidth\":0,\"ticks\":\"\"}}],\"contour\":[{\"type\":\"contour\",\"colorbar\":{\"outlinewidth\":0,\"ticks\":\"\"},\"colorscale\":[[0.0,\"#0d0887\"],[0.1111111111111111,\"#46039f\"],[0.2222222222222222,\"#7201a8\"],[0.3333333333333333,\"#9c179e\"],[0.4444444444444444,\"#bd3786\"],[0.5555555555555556,\"#d8576b\"],[0.6666666666666666,\"#ed7953\"],[0.7777777777777778,\"#fb9f3a\"],[0.8888888888888888,\"#fdca26\"],[1.0,\"#f0f921\"]]}],\"surface\":[{\"type\":\"surface\",\"colorbar\":{\"outlinewidth\":0,\"ticks\":\"\"},\"colorscale\":[[0.0,\"#0d0887\"],[0.1111111111111111,\"#46039f\"],[0.2222222222222222,\"#7201a8\"],[0.3333333333333333,\"#9c179e\"],[0.4444444444444444,\"#bd3786\"],[0.5555555555555556,\"#d8576b\"],[0.6666666666666666,\"#ed7953\"],[0.7777777777777778,\"#fb9f3a\"],[0.8888888888888888,\"#fdca26\"],[1.0,\"#f0f921\"]]}],\"mesh3d\":[{\"type\":\"mesh3d\",\"colorbar\":{\"outlinewidth\":0,\"ticks\":\"\"}}],\"scatter\":[{\"fillpattern\":{\"fillmode\":\"overlay\",\"size\":10,\"solidity\":0.2},\"type\":\"scatter\"}],\"parcoords\":[{\"type\":\"parcoords\",\"line\":{\"colorbar\":{\"outlinewidth\":0,\"ticks\":\"\"}}}],\"scatterpolargl\":[{\"type\":\"scatterpolargl\",\"marker\":{\"colorbar\":{\"outlinewidth\":0,\"ticks\":\"\"}}}],\"bar\":[{\"error_x\":{\"color\":\"#2a3f5f\"},\"error_y\":{\"color\":\"#2a3f5f\"},\"marker\":{\"line\":{\"color\":\"#E5ECF6\",\"width\":0.5},\"pattern\":{\"fillmode\":\"overlay\",\"size\":10,\"solidity\":0.2}},\"type\":\"bar\"}],\"scattergeo\":[{\"type\":\"scattergeo\",\"marker\":{\"colorbar\":{\"outlinewidth\":0,\"ticks\":\"\"}}}],\"scatterpolar\":[{\"type\":\"scatterpolar\",\"marker\":{\"colorbar\":{\"outlinewidth\":0,\"ticks\":\"\"}}}],\"histogram\":[{\"marker\":{\"pattern\":{\"fillmode\":\"overlay\",\"size\":10,\"solidity\":0.2}},\"type\":\"histogram\"}],\"scattergl\":[{\"type\":\"scattergl\",\"marker\":{\"colorbar\":{\"outlinewidth\":0,\"ticks\":\"\"}}}],\"scatter3d\":[{\"type\":\"scatter3d\",\"line\":{\"colorbar\":{\"outlinewidth\":0,\"ticks\":\"\"}},\"marker\":{\"colorbar\":{\"outlinewidth\":0,\"ticks\":\"\"}}}],\"scattermapbox\":[{\"type\":\"scattermapbox\",\"marker\":{\"colorbar\":{\"outlinewidth\":0,\"ticks\":\"\"}}}],\"scatterternary\":[{\"type\":\"scatterternary\",\"marker\":{\"colorbar\":{\"outlinewidth\":0,\"ticks\":\"\"}}}],\"scattercarpet\":[{\"type\":\"scattercarpet\",\"marker\":{\"colorbar\":{\"outlinewidth\":0,\"ticks\":\"\"}}}],\"carpet\":[{\"aaxis\":{\"endlinecolor\":\"#2a3f5f\",\"gridcolor\":\"white\",\"linecolor\":\"white\",\"minorgridcolor\":\"white\",\"startlinecolor\":\"#2a3f5f\"},\"baxis\":{\"endlinecolor\":\"#2a3f5f\",\"gridcolor\":\"white\",\"linecolor\":\"white\",\"minorgridcolor\":\"white\",\"startlinecolor\":\"#2a3f5f\"},\"type\":\"carpet\"}],\"table\":[{\"cells\":{\"fill\":{\"color\":\"#EBF0F8\"},\"line\":{\"color\":\"white\"}},\"header\":{\"fill\":{\"color\":\"#C8D4E3\"},\"line\":{\"color\":\"white\"}},\"type\":\"table\"}],\"barpolar\":[{\"marker\":{\"line\":{\"color\":\"#E5ECF6\",\"width\":0.5},\"pattern\":{\"fillmode\":\"overlay\",\"size\":10,\"solidity\":0.2}},\"type\":\"barpolar\"}],\"pie\":[{\"automargin\":true,\"type\":\"pie\"}]},\"layout\":{\"autotypenumbers\":\"strict\",\"colorway\":[\"#636efa\",\"#EF553B\",\"#00cc96\",\"#ab63fa\",\"#FFA15A\",\"#19d3f3\",\"#FF6692\",\"#B6E880\",\"#FF97FF\",\"#FECB52\"],\"font\":{\"color\":\"#2a3f5f\"},\"hovermode\":\"closest\",\"hoverlabel\":{\"align\":\"left\"},\"paper_bgcolor\":\"white\",\"plot_bgcolor\":\"#E5ECF6\",\"polar\":{\"bgcolor\":\"#E5ECF6\",\"angularaxis\":{\"gridcolor\":\"white\",\"linecolor\":\"white\",\"ticks\":\"\"},\"radialaxis\":{\"gridcolor\":\"white\",\"linecolor\":\"white\",\"ticks\":\"\"}},\"ternary\":{\"bgcolor\":\"#E5ECF6\",\"aaxis\":{\"gridcolor\":\"white\",\"linecolor\":\"white\",\"ticks\":\"\"},\"baxis\":{\"gridcolor\":\"white\",\"linecolor\":\"white\",\"ticks\":\"\"},\"caxis\":{\"gridcolor\":\"white\",\"linecolor\":\"white\",\"ticks\":\"\"}},\"coloraxis\":{\"colorbar\":{\"outlinewidth\":0,\"ticks\":\"\"}},\"colorscale\":{\"sequential\":[[0.0,\"#0d0887\"],[0.1111111111111111,\"#46039f\"],[0.2222222222222222,\"#7201a8\"],[0.3333333333333333,\"#9c179e\"],[0.4444444444444444,\"#bd3786\"],[0.5555555555555556,\"#d8576b\"],[0.6666666666666666,\"#ed7953\"],[0.7777777777777778,\"#fb9f3a\"],[0.8888888888888888,\"#fdca26\"],[1.0,\"#f0f921\"]],\"sequentialminus\":[[0.0,\"#0d0887\"],[0.1111111111111111,\"#46039f\"],[0.2222222222222222,\"#7201a8\"],[0.3333333333333333,\"#9c179e\"],[0.4444444444444444,\"#bd3786\"],[0.5555555555555556,\"#d8576b\"],[0.6666666666666666,\"#ed7953\"],[0.7777777777777778,\"#fb9f3a\"],[0.8888888888888888,\"#fdca26\"],[1.0,\"#f0f921\"]],\"diverging\":[[0,\"#8e0152\"],[0.1,\"#c51b7d\"],[0.2,\"#de77ae\"],[0.3,\"#f1b6da\"],[0.4,\"#fde0ef\"],[0.5,\"#f7f7f7\"],[0.6,\"#e6f5d0\"],[0.7,\"#b8e186\"],[0.8,\"#7fbc41\"],[0.9,\"#4d9221\"],[1,\"#276419\"]]},\"xaxis\":{\"gridcolor\":\"white\",\"linecolor\":\"white\",\"ticks\":\"\",\"title\":{\"standoff\":15},\"zerolinecolor\":\"white\",\"automargin\":true,\"zerolinewidth\":2},\"yaxis\":{\"gridcolor\":\"white\",\"linecolor\":\"white\",\"ticks\":\"\",\"title\":{\"standoff\":15},\"zerolinecolor\":\"white\",\"automargin\":true,\"zerolinewidth\":2},\"scene\":{\"xaxis\":{\"backgroundcolor\":\"#E5ECF6\",\"gridcolor\":\"white\",\"linecolor\":\"white\",\"showbackground\":true,\"ticks\":\"\",\"zerolinecolor\":\"white\",\"gridwidth\":2},\"yaxis\":{\"backgroundcolor\":\"#E5ECF6\",\"gridcolor\":\"white\",\"linecolor\":\"white\",\"showbackground\":true,\"ticks\":\"\",\"zerolinecolor\":\"white\",\"gridwidth\":2},\"zaxis\":{\"backgroundcolor\":\"#E5ECF6\",\"gridcolor\":\"white\",\"linecolor\":\"white\",\"showbackground\":true,\"ticks\":\"\",\"zerolinecolor\":\"white\",\"gridwidth\":2}},\"shapedefaults\":{\"line\":{\"color\":\"#2a3f5f\"}},\"annotationdefaults\":{\"arrowcolor\":\"#2a3f5f\",\"arrowhead\":0,\"arrowwidth\":1},\"geo\":{\"bgcolor\":\"white\",\"landcolor\":\"#E5ECF6\",\"subunitcolor\":\"white\",\"showland\":true,\"showlakes\":true,\"lakecolor\":\"white\"},\"title\":{\"x\":0.05},\"mapbox\":{\"style\":\"light\"}}},\"xaxis\":{\"anchor\":\"y\",\"domain\":[0.0,1.0],\"title\":{\"text\":\"Item Rating\"}},\"yaxis\":{\"anchor\":\"x\",\"domain\":[0.0,1.0],\"title\":{\"text\":\"Discount\"}},\"legend\":{\"tracegroupgap\":0},\"title\":{\"text\":\"Relationship Between Discount & item_rating\"}},                        {\"responsive\": true}                    ).then(function(){\n",
       "                            \n",
       "var gd = document.getElementById('6d5c0267-829c-477e-b65b-0bced6689003');\n",
       "var x = new MutationObserver(function (mutations, observer) {{\n",
       "        var display = window.getComputedStyle(gd).display;\n",
       "        if (!display || display === 'none') {{\n",
       "            console.log([gd, 'removed!']);\n",
       "            Plotly.purge(gd);\n",
       "            observer.disconnect();\n",
       "        }}\n",
       "}});\n",
       "\n",
       "// Listen for the removal of the full notebook cells\n",
       "var notebookContainer = gd.closest('#notebook-container');\n",
       "if (notebookContainer) {{\n",
       "    x.observe(notebookContainer, {childList: true});\n",
       "}}\n",
       "\n",
       "// Listen for the clearing of the current output cell\n",
       "var outputEl = gd.closest('.output');\n",
       "if (outputEl) {{\n",
       "    x.observe(outputEl, {childList: true});\n",
       "}}\n",
       "\n",
       "                        })                };                });            </script>        </div>"
      ]
     },
     "metadata": {},
     "output_type": "display_data"
    }
   ],
   "source": [
    "df2 = df1.copy()\n",
    "df2 = df1[df1['discount%'] < 100]\n",
    "fig = px.scatter(df2, x='item_rating' , y='discount%',title = \"Relationship Between Discount & item_rating\",color_discrete_sequence=px.colors.qualitative.Vivid,labels={'discount%':'Discount','item_rating':'Item Rating'} )\n",
    "fig.show()"
   ]
  },
  {
   "cell_type": "code",
   "execution_count": null,
   "id": "e36f4aa2",
   "metadata": {},
   "outputs": [],
   "source": []
  }
 ],
 "metadata": {
  "kernelspec": {
   "display_name": "Python 3 (ipykernel)",
   "language": "python",
   "name": "python3"
  },
  "language_info": {
   "codemirror_mode": {
    "name": "ipython",
    "version": 3
   },
   "file_extension": ".py",
   "mimetype": "text/x-python",
   "name": "python",
   "nbconvert_exporter": "python",
   "pygments_lexer": "ipython3",
   "version": "3.9.13"
  }
 },
 "nbformat": 4,
 "nbformat_minor": 5
}
