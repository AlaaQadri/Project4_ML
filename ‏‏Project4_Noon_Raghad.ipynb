{
 "cells": [
  {
   "cell_type": "markdown",
   "id": "fde3a783",
   "metadata": {},
   "source": [
    "## Import Libraries"
   ]
  },
  {
   "cell_type": "code",
   "execution_count": 1,
   "id": "2d9746be",
   "metadata": {},
   "outputs": [],
   "source": [
    "import pandas as pd \n",
    "import numpy as np \n",
    "import matplotlib.pyplot as plt \n",
    "import seaborn as sns\n",
    "import plotly.express as px\n",
    "%matplotlib inline\n",
    "# To ignore warnings\n",
    "import warnings\n",
    "warnings.filterwarnings(\"ignore\")"
   ]
  },
  {
   "cell_type": "markdown",
   "id": "b4e84163",
   "metadata": {},
   "source": [
    "## Read Dataset"
   ]
  },
  {
   "cell_type": "code",
   "execution_count": 2,
   "id": "867e9a40",
   "metadata": {},
   "outputs": [],
   "source": [
    "df1 = pd.read_csv(\"noon_perfumes_dataset.csv\")"
   ]
  },
  {
   "cell_type": "markdown",
   "id": "09078024",
   "metadata": {},
   "source": [
    "## EDA "
   ]
  },
  {
   "cell_type": "code",
   "execution_count": 3,
   "id": "26b2e2a9",
   "metadata": {},
   "outputs": [
    {
     "data": {
      "text/html": [
       "<div>\n",
       "<style scoped>\n",
       "    .dataframe tbody tr th:only-of-type {\n",
       "        vertical-align: middle;\n",
       "    }\n",
       "\n",
       "    .dataframe tbody tr th {\n",
       "        vertical-align: top;\n",
       "    }\n",
       "\n",
       "    .dataframe thead th {\n",
       "        text-align: right;\n",
       "    }\n",
       "</style>\n",
       "<table border=\"1\" class=\"dataframe\">\n",
       "  <thead>\n",
       "    <tr style=\"text-align: right;\">\n",
       "      <th></th>\n",
       "      <th>Unnamed: 0</th>\n",
       "      <th>brand</th>\n",
       "      <th>name</th>\n",
       "      <th>old_price</th>\n",
       "      <th>new_price</th>\n",
       "      <th>ml</th>\n",
       "      <th>concentration</th>\n",
       "      <th>department</th>\n",
       "      <th>scents</th>\n",
       "      <th>base_note</th>\n",
       "      <th>middle_note</th>\n",
       "      <th>item_rating</th>\n",
       "      <th>seller</th>\n",
       "      <th>seller_rating</th>\n",
       "      <th>num_seller_ratings</th>\n",
       "    </tr>\n",
       "  </thead>\n",
       "  <tbody>\n",
       "    <tr>\n",
       "      <th>0</th>\n",
       "      <td>0</td>\n",
       "      <td>PACO RABANNE</td>\n",
       "      <td>1 Million Lucky</td>\n",
       "      <td>395.0</td>\n",
       "      <td>244.55</td>\n",
       "      <td>100</td>\n",
       "      <td>EDT</td>\n",
       "      <td>Men</td>\n",
       "      <td>Woody</td>\n",
       "      <td>Oakmoss, Patchouli and Vetiver</td>\n",
       "      <td>Hazelnut, Jasmine, Cashmir Wood, Cedar and Honey</td>\n",
       "      <td>5.0</td>\n",
       "      <td>noon</td>\n",
       "      <td>4.2</td>\n",
       "      <td>98.1K</td>\n",
       "    </tr>\n",
       "    <tr>\n",
       "      <th>1</th>\n",
       "      <td>1</td>\n",
       "      <td>Roberto Cavalli</td>\n",
       "      <td>Paradiso Assoluto</td>\n",
       "      <td>415.0</td>\n",
       "      <td>107.95</td>\n",
       "      <td>50</td>\n",
       "      <td>EDP</td>\n",
       "      <td>Women</td>\n",
       "      <td>Floral</td>\n",
       "      <td>Vanilla, Sandalwood And Patchouli</td>\n",
       "      <td>Wild Jasmine and Red Lily</td>\n",
       "      <td>4.8</td>\n",
       "      <td>noon</td>\n",
       "      <td>4.2</td>\n",
       "      <td>98.1K</td>\n",
       "    </tr>\n",
       "    <tr>\n",
       "      <th>2</th>\n",
       "      <td>2</td>\n",
       "      <td>S.T.Dupont</td>\n",
       "      <td>Royal Amber</td>\n",
       "      <td>265.0</td>\n",
       "      <td>186.90</td>\n",
       "      <td>100</td>\n",
       "      <td>EDP</td>\n",
       "      <td>Unisex</td>\n",
       "      <td>Arabian</td>\n",
       "      <td>Lemon, Mint and Wood Moss</td>\n",
       "      <td>Sandalwood and Cedar</td>\n",
       "      <td>5.0</td>\n",
       "      <td>noon</td>\n",
       "      <td>4.2</td>\n",
       "      <td>98.1K</td>\n",
       "    </tr>\n",
       "    <tr>\n",
       "      <th>3</th>\n",
       "      <td>3</td>\n",
       "      <td>GUESS</td>\n",
       "      <td>Seductive Blue</td>\n",
       "      <td>290.0</td>\n",
       "      <td>103.20</td>\n",
       "      <td>100</td>\n",
       "      <td>EDT</td>\n",
       "      <td>Men</td>\n",
       "      <td>Spicy</td>\n",
       "      <td>Cashmere Wood, Moss And Rippled Sand Accord</td>\n",
       "      <td>Blue Coral Aquaspace Accord And Geranium</td>\n",
       "      <td>3.0</td>\n",
       "      <td>noon</td>\n",
       "      <td>4.2</td>\n",
       "      <td>98.1K</td>\n",
       "    </tr>\n",
       "    <tr>\n",
       "      <th>4</th>\n",
       "      <td>4</td>\n",
       "      <td>Roberto Cavalli</td>\n",
       "      <td>Uomo</td>\n",
       "      <td>260.0</td>\n",
       "      <td>94.95</td>\n",
       "      <td>50</td>\n",
       "      <td>EDP</td>\n",
       "      <td>Women</td>\n",
       "      <td>Arabian</td>\n",
       "      <td>Vanille, Benzoin, Tonka Bean</td>\n",
       "      <td>African Orange Flower</td>\n",
       "      <td>4.8</td>\n",
       "      <td>noon</td>\n",
       "      <td>4.2</td>\n",
       "      <td>98.1K</td>\n",
       "    </tr>\n",
       "  </tbody>\n",
       "</table>\n",
       "</div>"
      ],
      "text/plain": [
       "   Unnamed: 0            brand               name  old_price  new_price   ml  \\\n",
       "0           0     PACO RABANNE    1 Million Lucky      395.0     244.55  100   \n",
       "1           1  Roberto Cavalli  Paradiso Assoluto      415.0     107.95   50   \n",
       "2           2       S.T.Dupont        Royal Amber      265.0     186.90  100   \n",
       "3           3            GUESS     Seductive Blue      290.0     103.20  100   \n",
       "4           4  Roberto Cavalli               Uomo      260.0      94.95   50   \n",
       "\n",
       "  concentration department   scents  \\\n",
       "0           EDT        Men    Woody   \n",
       "1           EDP      Women   Floral   \n",
       "2           EDP     Unisex  Arabian   \n",
       "3           EDT        Men    Spicy   \n",
       "4           EDP      Women  Arabian   \n",
       "\n",
       "                                     base_note  \\\n",
       "0               Oakmoss, Patchouli and Vetiver   \n",
       "1            Vanilla, Sandalwood And Patchouli   \n",
       "2                    Lemon, Mint and Wood Moss   \n",
       "3  Cashmere Wood, Moss And Rippled Sand Accord   \n",
       "4                 Vanille, Benzoin, Tonka Bean   \n",
       "\n",
       "                                        middle_note  item_rating seller  \\\n",
       "0  Hazelnut, Jasmine, Cashmir Wood, Cedar and Honey          5.0   noon   \n",
       "1                         Wild Jasmine and Red Lily          4.8   noon   \n",
       "2                              Sandalwood and Cedar          5.0   noon   \n",
       "3          Blue Coral Aquaspace Accord And Geranium          3.0   noon   \n",
       "4                             African Orange Flower          4.8   noon   \n",
       "\n",
       "   seller_rating num_seller_ratings  \n",
       "0            4.2              98.1K  \n",
       "1            4.2              98.1K  \n",
       "2            4.2              98.1K  \n",
       "3            4.2              98.1K  \n",
       "4            4.2              98.1K  "
      ]
     },
     "execution_count": 3,
     "metadata": {},
     "output_type": "execute_result"
    }
   ],
   "source": [
    "df1.head()"
   ]
  },
  {
   "cell_type": "code",
   "execution_count": 4,
   "id": "3b51b781",
   "metadata": {},
   "outputs": [
    {
     "data": {
      "text/plain": [
       "(1003, 15)"
      ]
     },
     "execution_count": 4,
     "metadata": {},
     "output_type": "execute_result"
    }
   ],
   "source": [
    "df1.shape"
   ]
  },
  {
   "cell_type": "code",
   "execution_count": 5,
   "id": "1f787125",
   "metadata": {},
   "outputs": [
    {
     "data": {
      "text/html": [
       "<div>\n",
       "<style scoped>\n",
       "    .dataframe tbody tr th:only-of-type {\n",
       "        vertical-align: middle;\n",
       "    }\n",
       "\n",
       "    .dataframe tbody tr th {\n",
       "        vertical-align: top;\n",
       "    }\n",
       "\n",
       "    .dataframe thead th {\n",
       "        text-align: right;\n",
       "    }\n",
       "</style>\n",
       "<table border=\"1\" class=\"dataframe\">\n",
       "  <thead>\n",
       "    <tr style=\"text-align: right;\">\n",
       "      <th></th>\n",
       "      <th>Unnamed: 0</th>\n",
       "      <th>old_price</th>\n",
       "      <th>new_price</th>\n",
       "      <th>ml</th>\n",
       "      <th>item_rating</th>\n",
       "      <th>seller_rating</th>\n",
       "    </tr>\n",
       "  </thead>\n",
       "  <tbody>\n",
       "    <tr>\n",
       "      <th>count</th>\n",
       "      <td>1003.000000</td>\n",
       "      <td>1003.000000</td>\n",
       "      <td>1003.000000</td>\n",
       "      <td>1003.000000</td>\n",
       "      <td>1003.000000</td>\n",
       "      <td>1003.000000</td>\n",
       "    </tr>\n",
       "    <tr>\n",
       "      <th>mean</th>\n",
       "      <td>501.000000</td>\n",
       "      <td>321.176022</td>\n",
       "      <td>149.574307</td>\n",
       "      <td>92.862413</td>\n",
       "      <td>4.530907</td>\n",
       "      <td>14.143170</td>\n",
       "    </tr>\n",
       "    <tr>\n",
       "      <th>std</th>\n",
       "      <td>289.685462</td>\n",
       "      <td>234.195846</td>\n",
       "      <td>108.686013</td>\n",
       "      <td>27.496053</td>\n",
       "      <td>0.555504</td>\n",
       "      <td>64.706572</td>\n",
       "    </tr>\n",
       "    <tr>\n",
       "      <th>min</th>\n",
       "      <td>0.000000</td>\n",
       "      <td>5.350000</td>\n",
       "      <td>5.350000</td>\n",
       "      <td>1.000000</td>\n",
       "      <td>1.000000</td>\n",
       "      <td>3.500000</td>\n",
       "    </tr>\n",
       "    <tr>\n",
       "      <th>25%</th>\n",
       "      <td>250.500000</td>\n",
       "      <td>140.500000</td>\n",
       "      <td>80.325000</td>\n",
       "      <td>80.000000</td>\n",
       "      <td>4.400000</td>\n",
       "      <td>3.800000</td>\n",
       "    </tr>\n",
       "    <tr>\n",
       "      <th>50%</th>\n",
       "      <td>501.000000</td>\n",
       "      <td>310.000000</td>\n",
       "      <td>135.000000</td>\n",
       "      <td>100.000000</td>\n",
       "      <td>4.600000</td>\n",
       "      <td>3.900000</td>\n",
       "    </tr>\n",
       "    <tr>\n",
       "      <th>75%</th>\n",
       "      <td>751.500000</td>\n",
       "      <td>455.000000</td>\n",
       "      <td>198.525000</td>\n",
       "      <td>100.000000</td>\n",
       "      <td>5.000000</td>\n",
       "      <td>4.200000</td>\n",
       "    </tr>\n",
       "    <tr>\n",
       "      <th>max</th>\n",
       "      <td>1002.000000</td>\n",
       "      <td>2350.000000</td>\n",
       "      <td>904.850000</td>\n",
       "      <td>200.000000</td>\n",
       "      <td>5.000000</td>\n",
       "      <td>454.000000</td>\n",
       "    </tr>\n",
       "  </tbody>\n",
       "</table>\n",
       "</div>"
      ],
      "text/plain": [
       "        Unnamed: 0    old_price    new_price           ml  item_rating  \\\n",
       "count  1003.000000  1003.000000  1003.000000  1003.000000  1003.000000   \n",
       "mean    501.000000   321.176022   149.574307    92.862413     4.530907   \n",
       "std     289.685462   234.195846   108.686013    27.496053     0.555504   \n",
       "min       0.000000     5.350000     5.350000     1.000000     1.000000   \n",
       "25%     250.500000   140.500000    80.325000    80.000000     4.400000   \n",
       "50%     501.000000   310.000000   135.000000   100.000000     4.600000   \n",
       "75%     751.500000   455.000000   198.525000   100.000000     5.000000   \n",
       "max    1002.000000  2350.000000   904.850000   200.000000     5.000000   \n",
       "\n",
       "       seller_rating  \n",
       "count    1003.000000  \n",
       "mean       14.143170  \n",
       "std        64.706572  \n",
       "min         3.500000  \n",
       "25%         3.800000  \n",
       "50%         3.900000  \n",
       "75%         4.200000  \n",
       "max       454.000000  "
      ]
     },
     "execution_count": 5,
     "metadata": {},
     "output_type": "execute_result"
    }
   ],
   "source": [
    "df1.describe()"
   ]
  },
  {
   "cell_type": "code",
   "execution_count": 6,
   "id": "1e2e1c98",
   "metadata": {},
   "outputs": [
    {
     "name": "stdout",
     "output_type": "stream",
     "text": [
      "<class 'pandas.core.frame.DataFrame'>\n",
      "RangeIndex: 1003 entries, 0 to 1002\n",
      "Data columns (total 15 columns):\n",
      " #   Column              Non-Null Count  Dtype  \n",
      "---  ------              --------------  -----  \n",
      " 0   Unnamed: 0          1003 non-null   int64  \n",
      " 1   brand               1003 non-null   object \n",
      " 2   name                1003 non-null   object \n",
      " 3   old_price           1003 non-null   float64\n",
      " 4   new_price           1003 non-null   float64\n",
      " 5   ml                  1003 non-null   int64  \n",
      " 6   concentration       1003 non-null   object \n",
      " 7   department          1003 non-null   object \n",
      " 8   scents              1003 non-null   object \n",
      " 9   base_note           1003 non-null   object \n",
      " 10  middle_note         1003 non-null   object \n",
      " 11  item_rating         1003 non-null   float64\n",
      " 12  seller              1003 non-null   object \n",
      " 13  seller_rating       1003 non-null   float64\n",
      " 14  num_seller_ratings  1003 non-null   object \n",
      "dtypes: float64(4), int64(2), object(9)\n",
      "memory usage: 117.7+ KB\n"
     ]
    }
   ],
   "source": [
    "df1.info()"
   ]
  },
  {
   "cell_type": "code",
   "execution_count": 7,
   "id": "9be5f3ea",
   "metadata": {},
   "outputs": [],
   "source": [
    "# df1['num_seller_ratings']"
   ]
  },
  {
   "cell_type": "code",
   "execution_count": 8,
   "id": "f5f4da6d",
   "metadata": {},
   "outputs": [],
   "source": [
    "df1.drop('Unnamed: 0', axis=1, inplace=True)"
   ]
  },
  {
   "cell_type": "code",
   "execution_count": 9,
   "id": "86b74dcc",
   "metadata": {},
   "outputs": [
    {
     "data": {
      "text/plain": [
       "Index(['brand', 'name', 'old_price', 'new_price', 'ml', 'concentration',\n",
       "       'department', 'scents', 'base_note', 'middle_note', 'item_rating',\n",
       "       'seller', 'seller_rating', 'num_seller_ratings'],\n",
       "      dtype='object')"
      ]
     },
     "execution_count": 9,
     "metadata": {},
     "output_type": "execute_result"
    }
   ],
   "source": [
    "df1.columns"
   ]
  },
  {
   "cell_type": "code",
   "execution_count": 10,
   "id": "44a17e9d",
   "metadata": {},
   "outputs": [
    {
     "data": {
      "text/plain": [
       "Women     503\n",
       "Men       433\n",
       "Unisex     67\n",
       "Name: department, dtype: int64"
      ]
     },
     "execution_count": 10,
     "metadata": {},
     "output_type": "execute_result"
    }
   ],
   "source": [
    "df1['department'].replace({'Kids Unisex':'Unisex'},inplace=True)\n",
    "df1['department'].value_counts()"
   ]
  },
  {
   "cell_type": "code",
   "execution_count": 11,
   "id": "9ea2cc54",
   "metadata": {},
   "outputs": [
    {
     "data": {
      "text/plain": [
       "Calvin Klein         44\n",
       "BURBERRY             39\n",
       "HUGO BOSS            36\n",
       "Roberto Cavalli      34\n",
       "DORALL COLLECTION    32\n",
       "                     ..\n",
       "Laura Biagiotti       1\n",
       "HOUBIGANT             1\n",
       "NICOLAI               1\n",
       "marbert man           1\n",
       "Mariah Carey          1\n",
       "Name: brand, Length: 160, dtype: int64"
      ]
     },
     "execution_count": 11,
     "metadata": {},
     "output_type": "execute_result"
    }
   ],
   "source": [
    "df1['brand'].value_counts()"
   ]
  },
  {
   "cell_type": "code",
   "execution_count": 12,
   "id": "319c207e",
   "metadata": {},
   "outputs": [
    {
     "name": "stdout",
     "output_type": "stream",
     "text": [
      "Roses Vanille       8\n",
      "Pour Homme          8\n",
      "Uomo                8\n",
      "Eros                8\n",
      "Homme               8\n",
      "                   ..\n",
      "Guilty Intense      1\n",
      "Mon Florale         1\n",
      "Live Luxe           1\n",
      "Secret De Rochas    1\n",
      "Layali CPO At       1\n",
      "Name: name, Length: 594, dtype: int64\n"
     ]
    },
    {
     "data": {
      "text/plain": [
       "roses vanille             8\n",
       "uomo                      8\n",
       "pour homme                8\n",
       "homme                     8\n",
       "eros                      8\n",
       "                         ..\n",
       "milano infusion d'iris    1\n",
       "guilty intense            1\n",
       "mon florale               1\n",
       "live luxe                 1\n",
       "layali cpo at             1\n",
       "Name: name, Length: 589, dtype: int64"
      ]
     },
     "execution_count": 12,
     "metadata": {},
     "output_type": "execute_result"
    }
   ],
   "source": [
    "nn='name'\n",
    "print(df1[nn].value_counts())\n",
    "\n",
    "df1[nn]=df1[nn].apply(lambda x:x.lower())\n",
    "df1[nn].value_counts()"
   ]
  },
  {
   "cell_type": "code",
   "execution_count": 13,
   "id": "43350749",
   "metadata": {},
   "outputs": [],
   "source": [
    "# nn='seller'\n",
    "# print(df1[nn].value_counts())\n",
    "\n",
    "# df1[nn]=df1[nn].apply(lambda x:x.lower())\n",
    "# df1[nn].value_counts()"
   ]
  },
  {
   "cell_type": "code",
   "execution_count": 14,
   "id": "b2978d11",
   "metadata": {},
   "outputs": [],
   "source": [
    "df1['seller'].replace({'Swiss Arabian PerfumesPRICE UPDATE WITH 15% VAT 1 JULY 2020':'Swiss Arabian'},inplace=True)\n"
   ]
  },
  {
   "cell_type": "code",
   "execution_count": 15,
   "id": "4c1239d4",
   "metadata": {},
   "outputs": [
    {
     "data": {
      "text/plain": [
       "noon             277\n",
       "AMLAQ             92\n",
       "hadayiq baris     52\n",
       "Star.perfume      45\n",
       "B.A.G             29\n",
       "                ... \n",
       "Luxury             1\n",
       "Nuna               1\n",
       "original           1\n",
       "Dary.Dar           1\n",
       "Swiss Arabian      1\n",
       "Name: seller, Length: 117, dtype: int64"
      ]
     },
     "execution_count": 15,
     "metadata": {},
     "output_type": "execute_result"
    }
   ],
   "source": [
    "df1['seller'].value_counts()"
   ]
  },
  {
   "cell_type": "markdown",
   "id": "3805054d",
   "metadata": {},
   "source": [
    "### Add new columns"
   ]
  },
  {
   "cell_type": "code",
   "execution_count": 16,
   "id": "d0d4a7ec",
   "metadata": {},
   "outputs": [
    {
     "data": {
      "text/html": [
       "<div>\n",
       "<style scoped>\n",
       "    .dataframe tbody tr th:only-of-type {\n",
       "        vertical-align: middle;\n",
       "    }\n",
       "\n",
       "    .dataframe tbody tr th {\n",
       "        vertical-align: top;\n",
       "    }\n",
       "\n",
       "    .dataframe thead th {\n",
       "        text-align: right;\n",
       "    }\n",
       "</style>\n",
       "<table border=\"1\" class=\"dataframe\">\n",
       "  <thead>\n",
       "    <tr style=\"text-align: right;\">\n",
       "      <th></th>\n",
       "      <th>brand</th>\n",
       "      <th>name</th>\n",
       "      <th>old_price</th>\n",
       "      <th>new_price</th>\n",
       "      <th>ml</th>\n",
       "      <th>concentration</th>\n",
       "      <th>department</th>\n",
       "      <th>scents</th>\n",
       "      <th>base_note</th>\n",
       "      <th>middle_note</th>\n",
       "      <th>item_rating</th>\n",
       "      <th>seller</th>\n",
       "      <th>seller_rating</th>\n",
       "      <th>num_seller_ratings</th>\n",
       "      <th>discount%</th>\n",
       "      <th>discount_price</th>\n",
       "      <th>price/ml</th>\n",
       "    </tr>\n",
       "  </thead>\n",
       "  <tbody>\n",
       "    <tr>\n",
       "      <th>0</th>\n",
       "      <td>PACO RABANNE</td>\n",
       "      <td>1 million lucky</td>\n",
       "      <td>395.0</td>\n",
       "      <td>244.55</td>\n",
       "      <td>100</td>\n",
       "      <td>EDT</td>\n",
       "      <td>Men</td>\n",
       "      <td>Woody</td>\n",
       "      <td>Oakmoss, Patchouli and Vetiver</td>\n",
       "      <td>Hazelnut, Jasmine, Cashmir Wood, Cedar and Honey</td>\n",
       "      <td>5.0</td>\n",
       "      <td>noon</td>\n",
       "      <td>4.2</td>\n",
       "      <td>98.1K</td>\n",
       "      <td>38.1</td>\n",
       "      <td>150.4</td>\n",
       "      <td>2.4</td>\n",
       "    </tr>\n",
       "    <tr>\n",
       "      <th>1</th>\n",
       "      <td>Roberto Cavalli</td>\n",
       "      <td>paradiso assoluto</td>\n",
       "      <td>415.0</td>\n",
       "      <td>107.95</td>\n",
       "      <td>50</td>\n",
       "      <td>EDP</td>\n",
       "      <td>Women</td>\n",
       "      <td>Floral</td>\n",
       "      <td>Vanilla, Sandalwood And Patchouli</td>\n",
       "      <td>Wild Jasmine and Red Lily</td>\n",
       "      <td>4.8</td>\n",
       "      <td>noon</td>\n",
       "      <td>4.2</td>\n",
       "      <td>98.1K</td>\n",
       "      <td>74.0</td>\n",
       "      <td>307.0</td>\n",
       "      <td>2.2</td>\n",
       "    </tr>\n",
       "    <tr>\n",
       "      <th>2</th>\n",
       "      <td>S.T.Dupont</td>\n",
       "      <td>royal amber</td>\n",
       "      <td>265.0</td>\n",
       "      <td>186.90</td>\n",
       "      <td>100</td>\n",
       "      <td>EDP</td>\n",
       "      <td>Unisex</td>\n",
       "      <td>Arabian</td>\n",
       "      <td>Lemon, Mint and Wood Moss</td>\n",
       "      <td>Sandalwood and Cedar</td>\n",
       "      <td>5.0</td>\n",
       "      <td>noon</td>\n",
       "      <td>4.2</td>\n",
       "      <td>98.1K</td>\n",
       "      <td>29.5</td>\n",
       "      <td>78.1</td>\n",
       "      <td>1.9</td>\n",
       "    </tr>\n",
       "    <tr>\n",
       "      <th>3</th>\n",
       "      <td>GUESS</td>\n",
       "      <td>seductive blue</td>\n",
       "      <td>290.0</td>\n",
       "      <td>103.20</td>\n",
       "      <td>100</td>\n",
       "      <td>EDT</td>\n",
       "      <td>Men</td>\n",
       "      <td>Spicy</td>\n",
       "      <td>Cashmere Wood, Moss And Rippled Sand Accord</td>\n",
       "      <td>Blue Coral Aquaspace Accord And Geranium</td>\n",
       "      <td>3.0</td>\n",
       "      <td>noon</td>\n",
       "      <td>4.2</td>\n",
       "      <td>98.1K</td>\n",
       "      <td>64.4</td>\n",
       "      <td>186.8</td>\n",
       "      <td>1.0</td>\n",
       "    </tr>\n",
       "    <tr>\n",
       "      <th>4</th>\n",
       "      <td>Roberto Cavalli</td>\n",
       "      <td>uomo</td>\n",
       "      <td>260.0</td>\n",
       "      <td>94.95</td>\n",
       "      <td>50</td>\n",
       "      <td>EDP</td>\n",
       "      <td>Women</td>\n",
       "      <td>Arabian</td>\n",
       "      <td>Vanille, Benzoin, Tonka Bean</td>\n",
       "      <td>African Orange Flower</td>\n",
       "      <td>4.8</td>\n",
       "      <td>noon</td>\n",
       "      <td>4.2</td>\n",
       "      <td>98.1K</td>\n",
       "      <td>63.5</td>\n",
       "      <td>165.0</td>\n",
       "      <td>1.9</td>\n",
       "    </tr>\n",
       "  </tbody>\n",
       "</table>\n",
       "</div>"
      ],
      "text/plain": [
       "             brand               name  old_price  new_price   ml  \\\n",
       "0     PACO RABANNE    1 million lucky      395.0     244.55  100   \n",
       "1  Roberto Cavalli  paradiso assoluto      415.0     107.95   50   \n",
       "2       S.T.Dupont        royal amber      265.0     186.90  100   \n",
       "3            GUESS     seductive blue      290.0     103.20  100   \n",
       "4  Roberto Cavalli               uomo      260.0      94.95   50   \n",
       "\n",
       "  concentration department   scents  \\\n",
       "0           EDT        Men    Woody   \n",
       "1           EDP      Women   Floral   \n",
       "2           EDP     Unisex  Arabian   \n",
       "3           EDT        Men    Spicy   \n",
       "4           EDP      Women  Arabian   \n",
       "\n",
       "                                     base_note  \\\n",
       "0               Oakmoss, Patchouli and Vetiver   \n",
       "1            Vanilla, Sandalwood And Patchouli   \n",
       "2                    Lemon, Mint and Wood Moss   \n",
       "3  Cashmere Wood, Moss And Rippled Sand Accord   \n",
       "4                 Vanille, Benzoin, Tonka Bean   \n",
       "\n",
       "                                        middle_note  item_rating seller  \\\n",
       "0  Hazelnut, Jasmine, Cashmir Wood, Cedar and Honey          5.0   noon   \n",
       "1                         Wild Jasmine and Red Lily          4.8   noon   \n",
       "2                              Sandalwood and Cedar          5.0   noon   \n",
       "3          Blue Coral Aquaspace Accord And Geranium          3.0   noon   \n",
       "4                             African Orange Flower          4.8   noon   \n",
       "\n",
       "   seller_rating num_seller_ratings  discount%  discount_price  price/ml  \n",
       "0            4.2              98.1K       38.1           150.4       2.4  \n",
       "1            4.2              98.1K       74.0           307.0       2.2  \n",
       "2            4.2              98.1K       29.5            78.1       1.9  \n",
       "3            4.2              98.1K       64.4           186.8       1.0  \n",
       "4            4.2              98.1K       63.5           165.0       1.9  "
      ]
     },
     "execution_count": 16,
     "metadata": {},
     "output_type": "execute_result"
    }
   ],
   "source": [
    "df1['discount%']=np.round(100 - (df1['new_price']/df1['old_price']*100),decimals=1)\n",
    "df1['discount_price']=np.round((df1['old_price']-df1['new_price']),decimals=1)\n",
    "df1['price/ml']=np.round((df1['new_price']/df1['ml']),decimals=1)\n",
    "df1.head()"
   ]
  },
  {
   "cell_type": "code",
   "execution_count": 17,
   "id": "1303c04c",
   "metadata": {},
   "outputs": [
    {
     "data": {
      "text/plain": [
       "Index(['brand', 'name', 'old_price', 'new_price', 'ml', 'concentration',\n",
       "       'department', 'scents', 'base_note', 'middle_note', 'item_rating',\n",
       "       'seller', 'seller_rating', 'num_seller_ratings', 'discount%',\n",
       "       'discount_price', 'price/ml'],\n",
       "      dtype='object')"
      ]
     },
     "execution_count": 17,
     "metadata": {},
     "output_type": "execute_result"
    }
   ],
   "source": [
    "df1.columns"
   ]
  },
  {
   "cell_type": "code",
   "execution_count": 18,
   "id": "ce21455b",
   "metadata": {},
   "outputs": [
    {
     "data": {
      "text/plain": [
       "brand                 0\n",
       "name                  0\n",
       "old_price             0\n",
       "new_price             0\n",
       "ml                    0\n",
       "concentration         0\n",
       "department            0\n",
       "scents                0\n",
       "base_note             0\n",
       "middle_note           0\n",
       "item_rating           0\n",
       "seller                0\n",
       "seller_rating         0\n",
       "num_seller_ratings    0\n",
       "discount%             0\n",
       "discount_price        0\n",
       "price/ml              0\n",
       "dtype: int64"
      ]
     },
     "execution_count": 18,
     "metadata": {},
     "output_type": "execute_result"
    }
   ],
   "source": [
    "df1.isnull().sum()"
   ]
  },
  {
   "cell_type": "code",
   "execution_count": 19,
   "id": "b103cce6",
   "metadata": {},
   "outputs": [
    {
     "data": {
      "text/plain": [
       "['roses vanille',\n",
       " 'uomo',\n",
       " 'pour homme',\n",
       " 'homme',\n",
       " 'eros',\n",
       " 'encre noire',\n",
       " 'marciano',\n",
       " 'essence pure',\n",
       " 'paradiso assoluto',\n",
       " 'london',\n",
       " 'passenger',\n",
       " 'sauvage',\n",
       " 'beauty',\n",
       " 'dylan blue',\n",
       " 'sacrifice',\n",
       " 'pour femme',\n",
       " 'crystal noir',\n",
       " 'the one',\n",
       " 'ck one',\n",
       " 'cool water',\n",
       " 'one shock',\n",
       " 'legend',\n",
       " 'scandal',\n",
       " 'private collection',\n",
       " '212 vip',\n",
       " 'florence',\n",
       " 'stronger with you',\n",
       " 'good girl',\n",
       " 'burberry body',\n",
       " '212 sexy',\n",
       " 'dare',\n",
       " 'emblem',\n",
       " 'guilty absolute',\n",
       " 'narciso rodriguez',\n",
       " 'the scent',\n",
       " 'my burberry',\n",
       " 'petits et mamans',\n",
       " 'love story',\n",
       " 'bleu de chanel',\n",
       " \"l'homme\",\n",
       " 'euphoria',\n",
       " 'just cavalli',\n",
       " 'desire',\n",
       " 'floral',\n",
       " 'shuhrah',\n",
       " \"3 l'imperatrice\",\n",
       " 'scuderia red',\n",
       " 'boss the scent',\n",
       " 'happy spirit',\n",
       " 'creation',\n",
       " 'explorer',\n",
       " 'cabotine',\n",
       " 'plaisir',\n",
       " 'hot',\n",
       " 'black opium',\n",
       " 'dupont',\n",
       " 'xeryus rouge',\n",
       " 'essential',\n",
       " 'declaration',\n",
       " 'classic black',\n",
       " 'rouat al oud',\n",
       " 'the game',\n",
       " 'la vie est belle',\n",
       " 'ma vie',\n",
       " 'mr. burberry',\n",
       " 'bloom nettare di fiori',\n",
       " 'furiosa',\n",
       " \"l'interdit\",\n",
       " 'first',\n",
       " 'fantasy',\n",
       " 'l.12.12 blanc',\n",
       " 'quatre',\n",
       " 'chrome',\n",
       " 'paradiso azzurro',\n",
       " 'for women edp natural sp',\n",
       " 'musk cologne sp',\n",
       " 'l.12.12 blanc-pure',\n",
       " 'black',\n",
       " 'still',\n",
       " 'femme',\n",
       " 'sheikh al shuyukh',\n",
       " 'guilty',\n",
       " 'lacoste',\n",
       " 'plus plus masculine',\n",
       " 'k',\n",
       " 'hugo',\n",
       " 'bright crystal',\n",
       " 'eternity',\n",
       " 'nero assoluto',\n",
       " 'escape',\n",
       " 'bloom',\n",
       " 'invictus',\n",
       " 'man in black',\n",
       " 'chloe',\n",
       " 'esencia',\n",
       " 'lady emblem',\n",
       " 'jimmy',\n",
       " 'in white',\n",
       " 'pandora',\n",
       " 'amber intense',\n",
       " 'seductive',\n",
       " 'hawaii london',\n",
       " 'lotus flower aromatic par',\n",
       " 'open',\n",
       " 'beautiful',\n",
       " 'sculpture homme',\n",
       " 'intenso',\n",
       " 'my burberry bl',\n",
       " 'man pure',\n",
       " 'my burberry blush',\n",
       " '1 million lucky',\n",
       " 'custom',\n",
       " 'new york',\n",
       " 'the only one 2',\n",
       " 'eternally hot',\n",
       " '1029 collection',\n",
       " 'jaguar',\n",
       " 'velvet oud',\n",
       " 'habit rouge',\n",
       " 'ultraviolet',\n",
       " 'white linen',\n",
       " 'declaration essence',\n",
       " 'for ever',\n",
       " 'esencia pour homme',\n",
       " 'bottled night',\n",
       " 'legend spirit',\n",
       " 'allure homme sport edt for',\n",
       " 'aqva marine pour homme',\n",
       " 'si',\n",
       " 'flora',\n",
       " 'oud sharqia',\n",
       " 'place vendome',\n",
       " 'red tobacco',\n",
       " 'brown',\n",
       " 'lancy',\n",
       " 'miracle',\n",
       " 'rose greedy',\n",
       " 'extreme',\n",
       " 'classic blue',\n",
       " 'pink hearts',\n",
       " 'narciso rodriguez for her',\n",
       " 'pasha edition noir',\n",
       " 'the dreamer',\n",
       " 'mademoiselle ricci',\n",
       " 'coco mademoiselle',\n",
       " 'magnetism',\n",
       " 'silver scent',\n",
       " 'man in red',\n",
       " 'oud al-mubakhar',\n",
       " 'body',\n",
       " 'wisal',\n",
       " 'the beat',\n",
       " 'gold',\n",
       " 'reveal',\n",
       " '1 million',\n",
       " 'boss',\n",
       " 'nuit',\n",
       " 'chrome legend',\n",
       " 'oud mood',\n",
       " 'ideal',\n",
       " 'acqua di gio',\n",
       " 'white diamonds',\n",
       " 'adventure',\n",
       " 'eau de lacoste l. 12.12 noir',\n",
       " 'premier jour',\n",
       " 'desire blue',\n",
       " 'body kouros',\n",
       " 'bloom aqua di fiori',\n",
       " 'tomorrow',\n",
       " 'paradiso azzuro',\n",
       " 'oud wood',\n",
       " 'premium',\n",
       " 'al wisam day',\n",
       " 'daisy eau so fresh',\n",
       " 'nude natural spray colo',\n",
       " 'hot water',\n",
       " '5th avenue',\n",
       " 'ana abiyedh leather',\n",
       " 'si passione edp for wo',\n",
       " 'monsieur oud',\n",
       " 'lady million',\n",
       " 'burberry body intense',\n",
       " 'idylle',\n",
       " 'ck be',\n",
       " 'oud maaruf',\n",
       " 'raindrops',\n",
       " 'cold',\n",
       " 'en joy',\n",
       " 'tommy',\n",
       " \"l'instant magic\",\n",
       " 'brit rhythm intense',\n",
       " 'white musk',\n",
       " 'addict',\n",
       " 'romance',\n",
       " 'modern muse',\n",
       " 'bottled unlimited',\n",
       " 'emotion',\n",
       " 'sheikh shuyukh',\n",
       " 'ameer al oud khususi',\n",
       " 'blue',\n",
       " 'eau pour homme reno 2013',\n",
       " 'bamboo',\n",
       " 'touch of pink',\n",
       " 'tommy girl',\n",
       " 'eau de lacoste',\n",
       " 'oud touch',\n",
       " 'cavalli',\n",
       " 'visit',\n",
       " 'grey flannel',\n",
       " 'dc',\n",
       " 'rouat al musk',\n",
       " 'sheer beauty',\n",
       " 'obsession',\n",
       " 'girl of now',\n",
       " 'one million',\n",
       " 'intense euphoria',\n",
       " 'euphoria intense',\n",
       " 'women',\n",
       " 'london burberry',\n",
       " 'la panthere',\n",
       " 'zino',\n",
       " 'anfas aloud',\n",
       " \"terre d' hermes\",\n",
       " 'live',\n",
       " 'my name',\n",
       " 'in red',\n",
       " 'versace pour homme',\n",
       " 'wish',\n",
       " 'viva la juicy',\n",
       " 'schlesser essential',\n",
       " 'la nuit de l`homme',\n",
       " 'intense',\n",
       " 'organza',\n",
       " \"because it's you by emporio\",\n",
       " 'by marciano',\n",
       " 'si passione',\n",
       " 'blu',\n",
       " 'bottled tonic',\n",
       " 'desire extreme',\n",
       " 'mont blanc legend',\n",
       " 'be delicious red',\n",
       " 'classic',\n",
       " 'rive gauche homme',\n",
       " 'modern princess',\n",
       " 'club de nuit intense',\n",
       " 'anais anais loriginal',\n",
       " 'musky garden',\n",
       " \"quelques fleurs l'original\",\n",
       " 'the one royal night',\n",
       " '2.2 s..y  no.1139 eau de par',\n",
       " 'club de nuit intense man',\n",
       " 'blue lady',\n",
       " 'code',\n",
       " 'roma uomo',\n",
       " 'portraits george',\n",
       " 'victory league',\n",
       " 'delina exclusive',\n",
       " 'especially elixir',\n",
       " 'wanted',\n",
       " 'patchouli intense',\n",
       " 'secret obsession',\n",
       " \"l'homme sport\",\n",
       " 'ambre imperial',\n",
       " 'green tea',\n",
       " \"l'acquarossa\",\n",
       " 'light blue',\n",
       " 'pleasures intense',\n",
       " 'goldea the roman night absolute',\n",
       " 'marbert man',\n",
       " 'always',\n",
       " 'the brilliant game',\n",
       " '900 herbal spray',\n",
       " 'yes i am ed',\n",
       " 'just different',\n",
       " 'only the brave tattoo',\n",
       " 'islanders',\n",
       " 'cedar essence',\n",
       " 'invictus intense',\n",
       " 'bakhoor al arais',\n",
       " 'dc charged',\n",
       " 'pure oudi liquid gold',\n",
       " 'wood mystique',\n",
       " 'club de nuit milestone',\n",
       " 'orange edt sp',\n",
       " 'kalam al oud',\n",
       " 'golden blaze',\n",
       " 'black xs potion',\n",
       " 'monsieur coco vanilla',\n",
       " 'white musk perfume',\n",
       " 'wild leather',\n",
       " \"l'homme ideal\",\n",
       " 'quatre absolue de nuit',\n",
       " 'yellow diamond',\n",
       " 'amethyst exquise',\n",
       " 'pleasures',\n",
       " 'beach palm',\n",
       " 'oud al misk',\n",
       " 'oud khurafi',\n",
       " 'vision iii',\n",
       " 'alf laila o laila',\n",
       " 'manifesto',\n",
       " 'armani code',\n",
       " 'sauvage perf',\n",
       " 'kouros silver',\n",
       " 'body mini ed',\n",
       " 'my blush',\n",
       " 'olympéa intense',\n",
       " \"l'interdit edp for wo\",\n",
       " 'emblem intense',\n",
       " 'prive maison sandalwood',\n",
       " 'hawaiian musk',\n",
       " 'rush 2',\n",
       " 'dirham',\n",
       " 'roses greedy',\n",
       " 'stella',\n",
       " 'sweetheart rockstar',\n",
       " 'epic',\n",
       " 'edttouch of pink for wom',\n",
       " 'tim tom leather black',\n",
       " 'today tomorrow always',\n",
       " 'blue princess',\n",
       " 'vivaldi',\n",
       " \"eclat d'arpege\",\n",
       " 'body tender',\n",
       " 'above the law',\n",
       " 'red door',\n",
       " 'pure musc',\n",
       " 'lady presidente',\n",
       " 'one man show',\n",
       " 'cheap and chic',\n",
       " 'red',\n",
       " 'lady dorall',\n",
       " 'boss orange',\n",
       " 'modern muse chic',\n",
       " '212 wild party',\n",
       " 'chance eau tendre',\n",
       " 'boss bottled man of today',\n",
       " 'black orchid',\n",
       " 'baiser vole',\n",
       " 'eghra perfume',\n",
       " '212 s**y',\n",
       " 'zen',\n",
       " 'tool box',\n",
       " 'love touch body sp',\n",
       " 'oxygene',\n",
       " 'brit rhythm',\n",
       " 'emblem ed',\n",
       " 'plus plus feminine',\n",
       " 'amber',\n",
       " '212 vip rose',\n",
       " 'pour un homme de caron',\n",
       " '1000 miglia',\n",
       " 'rush',\n",
       " 'musk mood',\n",
       " \"l'eau d'issey pour homme\",\n",
       " 'guilty black',\n",
       " 'bottled intense',\n",
       " 'paris vivaldi',\n",
       " 'si possione',\n",
       " '8839 collection',\n",
       " 'challenge',\n",
       " 'sheer beauty essence',\n",
       " 'flora gorgeous gardenia',\n",
       " 'flora gardenia',\n",
       " 'remy',\n",
       " 'natural spray',\n",
       " 'lady emblem elixir',\n",
       " 'code absolu ed',\n",
       " 'green secret',\n",
       " 'santos d concentree',\n",
       " 'divina',\n",
       " 'eau fraiche',\n",
       " '24 carat pure gold',\n",
       " 'touch',\n",
       " 'royale',\n",
       " 'paradisio azzuro',\n",
       " 'guess',\n",
       " 'khalis pure oudi',\n",
       " 'forever',\n",
       " 'vision ii',\n",
       " \"l' imperatrice 3\",\n",
       " 'world intense',\n",
       " 'roses musk',\n",
       " 'pino silvester original',\n",
       " 'million',\n",
       " 'happy spirit forever',\n",
       " 'frank olivier',\n",
       " 'classic gold',\n",
       " 'samsara',\n",
       " 'goldea the roman night',\n",
       " 'seductive homme',\n",
       " 'noa',\n",
       " 'lalique',\n",
       " \"because it's you\",\n",
       " 'one million lucky',\n",
       " 'scuderia black',\n",
       " 'paco rabanne',\n",
       " 'black opium nuit blanche',\n",
       " 'olympea',\n",
       " 'pasha de cartier',\n",
       " 'olympêa',\n",
       " 'brit splash',\n",
       " 'oud arabi',\n",
       " 'cedrat boise',\n",
       " 'coach',\n",
       " 'ch men sports',\n",
       " 'united colors of benetton hot',\n",
       " 'dahlia divin nude',\n",
       " 'classic red',\n",
       " 'blanc pour homme',\n",
       " 'rose malaki',\n",
       " 'cold silver',\n",
       " 'man',\n",
       " 'idol',\n",
       " 'guess pink',\n",
       " 'euphoria amber gold',\n",
       " 'desire silver',\n",
       " 'honour',\n",
       " 'rumba',\n",
       " 'oud',\n",
       " 'rumeur',\n",
       " 'love touch',\n",
       " 'serpentine',\n",
       " 'debut',\n",
       " 'classic amber',\n",
       " 'gentlemen only',\n",
       " 'weekend',\n",
       " 'coco vanille',\n",
       " 'evoke',\n",
       " 'passenger spray',\n",
       " 'starwalker',\n",
       " 'my land',\n",
       " \"terre d'hermes\",\n",
       " 'splandid',\n",
       " 'vivi la juicy limited edition',\n",
       " \"la nuit de l'homme l'intense\",\n",
       " 'azure',\n",
       " 'starlight',\n",
       " 'black vanilla',\n",
       " 'the only one',\n",
       " 'grey flannel for men',\n",
       " 'knowing',\n",
       " 's.t. dupont',\n",
       " 'charlie gold',\n",
       " 'monsieur intense gold',\n",
       " '24 pure',\n",
       " 'narciso rouge',\n",
       " 'black oud',\n",
       " 'royale blue',\n",
       " 'in 2 u men',\n",
       " '1881',\n",
       " 'm7 oud absolu',\n",
       " 'gold secret',\n",
       " 'seductive blue',\n",
       " 'royal amber',\n",
       " 'hot gold',\n",
       " 'scholar',\n",
       " 'viva la juicy noir',\n",
       " 'mr.burberry',\n",
       " 'moon light',\n",
       " 'xx',\n",
       " 'nashwa',\n",
       " 'signorina eleganza',\n",
       " 'genesis oud malaki',\n",
       " 'atelier intense',\n",
       " 'tommy hilfiger',\n",
       " 'ckin2u',\n",
       " 'emblem absolu',\n",
       " 'girl of now shine',\n",
       " 'be delicious',\n",
       " 'giorgio',\n",
       " 'oud 24 hours',\n",
       " 'valentina',\n",
       " 'stronger with you intensely',\n",
       " 'molto carina',\n",
       " 'dark blue',\n",
       " 'rumba passion ted lapidus',\n",
       " 'safari',\n",
       " 'supreme bouquet',\n",
       " 'icq',\n",
       " 'libre',\n",
       " 'nomade',\n",
       " 'edition',\n",
       " 'paradiso',\n",
       " 'new york platinum',\n",
       " 'eau de moiselle',\n",
       " 'oud vanille',\n",
       " 'l.12.12 rouge',\n",
       " 'aventus',\n",
       " 'courageous',\n",
       " 'oud mood gold elixir',\n",
       " \"l'imperatrice 3\",\n",
       " 'shiyoukh al oud',\n",
       " 'leather blend',\n",
       " \"declaration d'un soir\",\n",
       " 'simple',\n",
       " 'blue jeans',\n",
       " 'bad boy',\n",
       " 'lapidus pour homme',\n",
       " 'eaudemoiselle no.1154',\n",
       " 'polo blue',\n",
       " 'lolita',\n",
       " 'super cobra',\n",
       " 'absolute',\n",
       " 'hugo man',\n",
       " 'charli blue',\n",
       " 'dc marine noir',\n",
       " 'orchidea della cina',\n",
       " 'play around',\n",
       " 'club black',\n",
       " 'blue label',\n",
       " 'vetiver',\n",
       " 'beibei bear blue par',\n",
       " 'love you like crazy',\n",
       " 'heiress',\n",
       " 'de caron',\n",
       " 'florence amber',\n",
       " 'cavali',\n",
       " 'rumeur 2 rose',\n",
       " 'shalis',\n",
       " 'new york coach dreams',\n",
       " \"magie noire l'eau\",\n",
       " 'cabotine de gres',\n",
       " 'rose essentielle',\n",
       " \"l'instant\",\n",
       " 'casmir',\n",
       " 'versace',\n",
       " \"memoire  d'une odeur edp for uni\",\n",
       " \"le'parfum\",\n",
       " 'joy of pink',\n",
       " 'hatem',\n",
       " 'modern muse nuit',\n",
       " 'santal royal',\n",
       " 'black car',\n",
       " 'darknet pour homme',\n",
       " 'mon bloom of rose',\n",
       " 'momentum intense',\n",
       " 'gabrielle',\n",
       " 'brit sheer',\n",
       " 'oud noir',\n",
       " 'dionysus',\n",
       " 'deep red',\n",
       " 'man ice',\n",
       " 'eau de cedre',\n",
       " 'allure sensuelle',\n",
       " 'rain drops',\n",
       " 'mini collection no.1075',\n",
       " 'hugo boss',\n",
       " 'nice girl',\n",
       " 'interlude',\n",
       " 'jil sander',\n",
       " 'silences',\n",
       " 'cinema',\n",
       " 'narciso',\n",
       " 'windsor',\n",
       " 'fairy dust',\n",
       " 'go',\n",
       " 'eventful',\n",
       " 'relation',\n",
       " 'cerruti',\n",
       " 'black xs',\n",
       " 'joy',\n",
       " 'prive',\n",
       " 'vetiver hombre',\n",
       " 'rare pearls',\n",
       " 'omnia crystalline',\n",
       " 'play intense',\n",
       " 'miu miu',\n",
       " 'guilty pour homme',\n",
       " 'pegasus',\n",
       " \"jeu d'amour l'elixir\",\n",
       " '212 men nyc',\n",
       " 'si fiori',\n",
       " 'royal',\n",
       " 'lanvin',\n",
       " 'idôle ed',\n",
       " 'debut night',\n",
       " 'secret de rochas',\n",
       " 'premiere',\n",
       " 'ck in2u',\n",
       " 'charlie blue',\n",
       " 'goldea',\n",
       " 'teenz',\n",
       " 'kors',\n",
       " \"milano infusion d'iris\",\n",
       " 'guilty intense',\n",
       " 'mon florale',\n",
       " 'live luxe',\n",
       " 'layali cpo at']"
      ]
     },
     "execution_count": 19,
     "metadata": {},
     "output_type": "execute_result"
    }
   ],
   "source": [
    "df1['name'].value_counts().to_frame().index.to_list()"
   ]
  },
  {
   "cell_type": "code",
   "execution_count": 20,
   "id": "64e33a20",
   "metadata": {},
   "outputs": [
    {
     "data": {
      "text/plain": [
       "5.0    275\n",
       "4.5    137\n",
       "4.6     93\n",
       "4.7     85\n",
       "4.8     83\n",
       "4.4     72\n",
       "4.0     61\n",
       "4.3     54\n",
       "4.9     28\n",
       "4.2     28\n",
       "3.0     18\n",
       "4.1     15\n",
       "3.7      7\n",
       "3.3      7\n",
       "3.8      7\n",
       "3.5      6\n",
       "1.0      6\n",
       "2.0      6\n",
       "3.4      6\n",
       "3.9      4\n",
       "2.3      3\n",
       "3.6      1\n",
       "2.9      1\n",
       "Name: item_rating, dtype: int64"
      ]
     },
     "execution_count": 20,
     "metadata": {},
     "output_type": "execute_result"
    }
   ],
   "source": [
    "df1['item_rating'].value_counts()"
   ]
  },
  {
   "cell_type": "code",
   "execution_count": 21,
   "id": "5066ca78",
   "metadata": {},
   "outputs": [
    {
     "data": {
      "text/plain": [
       "4.2      346\n",
       "3.9      217\n",
       "3.7      119\n",
       "3.8      106\n",
       "3.5       72\n",
       "3.6       46\n",
       "4.1       34\n",
       "4.3       22\n",
       "412.0     15\n",
       "4.4       12\n",
       "454.0      6\n",
       "445.0      3\n",
       "43.0       2\n",
       "4.8        2\n",
       "4.0        1\n",
       "Name: seller_rating, dtype: int64"
      ]
     },
     "execution_count": 21,
     "metadata": {},
     "output_type": "execute_result"
    }
   ],
   "source": [
    "df1['seller_rating'].value_counts() "
   ]
  },
  {
   "cell_type": "code",
   "execution_count": 22,
   "id": "6f7a21ce",
   "metadata": {},
   "outputs": [
    {
     "data": {
      "text/plain": [
       "4.2    346\n",
       "3.9    217\n",
       "3.7    119\n",
       "3.8    106\n",
       "3.5     72\n",
       "4.1     49\n",
       "3.6     46\n",
       "4.3     24\n",
       "4.4     15\n",
       "4.5      6\n",
       "4.8      2\n",
       "4.0      1\n",
       "Name: seller_rating, dtype: int64"
      ]
     },
     "execution_count": 22,
     "metadata": {},
     "output_type": "execute_result"
    }
   ],
   "source": [
    "df1['seller_rating']=df1['seller_rating'].replace({412.0:4.1, 454.0:4.5, 445.0:4.4, 43:4.3})\n",
    "df1['seller_rating'].value_counts() "
   ]
  },
  {
   "cell_type": "code",
   "execution_count": 23,
   "id": "0d19cbb9",
   "metadata": {},
   "outputs": [
    {
     "data": {
      "text/plain": [
       "98.1K    287\n",
       "135      103\n",
       "537       61\n",
       "347       57\n",
       "122       52\n",
       "14.1K     29\n",
       "98        26\n",
       "7         26\n",
       "88        23\n",
       "61        22\n",
       "76        21\n",
       "66        20\n",
       "59        18\n",
       "5         16\n",
       "75        15\n",
       "425       14\n",
       "467       14\n",
       "23        13\n",
       "450       13\n",
       "538       12\n",
       "244       12\n",
       "33        11\n",
       "69        11\n",
       "63        10\n",
       "111        9\n",
       "9          9\n",
       "4K         8\n",
       "319        7\n",
       "20         6\n",
       "32         5\n",
       "118        5\n",
       "30         5\n",
       "25         5\n",
       "8          4\n",
       "113        4\n",
       "1.9K       4\n",
       "27         4\n",
       "124        4\n",
       "1.3K       3\n",
       "199        3\n",
       "44         3\n",
       "71         3\n",
       "98.4K      2\n",
       "78         2\n",
       "56         2\n",
       "77         2\n",
       "528        2\n",
       "116        2\n",
       "531        2\n",
       "54         2\n",
       "337        1\n",
       "178        1\n",
       "235        1\n",
       "266        1\n",
       "288        1\n",
       "81         1\n",
       "21         1\n",
       "22         1\n",
       "41         1\n",
       "539        1\n",
       "Name: num_seller_ratings, dtype: int64"
      ]
     },
     "execution_count": 23,
     "metadata": {},
     "output_type": "execute_result"
    }
   ],
   "source": [
    "df1['num_seller_ratings'].value_counts()"
   ]
  },
  {
   "cell_type": "code",
   "execution_count": 24,
   "id": "96c3ad15",
   "metadata": {},
   "outputs": [],
   "source": [
    "def edit(tx):\n",
    "    if tx.rfind('K') != -1:\n",
    "        tx=tx.replace('K','')\n",
    "        if tx.rfind('.') != -1:\n",
    "            n1,n2=tx.split('.')\n",
    "            tx=f'{n1}000'\n",
    "        else:\n",
    "            tx=tx+'000'\n",
    "            \n",
    "    return float(tx)  \n",
    "    \n",
    "        \n",
    "df1['num_seller_ratings']= df1['num_seller_ratings'].apply(edit).astype(int)\n",
    "\n"
   ]
  },
  {
   "cell_type": "code",
   "execution_count": 25,
   "id": "a6a86dbc",
   "metadata": {},
   "outputs": [
    {
     "data": {
      "text/plain": [
       "98000    289\n",
       "135      103\n",
       "537       61\n",
       "347       57\n",
       "122       52\n",
       "14000     29\n",
       "98        26\n",
       "7         26\n",
       "88        23\n",
       "61        22\n",
       "76        21\n",
       "66        20\n",
       "59        18\n",
       "5         16\n",
       "75        15\n",
       "425       14\n",
       "467       14\n",
       "23        13\n",
       "450       13\n",
       "244       12\n",
       "538       12\n",
       "33        11\n",
       "69        11\n",
       "63        10\n",
       "111        9\n",
       "9          9\n",
       "4000       8\n",
       "319        7\n",
       "1000       7\n",
       "20         6\n",
       "118        5\n",
       "32         5\n",
       "25         5\n",
       "30         5\n",
       "27         4\n",
       "124        4\n",
       "8          4\n",
       "113        4\n",
       "199        3\n",
       "71         3\n",
       "44         3\n",
       "56         2\n",
       "116        2\n",
       "78         2\n",
       "77         2\n",
       "54         2\n",
       "531        2\n",
       "528        2\n",
       "41         1\n",
       "22         1\n",
       "21         1\n",
       "235        1\n",
       "337        1\n",
       "178        1\n",
       "266        1\n",
       "288        1\n",
       "81         1\n",
       "539        1\n",
       "Name: num_seller_ratings, dtype: int64"
      ]
     },
     "execution_count": 25,
     "metadata": {},
     "output_type": "execute_result"
    }
   ],
   "source": [
    "df1['num_seller_ratings'].value_counts()"
   ]
  },
  {
   "cell_type": "code",
   "execution_count": 26,
   "id": "41c02fe7",
   "metadata": {},
   "outputs": [
    {
     "name": "stdout",
     "output_type": "stream",
     "text": [
      "<class 'pandas.core.frame.DataFrame'>\n",
      "RangeIndex: 1003 entries, 0 to 1002\n",
      "Data columns (total 17 columns):\n",
      " #   Column              Non-Null Count  Dtype  \n",
      "---  ------              --------------  -----  \n",
      " 0   brand               1003 non-null   object \n",
      " 1   name                1003 non-null   object \n",
      " 2   old_price           1003 non-null   float64\n",
      " 3   new_price           1003 non-null   float64\n",
      " 4   ml                  1003 non-null   int64  \n",
      " 5   concentration       1003 non-null   object \n",
      " 6   department          1003 non-null   object \n",
      " 7   scents              1003 non-null   object \n",
      " 8   base_note           1003 non-null   object \n",
      " 9   middle_note         1003 non-null   object \n",
      " 10  item_rating         1003 non-null   float64\n",
      " 11  seller              1003 non-null   object \n",
      " 12  seller_rating       1003 non-null   float64\n",
      " 13  num_seller_ratings  1003 non-null   int32  \n",
      " 14  discount%           1003 non-null   float64\n",
      " 15  discount_price      1003 non-null   float64\n",
      " 16  price/ml            1003 non-null   float64\n",
      "dtypes: float64(7), int32(1), int64(1), object(8)\n",
      "memory usage: 129.4+ KB\n"
     ]
    }
   ],
   "source": [
    "df1.info()"
   ]
  },
  {
   "cell_type": "code",
   "execution_count": 30,
   "id": "845ddaab",
   "metadata": {},
   "outputs": [
    {
     "data": {
      "application/vnd.plotly.v1+json": {
       "config": {
        "plotlyServerURL": "https://plot.ly"
       },
       "data": [
        {
         "alignmentgroup": "True",
         "hovertemplate": "Scents=%{x}<br>Average discount =%{y}<extra></extra>",
         "legendgroup": "Oriental, Floral",
         "marker": {
          "color": "rgb(229, 134, 6)",
          "pattern": {
           "shape": ""
          }
         },
         "name": "Oriental, Floral",
         "offsetgroup": "Oriental, Floral",
         "orientation": "v",
         "showlegend": true,
         "textposition": "auto",
         "type": "bar",
         "x": [
          "Oriental, Floral"
         ],
         "xaxis": "x",
         "y": [
          68.6
         ],
         "yaxis": "y"
        },
        {
         "alignmentgroup": "True",
         "hovertemplate": "Scents=%{x}<br>Average discount =%{y}<extra></extra>",
         "legendgroup": "Floral and Oriental",
         "marker": {
          "color": "rgb(93, 105, 177)",
          "pattern": {
           "shape": ""
          }
         },
         "name": "Floral and Oriental",
         "offsetgroup": "Floral and Oriental",
         "orientation": "v",
         "showlegend": true,
         "textposition": "auto",
         "type": "bar",
         "x": [
          "Floral and Oriental"
         ],
         "xaxis": "x",
         "y": [
          66.6
         ],
         "yaxis": "y"
        },
        {
         "alignmentgroup": "True",
         "hovertemplate": "Scents=%{x}<br>Average discount =%{y}<extra></extra>",
         "legendgroup": "Clean",
         "marker": {
          "color": "rgb(82, 188, 163)",
          "pattern": {
           "shape": ""
          }
         },
         "name": "Clean",
         "offsetgroup": "Clean",
         "orientation": "v",
         "showlegend": true,
         "textposition": "auto",
         "type": "bar",
         "x": [
          "Clean"
         ],
         "xaxis": "x",
         "y": [
          61.8
         ],
         "yaxis": "y"
        },
        {
         "alignmentgroup": "True",
         "hovertemplate": "Scents=%{x}<br>Average discount =%{y}<extra></extra>",
         "legendgroup": "Woody, Sweet",
         "marker": {
          "color": "rgb(153, 201, 69)",
          "pattern": {
           "shape": ""
          }
         },
         "name": "Woody, Sweet",
         "offsetgroup": "Woody, Sweet",
         "orientation": "v",
         "showlegend": true,
         "textposition": "auto",
         "type": "bar",
         "x": [
          "Woody, Sweet"
         ],
         "xaxis": "x",
         "y": [
          57.1
         ],
         "yaxis": "y"
        },
        {
         "alignmentgroup": "True",
         "hovertemplate": "Scents=%{x}<br>Average discount =%{y}<extra></extra>",
         "legendgroup": "Vanilla",
         "marker": {
          "color": "rgb(204, 97, 176)",
          "pattern": {
           "shape": ""
          }
         },
         "name": "Vanilla",
         "offsetgroup": "Vanilla",
         "orientation": "v",
         "showlegend": true,
         "textposition": "auto",
         "type": "bar",
         "x": [
          "Vanilla"
         ],
         "xaxis": "x",
         "y": [
          55.48
         ],
         "yaxis": "y"
        },
        {
         "alignmentgroup": "True",
         "hovertemplate": "Scents=%{x}<br>Average discount =%{y}<extra></extra>",
         "legendgroup": "Citrus",
         "marker": {
          "color": "rgb(36, 121, 108)",
          "pattern": {
           "shape": ""
          }
         },
         "name": "Citrus",
         "offsetgroup": "Citrus",
         "orientation": "v",
         "showlegend": true,
         "textposition": "auto",
         "type": "bar",
         "x": [
          "Citrus"
         ],
         "xaxis": "x",
         "y": [
          50.39
         ],
         "yaxis": "y"
        },
        {
         "alignmentgroup": "True",
         "hovertemplate": "Scents=%{x}<br>Average discount =%{y}<extra></extra>",
         "legendgroup": "Arabian",
         "marker": {
          "color": "rgb(218, 165, 27)",
          "pattern": {
           "shape": ""
          }
         },
         "name": "Arabian",
         "offsetgroup": "Arabian",
         "orientation": "v",
         "showlegend": true,
         "textposition": "auto",
         "type": "bar",
         "x": [
          "Arabian"
         ],
         "xaxis": "x",
         "y": [
          49.59
         ],
         "yaxis": "y"
        },
        {
         "alignmentgroup": "True",
         "hovertemplate": "Scents=%{x}<br>Average discount =%{y}<extra></extra>",
         "legendgroup": "Woody And Spicy",
         "marker": {
          "color": "rgb(47, 138, 196)",
          "pattern": {
           "shape": ""
          }
         },
         "name": "Woody And Spicy",
         "offsetgroup": "Woody And Spicy",
         "orientation": "v",
         "showlegend": true,
         "textposition": "auto",
         "type": "bar",
         "x": [
          "Woody And Spicy"
         ],
         "xaxis": "x",
         "y": [
          48.7
         ],
         "yaxis": "y"
        },
        {
         "alignmentgroup": "True",
         "hovertemplate": "Scents=%{x}<br>Average discount =%{y}<extra></extra>",
         "legendgroup": "Fruity",
         "marker": {
          "color": "rgb(118, 78, 159)",
          "pattern": {
           "shape": ""
          }
         },
         "name": "Fruity",
         "offsetgroup": "Fruity",
         "orientation": "v",
         "showlegend": true,
         "textposition": "auto",
         "type": "bar",
         "x": [
          "Fruity"
         ],
         "xaxis": "x",
         "y": [
          48.18
         ],
         "yaxis": "y"
        },
        {
         "alignmentgroup": "True",
         "hovertemplate": "Scents=%{x}<br>Average discount =%{y}<extra></extra>",
         "legendgroup": "Floral",
         "marker": {
          "color": "rgb(237, 100, 90)",
          "pattern": {
           "shape": ""
          }
         },
         "name": "Floral",
         "offsetgroup": "Floral",
         "orientation": "v",
         "showlegend": true,
         "textposition": "auto",
         "type": "bar",
         "x": [
          "Floral"
         ],
         "xaxis": "x",
         "y": [
          47.11
         ],
         "yaxis": "y"
        }
       ],
       "layout": {
        "barmode": "relative",
        "legend": {
         "title": {
          "text": "Scents"
         },
         "tracegroupgap": 0
        },
        "template": {
         "data": {
          "bar": [
           {
            "error_x": {
             "color": "#2a3f5f"
            },
            "error_y": {
             "color": "#2a3f5f"
            },
            "marker": {
             "line": {
              "color": "#E5ECF6",
              "width": 0.5
             },
             "pattern": {
              "fillmode": "overlay",
              "size": 10,
              "solidity": 0.2
             }
            },
            "type": "bar"
           }
          ],
          "barpolar": [
           {
            "marker": {
             "line": {
              "color": "#E5ECF6",
              "width": 0.5
             },
             "pattern": {
              "fillmode": "overlay",
              "size": 10,
              "solidity": 0.2
             }
            },
            "type": "barpolar"
           }
          ],
          "carpet": [
           {
            "aaxis": {
             "endlinecolor": "#2a3f5f",
             "gridcolor": "white",
             "linecolor": "white",
             "minorgridcolor": "white",
             "startlinecolor": "#2a3f5f"
            },
            "baxis": {
             "endlinecolor": "#2a3f5f",
             "gridcolor": "white",
             "linecolor": "white",
             "minorgridcolor": "white",
             "startlinecolor": "#2a3f5f"
            },
            "type": "carpet"
           }
          ],
          "choropleth": [
           {
            "colorbar": {
             "outlinewidth": 0,
             "ticks": ""
            },
            "type": "choropleth"
           }
          ],
          "contour": [
           {
            "colorbar": {
             "outlinewidth": 0,
             "ticks": ""
            },
            "colorscale": [
             [
              0,
              "#0d0887"
             ],
             [
              0.1111111111111111,
              "#46039f"
             ],
             [
              0.2222222222222222,
              "#7201a8"
             ],
             [
              0.3333333333333333,
              "#9c179e"
             ],
             [
              0.4444444444444444,
              "#bd3786"
             ],
             [
              0.5555555555555556,
              "#d8576b"
             ],
             [
              0.6666666666666666,
              "#ed7953"
             ],
             [
              0.7777777777777778,
              "#fb9f3a"
             ],
             [
              0.8888888888888888,
              "#fdca26"
             ],
             [
              1,
              "#f0f921"
             ]
            ],
            "type": "contour"
           }
          ],
          "contourcarpet": [
           {
            "colorbar": {
             "outlinewidth": 0,
             "ticks": ""
            },
            "type": "contourcarpet"
           }
          ],
          "heatmap": [
           {
            "colorbar": {
             "outlinewidth": 0,
             "ticks": ""
            },
            "colorscale": [
             [
              0,
              "#0d0887"
             ],
             [
              0.1111111111111111,
              "#46039f"
             ],
             [
              0.2222222222222222,
              "#7201a8"
             ],
             [
              0.3333333333333333,
              "#9c179e"
             ],
             [
              0.4444444444444444,
              "#bd3786"
             ],
             [
              0.5555555555555556,
              "#d8576b"
             ],
             [
              0.6666666666666666,
              "#ed7953"
             ],
             [
              0.7777777777777778,
              "#fb9f3a"
             ],
             [
              0.8888888888888888,
              "#fdca26"
             ],
             [
              1,
              "#f0f921"
             ]
            ],
            "type": "heatmap"
           }
          ],
          "heatmapgl": [
           {
            "colorbar": {
             "outlinewidth": 0,
             "ticks": ""
            },
            "colorscale": [
             [
              0,
              "#0d0887"
             ],
             [
              0.1111111111111111,
              "#46039f"
             ],
             [
              0.2222222222222222,
              "#7201a8"
             ],
             [
              0.3333333333333333,
              "#9c179e"
             ],
             [
              0.4444444444444444,
              "#bd3786"
             ],
             [
              0.5555555555555556,
              "#d8576b"
             ],
             [
              0.6666666666666666,
              "#ed7953"
             ],
             [
              0.7777777777777778,
              "#fb9f3a"
             ],
             [
              0.8888888888888888,
              "#fdca26"
             ],
             [
              1,
              "#f0f921"
             ]
            ],
            "type": "heatmapgl"
           }
          ],
          "histogram": [
           {
            "marker": {
             "pattern": {
              "fillmode": "overlay",
              "size": 10,
              "solidity": 0.2
             }
            },
            "type": "histogram"
           }
          ],
          "histogram2d": [
           {
            "colorbar": {
             "outlinewidth": 0,
             "ticks": ""
            },
            "colorscale": [
             [
              0,
              "#0d0887"
             ],
             [
              0.1111111111111111,
              "#46039f"
             ],
             [
              0.2222222222222222,
              "#7201a8"
             ],
             [
              0.3333333333333333,
              "#9c179e"
             ],
             [
              0.4444444444444444,
              "#bd3786"
             ],
             [
              0.5555555555555556,
              "#d8576b"
             ],
             [
              0.6666666666666666,
              "#ed7953"
             ],
             [
              0.7777777777777778,
              "#fb9f3a"
             ],
             [
              0.8888888888888888,
              "#fdca26"
             ],
             [
              1,
              "#f0f921"
             ]
            ],
            "type": "histogram2d"
           }
          ],
          "histogram2dcontour": [
           {
            "colorbar": {
             "outlinewidth": 0,
             "ticks": ""
            },
            "colorscale": [
             [
              0,
              "#0d0887"
             ],
             [
              0.1111111111111111,
              "#46039f"
             ],
             [
              0.2222222222222222,
              "#7201a8"
             ],
             [
              0.3333333333333333,
              "#9c179e"
             ],
             [
              0.4444444444444444,
              "#bd3786"
             ],
             [
              0.5555555555555556,
              "#d8576b"
             ],
             [
              0.6666666666666666,
              "#ed7953"
             ],
             [
              0.7777777777777778,
              "#fb9f3a"
             ],
             [
              0.8888888888888888,
              "#fdca26"
             ],
             [
              1,
              "#f0f921"
             ]
            ],
            "type": "histogram2dcontour"
           }
          ],
          "mesh3d": [
           {
            "colorbar": {
             "outlinewidth": 0,
             "ticks": ""
            },
            "type": "mesh3d"
           }
          ],
          "parcoords": [
           {
            "line": {
             "colorbar": {
              "outlinewidth": 0,
              "ticks": ""
             }
            },
            "type": "parcoords"
           }
          ],
          "pie": [
           {
            "automargin": true,
            "type": "pie"
           }
          ],
          "scatter": [
           {
            "fillpattern": {
             "fillmode": "overlay",
             "size": 10,
             "solidity": 0.2
            },
            "type": "scatter"
           }
          ],
          "scatter3d": [
           {
            "line": {
             "colorbar": {
              "outlinewidth": 0,
              "ticks": ""
             }
            },
            "marker": {
             "colorbar": {
              "outlinewidth": 0,
              "ticks": ""
             }
            },
            "type": "scatter3d"
           }
          ],
          "scattercarpet": [
           {
            "marker": {
             "colorbar": {
              "outlinewidth": 0,
              "ticks": ""
             }
            },
            "type": "scattercarpet"
           }
          ],
          "scattergeo": [
           {
            "marker": {
             "colorbar": {
              "outlinewidth": 0,
              "ticks": ""
             }
            },
            "type": "scattergeo"
           }
          ],
          "scattergl": [
           {
            "marker": {
             "colorbar": {
              "outlinewidth": 0,
              "ticks": ""
             }
            },
            "type": "scattergl"
           }
          ],
          "scattermapbox": [
           {
            "marker": {
             "colorbar": {
              "outlinewidth": 0,
              "ticks": ""
             }
            },
            "type": "scattermapbox"
           }
          ],
          "scatterpolar": [
           {
            "marker": {
             "colorbar": {
              "outlinewidth": 0,
              "ticks": ""
             }
            },
            "type": "scatterpolar"
           }
          ],
          "scatterpolargl": [
           {
            "marker": {
             "colorbar": {
              "outlinewidth": 0,
              "ticks": ""
             }
            },
            "type": "scatterpolargl"
           }
          ],
          "scatterternary": [
           {
            "marker": {
             "colorbar": {
              "outlinewidth": 0,
              "ticks": ""
             }
            },
            "type": "scatterternary"
           }
          ],
          "surface": [
           {
            "colorbar": {
             "outlinewidth": 0,
             "ticks": ""
            },
            "colorscale": [
             [
              0,
              "#0d0887"
             ],
             [
              0.1111111111111111,
              "#46039f"
             ],
             [
              0.2222222222222222,
              "#7201a8"
             ],
             [
              0.3333333333333333,
              "#9c179e"
             ],
             [
              0.4444444444444444,
              "#bd3786"
             ],
             [
              0.5555555555555556,
              "#d8576b"
             ],
             [
              0.6666666666666666,
              "#ed7953"
             ],
             [
              0.7777777777777778,
              "#fb9f3a"
             ],
             [
              0.8888888888888888,
              "#fdca26"
             ],
             [
              1,
              "#f0f921"
             ]
            ],
            "type": "surface"
           }
          ],
          "table": [
           {
            "cells": {
             "fill": {
              "color": "#EBF0F8"
             },
             "line": {
              "color": "white"
             }
            },
            "header": {
             "fill": {
              "color": "#C8D4E3"
             },
             "line": {
              "color": "white"
             }
            },
            "type": "table"
           }
          ]
         },
         "layout": {
          "annotationdefaults": {
           "arrowcolor": "#2a3f5f",
           "arrowhead": 0,
           "arrowwidth": 1
          },
          "autotypenumbers": "strict",
          "coloraxis": {
           "colorbar": {
            "outlinewidth": 0,
            "ticks": ""
           }
          },
          "colorscale": {
           "diverging": [
            [
             0,
             "#8e0152"
            ],
            [
             0.1,
             "#c51b7d"
            ],
            [
             0.2,
             "#de77ae"
            ],
            [
             0.3,
             "#f1b6da"
            ],
            [
             0.4,
             "#fde0ef"
            ],
            [
             0.5,
             "#f7f7f7"
            ],
            [
             0.6,
             "#e6f5d0"
            ],
            [
             0.7,
             "#b8e186"
            ],
            [
             0.8,
             "#7fbc41"
            ],
            [
             0.9,
             "#4d9221"
            ],
            [
             1,
             "#276419"
            ]
           ],
           "sequential": [
            [
             0,
             "#0d0887"
            ],
            [
             0.1111111111111111,
             "#46039f"
            ],
            [
             0.2222222222222222,
             "#7201a8"
            ],
            [
             0.3333333333333333,
             "#9c179e"
            ],
            [
             0.4444444444444444,
             "#bd3786"
            ],
            [
             0.5555555555555556,
             "#d8576b"
            ],
            [
             0.6666666666666666,
             "#ed7953"
            ],
            [
             0.7777777777777778,
             "#fb9f3a"
            ],
            [
             0.8888888888888888,
             "#fdca26"
            ],
            [
             1,
             "#f0f921"
            ]
           ],
           "sequentialminus": [
            [
             0,
             "#0d0887"
            ],
            [
             0.1111111111111111,
             "#46039f"
            ],
            [
             0.2222222222222222,
             "#7201a8"
            ],
            [
             0.3333333333333333,
             "#9c179e"
            ],
            [
             0.4444444444444444,
             "#bd3786"
            ],
            [
             0.5555555555555556,
             "#d8576b"
            ],
            [
             0.6666666666666666,
             "#ed7953"
            ],
            [
             0.7777777777777778,
             "#fb9f3a"
            ],
            [
             0.8888888888888888,
             "#fdca26"
            ],
            [
             1,
             "#f0f921"
            ]
           ]
          },
          "colorway": [
           "#636efa",
           "#EF553B",
           "#00cc96",
           "#ab63fa",
           "#FFA15A",
           "#19d3f3",
           "#FF6692",
           "#B6E880",
           "#FF97FF",
           "#FECB52"
          ],
          "font": {
           "color": "#2a3f5f"
          },
          "geo": {
           "bgcolor": "white",
           "lakecolor": "white",
           "landcolor": "#E5ECF6",
           "showlakes": true,
           "showland": true,
           "subunitcolor": "white"
          },
          "hoverlabel": {
           "align": "left"
          },
          "hovermode": "closest",
          "mapbox": {
           "style": "light"
          },
          "paper_bgcolor": "white",
          "plot_bgcolor": "#E5ECF6",
          "polar": {
           "angularaxis": {
            "gridcolor": "white",
            "linecolor": "white",
            "ticks": ""
           },
           "bgcolor": "#E5ECF6",
           "radialaxis": {
            "gridcolor": "white",
            "linecolor": "white",
            "ticks": ""
           }
          },
          "scene": {
           "xaxis": {
            "backgroundcolor": "#E5ECF6",
            "gridcolor": "white",
            "gridwidth": 2,
            "linecolor": "white",
            "showbackground": true,
            "ticks": "",
            "zerolinecolor": "white"
           },
           "yaxis": {
            "backgroundcolor": "#E5ECF6",
            "gridcolor": "white",
            "gridwidth": 2,
            "linecolor": "white",
            "showbackground": true,
            "ticks": "",
            "zerolinecolor": "white"
           },
           "zaxis": {
            "backgroundcolor": "#E5ECF6",
            "gridcolor": "white",
            "gridwidth": 2,
            "linecolor": "white",
            "showbackground": true,
            "ticks": "",
            "zerolinecolor": "white"
           }
          },
          "shapedefaults": {
           "line": {
            "color": "#2a3f5f"
           }
          },
          "ternary": {
           "aaxis": {
            "gridcolor": "white",
            "linecolor": "white",
            "ticks": ""
           },
           "baxis": {
            "gridcolor": "white",
            "linecolor": "white",
            "ticks": ""
           },
           "bgcolor": "#E5ECF6",
           "caxis": {
            "gridcolor": "white",
            "linecolor": "white",
            "ticks": ""
           }
          },
          "title": {
           "x": 0.05
          },
          "xaxis": {
           "automargin": true,
           "gridcolor": "white",
           "linecolor": "white",
           "ticks": "",
           "title": {
            "standoff": 15
           },
           "zerolinecolor": "white",
           "zerolinewidth": 2
          },
          "yaxis": {
           "automargin": true,
           "gridcolor": "white",
           "linecolor": "white",
           "ticks": "",
           "title": {
            "standoff": 15
           },
           "zerolinecolor": "white",
           "zerolinewidth": 2
          }
         }
        },
        "title": {
         "text": "10 Most Discounted Scents"
        },
        "xaxis": {
         "anchor": "y",
         "categoryarray": [
          "Oriental, Floral",
          "Floral and Oriental",
          "Clean",
          "Woody, Sweet",
          "Vanilla",
          "Citrus",
          "Arabian",
          "Woody And Spicy",
          "Fruity",
          "Floral"
         ],
         "categoryorder": "array",
         "domain": [
          0,
          1
         ],
         "title": {
          "text": "Scents"
         }
        },
        "yaxis": {
         "anchor": "x",
         "domain": [
          0,
          1
         ],
         "title": {
          "text": "Average discount "
         }
        }
       }
      },
      "text/html": [
       "<div>                            <div id=\"c95e0f5a-f70d-4157-b7f2-9917bad61432\" class=\"plotly-graph-div\" style=\"height:525px; width:100%;\"></div>            <script type=\"text/javascript\">                require([\"plotly\"], function(Plotly) {                    window.PLOTLYENV=window.PLOTLYENV || {};                                    if (document.getElementById(\"c95e0f5a-f70d-4157-b7f2-9917bad61432\")) {                    Plotly.newPlot(                        \"c95e0f5a-f70d-4157-b7f2-9917bad61432\",                        [{\"alignmentgroup\":\"True\",\"hovertemplate\":\"Scents=%{x}<br>Average discount =%{y}<extra></extra>\",\"legendgroup\":\"Oriental, Floral\",\"marker\":{\"color\":\"rgb(229, 134, 6)\",\"pattern\":{\"shape\":\"\"}},\"name\":\"Oriental, Floral\",\"offsetgroup\":\"Oriental, Floral\",\"orientation\":\"v\",\"showlegend\":true,\"textposition\":\"auto\",\"x\":[\"Oriental, Floral\"],\"xaxis\":\"x\",\"y\":[68.6],\"yaxis\":\"y\",\"type\":\"bar\"},{\"alignmentgroup\":\"True\",\"hovertemplate\":\"Scents=%{x}<br>Average discount =%{y}<extra></extra>\",\"legendgroup\":\"Floral and Oriental\",\"marker\":{\"color\":\"rgb(93, 105, 177)\",\"pattern\":{\"shape\":\"\"}},\"name\":\"Floral and Oriental\",\"offsetgroup\":\"Floral and Oriental\",\"orientation\":\"v\",\"showlegend\":true,\"textposition\":\"auto\",\"x\":[\"Floral and Oriental\"],\"xaxis\":\"x\",\"y\":[66.6],\"yaxis\":\"y\",\"type\":\"bar\"},{\"alignmentgroup\":\"True\",\"hovertemplate\":\"Scents=%{x}<br>Average discount =%{y}<extra></extra>\",\"legendgroup\":\"Clean\",\"marker\":{\"color\":\"rgb(82, 188, 163)\",\"pattern\":{\"shape\":\"\"}},\"name\":\"Clean\",\"offsetgroup\":\"Clean\",\"orientation\":\"v\",\"showlegend\":true,\"textposition\":\"auto\",\"x\":[\"Clean\"],\"xaxis\":\"x\",\"y\":[61.8],\"yaxis\":\"y\",\"type\":\"bar\"},{\"alignmentgroup\":\"True\",\"hovertemplate\":\"Scents=%{x}<br>Average discount =%{y}<extra></extra>\",\"legendgroup\":\"Woody, Sweet\",\"marker\":{\"color\":\"rgb(153, 201, 69)\",\"pattern\":{\"shape\":\"\"}},\"name\":\"Woody, Sweet\",\"offsetgroup\":\"Woody, Sweet\",\"orientation\":\"v\",\"showlegend\":true,\"textposition\":\"auto\",\"x\":[\"Woody, Sweet\"],\"xaxis\":\"x\",\"y\":[57.1],\"yaxis\":\"y\",\"type\":\"bar\"},{\"alignmentgroup\":\"True\",\"hovertemplate\":\"Scents=%{x}<br>Average discount =%{y}<extra></extra>\",\"legendgroup\":\"Vanilla\",\"marker\":{\"color\":\"rgb(204, 97, 176)\",\"pattern\":{\"shape\":\"\"}},\"name\":\"Vanilla\",\"offsetgroup\":\"Vanilla\",\"orientation\":\"v\",\"showlegend\":true,\"textposition\":\"auto\",\"x\":[\"Vanilla\"],\"xaxis\":\"x\",\"y\":[55.48],\"yaxis\":\"y\",\"type\":\"bar\"},{\"alignmentgroup\":\"True\",\"hovertemplate\":\"Scents=%{x}<br>Average discount =%{y}<extra></extra>\",\"legendgroup\":\"Citrus\",\"marker\":{\"color\":\"rgb(36, 121, 108)\",\"pattern\":{\"shape\":\"\"}},\"name\":\"Citrus\",\"offsetgroup\":\"Citrus\",\"orientation\":\"v\",\"showlegend\":true,\"textposition\":\"auto\",\"x\":[\"Citrus\"],\"xaxis\":\"x\",\"y\":[50.39],\"yaxis\":\"y\",\"type\":\"bar\"},{\"alignmentgroup\":\"True\",\"hovertemplate\":\"Scents=%{x}<br>Average discount =%{y}<extra></extra>\",\"legendgroup\":\"Arabian\",\"marker\":{\"color\":\"rgb(218, 165, 27)\",\"pattern\":{\"shape\":\"\"}},\"name\":\"Arabian\",\"offsetgroup\":\"Arabian\",\"orientation\":\"v\",\"showlegend\":true,\"textposition\":\"auto\",\"x\":[\"Arabian\"],\"xaxis\":\"x\",\"y\":[49.59],\"yaxis\":\"y\",\"type\":\"bar\"},{\"alignmentgroup\":\"True\",\"hovertemplate\":\"Scents=%{x}<br>Average discount =%{y}<extra></extra>\",\"legendgroup\":\"Woody And Spicy\",\"marker\":{\"color\":\"rgb(47, 138, 196)\",\"pattern\":{\"shape\":\"\"}},\"name\":\"Woody And Spicy\",\"offsetgroup\":\"Woody And Spicy\",\"orientation\":\"v\",\"showlegend\":true,\"textposition\":\"auto\",\"x\":[\"Woody And Spicy\"],\"xaxis\":\"x\",\"y\":[48.7],\"yaxis\":\"y\",\"type\":\"bar\"},{\"alignmentgroup\":\"True\",\"hovertemplate\":\"Scents=%{x}<br>Average discount =%{y}<extra></extra>\",\"legendgroup\":\"Fruity\",\"marker\":{\"color\":\"rgb(118, 78, 159)\",\"pattern\":{\"shape\":\"\"}},\"name\":\"Fruity\",\"offsetgroup\":\"Fruity\",\"orientation\":\"v\",\"showlegend\":true,\"textposition\":\"auto\",\"x\":[\"Fruity\"],\"xaxis\":\"x\",\"y\":[48.18],\"yaxis\":\"y\",\"type\":\"bar\"},{\"alignmentgroup\":\"True\",\"hovertemplate\":\"Scents=%{x}<br>Average discount =%{y}<extra></extra>\",\"legendgroup\":\"Floral\",\"marker\":{\"color\":\"rgb(237, 100, 90)\",\"pattern\":{\"shape\":\"\"}},\"name\":\"Floral\",\"offsetgroup\":\"Floral\",\"orientation\":\"v\",\"showlegend\":true,\"textposition\":\"auto\",\"x\":[\"Floral\"],\"xaxis\":\"x\",\"y\":[47.11],\"yaxis\":\"y\",\"type\":\"bar\"}],                        {\"template\":{\"data\":{\"histogram2dcontour\":[{\"type\":\"histogram2dcontour\",\"colorbar\":{\"outlinewidth\":0,\"ticks\":\"\"},\"colorscale\":[[0.0,\"#0d0887\"],[0.1111111111111111,\"#46039f\"],[0.2222222222222222,\"#7201a8\"],[0.3333333333333333,\"#9c179e\"],[0.4444444444444444,\"#bd3786\"],[0.5555555555555556,\"#d8576b\"],[0.6666666666666666,\"#ed7953\"],[0.7777777777777778,\"#fb9f3a\"],[0.8888888888888888,\"#fdca26\"],[1.0,\"#f0f921\"]]}],\"choropleth\":[{\"type\":\"choropleth\",\"colorbar\":{\"outlinewidth\":0,\"ticks\":\"\"}}],\"histogram2d\":[{\"type\":\"histogram2d\",\"colorbar\":{\"outlinewidth\":0,\"ticks\":\"\"},\"colorscale\":[[0.0,\"#0d0887\"],[0.1111111111111111,\"#46039f\"],[0.2222222222222222,\"#7201a8\"],[0.3333333333333333,\"#9c179e\"],[0.4444444444444444,\"#bd3786\"],[0.5555555555555556,\"#d8576b\"],[0.6666666666666666,\"#ed7953\"],[0.7777777777777778,\"#fb9f3a\"],[0.8888888888888888,\"#fdca26\"],[1.0,\"#f0f921\"]]}],\"heatmap\":[{\"type\":\"heatmap\",\"colorbar\":{\"outlinewidth\":0,\"ticks\":\"\"},\"colorscale\":[[0.0,\"#0d0887\"],[0.1111111111111111,\"#46039f\"],[0.2222222222222222,\"#7201a8\"],[0.3333333333333333,\"#9c179e\"],[0.4444444444444444,\"#bd3786\"],[0.5555555555555556,\"#d8576b\"],[0.6666666666666666,\"#ed7953\"],[0.7777777777777778,\"#fb9f3a\"],[0.8888888888888888,\"#fdca26\"],[1.0,\"#f0f921\"]]}],\"heatmapgl\":[{\"type\":\"heatmapgl\",\"colorbar\":{\"outlinewidth\":0,\"ticks\":\"\"},\"colorscale\":[[0.0,\"#0d0887\"],[0.1111111111111111,\"#46039f\"],[0.2222222222222222,\"#7201a8\"],[0.3333333333333333,\"#9c179e\"],[0.4444444444444444,\"#bd3786\"],[0.5555555555555556,\"#d8576b\"],[0.6666666666666666,\"#ed7953\"],[0.7777777777777778,\"#fb9f3a\"],[0.8888888888888888,\"#fdca26\"],[1.0,\"#f0f921\"]]}],\"contourcarpet\":[{\"type\":\"contourcarpet\",\"colorbar\":{\"outlinewidth\":0,\"ticks\":\"\"}}],\"contour\":[{\"type\":\"contour\",\"colorbar\":{\"outlinewidth\":0,\"ticks\":\"\"},\"colorscale\":[[0.0,\"#0d0887\"],[0.1111111111111111,\"#46039f\"],[0.2222222222222222,\"#7201a8\"],[0.3333333333333333,\"#9c179e\"],[0.4444444444444444,\"#bd3786\"],[0.5555555555555556,\"#d8576b\"],[0.6666666666666666,\"#ed7953\"],[0.7777777777777778,\"#fb9f3a\"],[0.8888888888888888,\"#fdca26\"],[1.0,\"#f0f921\"]]}],\"surface\":[{\"type\":\"surface\",\"colorbar\":{\"outlinewidth\":0,\"ticks\":\"\"},\"colorscale\":[[0.0,\"#0d0887\"],[0.1111111111111111,\"#46039f\"],[0.2222222222222222,\"#7201a8\"],[0.3333333333333333,\"#9c179e\"],[0.4444444444444444,\"#bd3786\"],[0.5555555555555556,\"#d8576b\"],[0.6666666666666666,\"#ed7953\"],[0.7777777777777778,\"#fb9f3a\"],[0.8888888888888888,\"#fdca26\"],[1.0,\"#f0f921\"]]}],\"mesh3d\":[{\"type\":\"mesh3d\",\"colorbar\":{\"outlinewidth\":0,\"ticks\":\"\"}}],\"scatter\":[{\"fillpattern\":{\"fillmode\":\"overlay\",\"size\":10,\"solidity\":0.2},\"type\":\"scatter\"}],\"parcoords\":[{\"type\":\"parcoords\",\"line\":{\"colorbar\":{\"outlinewidth\":0,\"ticks\":\"\"}}}],\"scatterpolargl\":[{\"type\":\"scatterpolargl\",\"marker\":{\"colorbar\":{\"outlinewidth\":0,\"ticks\":\"\"}}}],\"bar\":[{\"error_x\":{\"color\":\"#2a3f5f\"},\"error_y\":{\"color\":\"#2a3f5f\"},\"marker\":{\"line\":{\"color\":\"#E5ECF6\",\"width\":0.5},\"pattern\":{\"fillmode\":\"overlay\",\"size\":10,\"solidity\":0.2}},\"type\":\"bar\"}],\"scattergeo\":[{\"type\":\"scattergeo\",\"marker\":{\"colorbar\":{\"outlinewidth\":0,\"ticks\":\"\"}}}],\"scatterpolar\":[{\"type\":\"scatterpolar\",\"marker\":{\"colorbar\":{\"outlinewidth\":0,\"ticks\":\"\"}}}],\"histogram\":[{\"marker\":{\"pattern\":{\"fillmode\":\"overlay\",\"size\":10,\"solidity\":0.2}},\"type\":\"histogram\"}],\"scattergl\":[{\"type\":\"scattergl\",\"marker\":{\"colorbar\":{\"outlinewidth\":0,\"ticks\":\"\"}}}],\"scatter3d\":[{\"type\":\"scatter3d\",\"line\":{\"colorbar\":{\"outlinewidth\":0,\"ticks\":\"\"}},\"marker\":{\"colorbar\":{\"outlinewidth\":0,\"ticks\":\"\"}}}],\"scattermapbox\":[{\"type\":\"scattermapbox\",\"marker\":{\"colorbar\":{\"outlinewidth\":0,\"ticks\":\"\"}}}],\"scatterternary\":[{\"type\":\"scatterternary\",\"marker\":{\"colorbar\":{\"outlinewidth\":0,\"ticks\":\"\"}}}],\"scattercarpet\":[{\"type\":\"scattercarpet\",\"marker\":{\"colorbar\":{\"outlinewidth\":0,\"ticks\":\"\"}}}],\"carpet\":[{\"aaxis\":{\"endlinecolor\":\"#2a3f5f\",\"gridcolor\":\"white\",\"linecolor\":\"white\",\"minorgridcolor\":\"white\",\"startlinecolor\":\"#2a3f5f\"},\"baxis\":{\"endlinecolor\":\"#2a3f5f\",\"gridcolor\":\"white\",\"linecolor\":\"white\",\"minorgridcolor\":\"white\",\"startlinecolor\":\"#2a3f5f\"},\"type\":\"carpet\"}],\"table\":[{\"cells\":{\"fill\":{\"color\":\"#EBF0F8\"},\"line\":{\"color\":\"white\"}},\"header\":{\"fill\":{\"color\":\"#C8D4E3\"},\"line\":{\"color\":\"white\"}},\"type\":\"table\"}],\"barpolar\":[{\"marker\":{\"line\":{\"color\":\"#E5ECF6\",\"width\":0.5},\"pattern\":{\"fillmode\":\"overlay\",\"size\":10,\"solidity\":0.2}},\"type\":\"barpolar\"}],\"pie\":[{\"automargin\":true,\"type\":\"pie\"}]},\"layout\":{\"autotypenumbers\":\"strict\",\"colorway\":[\"#636efa\",\"#EF553B\",\"#00cc96\",\"#ab63fa\",\"#FFA15A\",\"#19d3f3\",\"#FF6692\",\"#B6E880\",\"#FF97FF\",\"#FECB52\"],\"font\":{\"color\":\"#2a3f5f\"},\"hovermode\":\"closest\",\"hoverlabel\":{\"align\":\"left\"},\"paper_bgcolor\":\"white\",\"plot_bgcolor\":\"#E5ECF6\",\"polar\":{\"bgcolor\":\"#E5ECF6\",\"angularaxis\":{\"gridcolor\":\"white\",\"linecolor\":\"white\",\"ticks\":\"\"},\"radialaxis\":{\"gridcolor\":\"white\",\"linecolor\":\"white\",\"ticks\":\"\"}},\"ternary\":{\"bgcolor\":\"#E5ECF6\",\"aaxis\":{\"gridcolor\":\"white\",\"linecolor\":\"white\",\"ticks\":\"\"},\"baxis\":{\"gridcolor\":\"white\",\"linecolor\":\"white\",\"ticks\":\"\"},\"caxis\":{\"gridcolor\":\"white\",\"linecolor\":\"white\",\"ticks\":\"\"}},\"coloraxis\":{\"colorbar\":{\"outlinewidth\":0,\"ticks\":\"\"}},\"colorscale\":{\"sequential\":[[0.0,\"#0d0887\"],[0.1111111111111111,\"#46039f\"],[0.2222222222222222,\"#7201a8\"],[0.3333333333333333,\"#9c179e\"],[0.4444444444444444,\"#bd3786\"],[0.5555555555555556,\"#d8576b\"],[0.6666666666666666,\"#ed7953\"],[0.7777777777777778,\"#fb9f3a\"],[0.8888888888888888,\"#fdca26\"],[1.0,\"#f0f921\"]],\"sequentialminus\":[[0.0,\"#0d0887\"],[0.1111111111111111,\"#46039f\"],[0.2222222222222222,\"#7201a8\"],[0.3333333333333333,\"#9c179e\"],[0.4444444444444444,\"#bd3786\"],[0.5555555555555556,\"#d8576b\"],[0.6666666666666666,\"#ed7953\"],[0.7777777777777778,\"#fb9f3a\"],[0.8888888888888888,\"#fdca26\"],[1.0,\"#f0f921\"]],\"diverging\":[[0,\"#8e0152\"],[0.1,\"#c51b7d\"],[0.2,\"#de77ae\"],[0.3,\"#f1b6da\"],[0.4,\"#fde0ef\"],[0.5,\"#f7f7f7\"],[0.6,\"#e6f5d0\"],[0.7,\"#b8e186\"],[0.8,\"#7fbc41\"],[0.9,\"#4d9221\"],[1,\"#276419\"]]},\"xaxis\":{\"gridcolor\":\"white\",\"linecolor\":\"white\",\"ticks\":\"\",\"title\":{\"standoff\":15},\"zerolinecolor\":\"white\",\"automargin\":true,\"zerolinewidth\":2},\"yaxis\":{\"gridcolor\":\"white\",\"linecolor\":\"white\",\"ticks\":\"\",\"title\":{\"standoff\":15},\"zerolinecolor\":\"white\",\"automargin\":true,\"zerolinewidth\":2},\"scene\":{\"xaxis\":{\"backgroundcolor\":\"#E5ECF6\",\"gridcolor\":\"white\",\"linecolor\":\"white\",\"showbackground\":true,\"ticks\":\"\",\"zerolinecolor\":\"white\",\"gridwidth\":2},\"yaxis\":{\"backgroundcolor\":\"#E5ECF6\",\"gridcolor\":\"white\",\"linecolor\":\"white\",\"showbackground\":true,\"ticks\":\"\",\"zerolinecolor\":\"white\",\"gridwidth\":2},\"zaxis\":{\"backgroundcolor\":\"#E5ECF6\",\"gridcolor\":\"white\",\"linecolor\":\"white\",\"showbackground\":true,\"ticks\":\"\",\"zerolinecolor\":\"white\",\"gridwidth\":2}},\"shapedefaults\":{\"line\":{\"color\":\"#2a3f5f\"}},\"annotationdefaults\":{\"arrowcolor\":\"#2a3f5f\",\"arrowhead\":0,\"arrowwidth\":1},\"geo\":{\"bgcolor\":\"white\",\"landcolor\":\"#E5ECF6\",\"subunitcolor\":\"white\",\"showland\":true,\"showlakes\":true,\"lakecolor\":\"white\"},\"title\":{\"x\":0.05},\"mapbox\":{\"style\":\"light\"}}},\"xaxis\":{\"anchor\":\"y\",\"domain\":[0.0,1.0],\"title\":{\"text\":\"Scents\"},\"categoryorder\":\"array\",\"categoryarray\":[\"Oriental, Floral\",\"Floral and Oriental\",\"Clean\",\"Woody, Sweet\",\"Vanilla\",\"Citrus\",\"Arabian\",\"Woody And Spicy\",\"Fruity\",\"Floral\"]},\"yaxis\":{\"anchor\":\"x\",\"domain\":[0.0,1.0],\"title\":{\"text\":\"Average discount \"}},\"legend\":{\"title\":{\"text\":\"Scents\"},\"tracegroupgap\":0},\"title\":{\"text\":\"10 Most Discounted Scents\"},\"barmode\":\"relative\"},                        {\"responsive\": true}                    ).then(function(){\n",
       "                            \n",
       "var gd = document.getElementById('c95e0f5a-f70d-4157-b7f2-9917bad61432');\n",
       "var x = new MutationObserver(function (mutations, observer) {{\n",
       "        var display = window.getComputedStyle(gd).display;\n",
       "        if (!display || display === 'none') {{\n",
       "            console.log([gd, 'removed!']);\n",
       "            Plotly.purge(gd);\n",
       "            observer.disconnect();\n",
       "        }}\n",
       "}});\n",
       "\n",
       "// Listen for the removal of the full notebook cells\n",
       "var notebookContainer = gd.closest('#notebook-container');\n",
       "if (notebookContainer) {{\n",
       "    x.observe(notebookContainer, {childList: true});\n",
       "}}\n",
       "\n",
       "// Listen for the clearing of the current output cell\n",
       "var outputEl = gd.closest('.output');\n",
       "if (outputEl) {{\n",
       "    x.observe(outputEl, {childList: true});\n",
       "}}\n",
       "\n",
       "                        })                };                });            </script>        </div>"
      ]
     },
     "metadata": {},
     "output_type": "display_data"
    }
   ],
   "source": [
    "df2 = df1.copy()\n",
    "mean = df2.groupby('scents')['discount%'].mean()\n",
    "\n",
    "mean.index\n",
    "df3 = mean.reset_index()\n",
    "df3['discount%'] = df3['discount%'].round(decimals=2)\n",
    "df3 = df3.sort_values(by='discount%',ascending=False).head(10)\n",
    "\n",
    "fig = px.bar(df3, x='scents', y='discount%', title='10 Most Discounted Scents',color_discrete_sequence=px.colors.qualitative.Vivid,color='scents',labels={'discount%':'Average discount ','scents':'Scents'})\n",
    "fig.show()"
   ]
  },
  {
   "cell_type": "code",
   "execution_count": 28,
   "id": "e91ed845",
   "metadata": {},
   "outputs": [
    {
     "data": {
      "application/vnd.plotly.v1+json": {
       "config": {
        "plotlyServerURL": "https://plot.ly"
       },
       "data": [
        {
         "alignmentgroup": "True",
         "hovertemplate": "Department=%{x}<br>Average Price=%{y}<extra></extra>",
         "legendgroup": "Women",
         "marker": {
          "color": "rgb(229, 134, 6)",
          "pattern": {
           "shape": ""
          }
         },
         "name": "Women",
         "offsetgroup": "Women",
         "orientation": "v",
         "showlegend": true,
         "textposition": "auto",
         "type": "bar",
         "x": [
          "Women"
         ],
         "xaxis": "x",
         "y": [
          162.92
         ],
         "yaxis": "y"
        },
        {
         "alignmentgroup": "True",
         "hovertemplate": "Department=%{x}<br>Average Price=%{y}<extra></extra>",
         "legendgroup": "Men",
         "marker": {
          "color": "rgb(93, 105, 177)",
          "pattern": {
           "shape": ""
          }
         },
         "name": "Men",
         "offsetgroup": "Men",
         "orientation": "v",
         "showlegend": true,
         "textposition": "auto",
         "type": "bar",
         "x": [
          "Men"
         ],
         "xaxis": "x",
         "y": [
          138.9
         ],
         "yaxis": "y"
        },
        {
         "alignmentgroup": "True",
         "hovertemplate": "Department=%{x}<br>Average Price=%{y}<extra></extra>",
         "legendgroup": "Unisex",
         "marker": {
          "color": "rgb(82, 188, 163)",
          "pattern": {
           "shape": ""
          }
         },
         "name": "Unisex",
         "offsetgroup": "Unisex",
         "orientation": "v",
         "showlegend": true,
         "textposition": "auto",
         "type": "bar",
         "x": [
          "Unisex"
         ],
         "xaxis": "x",
         "y": [
          118.38
         ],
         "yaxis": "y"
        }
       ],
       "layout": {
        "barmode": "relative",
        "legend": {
         "title": {
          "text": "Department"
         },
         "tracegroupgap": 0
        },
        "template": {
         "data": {
          "bar": [
           {
            "error_x": {
             "color": "#2a3f5f"
            },
            "error_y": {
             "color": "#2a3f5f"
            },
            "marker": {
             "line": {
              "color": "#E5ECF6",
              "width": 0.5
             },
             "pattern": {
              "fillmode": "overlay",
              "size": 10,
              "solidity": 0.2
             }
            },
            "type": "bar"
           }
          ],
          "barpolar": [
           {
            "marker": {
             "line": {
              "color": "#E5ECF6",
              "width": 0.5
             },
             "pattern": {
              "fillmode": "overlay",
              "size": 10,
              "solidity": 0.2
             }
            },
            "type": "barpolar"
           }
          ],
          "carpet": [
           {
            "aaxis": {
             "endlinecolor": "#2a3f5f",
             "gridcolor": "white",
             "linecolor": "white",
             "minorgridcolor": "white",
             "startlinecolor": "#2a3f5f"
            },
            "baxis": {
             "endlinecolor": "#2a3f5f",
             "gridcolor": "white",
             "linecolor": "white",
             "minorgridcolor": "white",
             "startlinecolor": "#2a3f5f"
            },
            "type": "carpet"
           }
          ],
          "choropleth": [
           {
            "colorbar": {
             "outlinewidth": 0,
             "ticks": ""
            },
            "type": "choropleth"
           }
          ],
          "contour": [
           {
            "colorbar": {
             "outlinewidth": 0,
             "ticks": ""
            },
            "colorscale": [
             [
              0,
              "#0d0887"
             ],
             [
              0.1111111111111111,
              "#46039f"
             ],
             [
              0.2222222222222222,
              "#7201a8"
             ],
             [
              0.3333333333333333,
              "#9c179e"
             ],
             [
              0.4444444444444444,
              "#bd3786"
             ],
             [
              0.5555555555555556,
              "#d8576b"
             ],
             [
              0.6666666666666666,
              "#ed7953"
             ],
             [
              0.7777777777777778,
              "#fb9f3a"
             ],
             [
              0.8888888888888888,
              "#fdca26"
             ],
             [
              1,
              "#f0f921"
             ]
            ],
            "type": "contour"
           }
          ],
          "contourcarpet": [
           {
            "colorbar": {
             "outlinewidth": 0,
             "ticks": ""
            },
            "type": "contourcarpet"
           }
          ],
          "heatmap": [
           {
            "colorbar": {
             "outlinewidth": 0,
             "ticks": ""
            },
            "colorscale": [
             [
              0,
              "#0d0887"
             ],
             [
              0.1111111111111111,
              "#46039f"
             ],
             [
              0.2222222222222222,
              "#7201a8"
             ],
             [
              0.3333333333333333,
              "#9c179e"
             ],
             [
              0.4444444444444444,
              "#bd3786"
             ],
             [
              0.5555555555555556,
              "#d8576b"
             ],
             [
              0.6666666666666666,
              "#ed7953"
             ],
             [
              0.7777777777777778,
              "#fb9f3a"
             ],
             [
              0.8888888888888888,
              "#fdca26"
             ],
             [
              1,
              "#f0f921"
             ]
            ],
            "type": "heatmap"
           }
          ],
          "heatmapgl": [
           {
            "colorbar": {
             "outlinewidth": 0,
             "ticks": ""
            },
            "colorscale": [
             [
              0,
              "#0d0887"
             ],
             [
              0.1111111111111111,
              "#46039f"
             ],
             [
              0.2222222222222222,
              "#7201a8"
             ],
             [
              0.3333333333333333,
              "#9c179e"
             ],
             [
              0.4444444444444444,
              "#bd3786"
             ],
             [
              0.5555555555555556,
              "#d8576b"
             ],
             [
              0.6666666666666666,
              "#ed7953"
             ],
             [
              0.7777777777777778,
              "#fb9f3a"
             ],
             [
              0.8888888888888888,
              "#fdca26"
             ],
             [
              1,
              "#f0f921"
             ]
            ],
            "type": "heatmapgl"
           }
          ],
          "histogram": [
           {
            "marker": {
             "pattern": {
              "fillmode": "overlay",
              "size": 10,
              "solidity": 0.2
             }
            },
            "type": "histogram"
           }
          ],
          "histogram2d": [
           {
            "colorbar": {
             "outlinewidth": 0,
             "ticks": ""
            },
            "colorscale": [
             [
              0,
              "#0d0887"
             ],
             [
              0.1111111111111111,
              "#46039f"
             ],
             [
              0.2222222222222222,
              "#7201a8"
             ],
             [
              0.3333333333333333,
              "#9c179e"
             ],
             [
              0.4444444444444444,
              "#bd3786"
             ],
             [
              0.5555555555555556,
              "#d8576b"
             ],
             [
              0.6666666666666666,
              "#ed7953"
             ],
             [
              0.7777777777777778,
              "#fb9f3a"
             ],
             [
              0.8888888888888888,
              "#fdca26"
             ],
             [
              1,
              "#f0f921"
             ]
            ],
            "type": "histogram2d"
           }
          ],
          "histogram2dcontour": [
           {
            "colorbar": {
             "outlinewidth": 0,
             "ticks": ""
            },
            "colorscale": [
             [
              0,
              "#0d0887"
             ],
             [
              0.1111111111111111,
              "#46039f"
             ],
             [
              0.2222222222222222,
              "#7201a8"
             ],
             [
              0.3333333333333333,
              "#9c179e"
             ],
             [
              0.4444444444444444,
              "#bd3786"
             ],
             [
              0.5555555555555556,
              "#d8576b"
             ],
             [
              0.6666666666666666,
              "#ed7953"
             ],
             [
              0.7777777777777778,
              "#fb9f3a"
             ],
             [
              0.8888888888888888,
              "#fdca26"
             ],
             [
              1,
              "#f0f921"
             ]
            ],
            "type": "histogram2dcontour"
           }
          ],
          "mesh3d": [
           {
            "colorbar": {
             "outlinewidth": 0,
             "ticks": ""
            },
            "type": "mesh3d"
           }
          ],
          "parcoords": [
           {
            "line": {
             "colorbar": {
              "outlinewidth": 0,
              "ticks": ""
             }
            },
            "type": "parcoords"
           }
          ],
          "pie": [
           {
            "automargin": true,
            "type": "pie"
           }
          ],
          "scatter": [
           {
            "fillpattern": {
             "fillmode": "overlay",
             "size": 10,
             "solidity": 0.2
            },
            "type": "scatter"
           }
          ],
          "scatter3d": [
           {
            "line": {
             "colorbar": {
              "outlinewidth": 0,
              "ticks": ""
             }
            },
            "marker": {
             "colorbar": {
              "outlinewidth": 0,
              "ticks": ""
             }
            },
            "type": "scatter3d"
           }
          ],
          "scattercarpet": [
           {
            "marker": {
             "colorbar": {
              "outlinewidth": 0,
              "ticks": ""
             }
            },
            "type": "scattercarpet"
           }
          ],
          "scattergeo": [
           {
            "marker": {
             "colorbar": {
              "outlinewidth": 0,
              "ticks": ""
             }
            },
            "type": "scattergeo"
           }
          ],
          "scattergl": [
           {
            "marker": {
             "colorbar": {
              "outlinewidth": 0,
              "ticks": ""
             }
            },
            "type": "scattergl"
           }
          ],
          "scattermapbox": [
           {
            "marker": {
             "colorbar": {
              "outlinewidth": 0,
              "ticks": ""
             }
            },
            "type": "scattermapbox"
           }
          ],
          "scatterpolar": [
           {
            "marker": {
             "colorbar": {
              "outlinewidth": 0,
              "ticks": ""
             }
            },
            "type": "scatterpolar"
           }
          ],
          "scatterpolargl": [
           {
            "marker": {
             "colorbar": {
              "outlinewidth": 0,
              "ticks": ""
             }
            },
            "type": "scatterpolargl"
           }
          ],
          "scatterternary": [
           {
            "marker": {
             "colorbar": {
              "outlinewidth": 0,
              "ticks": ""
             }
            },
            "type": "scatterternary"
           }
          ],
          "surface": [
           {
            "colorbar": {
             "outlinewidth": 0,
             "ticks": ""
            },
            "colorscale": [
             [
              0,
              "#0d0887"
             ],
             [
              0.1111111111111111,
              "#46039f"
             ],
             [
              0.2222222222222222,
              "#7201a8"
             ],
             [
              0.3333333333333333,
              "#9c179e"
             ],
             [
              0.4444444444444444,
              "#bd3786"
             ],
             [
              0.5555555555555556,
              "#d8576b"
             ],
             [
              0.6666666666666666,
              "#ed7953"
             ],
             [
              0.7777777777777778,
              "#fb9f3a"
             ],
             [
              0.8888888888888888,
              "#fdca26"
             ],
             [
              1,
              "#f0f921"
             ]
            ],
            "type": "surface"
           }
          ],
          "table": [
           {
            "cells": {
             "fill": {
              "color": "#EBF0F8"
             },
             "line": {
              "color": "white"
             }
            },
            "header": {
             "fill": {
              "color": "#C8D4E3"
             },
             "line": {
              "color": "white"
             }
            },
            "type": "table"
           }
          ]
         },
         "layout": {
          "annotationdefaults": {
           "arrowcolor": "#2a3f5f",
           "arrowhead": 0,
           "arrowwidth": 1
          },
          "autotypenumbers": "strict",
          "coloraxis": {
           "colorbar": {
            "outlinewidth": 0,
            "ticks": ""
           }
          },
          "colorscale": {
           "diverging": [
            [
             0,
             "#8e0152"
            ],
            [
             0.1,
             "#c51b7d"
            ],
            [
             0.2,
             "#de77ae"
            ],
            [
             0.3,
             "#f1b6da"
            ],
            [
             0.4,
             "#fde0ef"
            ],
            [
             0.5,
             "#f7f7f7"
            ],
            [
             0.6,
             "#e6f5d0"
            ],
            [
             0.7,
             "#b8e186"
            ],
            [
             0.8,
             "#7fbc41"
            ],
            [
             0.9,
             "#4d9221"
            ],
            [
             1,
             "#276419"
            ]
           ],
           "sequential": [
            [
             0,
             "#0d0887"
            ],
            [
             0.1111111111111111,
             "#46039f"
            ],
            [
             0.2222222222222222,
             "#7201a8"
            ],
            [
             0.3333333333333333,
             "#9c179e"
            ],
            [
             0.4444444444444444,
             "#bd3786"
            ],
            [
             0.5555555555555556,
             "#d8576b"
            ],
            [
             0.6666666666666666,
             "#ed7953"
            ],
            [
             0.7777777777777778,
             "#fb9f3a"
            ],
            [
             0.8888888888888888,
             "#fdca26"
            ],
            [
             1,
             "#f0f921"
            ]
           ],
           "sequentialminus": [
            [
             0,
             "#0d0887"
            ],
            [
             0.1111111111111111,
             "#46039f"
            ],
            [
             0.2222222222222222,
             "#7201a8"
            ],
            [
             0.3333333333333333,
             "#9c179e"
            ],
            [
             0.4444444444444444,
             "#bd3786"
            ],
            [
             0.5555555555555556,
             "#d8576b"
            ],
            [
             0.6666666666666666,
             "#ed7953"
            ],
            [
             0.7777777777777778,
             "#fb9f3a"
            ],
            [
             0.8888888888888888,
             "#fdca26"
            ],
            [
             1,
             "#f0f921"
            ]
           ]
          },
          "colorway": [
           "#636efa",
           "#EF553B",
           "#00cc96",
           "#ab63fa",
           "#FFA15A",
           "#19d3f3",
           "#FF6692",
           "#B6E880",
           "#FF97FF",
           "#FECB52"
          ],
          "font": {
           "color": "#2a3f5f"
          },
          "geo": {
           "bgcolor": "white",
           "lakecolor": "white",
           "landcolor": "#E5ECF6",
           "showlakes": true,
           "showland": true,
           "subunitcolor": "white"
          },
          "hoverlabel": {
           "align": "left"
          },
          "hovermode": "closest",
          "mapbox": {
           "style": "light"
          },
          "paper_bgcolor": "white",
          "plot_bgcolor": "#E5ECF6",
          "polar": {
           "angularaxis": {
            "gridcolor": "white",
            "linecolor": "white",
            "ticks": ""
           },
           "bgcolor": "#E5ECF6",
           "radialaxis": {
            "gridcolor": "white",
            "linecolor": "white",
            "ticks": ""
           }
          },
          "scene": {
           "xaxis": {
            "backgroundcolor": "#E5ECF6",
            "gridcolor": "white",
            "gridwidth": 2,
            "linecolor": "white",
            "showbackground": true,
            "ticks": "",
            "zerolinecolor": "white"
           },
           "yaxis": {
            "backgroundcolor": "#E5ECF6",
            "gridcolor": "white",
            "gridwidth": 2,
            "linecolor": "white",
            "showbackground": true,
            "ticks": "",
            "zerolinecolor": "white"
           },
           "zaxis": {
            "backgroundcolor": "#E5ECF6",
            "gridcolor": "white",
            "gridwidth": 2,
            "linecolor": "white",
            "showbackground": true,
            "ticks": "",
            "zerolinecolor": "white"
           }
          },
          "shapedefaults": {
           "line": {
            "color": "#2a3f5f"
           }
          },
          "ternary": {
           "aaxis": {
            "gridcolor": "white",
            "linecolor": "white",
            "ticks": ""
           },
           "baxis": {
            "gridcolor": "white",
            "linecolor": "white",
            "ticks": ""
           },
           "bgcolor": "#E5ECF6",
           "caxis": {
            "gridcolor": "white",
            "linecolor": "white",
            "ticks": ""
           }
          },
          "title": {
           "x": 0.05
          },
          "xaxis": {
           "automargin": true,
           "gridcolor": "white",
           "linecolor": "white",
           "ticks": "",
           "title": {
            "standoff": 15
           },
           "zerolinecolor": "white",
           "zerolinewidth": 2
          },
          "yaxis": {
           "automargin": true,
           "gridcolor": "white",
           "linecolor": "white",
           "ticks": "",
           "title": {
            "standoff": 15
           },
           "zerolinecolor": "white",
           "zerolinewidth": 2
          }
         }
        },
        "title": {
         "text": "Most Expensive Perfumes based on department"
        },
        "xaxis": {
         "anchor": "y",
         "categoryarray": [
          "Women",
          "Men",
          "Unisex"
         ],
         "categoryorder": "array",
         "domain": [
          0,
          1
         ],
         "title": {
          "text": "Department"
         }
        },
        "yaxis": {
         "anchor": "x",
         "domain": [
          0,
          1
         ],
         "title": {
          "text": "Average Price"
         }
        }
       }
      },
      "text/html": [
       "<div>                            <div id=\"dfbc414c-7faf-41ee-8588-fe04585aef77\" class=\"plotly-graph-div\" style=\"height:525px; width:100%;\"></div>            <script type=\"text/javascript\">                require([\"plotly\"], function(Plotly) {                    window.PLOTLYENV=window.PLOTLYENV || {};                                    if (document.getElementById(\"dfbc414c-7faf-41ee-8588-fe04585aef77\")) {                    Plotly.newPlot(                        \"dfbc414c-7faf-41ee-8588-fe04585aef77\",                        [{\"alignmentgroup\":\"True\",\"hovertemplate\":\"Department=%{x}<br>Average Price=%{y}<extra></extra>\",\"legendgroup\":\"Women\",\"marker\":{\"color\":\"rgb(229, 134, 6)\",\"pattern\":{\"shape\":\"\"}},\"name\":\"Women\",\"offsetgroup\":\"Women\",\"orientation\":\"v\",\"showlegend\":true,\"textposition\":\"auto\",\"x\":[\"Women\"],\"xaxis\":\"x\",\"y\":[162.92],\"yaxis\":\"y\",\"type\":\"bar\"},{\"alignmentgroup\":\"True\",\"hovertemplate\":\"Department=%{x}<br>Average Price=%{y}<extra></extra>\",\"legendgroup\":\"Men\",\"marker\":{\"color\":\"rgb(93, 105, 177)\",\"pattern\":{\"shape\":\"\"}},\"name\":\"Men\",\"offsetgroup\":\"Men\",\"orientation\":\"v\",\"showlegend\":true,\"textposition\":\"auto\",\"x\":[\"Men\"],\"xaxis\":\"x\",\"y\":[138.9],\"yaxis\":\"y\",\"type\":\"bar\"},{\"alignmentgroup\":\"True\",\"hovertemplate\":\"Department=%{x}<br>Average Price=%{y}<extra></extra>\",\"legendgroup\":\"Unisex\",\"marker\":{\"color\":\"rgb(82, 188, 163)\",\"pattern\":{\"shape\":\"\"}},\"name\":\"Unisex\",\"offsetgroup\":\"Unisex\",\"orientation\":\"v\",\"showlegend\":true,\"textposition\":\"auto\",\"x\":[\"Unisex\"],\"xaxis\":\"x\",\"y\":[118.38],\"yaxis\":\"y\",\"type\":\"bar\"}],                        {\"template\":{\"data\":{\"histogram2dcontour\":[{\"type\":\"histogram2dcontour\",\"colorbar\":{\"outlinewidth\":0,\"ticks\":\"\"},\"colorscale\":[[0.0,\"#0d0887\"],[0.1111111111111111,\"#46039f\"],[0.2222222222222222,\"#7201a8\"],[0.3333333333333333,\"#9c179e\"],[0.4444444444444444,\"#bd3786\"],[0.5555555555555556,\"#d8576b\"],[0.6666666666666666,\"#ed7953\"],[0.7777777777777778,\"#fb9f3a\"],[0.8888888888888888,\"#fdca26\"],[1.0,\"#f0f921\"]]}],\"choropleth\":[{\"type\":\"choropleth\",\"colorbar\":{\"outlinewidth\":0,\"ticks\":\"\"}}],\"histogram2d\":[{\"type\":\"histogram2d\",\"colorbar\":{\"outlinewidth\":0,\"ticks\":\"\"},\"colorscale\":[[0.0,\"#0d0887\"],[0.1111111111111111,\"#46039f\"],[0.2222222222222222,\"#7201a8\"],[0.3333333333333333,\"#9c179e\"],[0.4444444444444444,\"#bd3786\"],[0.5555555555555556,\"#d8576b\"],[0.6666666666666666,\"#ed7953\"],[0.7777777777777778,\"#fb9f3a\"],[0.8888888888888888,\"#fdca26\"],[1.0,\"#f0f921\"]]}],\"heatmap\":[{\"type\":\"heatmap\",\"colorbar\":{\"outlinewidth\":0,\"ticks\":\"\"},\"colorscale\":[[0.0,\"#0d0887\"],[0.1111111111111111,\"#46039f\"],[0.2222222222222222,\"#7201a8\"],[0.3333333333333333,\"#9c179e\"],[0.4444444444444444,\"#bd3786\"],[0.5555555555555556,\"#d8576b\"],[0.6666666666666666,\"#ed7953\"],[0.7777777777777778,\"#fb9f3a\"],[0.8888888888888888,\"#fdca26\"],[1.0,\"#f0f921\"]]}],\"heatmapgl\":[{\"type\":\"heatmapgl\",\"colorbar\":{\"outlinewidth\":0,\"ticks\":\"\"},\"colorscale\":[[0.0,\"#0d0887\"],[0.1111111111111111,\"#46039f\"],[0.2222222222222222,\"#7201a8\"],[0.3333333333333333,\"#9c179e\"],[0.4444444444444444,\"#bd3786\"],[0.5555555555555556,\"#d8576b\"],[0.6666666666666666,\"#ed7953\"],[0.7777777777777778,\"#fb9f3a\"],[0.8888888888888888,\"#fdca26\"],[1.0,\"#f0f921\"]]}],\"contourcarpet\":[{\"type\":\"contourcarpet\",\"colorbar\":{\"outlinewidth\":0,\"ticks\":\"\"}}],\"contour\":[{\"type\":\"contour\",\"colorbar\":{\"outlinewidth\":0,\"ticks\":\"\"},\"colorscale\":[[0.0,\"#0d0887\"],[0.1111111111111111,\"#46039f\"],[0.2222222222222222,\"#7201a8\"],[0.3333333333333333,\"#9c179e\"],[0.4444444444444444,\"#bd3786\"],[0.5555555555555556,\"#d8576b\"],[0.6666666666666666,\"#ed7953\"],[0.7777777777777778,\"#fb9f3a\"],[0.8888888888888888,\"#fdca26\"],[1.0,\"#f0f921\"]]}],\"surface\":[{\"type\":\"surface\",\"colorbar\":{\"outlinewidth\":0,\"ticks\":\"\"},\"colorscale\":[[0.0,\"#0d0887\"],[0.1111111111111111,\"#46039f\"],[0.2222222222222222,\"#7201a8\"],[0.3333333333333333,\"#9c179e\"],[0.4444444444444444,\"#bd3786\"],[0.5555555555555556,\"#d8576b\"],[0.6666666666666666,\"#ed7953\"],[0.7777777777777778,\"#fb9f3a\"],[0.8888888888888888,\"#fdca26\"],[1.0,\"#f0f921\"]]}],\"mesh3d\":[{\"type\":\"mesh3d\",\"colorbar\":{\"outlinewidth\":0,\"ticks\":\"\"}}],\"scatter\":[{\"fillpattern\":{\"fillmode\":\"overlay\",\"size\":10,\"solidity\":0.2},\"type\":\"scatter\"}],\"parcoords\":[{\"type\":\"parcoords\",\"line\":{\"colorbar\":{\"outlinewidth\":0,\"ticks\":\"\"}}}],\"scatterpolargl\":[{\"type\":\"scatterpolargl\",\"marker\":{\"colorbar\":{\"outlinewidth\":0,\"ticks\":\"\"}}}],\"bar\":[{\"error_x\":{\"color\":\"#2a3f5f\"},\"error_y\":{\"color\":\"#2a3f5f\"},\"marker\":{\"line\":{\"color\":\"#E5ECF6\",\"width\":0.5},\"pattern\":{\"fillmode\":\"overlay\",\"size\":10,\"solidity\":0.2}},\"type\":\"bar\"}],\"scattergeo\":[{\"type\":\"scattergeo\",\"marker\":{\"colorbar\":{\"outlinewidth\":0,\"ticks\":\"\"}}}],\"scatterpolar\":[{\"type\":\"scatterpolar\",\"marker\":{\"colorbar\":{\"outlinewidth\":0,\"ticks\":\"\"}}}],\"histogram\":[{\"marker\":{\"pattern\":{\"fillmode\":\"overlay\",\"size\":10,\"solidity\":0.2}},\"type\":\"histogram\"}],\"scattergl\":[{\"type\":\"scattergl\",\"marker\":{\"colorbar\":{\"outlinewidth\":0,\"ticks\":\"\"}}}],\"scatter3d\":[{\"type\":\"scatter3d\",\"line\":{\"colorbar\":{\"outlinewidth\":0,\"ticks\":\"\"}},\"marker\":{\"colorbar\":{\"outlinewidth\":0,\"ticks\":\"\"}}}],\"scattermapbox\":[{\"type\":\"scattermapbox\",\"marker\":{\"colorbar\":{\"outlinewidth\":0,\"ticks\":\"\"}}}],\"scatterternary\":[{\"type\":\"scatterternary\",\"marker\":{\"colorbar\":{\"outlinewidth\":0,\"ticks\":\"\"}}}],\"scattercarpet\":[{\"type\":\"scattercarpet\",\"marker\":{\"colorbar\":{\"outlinewidth\":0,\"ticks\":\"\"}}}],\"carpet\":[{\"aaxis\":{\"endlinecolor\":\"#2a3f5f\",\"gridcolor\":\"white\",\"linecolor\":\"white\",\"minorgridcolor\":\"white\",\"startlinecolor\":\"#2a3f5f\"},\"baxis\":{\"endlinecolor\":\"#2a3f5f\",\"gridcolor\":\"white\",\"linecolor\":\"white\",\"minorgridcolor\":\"white\",\"startlinecolor\":\"#2a3f5f\"},\"type\":\"carpet\"}],\"table\":[{\"cells\":{\"fill\":{\"color\":\"#EBF0F8\"},\"line\":{\"color\":\"white\"}},\"header\":{\"fill\":{\"color\":\"#C8D4E3\"},\"line\":{\"color\":\"white\"}},\"type\":\"table\"}],\"barpolar\":[{\"marker\":{\"line\":{\"color\":\"#E5ECF6\",\"width\":0.5},\"pattern\":{\"fillmode\":\"overlay\",\"size\":10,\"solidity\":0.2}},\"type\":\"barpolar\"}],\"pie\":[{\"automargin\":true,\"type\":\"pie\"}]},\"layout\":{\"autotypenumbers\":\"strict\",\"colorway\":[\"#636efa\",\"#EF553B\",\"#00cc96\",\"#ab63fa\",\"#FFA15A\",\"#19d3f3\",\"#FF6692\",\"#B6E880\",\"#FF97FF\",\"#FECB52\"],\"font\":{\"color\":\"#2a3f5f\"},\"hovermode\":\"closest\",\"hoverlabel\":{\"align\":\"left\"},\"paper_bgcolor\":\"white\",\"plot_bgcolor\":\"#E5ECF6\",\"polar\":{\"bgcolor\":\"#E5ECF6\",\"angularaxis\":{\"gridcolor\":\"white\",\"linecolor\":\"white\",\"ticks\":\"\"},\"radialaxis\":{\"gridcolor\":\"white\",\"linecolor\":\"white\",\"ticks\":\"\"}},\"ternary\":{\"bgcolor\":\"#E5ECF6\",\"aaxis\":{\"gridcolor\":\"white\",\"linecolor\":\"white\",\"ticks\":\"\"},\"baxis\":{\"gridcolor\":\"white\",\"linecolor\":\"white\",\"ticks\":\"\"},\"caxis\":{\"gridcolor\":\"white\",\"linecolor\":\"white\",\"ticks\":\"\"}},\"coloraxis\":{\"colorbar\":{\"outlinewidth\":0,\"ticks\":\"\"}},\"colorscale\":{\"sequential\":[[0.0,\"#0d0887\"],[0.1111111111111111,\"#46039f\"],[0.2222222222222222,\"#7201a8\"],[0.3333333333333333,\"#9c179e\"],[0.4444444444444444,\"#bd3786\"],[0.5555555555555556,\"#d8576b\"],[0.6666666666666666,\"#ed7953\"],[0.7777777777777778,\"#fb9f3a\"],[0.8888888888888888,\"#fdca26\"],[1.0,\"#f0f921\"]],\"sequentialminus\":[[0.0,\"#0d0887\"],[0.1111111111111111,\"#46039f\"],[0.2222222222222222,\"#7201a8\"],[0.3333333333333333,\"#9c179e\"],[0.4444444444444444,\"#bd3786\"],[0.5555555555555556,\"#d8576b\"],[0.6666666666666666,\"#ed7953\"],[0.7777777777777778,\"#fb9f3a\"],[0.8888888888888888,\"#fdca26\"],[1.0,\"#f0f921\"]],\"diverging\":[[0,\"#8e0152\"],[0.1,\"#c51b7d\"],[0.2,\"#de77ae\"],[0.3,\"#f1b6da\"],[0.4,\"#fde0ef\"],[0.5,\"#f7f7f7\"],[0.6,\"#e6f5d0\"],[0.7,\"#b8e186\"],[0.8,\"#7fbc41\"],[0.9,\"#4d9221\"],[1,\"#276419\"]]},\"xaxis\":{\"gridcolor\":\"white\",\"linecolor\":\"white\",\"ticks\":\"\",\"title\":{\"standoff\":15},\"zerolinecolor\":\"white\",\"automargin\":true,\"zerolinewidth\":2},\"yaxis\":{\"gridcolor\":\"white\",\"linecolor\":\"white\",\"ticks\":\"\",\"title\":{\"standoff\":15},\"zerolinecolor\":\"white\",\"automargin\":true,\"zerolinewidth\":2},\"scene\":{\"xaxis\":{\"backgroundcolor\":\"#E5ECF6\",\"gridcolor\":\"white\",\"linecolor\":\"white\",\"showbackground\":true,\"ticks\":\"\",\"zerolinecolor\":\"white\",\"gridwidth\":2},\"yaxis\":{\"backgroundcolor\":\"#E5ECF6\",\"gridcolor\":\"white\",\"linecolor\":\"white\",\"showbackground\":true,\"ticks\":\"\",\"zerolinecolor\":\"white\",\"gridwidth\":2},\"zaxis\":{\"backgroundcolor\":\"#E5ECF6\",\"gridcolor\":\"white\",\"linecolor\":\"white\",\"showbackground\":true,\"ticks\":\"\",\"zerolinecolor\":\"white\",\"gridwidth\":2}},\"shapedefaults\":{\"line\":{\"color\":\"#2a3f5f\"}},\"annotationdefaults\":{\"arrowcolor\":\"#2a3f5f\",\"arrowhead\":0,\"arrowwidth\":1},\"geo\":{\"bgcolor\":\"white\",\"landcolor\":\"#E5ECF6\",\"subunitcolor\":\"white\",\"showland\":true,\"showlakes\":true,\"lakecolor\":\"white\"},\"title\":{\"x\":0.05},\"mapbox\":{\"style\":\"light\"}}},\"xaxis\":{\"anchor\":\"y\",\"domain\":[0.0,1.0],\"title\":{\"text\":\"Department\"},\"categoryorder\":\"array\",\"categoryarray\":[\"Women\",\"Men\",\"Unisex\"]},\"yaxis\":{\"anchor\":\"x\",\"domain\":[0.0,1.0],\"title\":{\"text\":\"Average Price\"}},\"legend\":{\"title\":{\"text\":\"Department\"},\"tracegroupgap\":0},\"title\":{\"text\":\"Most Expensive Perfumes based on department\"},\"barmode\":\"relative\"},                        {\"responsive\": true}                    ).then(function(){\n",
       "                            \n",
       "var gd = document.getElementById('dfbc414c-7faf-41ee-8588-fe04585aef77');\n",
       "var x = new MutationObserver(function (mutations, observer) {{\n",
       "        var display = window.getComputedStyle(gd).display;\n",
       "        if (!display || display === 'none') {{\n",
       "            console.log([gd, 'removed!']);\n",
       "            Plotly.purge(gd);\n",
       "            observer.disconnect();\n",
       "        }}\n",
       "}});\n",
       "\n",
       "// Listen for the removal of the full notebook cells\n",
       "var notebookContainer = gd.closest('#notebook-container');\n",
       "if (notebookContainer) {{\n",
       "    x.observe(notebookContainer, {childList: true});\n",
       "}}\n",
       "\n",
       "// Listen for the clearing of the current output cell\n",
       "var outputEl = gd.closest('.output');\n",
       "if (outputEl) {{\n",
       "    x.observe(outputEl, {childList: true});\n",
       "}}\n",
       "\n",
       "                        })                };                });            </script>        </div>"
      ]
     },
     "metadata": {},
     "output_type": "display_data"
    }
   ],
   "source": [
    "df2 = df1.copy()\n",
    "mean = df2.groupby('department')['new_price'].mean()\n",
    "\n",
    "mean.index\n",
    "df3 = mean.reset_index()\n",
    "df3['new_price'] = df3['new_price'].round(decimals=2)\n",
    "df3 = df3.sort_values(by='new_price',ascending=False).head(10)\n",
    "\n",
    "fig = px.bar(df3, x='department', y='new_price', title='Most Expensive Perfumes based on department',color_discrete_sequence=px.colors.qualitative.Vivid,color='department',labels={'new_price':'Average Price','department':'Department'})\n",
    "fig.show()"
   ]
  },
  {
   "cell_type": "code",
   "execution_count": 31,
   "id": "ad283732",
   "metadata": {},
   "outputs": [
    {
     "data": {
      "application/vnd.plotly.v1+json": {
       "config": {
        "plotlyServerURL": "https://plot.ly"
       },
       "data": [
        {
         "hovertemplate": "Item Rating=%{x}<br>Discount=%{y}<extra></extra>",
         "legendgroup": "",
         "marker": {
          "color": "rgb(229, 134, 6)",
          "symbol": "circle"
         },
         "mode": "markers",
         "name": "",
         "showlegend": false,
         "type": "scattergl",
         "x": [
          5,
          4.8,
          5,
          3,
          4.8,
          4.8,
          4,
          2.9,
          4.8,
          4.5,
          4.3,
          3.7,
          4.5,
          3.3,
          3,
          5,
          4.5,
          4.9,
          4.5,
          5,
          4.6,
          5,
          4,
          5,
          5,
          4.7,
          5,
          5,
          4,
          5,
          5,
          5,
          5,
          4.3,
          3,
          4.5,
          5,
          4.6,
          5,
          5,
          5,
          4.6,
          4.4,
          5,
          5,
          5,
          5,
          4.5,
          3.5,
          5,
          3.8,
          4.6,
          4.4,
          4.8,
          5,
          5,
          4,
          4.9,
          4.7,
          5,
          4.3,
          4.9,
          5,
          4.5,
          4.7,
          4.2,
          5,
          4.4,
          5,
          4,
          5,
          4.4,
          3.5,
          4.5,
          5,
          4.5,
          4.6,
          4.9,
          4,
          4.8,
          3.8,
          5,
          4,
          4.8,
          4.5,
          4.8,
          4.6,
          4.8,
          3.7,
          5,
          4.3,
          4.7,
          5,
          4.7,
          4.8,
          5,
          4.6,
          4.1,
          5,
          2,
          4.5,
          4.8,
          5,
          5,
          5,
          4.7,
          4.5,
          5,
          4.2,
          3.8,
          4.5,
          4.5,
          4.6,
          5,
          4.5,
          5,
          4,
          4.4,
          5,
          3.4,
          5,
          5,
          4.8,
          4.5,
          4.4,
          4.3,
          4,
          5,
          4.5,
          4.8,
          4.2,
          4.4,
          4.5,
          4.8,
          4,
          4.6,
          3.9,
          4.4,
          4.7,
          3.9,
          5,
          4.9,
          4.7,
          5,
          4.4,
          5,
          5,
          4,
          4.5,
          5,
          4.7,
          4.5,
          4.5,
          4.1,
          5,
          4.4,
          5,
          4.7,
          4.6,
          4.9,
          4.7,
          4.6,
          4.7,
          4.5,
          4.7,
          4.7,
          4.9,
          5,
          5,
          5,
          4.5,
          4.4,
          4.5,
          3,
          4.8,
          5,
          4,
          4.7,
          5,
          4,
          4.6,
          4.4,
          4,
          4.3,
          4.4,
          3.9,
          4.8,
          5,
          4.6,
          4.6,
          4.9,
          4.4,
          4,
          4.3,
          4.5,
          5,
          4.4,
          4.7,
          5,
          4.1,
          5,
          5,
          5,
          4.7,
          4.7,
          5,
          5,
          4.8,
          4.6,
          4.6,
          5,
          4.5,
          4.3,
          5,
          4.2,
          4,
          3.3,
          5,
          5,
          4.3,
          5,
          5,
          5,
          4.3,
          4.2,
          3,
          5,
          5,
          5,
          4.3,
          5,
          5,
          5,
          4.6,
          4.8,
          5,
          4.3,
          5,
          4.4,
          5,
          4.5,
          4.7,
          4.6,
          4,
          4.4,
          4.3,
          4.6,
          3.5,
          5,
          4.6,
          4.6,
          4.8,
          4,
          4.5,
          4.5,
          4.3,
          5,
          1,
          5,
          5,
          4.5,
          4.5,
          5,
          4.2,
          4.9,
          5,
          4.5,
          4.4,
          4.5,
          3.7,
          3,
          5,
          4.3,
          4.4,
          4.8,
          4.8,
          5,
          2,
          5,
          5,
          5,
          4,
          5,
          4.2,
          4,
          4.5,
          5,
          5,
          4.2,
          4.7,
          5,
          4.7,
          4.7,
          5,
          4.4,
          3,
          5,
          3,
          4.8,
          4.4,
          4.3,
          4.5,
          5,
          4.4,
          4.3,
          1,
          4.2,
          4.5,
          4,
          4.5,
          3,
          3,
          5,
          4.8,
          4.4,
          5,
          5,
          5,
          4.5,
          4.3,
          4.5,
          4.2,
          5,
          5,
          2,
          5,
          4.8,
          4.2,
          4.5,
          5,
          5,
          5,
          5,
          4.4,
          4.5,
          4.9,
          4.4,
          5,
          5,
          4.8,
          4.5,
          5,
          5,
          4.3,
          4.6,
          4.2,
          5,
          4.7,
          4.5,
          5,
          4.1,
          5,
          5,
          5,
          4.6,
          4.5,
          4.7,
          5,
          5,
          4.6,
          5,
          3.3,
          4.8,
          4.4,
          4.8,
          4,
          4.5,
          4.5,
          4.5,
          4.5,
          3.7,
          5,
          4.8,
          4.5,
          5,
          4,
          5,
          4.3,
          4.9,
          5,
          3.4,
          5,
          4.8,
          5,
          4.3,
          5,
          4.8,
          5,
          4,
          4.3,
          5,
          4.4,
          4.7,
          4.7,
          4.9,
          5,
          4,
          5,
          5,
          5,
          4.4,
          5,
          4.5,
          4.4,
          4.3,
          5,
          4.7,
          4.5,
          4.8,
          5,
          5,
          4.5,
          4.5,
          4.3,
          3.8,
          4.7,
          4.7,
          4.8,
          5,
          4,
          4.2,
          5,
          4.3,
          4.6,
          5,
          5,
          4,
          4,
          4.5,
          5,
          5,
          4.4,
          5,
          5,
          3,
          4.7,
          4.7,
          5,
          4.4,
          4.5,
          4.4,
          5,
          4.7,
          5,
          5,
          5,
          4.4,
          4.4,
          5,
          4.4,
          4.3,
          3.6,
          4.5,
          4.7,
          4.2,
          5,
          4.5,
          4.6,
          5,
          5,
          4.7,
          5,
          4.7,
          4,
          4.5,
          4.4,
          5,
          4.3,
          4.3,
          4.5,
          4.3,
          4.4,
          4.4,
          4.4,
          4.5,
          5,
          5,
          4.5,
          5,
          4.7,
          4.9,
          4.6,
          4.4,
          4.3,
          4.5,
          4.6,
          4.9,
          4.8,
          5,
          4.5,
          4,
          5,
          5,
          4.3,
          5,
          5,
          4,
          5,
          3.9,
          4.1,
          4.6,
          4,
          4.3,
          4.7,
          5,
          4.5,
          4.7,
          5,
          4.7,
          4.5,
          4.2,
          4.7,
          4.7,
          4.8,
          5,
          5,
          4,
          5,
          4.8,
          5,
          5,
          4.5,
          4.3,
          4.6,
          4.4,
          5,
          4.6,
          4.4,
          4.8,
          4.5,
          4.8,
          3.5,
          5,
          4,
          4.4,
          4.8,
          1,
          4.5,
          4.7,
          5,
          4.3,
          5,
          4.6,
          5,
          5,
          4.4,
          4.1,
          4.4,
          4,
          5,
          4,
          4.5,
          5,
          5,
          4.4,
          4.6,
          4.6,
          5,
          5,
          4,
          4.7,
          5,
          5,
          4.5,
          4,
          4.3,
          4.7,
          5,
          4.6,
          4,
          4,
          5,
          4.4,
          4.5,
          4.6,
          5,
          4,
          5,
          4,
          4.5,
          4.8,
          4.5,
          4.8,
          3.3,
          5,
          5,
          5,
          4.5,
          4.8,
          4.5,
          4,
          4.8,
          4.6,
          4.6,
          4.8,
          4.3,
          4.9,
          4.5,
          5,
          5,
          5,
          5,
          4.6,
          4.4,
          4,
          5,
          4.8,
          4.7,
          4,
          4.3,
          4.7,
          5,
          5,
          4.9,
          5,
          4.5,
          5,
          5,
          4.7,
          5,
          4,
          4.6,
          5,
          4.8,
          5,
          5,
          5,
          4.1,
          5,
          4.3,
          5,
          4.6,
          4.7,
          3.5,
          5,
          4.5,
          4.5,
          5,
          4.1,
          4,
          4,
          4,
          4.9,
          4.2,
          5,
          4.5,
          4.7,
          4.4,
          4.5,
          5,
          4,
          5,
          3,
          1,
          4,
          5,
          5,
          4,
          4.9,
          4.5,
          3.5,
          4.4,
          4.6,
          5,
          4.5,
          4.5,
          4.5,
          2,
          4.5,
          4.5,
          5,
          4.5,
          3.7,
          5,
          4.8,
          4.5,
          4.4,
          4,
          4.5,
          4.5,
          4.4,
          4.5,
          4.9,
          4.3,
          4.5,
          5,
          4.8,
          4,
          4.6,
          4.2,
          4.7,
          4.6,
          3,
          4.6,
          3.3,
          5,
          5,
          1,
          5,
          4.8,
          5,
          5,
          4.4,
          5,
          4.7,
          5,
          4.8,
          4.4,
          5,
          5,
          4.3,
          4.5,
          4.3,
          4,
          4.7,
          4.5,
          4.7,
          5,
          5,
          4.5,
          4.6,
          4.6,
          4.4,
          3,
          2.3,
          4.6,
          5,
          4.5,
          4.6,
          4.5,
          4.4,
          4.7,
          5,
          5,
          5,
          4.7,
          4.2,
          4.6,
          4.8,
          4.5,
          5,
          4.6,
          5,
          4.6,
          4.8,
          4.4,
          3.8,
          4.7,
          4.8,
          4.3,
          4.6,
          4.5,
          4.9,
          3.3,
          4.8,
          5,
          4.6,
          5,
          4.5,
          3,
          4.6,
          5,
          4.5,
          4.6,
          4.4,
          5,
          4.5,
          5,
          5,
          4.6,
          4.5,
          2,
          4.5,
          4.8,
          4.5,
          4.5,
          5,
          4.9,
          4.6,
          4.6,
          4.7,
          4.6,
          4.4,
          4.8,
          3.4,
          4.5,
          4.2,
          5,
          4.7,
          4.3,
          3.8,
          4.4,
          5,
          5,
          4.7,
          4,
          4.5,
          4.8,
          4.4,
          3.8,
          4.5,
          4.3,
          5,
          4.8,
          4.3,
          5,
          4.8,
          4.7,
          5,
          5,
          4.6,
          5,
          4.6,
          3.3,
          4.5,
          4.8,
          4.1,
          4.3,
          4.8,
          4.5,
          4.6,
          4.6,
          5,
          4.7,
          4.8,
          4.4,
          4.6,
          4.2,
          4.8,
          4.7,
          5,
          4.2,
          5,
          5,
          4.6,
          4.6,
          4.5,
          4.7,
          4.7,
          4.8,
          3.4,
          4.1,
          4.6,
          4.6,
          4.5,
          4,
          4.6,
          4,
          4.9,
          4.9,
          4.7,
          5,
          4.5,
          4.6,
          5,
          4.6,
          4.5,
          4.5,
          4.6,
          5,
          4.8,
          4.4,
          4.5,
          4.6,
          4.2,
          4.4,
          4.8,
          4.8,
          4.5,
          4.5,
          4.5,
          3,
          4.6,
          4.8,
          4.2,
          4.4,
          4.6,
          4.3,
          2.3,
          3.7,
          4.2,
          5,
          4.5,
          5,
          4.4,
          3.4,
          4.7,
          4.6,
          4.8,
          4.5,
          4.8,
          4.7,
          4.4,
          4.8,
          4.5,
          4.2,
          5,
          4.7,
          4.8,
          4.7,
          4.3,
          4.5,
          4.9,
          4.6,
          4.5,
          4.3,
          5,
          4.2,
          4.6,
          4.7,
          4.7,
          5,
          4.9,
          4.3,
          4.8,
          4.7,
          4.7,
          4.6,
          4.5,
          4.5,
          4.8,
          4.6,
          4.7,
          4.6,
          4.5,
          5,
          4.1,
          4.8,
          4.7,
          4.3,
          4.7,
          4.9,
          4.6,
          4.8,
          4.1,
          4.7,
          3,
          4.6,
          5,
          4.4,
          4.5,
          4.7,
          4.4,
          4.8,
          4.3,
          4.2,
          5,
          4.6,
          4.5,
          4.7,
          3.4,
          1,
          4.1,
          4.5,
          4,
          4.6,
          4.9,
          4.7,
          4.5,
          4.8,
          4.5,
          5,
          4.5,
          3,
          4.1,
          3.7,
          4.8,
          4.6,
          4.7,
          2,
          4.2,
          4.8,
          4.6,
          4.5,
          4.7,
          4.6,
          4.4,
          4.3,
          2.3,
          4.1,
          5,
          4,
          5,
          4.6,
          4.4,
          4.6,
          4.8,
          4.5,
          4.4,
          5,
          4.8,
          4.3,
          5,
          4.6,
          4.7,
          4.8,
          5,
          4.7,
          4.9,
          4.8,
          4.7,
          4,
          4.6
         ],
         "xaxis": "x",
         "y": [
          38.1,
          74,
          29.5,
          64.4,
          63.5,
          63.5,
          0,
          71.3,
          67.1,
          49.1,
          64.3,
          44.1,
          53.3,
          47.3,
          48.9,
          43.1,
          53.4,
          55.2,
          41.2,
          47.6,
          66.4,
          0,
          69.9,
          65.5,
          47.1,
          39.5,
          60.1,
          0,
          51.4,
          33.9,
          62.4,
          78.1,
          68.6,
          57.1,
          49.7,
          53.3,
          40.2,
          63.1,
          56.2,
          57.4,
          62.8,
          72.4,
          75.9,
          63.5,
          65,
          34.4,
          0,
          59,
          70.5,
          36.3,
          33.8,
          48.7,
          39,
          46.8,
          50.9,
          50.3,
          23.7,
          70.5,
          60.7,
          0,
          40.5,
          37.4,
          28,
          65.1,
          50.6,
          39.8,
          32.2,
          75.9,
          0,
          45.2,
          42.5,
          62.1,
          67.1,
          57.6,
          32.1,
          18.9,
          48.7,
          63.3,
          68.3,
          26.5,
          56.2,
          51.8,
          0,
          19.8,
          59,
          62.3,
          61.2,
          60.2,
          29.6,
          61.9,
          50.5,
          50.6,
          63.9,
          70.6,
          74.2,
          44,
          27.5,
          43.5,
          19,
          0,
          46.2,
          46.8,
          53,
          26.3,
          67,
          67.3,
          46.2,
          37.6,
          63.1,
          79.5,
          45.3,
          0,
          63.8,
          58.2,
          39.8,
          47.7,
          2.2,
          60.7,
          43.3,
          29.7,
          0,
          64.2,
          47.3,
          67,
          33.8,
          36.1,
          70.7,
          35.4,
          57,
          74.2,
          77.5,
          46.5,
          0,
          39.5,
          39.6,
          26,
          46.4,
          62.1,
          40.9,
          63.5,
          60.2,
          68,
          48.4,
          76,
          54,
          0,
          61.8,
          40,
          55.4,
          32.4,
          67.3,
          48.2,
          31.5,
          57.1,
          60.2,
          46.6,
          0,
          48.5,
          60.1,
          65.1,
          56.7,
          68.8,
          44.6,
          71,
          32.2,
          37.4,
          77.7,
          43.6,
          0,
          36.6,
          43.5,
          62.1,
          51.8,
          48.1,
          48,
          0,
          70,
          57.4,
          47.7,
          36,
          30.2,
          0.6,
          54.9,
          45.6,
          25,
          0,
          75.8,
          36.1,
          18.8,
          56.8,
          52,
          34.2,
          58.5,
          2.3,
          34.7,
          37.4,
          43.1,
          58.4,
          0,
          57.1,
          63.9,
          53.3,
          63.4,
          69.3,
          50.5,
          4.4,
          75.9,
          0,
          68.1,
          68.8,
          55.1,
          71.4,
          69.3,
          53.9,
          44.9,
          38.1,
          47.7,
          55.8,
          57.2,
          34,
          38,
          49.2,
          52.4,
          41.8,
          66.5,
          48.1,
          11.7,
          72.7,
          59.5,
          77.5,
          38.5,
          0,
          39.8,
          63.1,
          59.2,
          52.9,
          63.5,
          73.3,
          0,
          49.7,
          45.4,
          36.5,
          56.8,
          74.8,
          61.1,
          59.6,
          47.9,
          70.1,
          38.7,
          62.2,
          58.5,
          62.1,
          28,
          2.9,
          55.5,
          27.7,
          40.9,
          0,
          56.3,
          64.8,
          51.3,
          71.4,
          55,
          21.6,
          64.6,
          63.4,
          78.6,
          40.6,
          60.7,
          0,
          23.2,
          51.8,
          69.3,
          43.8,
          20.8,
          52.5,
          49,
          44.7,
          55.7,
          8.9,
          43.5,
          16.1,
          0,
          66.5,
          60.5,
          55.6,
          0,
          78.7,
          70.9,
          42.4,
          29.4,
          61,
          42.4,
          43.7,
          58.7,
          54.4,
          48.4,
          72.8,
          58.6,
          61.2,
          61.8,
          48,
          0,
          54.3,
          67.1,
          75.8,
          66.5,
          63.9,
          33.2,
          49.8,
          0,
          53.8,
          43.5,
          49.8,
          32.1,
          32.4,
          34.8,
          42,
          44.1,
          0,
          67.5,
          22.7,
          29.2,
          69.2,
          48.6,
          47.1,
          50.5,
          50.6,
          60.7,
          62.4,
          60.1,
          44.6,
          0,
          71.7,
          48,
          42.7,
          60.4,
          38.2,
          18.7,
          66.4,
          68.5,
          66.3,
          62.2,
          57.4,
          56.3,
          70.9,
          0,
          59.1,
          73.2,
          53.6,
          44.7,
          65.6,
          48.4,
          39.4,
          50.8,
          41.1,
          68.3,
          51.5,
          48.9,
          44.2,
          0,
          52.3,
          47.1,
          40.7,
          46.6,
          54.6,
          66.6,
          72.4,
          0,
          49.8,
          59.2,
          32.4,
          66.3,
          70.3,
          36.3,
          53.6,
          79.4,
          35.1,
          65.8,
          39.6,
          66.6,
          49.8,
          67.1,
          0,
          63,
          23,
          67.1,
          43.4,
          49.8,
          72.8,
          69.7,
          48.2,
          29.7,
          75.4,
          0,
          44.6,
          55.8,
          55.9,
          45.9,
          68.7,
          35.7,
          53.8,
          61.8,
          62,
          43.3,
          16.2,
          63.3,
          11.5,
          41.6,
          47.1,
          46.5,
          0,
          59.6,
          39.5,
          65.6,
          54.8,
          22,
          64,
          56.9,
          0,
          3.9,
          46.1,
          46.4,
          54.2,
          66.7,
          53.6,
          67.9,
          64.4,
          28.2,
          55.9,
          37.3,
          67.6,
          59.2,
          51.6,
          0,
          62.4,
          66.1,
          47.6,
          53.3,
          52.6,
          71.7,
          47.1,
          46.2,
          53.7,
          67.6,
          46.3,
          73.3,
          0,
          34,
          36.4,
          47.9,
          68.3,
          67.5,
          64,
          63.6,
          48.4,
          29.1,
          0,
          65.6,
          12,
          72,
          45.6,
          68.3,
          34.9,
          37.3,
          55.1,
          0,
          15.2,
          77,
          57.9,
          54.1,
          32.6,
          57.3,
          60.7,
          66.6,
          16.7,
          63.8,
          71,
          72.3,
          59.6,
          0,
          67,
          15.2,
          32.1,
          59,
          26,
          65.8,
          29,
          8.3,
          62.9,
          0,
          61,
          63.8,
          46.4,
          54.5,
          41.4,
          20.9,
          35.5,
          63.5,
          66.8,
          66.7,
          34.6,
          24.3,
          71.7,
          33.5,
          71.8,
          0,
          51.1,
          48.5,
          75.9,
          56.4,
          53.4,
          75.4,
          44.4,
          5.3,
          34.4,
          12.1,
          0,
          55.7,
          18.8,
          46.2,
          43.5,
          64,
          60.3,
          62,
          62.3,
          41.9,
          66.2,
          73.4,
          39.9,
          0,
          64.7,
          52.5,
          75.4,
          0.6,
          60,
          64.5,
          54.2,
          59.8,
          0,
          13.2,
          24.8,
          66.9,
          21,
          70.3,
          46.9,
          52.2,
          25,
          67.2,
          9.5,
          60,
          0,
          52.4,
          53.8,
          23.2,
          54.2,
          68.2,
          23.3,
          48.7,
          67.9,
          0,
          48.3,
          42.8,
          62.2,
          53.7,
          29.9,
          76.9,
          61.9,
          51.4,
          72.8,
          44.1,
          44.5,
          65.6,
          53.7,
          36.6,
          0,
          56.1,
          66.3,
          51.2,
          74.9,
          23.6,
          72.4,
          50.5,
          48.7,
          0,
          41.5,
          14.1,
          72.2,
          60.9,
          63.7,
          0,
          54.2,
          72.1,
          16,
          36.4,
          48.3,
          50.1,
          34.6,
          59,
          30.9,
          36.8,
          50.8,
          70.1,
          58.6,
          2.2,
          69.7,
          0,
          64,
          66.7,
          43.7,
          72,
          0,
          57.3,
          11.1,
          55.9,
          54.5,
          37.6,
          56.4,
          59.4,
          56.4,
          0,
          51.4,
          62.2,
          67.3,
          57.4,
          53.7,
          37.8,
          63.7,
          61.1,
          45.8,
          24.1,
          49.5,
          59.6,
          76.4,
          24.1,
          0,
          41.7,
          66.8,
          20.4,
          41.3,
          0,
          35.4,
          48.7,
          59.2,
          9,
          77.9,
          71.7,
          75.3,
          0,
          49,
          43.7,
          69.7,
          56.4,
          44.3,
          22.9,
          55,
          51.6,
          50.7,
          52,
          48.3,
          62.2,
          50.9,
          65.4,
          35.5,
          76.1,
          42.1,
          0,
          64.8,
          56.1,
          53.1,
          0,
          78.6,
          63.9,
          52.6,
          41.1,
          63.7,
          71.9,
          76.5,
          0,
          54,
          55.5,
          59.5,
          61,
          47.9,
          39.7,
          0,
          51.7,
          72.8,
          65.9,
          42.2,
          65,
          71,
          0,
          68.9,
          55.8,
          60.2,
          0,
          40.7,
          48.7,
          73.4,
          65.5,
          0,
          22.1,
          29.2,
          59.8,
          0,
          41.2,
          64.4,
          0,
          51,
          45.8,
          43.2,
          0,
          0,
          57.8,
          40,
          76.9,
          0,
          69.4,
          79.5,
          60.2,
          12.1,
          67.6,
          0,
          0,
          40.4,
          53.2,
          72.2,
          38.9,
          71.8,
          0,
          47.9,
          39.4,
          59.2,
          0,
          73.4,
          45.7,
          72.1,
          0,
          60.2,
          56,
          70.1,
          0,
          69.8,
          42.7,
          30,
          0,
          51,
          67.3,
          0,
          43.7,
          0,
          51.9,
          0,
          44.7,
          0,
          61.4,
          38.3,
          77.9,
          0,
          0,
          51.6,
          59.2,
          53.9,
          61.2,
          0,
          6.6,
          0,
          38.9,
          65.4,
          60.7,
          0,
          56.1,
          39.6,
          0,
          66,
          0,
          61,
          68.8,
          0,
          0,
          71,
          70.6,
          48.8,
          0,
          63,
          66.5,
          0,
          30.3,
          0,
          65.4,
          40,
          65.5,
          0,
          69,
          54.9,
          0,
          51.9,
          22.1,
          0,
          61.8,
          58.5,
          0,
          62.3,
          75.7,
          0,
          41.2,
          54.5,
          0,
          51,
          71,
          0,
          64.2,
          0,
          40,
          73.4,
          55.3,
          0,
          60.5,
          0,
          60.2,
          64.2,
          0,
          66.9,
          52.9,
          75.3,
          38.9,
          33.4,
          57,
          73.4,
          0,
          45.7,
          44.2,
          0,
          56.5,
          69.8,
          0,
          50.5,
          41.8,
          42.7,
          62.2,
          1,
          42.5,
          43.7,
          65.1,
          60.4,
          65,
          60.9,
          51.9,
          36.7,
          46.7,
          49,
          69.5,
          61.4,
          38.3,
          50.8,
          39.3,
          59.2,
          53.9,
          62.6,
          65.9,
          15.2,
          6.6,
          51.6,
          68.3,
          37.3,
          54.7,
          66.4,
          29.7,
          60.7,
          53,
          71.3,
          53.1,
          39.6,
          44.9,
          61.5,
          68.8,
          47.6,
          71.2,
          63.9,
          73.5,
          21,
          50.5,
          58.6,
          53.3,
          29.7,
          59.9,
          26.3,
          71.4,
          46.2,
          48.8,
          68.6,
          59.6,
          67.1,
          63,
          67.7,
          59.6,
          30.3,
          61,
          69,
          46,
          62.1,
          62.4,
          47.8,
          75.2,
          58.5,
          73,
          3.9,
          68.2,
          64.9,
          66.9,
          76,
          55.9,
          75.7,
          59.3,
          54.5,
          65.5,
          72.9,
          71,
          -4.3,
          65.6,
          0,
          42.4,
          64.2,
          0,
          0,
          55.3,
          60.5,
          0,
          72.8,
          0,
          55.9,
          64.2,
          59.3,
          20.4,
          65.5,
          45.8,
          72.9,
          65.5,
          66.2,
          59,
          66.9,
          71.9,
          52.9,
          77.5,
          33.4,
          44.2,
          58,
          71.4,
          41.8,
          62.2,
          32.4,
          1,
          39.7,
          60.4,
          65,
          36.7,
          46.7,
          69.5,
          44.4,
          39.3,
          62.6,
          64.8,
          49,
          52.2,
          72.9,
          50.5,
          51.6,
          46.2,
          45.5,
          68.3,
          23.6,
          65.9,
          29.7,
          39.5,
          53.1,
          61.5,
          47.6,
          71.2,
          70.3,
          58.6,
          22.9,
          50.9,
          79.6,
          53.3,
          26.3,
          71.4,
          63.7,
          59.6,
          59.6,
          61,
          46,
          45.6,
          58.5,
          59.1,
          39.5,
          73,
          66.9,
          55.9,
          59.3,
          65.5,
          38.9,
          72.9
         ],
         "yaxis": "y"
        }
       ],
       "layout": {
        "legend": {
         "tracegroupgap": 0
        },
        "template": {
         "data": {
          "bar": [
           {
            "error_x": {
             "color": "#2a3f5f"
            },
            "error_y": {
             "color": "#2a3f5f"
            },
            "marker": {
             "line": {
              "color": "#E5ECF6",
              "width": 0.5
             },
             "pattern": {
              "fillmode": "overlay",
              "size": 10,
              "solidity": 0.2
             }
            },
            "type": "bar"
           }
          ],
          "barpolar": [
           {
            "marker": {
             "line": {
              "color": "#E5ECF6",
              "width": 0.5
             },
             "pattern": {
              "fillmode": "overlay",
              "size": 10,
              "solidity": 0.2
             }
            },
            "type": "barpolar"
           }
          ],
          "carpet": [
           {
            "aaxis": {
             "endlinecolor": "#2a3f5f",
             "gridcolor": "white",
             "linecolor": "white",
             "minorgridcolor": "white",
             "startlinecolor": "#2a3f5f"
            },
            "baxis": {
             "endlinecolor": "#2a3f5f",
             "gridcolor": "white",
             "linecolor": "white",
             "minorgridcolor": "white",
             "startlinecolor": "#2a3f5f"
            },
            "type": "carpet"
           }
          ],
          "choropleth": [
           {
            "colorbar": {
             "outlinewidth": 0,
             "ticks": ""
            },
            "type": "choropleth"
           }
          ],
          "contour": [
           {
            "colorbar": {
             "outlinewidth": 0,
             "ticks": ""
            },
            "colorscale": [
             [
              0,
              "#0d0887"
             ],
             [
              0.1111111111111111,
              "#46039f"
             ],
             [
              0.2222222222222222,
              "#7201a8"
             ],
             [
              0.3333333333333333,
              "#9c179e"
             ],
             [
              0.4444444444444444,
              "#bd3786"
             ],
             [
              0.5555555555555556,
              "#d8576b"
             ],
             [
              0.6666666666666666,
              "#ed7953"
             ],
             [
              0.7777777777777778,
              "#fb9f3a"
             ],
             [
              0.8888888888888888,
              "#fdca26"
             ],
             [
              1,
              "#f0f921"
             ]
            ],
            "type": "contour"
           }
          ],
          "contourcarpet": [
           {
            "colorbar": {
             "outlinewidth": 0,
             "ticks": ""
            },
            "type": "contourcarpet"
           }
          ],
          "heatmap": [
           {
            "colorbar": {
             "outlinewidth": 0,
             "ticks": ""
            },
            "colorscale": [
             [
              0,
              "#0d0887"
             ],
             [
              0.1111111111111111,
              "#46039f"
             ],
             [
              0.2222222222222222,
              "#7201a8"
             ],
             [
              0.3333333333333333,
              "#9c179e"
             ],
             [
              0.4444444444444444,
              "#bd3786"
             ],
             [
              0.5555555555555556,
              "#d8576b"
             ],
             [
              0.6666666666666666,
              "#ed7953"
             ],
             [
              0.7777777777777778,
              "#fb9f3a"
             ],
             [
              0.8888888888888888,
              "#fdca26"
             ],
             [
              1,
              "#f0f921"
             ]
            ],
            "type": "heatmap"
           }
          ],
          "heatmapgl": [
           {
            "colorbar": {
             "outlinewidth": 0,
             "ticks": ""
            },
            "colorscale": [
             [
              0,
              "#0d0887"
             ],
             [
              0.1111111111111111,
              "#46039f"
             ],
             [
              0.2222222222222222,
              "#7201a8"
             ],
             [
              0.3333333333333333,
              "#9c179e"
             ],
             [
              0.4444444444444444,
              "#bd3786"
             ],
             [
              0.5555555555555556,
              "#d8576b"
             ],
             [
              0.6666666666666666,
              "#ed7953"
             ],
             [
              0.7777777777777778,
              "#fb9f3a"
             ],
             [
              0.8888888888888888,
              "#fdca26"
             ],
             [
              1,
              "#f0f921"
             ]
            ],
            "type": "heatmapgl"
           }
          ],
          "histogram": [
           {
            "marker": {
             "pattern": {
              "fillmode": "overlay",
              "size": 10,
              "solidity": 0.2
             }
            },
            "type": "histogram"
           }
          ],
          "histogram2d": [
           {
            "colorbar": {
             "outlinewidth": 0,
             "ticks": ""
            },
            "colorscale": [
             [
              0,
              "#0d0887"
             ],
             [
              0.1111111111111111,
              "#46039f"
             ],
             [
              0.2222222222222222,
              "#7201a8"
             ],
             [
              0.3333333333333333,
              "#9c179e"
             ],
             [
              0.4444444444444444,
              "#bd3786"
             ],
             [
              0.5555555555555556,
              "#d8576b"
             ],
             [
              0.6666666666666666,
              "#ed7953"
             ],
             [
              0.7777777777777778,
              "#fb9f3a"
             ],
             [
              0.8888888888888888,
              "#fdca26"
             ],
             [
              1,
              "#f0f921"
             ]
            ],
            "type": "histogram2d"
           }
          ],
          "histogram2dcontour": [
           {
            "colorbar": {
             "outlinewidth": 0,
             "ticks": ""
            },
            "colorscale": [
             [
              0,
              "#0d0887"
             ],
             [
              0.1111111111111111,
              "#46039f"
             ],
             [
              0.2222222222222222,
              "#7201a8"
             ],
             [
              0.3333333333333333,
              "#9c179e"
             ],
             [
              0.4444444444444444,
              "#bd3786"
             ],
             [
              0.5555555555555556,
              "#d8576b"
             ],
             [
              0.6666666666666666,
              "#ed7953"
             ],
             [
              0.7777777777777778,
              "#fb9f3a"
             ],
             [
              0.8888888888888888,
              "#fdca26"
             ],
             [
              1,
              "#f0f921"
             ]
            ],
            "type": "histogram2dcontour"
           }
          ],
          "mesh3d": [
           {
            "colorbar": {
             "outlinewidth": 0,
             "ticks": ""
            },
            "type": "mesh3d"
           }
          ],
          "parcoords": [
           {
            "line": {
             "colorbar": {
              "outlinewidth": 0,
              "ticks": ""
             }
            },
            "type": "parcoords"
           }
          ],
          "pie": [
           {
            "automargin": true,
            "type": "pie"
           }
          ],
          "scatter": [
           {
            "fillpattern": {
             "fillmode": "overlay",
             "size": 10,
             "solidity": 0.2
            },
            "type": "scatter"
           }
          ],
          "scatter3d": [
           {
            "line": {
             "colorbar": {
              "outlinewidth": 0,
              "ticks": ""
             }
            },
            "marker": {
             "colorbar": {
              "outlinewidth": 0,
              "ticks": ""
             }
            },
            "type": "scatter3d"
           }
          ],
          "scattercarpet": [
           {
            "marker": {
             "colorbar": {
              "outlinewidth": 0,
              "ticks": ""
             }
            },
            "type": "scattercarpet"
           }
          ],
          "scattergeo": [
           {
            "marker": {
             "colorbar": {
              "outlinewidth": 0,
              "ticks": ""
             }
            },
            "type": "scattergeo"
           }
          ],
          "scattergl": [
           {
            "marker": {
             "colorbar": {
              "outlinewidth": 0,
              "ticks": ""
             }
            },
            "type": "scattergl"
           }
          ],
          "scattermapbox": [
           {
            "marker": {
             "colorbar": {
              "outlinewidth": 0,
              "ticks": ""
             }
            },
            "type": "scattermapbox"
           }
          ],
          "scatterpolar": [
           {
            "marker": {
             "colorbar": {
              "outlinewidth": 0,
              "ticks": ""
             }
            },
            "type": "scatterpolar"
           }
          ],
          "scatterpolargl": [
           {
            "marker": {
             "colorbar": {
              "outlinewidth": 0,
              "ticks": ""
             }
            },
            "type": "scatterpolargl"
           }
          ],
          "scatterternary": [
           {
            "marker": {
             "colorbar": {
              "outlinewidth": 0,
              "ticks": ""
             }
            },
            "type": "scatterternary"
           }
          ],
          "surface": [
           {
            "colorbar": {
             "outlinewidth": 0,
             "ticks": ""
            },
            "colorscale": [
             [
              0,
              "#0d0887"
             ],
             [
              0.1111111111111111,
              "#46039f"
             ],
             [
              0.2222222222222222,
              "#7201a8"
             ],
             [
              0.3333333333333333,
              "#9c179e"
             ],
             [
              0.4444444444444444,
              "#bd3786"
             ],
             [
              0.5555555555555556,
              "#d8576b"
             ],
             [
              0.6666666666666666,
              "#ed7953"
             ],
             [
              0.7777777777777778,
              "#fb9f3a"
             ],
             [
              0.8888888888888888,
              "#fdca26"
             ],
             [
              1,
              "#f0f921"
             ]
            ],
            "type": "surface"
           }
          ],
          "table": [
           {
            "cells": {
             "fill": {
              "color": "#EBF0F8"
             },
             "line": {
              "color": "white"
             }
            },
            "header": {
             "fill": {
              "color": "#C8D4E3"
             },
             "line": {
              "color": "white"
             }
            },
            "type": "table"
           }
          ]
         },
         "layout": {
          "annotationdefaults": {
           "arrowcolor": "#2a3f5f",
           "arrowhead": 0,
           "arrowwidth": 1
          },
          "autotypenumbers": "strict",
          "coloraxis": {
           "colorbar": {
            "outlinewidth": 0,
            "ticks": ""
           }
          },
          "colorscale": {
           "diverging": [
            [
             0,
             "#8e0152"
            ],
            [
             0.1,
             "#c51b7d"
            ],
            [
             0.2,
             "#de77ae"
            ],
            [
             0.3,
             "#f1b6da"
            ],
            [
             0.4,
             "#fde0ef"
            ],
            [
             0.5,
             "#f7f7f7"
            ],
            [
             0.6,
             "#e6f5d0"
            ],
            [
             0.7,
             "#b8e186"
            ],
            [
             0.8,
             "#7fbc41"
            ],
            [
             0.9,
             "#4d9221"
            ],
            [
             1,
             "#276419"
            ]
           ],
           "sequential": [
            [
             0,
             "#0d0887"
            ],
            [
             0.1111111111111111,
             "#46039f"
            ],
            [
             0.2222222222222222,
             "#7201a8"
            ],
            [
             0.3333333333333333,
             "#9c179e"
            ],
            [
             0.4444444444444444,
             "#bd3786"
            ],
            [
             0.5555555555555556,
             "#d8576b"
            ],
            [
             0.6666666666666666,
             "#ed7953"
            ],
            [
             0.7777777777777778,
             "#fb9f3a"
            ],
            [
             0.8888888888888888,
             "#fdca26"
            ],
            [
             1,
             "#f0f921"
            ]
           ],
           "sequentialminus": [
            [
             0,
             "#0d0887"
            ],
            [
             0.1111111111111111,
             "#46039f"
            ],
            [
             0.2222222222222222,
             "#7201a8"
            ],
            [
             0.3333333333333333,
             "#9c179e"
            ],
            [
             0.4444444444444444,
             "#bd3786"
            ],
            [
             0.5555555555555556,
             "#d8576b"
            ],
            [
             0.6666666666666666,
             "#ed7953"
            ],
            [
             0.7777777777777778,
             "#fb9f3a"
            ],
            [
             0.8888888888888888,
             "#fdca26"
            ],
            [
             1,
             "#f0f921"
            ]
           ]
          },
          "colorway": [
           "#636efa",
           "#EF553B",
           "#00cc96",
           "#ab63fa",
           "#FFA15A",
           "#19d3f3",
           "#FF6692",
           "#B6E880",
           "#FF97FF",
           "#FECB52"
          ],
          "font": {
           "color": "#2a3f5f"
          },
          "geo": {
           "bgcolor": "white",
           "lakecolor": "white",
           "landcolor": "#E5ECF6",
           "showlakes": true,
           "showland": true,
           "subunitcolor": "white"
          },
          "hoverlabel": {
           "align": "left"
          },
          "hovermode": "closest",
          "mapbox": {
           "style": "light"
          },
          "paper_bgcolor": "white",
          "plot_bgcolor": "#E5ECF6",
          "polar": {
           "angularaxis": {
            "gridcolor": "white",
            "linecolor": "white",
            "ticks": ""
           },
           "bgcolor": "#E5ECF6",
           "radialaxis": {
            "gridcolor": "white",
            "linecolor": "white",
            "ticks": ""
           }
          },
          "scene": {
           "xaxis": {
            "backgroundcolor": "#E5ECF6",
            "gridcolor": "white",
            "gridwidth": 2,
            "linecolor": "white",
            "showbackground": true,
            "ticks": "",
            "zerolinecolor": "white"
           },
           "yaxis": {
            "backgroundcolor": "#E5ECF6",
            "gridcolor": "white",
            "gridwidth": 2,
            "linecolor": "white",
            "showbackground": true,
            "ticks": "",
            "zerolinecolor": "white"
           },
           "zaxis": {
            "backgroundcolor": "#E5ECF6",
            "gridcolor": "white",
            "gridwidth": 2,
            "linecolor": "white",
            "showbackground": true,
            "ticks": "",
            "zerolinecolor": "white"
           }
          },
          "shapedefaults": {
           "line": {
            "color": "#2a3f5f"
           }
          },
          "ternary": {
           "aaxis": {
            "gridcolor": "white",
            "linecolor": "white",
            "ticks": ""
           },
           "baxis": {
            "gridcolor": "white",
            "linecolor": "white",
            "ticks": ""
           },
           "bgcolor": "#E5ECF6",
           "caxis": {
            "gridcolor": "white",
            "linecolor": "white",
            "ticks": ""
           }
          },
          "title": {
           "x": 0.05
          },
          "xaxis": {
           "automargin": true,
           "gridcolor": "white",
           "linecolor": "white",
           "ticks": "",
           "title": {
            "standoff": 15
           },
           "zerolinecolor": "white",
           "zerolinewidth": 2
          },
          "yaxis": {
           "automargin": true,
           "gridcolor": "white",
           "linecolor": "white",
           "ticks": "",
           "title": {
            "standoff": 15
           },
           "zerolinecolor": "white",
           "zerolinewidth": 2
          }
         }
        },
        "title": {
         "text": "Relationship Between Discount & item_rating"
        },
        "xaxis": {
         "anchor": "y",
         "domain": [
          0,
          1
         ],
         "title": {
          "text": "Item Rating"
         }
        },
        "yaxis": {
         "anchor": "x",
         "domain": [
          0,
          1
         ],
         "title": {
          "text": "Discount"
         }
        }
       }
      },
      "text/html": [
       "<div>                            <div id=\"754a7df9-5d05-4f0f-aad4-cc5dea8ffeb2\" class=\"plotly-graph-div\" style=\"height:525px; width:100%;\"></div>            <script type=\"text/javascript\">                require([\"plotly\"], function(Plotly) {                    window.PLOTLYENV=window.PLOTLYENV || {};                                    if (document.getElementById(\"754a7df9-5d05-4f0f-aad4-cc5dea8ffeb2\")) {                    Plotly.newPlot(                        \"754a7df9-5d05-4f0f-aad4-cc5dea8ffeb2\",                        [{\"hovertemplate\":\"Item Rating=%{x}<br>Discount=%{y}<extra></extra>\",\"legendgroup\":\"\",\"marker\":{\"color\":\"rgb(229, 134, 6)\",\"symbol\":\"circle\"},\"mode\":\"markers\",\"name\":\"\",\"showlegend\":false,\"x\":[5.0,4.8,5.0,3.0,4.8,4.8,4.0,2.9,4.8,4.5,4.3,3.7,4.5,3.3,3.0,5.0,4.5,4.9,4.5,5.0,4.6,5.0,4.0,5.0,5.0,4.7,5.0,5.0,4.0,5.0,5.0,5.0,5.0,4.3,3.0,4.5,5.0,4.6,5.0,5.0,5.0,4.6,4.4,5.0,5.0,5.0,5.0,4.5,3.5,5.0,3.8,4.6,4.4,4.8,5.0,5.0,4.0,4.9,4.7,5.0,4.3,4.9,5.0,4.5,4.7,4.2,5.0,4.4,5.0,4.0,5.0,4.4,3.5,4.5,5.0,4.5,4.6,4.9,4.0,4.8,3.8,5.0,4.0,4.8,4.5,4.8,4.6,4.8,3.7,5.0,4.3,4.7,5.0,4.7,4.8,5.0,4.6,4.1,5.0,2.0,4.5,4.8,5.0,5.0,5.0,4.7,4.5,5.0,4.2,3.8,4.5,4.5,4.6,5.0,4.5,5.0,4.0,4.4,5.0,3.4,5.0,5.0,4.8,4.5,4.4,4.3,4.0,5.0,4.5,4.8,4.2,4.4,4.5,4.8,4.0,4.6,3.9,4.4,4.7,3.9,5.0,4.9,4.7,5.0,4.4,5.0,5.0,4.0,4.5,5.0,4.7,4.5,4.5,4.1,5.0,4.4,5.0,4.7,4.6,4.9,4.7,4.6,4.7,4.5,4.7,4.7,4.9,5.0,5.0,5.0,4.5,4.4,4.5,3.0,4.8,5.0,4.0,4.7,5.0,4.0,4.6,4.4,4.0,4.3,4.4,3.9,4.8,5.0,4.6,4.6,4.9,4.4,4.0,4.3,4.5,5.0,4.4,4.7,5.0,4.1,5.0,5.0,5.0,4.7,4.7,5.0,5.0,4.8,4.6,4.6,5.0,4.5,4.3,5.0,4.2,4.0,3.3,5.0,5.0,4.3,5.0,5.0,5.0,4.3,4.2,3.0,5.0,5.0,5.0,4.3,5.0,5.0,5.0,4.6,4.8,5.0,4.3,5.0,4.4,5.0,4.5,4.7,4.6,4.0,4.4,4.3,4.6,3.5,5.0,4.6,4.6,4.8,4.0,4.5,4.5,4.3,5.0,1.0,5.0,5.0,4.5,4.5,5.0,4.2,4.9,5.0,4.5,4.4,4.5,3.7,3.0,5.0,4.3,4.4,4.8,4.8,5.0,2.0,5.0,5.0,5.0,4.0,5.0,4.2,4.0,4.5,5.0,5.0,4.2,4.7,5.0,4.7,4.7,5.0,4.4,3.0,5.0,3.0,4.8,4.4,4.3,4.5,5.0,4.4,4.3,1.0,4.2,4.5,4.0,4.5,3.0,3.0,5.0,4.8,4.4,5.0,5.0,5.0,4.5,4.3,4.5,4.2,5.0,5.0,2.0,5.0,4.8,4.2,4.5,5.0,5.0,5.0,5.0,4.4,4.5,4.9,4.4,5.0,5.0,4.8,4.5,5.0,5.0,4.3,4.6,4.2,5.0,4.7,4.5,5.0,4.1,5.0,5.0,5.0,4.6,4.5,4.7,5.0,5.0,4.6,5.0,3.3,4.8,4.4,4.8,4.0,4.5,4.5,4.5,4.5,3.7,5.0,4.8,4.5,5.0,4.0,5.0,4.3,4.9,5.0,3.4,5.0,4.8,5.0,4.3,5.0,4.8,5.0,4.0,4.3,5.0,4.4,4.7,4.7,4.9,5.0,4.0,5.0,5.0,5.0,4.4,5.0,4.5,4.4,4.3,5.0,4.7,4.5,4.8,5.0,5.0,4.5,4.5,4.3,3.8,4.7,4.7,4.8,5.0,4.0,4.2,5.0,4.3,4.6,5.0,5.0,4.0,4.0,4.5,5.0,5.0,4.4,5.0,5.0,3.0,4.7,4.7,5.0,4.4,4.5,4.4,5.0,4.7,5.0,5.0,5.0,4.4,4.4,5.0,4.4,4.3,3.6,4.5,4.7,4.2,5.0,4.5,4.6,5.0,5.0,4.7,5.0,4.7,4.0,4.5,4.4,5.0,4.3,4.3,4.5,4.3,4.4,4.4,4.4,4.5,5.0,5.0,4.5,5.0,4.7,4.9,4.6,4.4,4.3,4.5,4.6,4.9,4.8,5.0,4.5,4.0,5.0,5.0,4.3,5.0,5.0,4.0,5.0,3.9,4.1,4.6,4.0,4.3,4.7,5.0,4.5,4.7,5.0,4.7,4.5,4.2,4.7,4.7,4.8,5.0,5.0,4.0,5.0,4.8,5.0,5.0,4.5,4.3,4.6,4.4,5.0,4.6,4.4,4.8,4.5,4.8,3.5,5.0,4.0,4.4,4.8,1.0,4.5,4.7,5.0,4.3,5.0,4.6,5.0,5.0,4.4,4.1,4.4,4.0,5.0,4.0,4.5,5.0,5.0,4.4,4.6,4.6,5.0,5.0,4.0,4.7,5.0,5.0,4.5,4.0,4.3,4.7,5.0,4.6,4.0,4.0,5.0,4.4,4.5,4.6,5.0,4.0,5.0,4.0,4.5,4.8,4.5,4.8,3.3,5.0,5.0,5.0,4.5,4.8,4.5,4.0,4.8,4.6,4.6,4.8,4.3,4.9,4.5,5.0,5.0,5.0,5.0,4.6,4.4,4.0,5.0,4.8,4.7,4.0,4.3,4.7,5.0,5.0,4.9,5.0,4.5,5.0,5.0,4.7,5.0,4.0,4.6,5.0,4.8,5.0,5.0,5.0,4.1,5.0,4.3,5.0,4.6,4.7,3.5,5.0,4.5,4.5,5.0,4.1,4.0,4.0,4.0,4.9,4.2,5.0,4.5,4.7,4.4,4.5,5.0,4.0,5.0,3.0,1.0,4.0,5.0,5.0,4.0,4.9,4.5,3.5,4.4,4.6,5.0,4.5,4.5,4.5,2.0,4.5,4.5,5.0,4.5,3.7,5.0,4.8,4.5,4.4,4.0,4.5,4.5,4.4,4.5,4.9,4.3,4.5,5.0,4.8,4.0,4.6,4.2,4.7,4.6,3.0,4.6,3.3,5.0,5.0,1.0,5.0,4.8,5.0,5.0,4.4,5.0,4.7,5.0,4.8,4.4,5.0,5.0,4.3,4.5,4.3,4.0,4.7,4.5,4.7,5.0,5.0,4.5,4.6,4.6,4.4,3.0,2.3,4.6,5.0,4.5,4.6,4.5,4.4,4.7,5.0,5.0,5.0,4.7,4.2,4.6,4.8,4.5,5.0,4.6,5.0,4.6,4.8,4.4,3.8,4.7,4.8,4.3,4.6,4.5,4.9,3.3,4.8,5.0,4.6,5.0,4.5,3.0,4.6,5.0,4.5,4.6,4.4,5.0,4.5,5.0,5.0,4.6,4.5,2.0,4.5,4.8,4.5,4.5,5.0,4.9,4.6,4.6,4.7,4.6,4.4,4.8,3.4,4.5,4.2,5.0,4.7,4.3,3.8,4.4,5.0,5.0,4.7,4.0,4.5,4.8,4.4,3.8,4.5,4.3,5.0,4.8,4.3,5.0,4.8,4.7,5.0,5.0,4.6,5.0,4.6,3.3,4.5,4.8,4.1,4.3,4.8,4.5,4.6,4.6,5.0,4.7,4.8,4.4,4.6,4.2,4.8,4.7,5.0,4.2,5.0,5.0,4.6,4.6,4.5,4.7,4.7,4.8,3.4,4.1,4.6,4.6,4.5,4.0,4.6,4.0,4.9,4.9,4.7,5.0,4.5,4.6,5.0,4.6,4.5,4.5,4.6,5.0,4.8,4.4,4.5,4.6,4.2,4.4,4.8,4.8,4.5,4.5,4.5,3.0,4.6,4.8,4.2,4.4,4.6,4.3,2.3,3.7,4.2,5.0,4.5,5.0,4.4,3.4,4.7,4.6,4.8,4.5,4.8,4.7,4.4,4.8,4.5,4.2,5.0,4.7,4.8,4.7,4.3,4.5,4.9,4.6,4.5,4.3,5.0,4.2,4.6,4.7,4.7,5.0,4.9,4.3,4.8,4.7,4.7,4.6,4.5,4.5,4.8,4.6,4.7,4.6,4.5,5.0,4.1,4.8,4.7,4.3,4.7,4.9,4.6,4.8,4.1,4.7,3.0,4.6,5.0,4.4,4.5,4.7,4.4,4.8,4.3,4.2,5.0,4.6,4.5,4.7,3.4,1.0,4.1,4.5,4.0,4.6,4.9,4.7,4.5,4.8,4.5,5.0,4.5,3.0,4.1,3.7,4.8,4.6,4.7,2.0,4.2,4.8,4.6,4.5,4.7,4.6,4.4,4.3,2.3,4.1,5.0,4.0,5.0,4.6,4.4,4.6,4.8,4.5,4.4,5.0,4.8,4.3,5.0,4.6,4.7,4.8,5.0,4.7,4.9,4.8,4.7,4.0,4.6],\"xaxis\":\"x\",\"y\":[38.1,74.0,29.5,64.4,63.5,63.5,0.0,71.3,67.1,49.1,64.3,44.1,53.3,47.3,48.9,43.1,53.4,55.2,41.2,47.6,66.4,0.0,69.9,65.5,47.1,39.5,60.1,0.0,51.4,33.9,62.4,78.1,68.6,57.1,49.7,53.3,40.2,63.1,56.2,57.4,62.8,72.4,75.9,63.5,65.0,34.4,0.0,59.0,70.5,36.3,33.8,48.7,39.0,46.8,50.9,50.3,23.7,70.5,60.7,0.0,40.5,37.4,28.0,65.1,50.6,39.8,32.2,75.9,0.0,45.2,42.5,62.1,67.1,57.6,32.1,18.9,48.7,63.3,68.3,26.5,56.2,51.8,0.0,19.8,59.0,62.3,61.2,60.2,29.6,61.9,50.5,50.6,63.9,70.6,74.2,44.0,27.5,43.5,19.0,0.0,46.2,46.8,53.0,26.3,67.0,67.3,46.2,37.6,63.1,79.5,45.3,0.0,63.8,58.2,39.8,47.7,2.2,60.7,43.3,29.7,0.0,64.2,47.3,67.0,33.8,36.1,70.7,35.4,57.0,74.2,77.5,46.5,0.0,39.5,39.6,26.0,46.4,62.1,40.9,63.5,60.2,68.0,48.4,76.0,54.0,0.0,61.8,40.0,55.4,32.4,67.3,48.2,31.5,57.1,60.2,46.6,0.0,48.5,60.1,65.1,56.7,68.8,44.6,71.0,32.2,37.4,77.7,43.6,0.0,36.6,43.5,62.1,51.8,48.1,48.0,0.0,70.0,57.4,47.7,36.0,30.2,0.6,54.9,45.6,25.0,0.0,75.8,36.1,18.8,56.8,52.0,34.2,58.5,2.3,34.7,37.4,43.1,58.4,0.0,57.1,63.9,53.3,63.4,69.3,50.5,4.4,75.9,0.0,68.1,68.8,55.1,71.4,69.3,53.9,44.9,38.1,47.7,55.8,57.2,34.0,38.0,49.2,52.4,41.8,66.5,48.1,11.7,72.7,59.5,77.5,38.5,0.0,39.8,63.1,59.2,52.9,63.5,73.3,0.0,49.7,45.4,36.5,56.8,74.8,61.1,59.6,47.9,70.1,38.7,62.2,58.5,62.1,28.0,2.9,55.5,27.7,40.9,0.0,56.3,64.8,51.3,71.4,55.0,21.6,64.6,63.4,78.6,40.6,60.7,0.0,23.2,51.8,69.3,43.8,20.8,52.5,49.0,44.7,55.7,8.9,43.5,16.1,0.0,66.5,60.5,55.6,0.0,78.7,70.9,42.4,29.4,61.0,42.4,43.7,58.7,54.4,48.4,72.8,58.6,61.2,61.8,48.0,0.0,54.3,67.1,75.8,66.5,63.9,33.2,49.8,0.0,53.8,43.5,49.8,32.1,32.4,34.8,42.0,44.1,0.0,67.5,22.7,29.2,69.2,48.6,47.1,50.5,50.6,60.7,62.4,60.1,44.6,0.0,71.7,48.0,42.7,60.4,38.2,18.7,66.4,68.5,66.3,62.2,57.4,56.3,70.9,0.0,59.1,73.2,53.6,44.7,65.6,48.4,39.4,50.8,41.1,68.3,51.5,48.9,44.2,0.0,52.3,47.1,40.7,46.6,54.6,66.6,72.4,0.0,49.8,59.2,32.4,66.3,70.3,36.3,53.6,79.4,35.1,65.8,39.6,66.6,49.8,67.1,0.0,63.0,23.0,67.1,43.4,49.8,72.8,69.7,48.2,29.7,75.4,0.0,44.6,55.8,55.9,45.9,68.7,35.7,53.8,61.8,62.0,43.3,16.2,63.3,11.5,41.6,47.1,46.5,0.0,59.6,39.5,65.6,54.8,22.0,64.0,56.9,0.0,3.9,46.1,46.4,54.2,66.7,53.6,67.9,64.4,28.2,55.9,37.3,67.6,59.2,51.6,0.0,62.4,66.1,47.6,53.3,52.6,71.7,47.1,46.2,53.7,67.6,46.3,73.3,0.0,34.0,36.4,47.9,68.3,67.5,64.0,63.6,48.4,29.1,0.0,65.6,12.0,72.0,45.6,68.3,34.9,37.3,55.1,0.0,15.2,77.0,57.9,54.1,32.6,57.3,60.7,66.6,16.7,63.8,71.0,72.3,59.6,0.0,67.0,15.2,32.1,59.0,26.0,65.8,29.0,8.3,62.9,0.0,61.0,63.8,46.4,54.5,41.4,20.9,35.5,63.5,66.8,66.7,34.6,24.3,71.7,33.5,71.8,0.0,51.1,48.5,75.9,56.4,53.4,75.4,44.4,5.3,34.4,12.1,0.0,55.7,18.8,46.2,43.5,64.0,60.3,62.0,62.3,41.9,66.2,73.4,39.9,0.0,64.7,52.5,75.4,0.6,60.0,64.5,54.2,59.8,0.0,13.2,24.8,66.9,21.0,70.3,46.9,52.2,25.0,67.2,9.5,60.0,0.0,52.4,53.8,23.2,54.2,68.2,23.3,48.7,67.9,0.0,48.3,42.8,62.2,53.7,29.9,76.9,61.9,51.4,72.8,44.1,44.5,65.6,53.7,36.6,0.0,56.1,66.3,51.2,74.9,23.6,72.4,50.5,48.7,0.0,41.5,14.1,72.2,60.9,63.7,0.0,54.2,72.1,16.0,36.4,48.3,50.1,34.6,59.0,30.9,36.8,50.8,70.1,58.6,2.2,69.7,0.0,64.0,66.7,43.7,72.0,0.0,57.3,11.1,55.9,54.5,37.6,56.4,59.4,56.4,0.0,51.4,62.2,67.3,57.4,53.7,37.8,63.7,61.1,45.8,24.1,49.5,59.6,76.4,24.1,0.0,41.7,66.8,20.4,41.3,0.0,35.4,48.7,59.2,9.0,77.9,71.7,75.3,0.0,49.0,43.7,69.7,56.4,44.3,22.9,55.0,51.6,50.7,52.0,48.3,62.2,50.9,65.4,35.5,76.1,42.1,0.0,64.8,56.1,53.1,0.0,78.6,63.9,52.6,41.1,63.7,71.9,76.5,0.0,54.0,55.5,59.5,61.0,47.9,39.7,0.0,51.7,72.8,65.9,42.2,65.0,71.0,0.0,68.9,55.8,60.2,0.0,40.7,48.7,73.4,65.5,0.0,22.1,29.2,59.8,0.0,41.2,64.4,0.0,51.0,45.8,43.2,0.0,0.0,57.8,40.0,76.9,0.0,69.4,79.5,60.2,12.1,67.6,0.0,0.0,40.4,53.2,72.2,38.9,71.8,0.0,47.9,39.4,59.2,0.0,73.4,45.7,72.1,0.0,60.2,56.0,70.1,0.0,69.8,42.7,30.0,0.0,51.0,67.3,0.0,43.7,0.0,51.9,0.0,44.7,0.0,61.4,38.3,77.9,0.0,0.0,51.6,59.2,53.9,61.2,0.0,6.6,0.0,38.9,65.4,60.7,0.0,56.1,39.6,0.0,66.0,0.0,61.0,68.8,0.0,0.0,71.0,70.6,48.8,0.0,63.0,66.5,0.0,30.3,0.0,65.4,40.0,65.5,0.0,69.0,54.9,0.0,51.9,22.1,0.0,61.8,58.5,0.0,62.3,75.7,0.0,41.2,54.5,0.0,51.0,71.0,0.0,64.2,0.0,40.0,73.4,55.3,0.0,60.5,0.0,60.2,64.2,0.0,66.9,52.9,75.3,38.9,33.4,57.0,73.4,0.0,45.7,44.2,0.0,56.5,69.8,0.0,50.5,41.8,42.7,62.2,1.0,42.5,43.7,65.1,60.4,65.0,60.9,51.9,36.7,46.7,49.0,69.5,61.4,38.3,50.8,39.3,59.2,53.9,62.6,65.9,15.2,6.6,51.6,68.3,37.3,54.7,66.4,29.7,60.7,53.0,71.3,53.1,39.6,44.9,61.5,68.8,47.6,71.2,63.9,73.5,21.0,50.5,58.6,53.3,29.7,59.9,26.3,71.4,46.2,48.8,68.6,59.6,67.1,63.0,67.7,59.6,30.3,61.0,69.0,46.0,62.1,62.4,47.8,75.2,58.5,73.0,3.9,68.2,64.9,66.9,76.0,55.9,75.7,59.3,54.5,65.5,72.9,71.0,-4.3,65.6,0.0,42.4,64.2,0.0,0.0,55.3,60.5,0.0,72.8,0.0,55.9,64.2,59.3,20.4,65.5,45.8,72.9,65.5,66.2,59.0,66.9,71.9,52.9,77.5,33.4,44.2,58.0,71.4,41.8,62.2,32.4,1.0,39.7,60.4,65.0,36.7,46.7,69.5,44.4,39.3,62.6,64.8,49.0,52.2,72.9,50.5,51.6,46.2,45.5,68.3,23.6,65.9,29.7,39.5,53.1,61.5,47.6,71.2,70.3,58.6,22.9,50.9,79.6,53.3,26.3,71.4,63.7,59.6,59.6,61.0,46.0,45.6,58.5,59.1,39.5,73.0,66.9,55.9,59.3,65.5,38.9,72.9],\"yaxis\":\"y\",\"type\":\"scattergl\"}],                        {\"template\":{\"data\":{\"histogram2dcontour\":[{\"type\":\"histogram2dcontour\",\"colorbar\":{\"outlinewidth\":0,\"ticks\":\"\"},\"colorscale\":[[0.0,\"#0d0887\"],[0.1111111111111111,\"#46039f\"],[0.2222222222222222,\"#7201a8\"],[0.3333333333333333,\"#9c179e\"],[0.4444444444444444,\"#bd3786\"],[0.5555555555555556,\"#d8576b\"],[0.6666666666666666,\"#ed7953\"],[0.7777777777777778,\"#fb9f3a\"],[0.8888888888888888,\"#fdca26\"],[1.0,\"#f0f921\"]]}],\"choropleth\":[{\"type\":\"choropleth\",\"colorbar\":{\"outlinewidth\":0,\"ticks\":\"\"}}],\"histogram2d\":[{\"type\":\"histogram2d\",\"colorbar\":{\"outlinewidth\":0,\"ticks\":\"\"},\"colorscale\":[[0.0,\"#0d0887\"],[0.1111111111111111,\"#46039f\"],[0.2222222222222222,\"#7201a8\"],[0.3333333333333333,\"#9c179e\"],[0.4444444444444444,\"#bd3786\"],[0.5555555555555556,\"#d8576b\"],[0.6666666666666666,\"#ed7953\"],[0.7777777777777778,\"#fb9f3a\"],[0.8888888888888888,\"#fdca26\"],[1.0,\"#f0f921\"]]}],\"heatmap\":[{\"type\":\"heatmap\",\"colorbar\":{\"outlinewidth\":0,\"ticks\":\"\"},\"colorscale\":[[0.0,\"#0d0887\"],[0.1111111111111111,\"#46039f\"],[0.2222222222222222,\"#7201a8\"],[0.3333333333333333,\"#9c179e\"],[0.4444444444444444,\"#bd3786\"],[0.5555555555555556,\"#d8576b\"],[0.6666666666666666,\"#ed7953\"],[0.7777777777777778,\"#fb9f3a\"],[0.8888888888888888,\"#fdca26\"],[1.0,\"#f0f921\"]]}],\"heatmapgl\":[{\"type\":\"heatmapgl\",\"colorbar\":{\"outlinewidth\":0,\"ticks\":\"\"},\"colorscale\":[[0.0,\"#0d0887\"],[0.1111111111111111,\"#46039f\"],[0.2222222222222222,\"#7201a8\"],[0.3333333333333333,\"#9c179e\"],[0.4444444444444444,\"#bd3786\"],[0.5555555555555556,\"#d8576b\"],[0.6666666666666666,\"#ed7953\"],[0.7777777777777778,\"#fb9f3a\"],[0.8888888888888888,\"#fdca26\"],[1.0,\"#f0f921\"]]}],\"contourcarpet\":[{\"type\":\"contourcarpet\",\"colorbar\":{\"outlinewidth\":0,\"ticks\":\"\"}}],\"contour\":[{\"type\":\"contour\",\"colorbar\":{\"outlinewidth\":0,\"ticks\":\"\"},\"colorscale\":[[0.0,\"#0d0887\"],[0.1111111111111111,\"#46039f\"],[0.2222222222222222,\"#7201a8\"],[0.3333333333333333,\"#9c179e\"],[0.4444444444444444,\"#bd3786\"],[0.5555555555555556,\"#d8576b\"],[0.6666666666666666,\"#ed7953\"],[0.7777777777777778,\"#fb9f3a\"],[0.8888888888888888,\"#fdca26\"],[1.0,\"#f0f921\"]]}],\"surface\":[{\"type\":\"surface\",\"colorbar\":{\"outlinewidth\":0,\"ticks\":\"\"},\"colorscale\":[[0.0,\"#0d0887\"],[0.1111111111111111,\"#46039f\"],[0.2222222222222222,\"#7201a8\"],[0.3333333333333333,\"#9c179e\"],[0.4444444444444444,\"#bd3786\"],[0.5555555555555556,\"#d8576b\"],[0.6666666666666666,\"#ed7953\"],[0.7777777777777778,\"#fb9f3a\"],[0.8888888888888888,\"#fdca26\"],[1.0,\"#f0f921\"]]}],\"mesh3d\":[{\"type\":\"mesh3d\",\"colorbar\":{\"outlinewidth\":0,\"ticks\":\"\"}}],\"scatter\":[{\"fillpattern\":{\"fillmode\":\"overlay\",\"size\":10,\"solidity\":0.2},\"type\":\"scatter\"}],\"parcoords\":[{\"type\":\"parcoords\",\"line\":{\"colorbar\":{\"outlinewidth\":0,\"ticks\":\"\"}}}],\"scatterpolargl\":[{\"type\":\"scatterpolargl\",\"marker\":{\"colorbar\":{\"outlinewidth\":0,\"ticks\":\"\"}}}],\"bar\":[{\"error_x\":{\"color\":\"#2a3f5f\"},\"error_y\":{\"color\":\"#2a3f5f\"},\"marker\":{\"line\":{\"color\":\"#E5ECF6\",\"width\":0.5},\"pattern\":{\"fillmode\":\"overlay\",\"size\":10,\"solidity\":0.2}},\"type\":\"bar\"}],\"scattergeo\":[{\"type\":\"scattergeo\",\"marker\":{\"colorbar\":{\"outlinewidth\":0,\"ticks\":\"\"}}}],\"scatterpolar\":[{\"type\":\"scatterpolar\",\"marker\":{\"colorbar\":{\"outlinewidth\":0,\"ticks\":\"\"}}}],\"histogram\":[{\"marker\":{\"pattern\":{\"fillmode\":\"overlay\",\"size\":10,\"solidity\":0.2}},\"type\":\"histogram\"}],\"scattergl\":[{\"type\":\"scattergl\",\"marker\":{\"colorbar\":{\"outlinewidth\":0,\"ticks\":\"\"}}}],\"scatter3d\":[{\"type\":\"scatter3d\",\"line\":{\"colorbar\":{\"outlinewidth\":0,\"ticks\":\"\"}},\"marker\":{\"colorbar\":{\"outlinewidth\":0,\"ticks\":\"\"}}}],\"scattermapbox\":[{\"type\":\"scattermapbox\",\"marker\":{\"colorbar\":{\"outlinewidth\":0,\"ticks\":\"\"}}}],\"scatterternary\":[{\"type\":\"scatterternary\",\"marker\":{\"colorbar\":{\"outlinewidth\":0,\"ticks\":\"\"}}}],\"scattercarpet\":[{\"type\":\"scattercarpet\",\"marker\":{\"colorbar\":{\"outlinewidth\":0,\"ticks\":\"\"}}}],\"carpet\":[{\"aaxis\":{\"endlinecolor\":\"#2a3f5f\",\"gridcolor\":\"white\",\"linecolor\":\"white\",\"minorgridcolor\":\"white\",\"startlinecolor\":\"#2a3f5f\"},\"baxis\":{\"endlinecolor\":\"#2a3f5f\",\"gridcolor\":\"white\",\"linecolor\":\"white\",\"minorgridcolor\":\"white\",\"startlinecolor\":\"#2a3f5f\"},\"type\":\"carpet\"}],\"table\":[{\"cells\":{\"fill\":{\"color\":\"#EBF0F8\"},\"line\":{\"color\":\"white\"}},\"header\":{\"fill\":{\"color\":\"#C8D4E3\"},\"line\":{\"color\":\"white\"}},\"type\":\"table\"}],\"barpolar\":[{\"marker\":{\"line\":{\"color\":\"#E5ECF6\",\"width\":0.5},\"pattern\":{\"fillmode\":\"overlay\",\"size\":10,\"solidity\":0.2}},\"type\":\"barpolar\"}],\"pie\":[{\"automargin\":true,\"type\":\"pie\"}]},\"layout\":{\"autotypenumbers\":\"strict\",\"colorway\":[\"#636efa\",\"#EF553B\",\"#00cc96\",\"#ab63fa\",\"#FFA15A\",\"#19d3f3\",\"#FF6692\",\"#B6E880\",\"#FF97FF\",\"#FECB52\"],\"font\":{\"color\":\"#2a3f5f\"},\"hovermode\":\"closest\",\"hoverlabel\":{\"align\":\"left\"},\"paper_bgcolor\":\"white\",\"plot_bgcolor\":\"#E5ECF6\",\"polar\":{\"bgcolor\":\"#E5ECF6\",\"angularaxis\":{\"gridcolor\":\"white\",\"linecolor\":\"white\",\"ticks\":\"\"},\"radialaxis\":{\"gridcolor\":\"white\",\"linecolor\":\"white\",\"ticks\":\"\"}},\"ternary\":{\"bgcolor\":\"#E5ECF6\",\"aaxis\":{\"gridcolor\":\"white\",\"linecolor\":\"white\",\"ticks\":\"\"},\"baxis\":{\"gridcolor\":\"white\",\"linecolor\":\"white\",\"ticks\":\"\"},\"caxis\":{\"gridcolor\":\"white\",\"linecolor\":\"white\",\"ticks\":\"\"}},\"coloraxis\":{\"colorbar\":{\"outlinewidth\":0,\"ticks\":\"\"}},\"colorscale\":{\"sequential\":[[0.0,\"#0d0887\"],[0.1111111111111111,\"#46039f\"],[0.2222222222222222,\"#7201a8\"],[0.3333333333333333,\"#9c179e\"],[0.4444444444444444,\"#bd3786\"],[0.5555555555555556,\"#d8576b\"],[0.6666666666666666,\"#ed7953\"],[0.7777777777777778,\"#fb9f3a\"],[0.8888888888888888,\"#fdca26\"],[1.0,\"#f0f921\"]],\"sequentialminus\":[[0.0,\"#0d0887\"],[0.1111111111111111,\"#46039f\"],[0.2222222222222222,\"#7201a8\"],[0.3333333333333333,\"#9c179e\"],[0.4444444444444444,\"#bd3786\"],[0.5555555555555556,\"#d8576b\"],[0.6666666666666666,\"#ed7953\"],[0.7777777777777778,\"#fb9f3a\"],[0.8888888888888888,\"#fdca26\"],[1.0,\"#f0f921\"]],\"diverging\":[[0,\"#8e0152\"],[0.1,\"#c51b7d\"],[0.2,\"#de77ae\"],[0.3,\"#f1b6da\"],[0.4,\"#fde0ef\"],[0.5,\"#f7f7f7\"],[0.6,\"#e6f5d0\"],[0.7,\"#b8e186\"],[0.8,\"#7fbc41\"],[0.9,\"#4d9221\"],[1,\"#276419\"]]},\"xaxis\":{\"gridcolor\":\"white\",\"linecolor\":\"white\",\"ticks\":\"\",\"title\":{\"standoff\":15},\"zerolinecolor\":\"white\",\"automargin\":true,\"zerolinewidth\":2},\"yaxis\":{\"gridcolor\":\"white\",\"linecolor\":\"white\",\"ticks\":\"\",\"title\":{\"standoff\":15},\"zerolinecolor\":\"white\",\"automargin\":true,\"zerolinewidth\":2},\"scene\":{\"xaxis\":{\"backgroundcolor\":\"#E5ECF6\",\"gridcolor\":\"white\",\"linecolor\":\"white\",\"showbackground\":true,\"ticks\":\"\",\"zerolinecolor\":\"white\",\"gridwidth\":2},\"yaxis\":{\"backgroundcolor\":\"#E5ECF6\",\"gridcolor\":\"white\",\"linecolor\":\"white\",\"showbackground\":true,\"ticks\":\"\",\"zerolinecolor\":\"white\",\"gridwidth\":2},\"zaxis\":{\"backgroundcolor\":\"#E5ECF6\",\"gridcolor\":\"white\",\"linecolor\":\"white\",\"showbackground\":true,\"ticks\":\"\",\"zerolinecolor\":\"white\",\"gridwidth\":2}},\"shapedefaults\":{\"line\":{\"color\":\"#2a3f5f\"}},\"annotationdefaults\":{\"arrowcolor\":\"#2a3f5f\",\"arrowhead\":0,\"arrowwidth\":1},\"geo\":{\"bgcolor\":\"white\",\"landcolor\":\"#E5ECF6\",\"subunitcolor\":\"white\",\"showland\":true,\"showlakes\":true,\"lakecolor\":\"white\"},\"title\":{\"x\":0.05},\"mapbox\":{\"style\":\"light\"}}},\"xaxis\":{\"anchor\":\"y\",\"domain\":[0.0,1.0],\"title\":{\"text\":\"Item Rating\"}},\"yaxis\":{\"anchor\":\"x\",\"domain\":[0.0,1.0],\"title\":{\"text\":\"Discount\"}},\"legend\":{\"tracegroupgap\":0},\"title\":{\"text\":\"Relationship Between Discount & item_rating\"}},                        {\"responsive\": true}                    ).then(function(){\n",
       "                            \n",
       "var gd = document.getElementById('754a7df9-5d05-4f0f-aad4-cc5dea8ffeb2');\n",
       "var x = new MutationObserver(function (mutations, observer) {{\n",
       "        var display = window.getComputedStyle(gd).display;\n",
       "        if (!display || display === 'none') {{\n",
       "            console.log([gd, 'removed!']);\n",
       "            Plotly.purge(gd);\n",
       "            observer.disconnect();\n",
       "        }}\n",
       "}});\n",
       "\n",
       "// Listen for the removal of the full notebook cells\n",
       "var notebookContainer = gd.closest('#notebook-container');\n",
       "if (notebookContainer) {{\n",
       "    x.observe(notebookContainer, {childList: true});\n",
       "}}\n",
       "\n",
       "// Listen for the clearing of the current output cell\n",
       "var outputEl = gd.closest('.output');\n",
       "if (outputEl) {{\n",
       "    x.observe(outputEl, {childList: true});\n",
       "}}\n",
       "\n",
       "                        })                };                });            </script>        </div>"
      ]
     },
     "metadata": {},
     "output_type": "display_data"
    }
   ],
   "source": [
    "df2 = df1.copy()\n",
    "fig = px.scatter(df2, x='item_rating' , y='discount%',title = \"Relationship Between Discount & item_rating\",color_discrete_sequence=px.colors.qualitative.Vivid,labels={'discount%':'Discount','item_rating':'Item Rating'} )\n",
    "fig.show()"
   ]
  },
  {
   "cell_type": "code",
   "execution_count": null,
   "id": "cf4ad689",
   "metadata": {},
   "outputs": [],
   "source": []
  }
 ],
 "metadata": {
  "kernelspec": {
   "display_name": "Python 3 (ipykernel)",
   "language": "python",
   "name": "python3"
  },
  "language_info": {
   "codemirror_mode": {
    "name": "ipython",
    "version": 3
   },
   "file_extension": ".py",
   "mimetype": "text/x-python",
   "name": "python",
   "nbconvert_exporter": "python",
   "pygments_lexer": "ipython3",
   "version": "3.9.13"
  }
 },
 "nbformat": 4,
 "nbformat_minor": 5
}
