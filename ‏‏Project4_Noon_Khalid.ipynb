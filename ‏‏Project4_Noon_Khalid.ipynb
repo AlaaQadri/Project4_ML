{
 "cells": [
  {
   "cell_type": "markdown",
   "id": "fde3a783",
   "metadata": {},
   "source": [
    "## Import Libraries"
   ]
  },
  {
   "cell_type": "code",
   "execution_count": 3,
   "id": "2d9746be",
   "metadata": {},
   "outputs": [],
   "source": [
    "import pandas as pd \n",
    "import numpy as np \n",
    "import matplotlib.pyplot as plt \n",
    "import seaborn as sns\n",
    "import plotly.express as px"
   ]
  },
  {
   "cell_type": "markdown",
   "id": "b4e84163",
   "metadata": {},
   "source": [
    "## Read Dataset"
   ]
  },
  {
   "cell_type": "code",
   "execution_count": 4,
   "id": "867e9a40",
   "metadata": {},
   "outputs": [],
   "source": [
    "df1 = pd.read_csv(\"noon_perfumes_dataset.csv\")"
   ]
  },
  {
   "cell_type": "markdown",
   "id": "09078024",
   "metadata": {},
   "source": [
    "## EDA "
   ]
  },
  {
   "cell_type": "code",
   "execution_count": 5,
   "id": "26b2e2a9",
   "metadata": {},
   "outputs": [
    {
     "data": {
      "text/html": [
       "<div>\n",
       "<style scoped>\n",
       "    .dataframe tbody tr th:only-of-type {\n",
       "        vertical-align: middle;\n",
       "    }\n",
       "\n",
       "    .dataframe tbody tr th {\n",
       "        vertical-align: top;\n",
       "    }\n",
       "\n",
       "    .dataframe thead th {\n",
       "        text-align: right;\n",
       "    }\n",
       "</style>\n",
       "<table border=\"1\" class=\"dataframe\">\n",
       "  <thead>\n",
       "    <tr style=\"text-align: right;\">\n",
       "      <th></th>\n",
       "      <th>Unnamed: 0</th>\n",
       "      <th>brand</th>\n",
       "      <th>name</th>\n",
       "      <th>old_price</th>\n",
       "      <th>new_price</th>\n",
       "      <th>ml</th>\n",
       "      <th>concentration</th>\n",
       "      <th>department</th>\n",
       "      <th>scents</th>\n",
       "      <th>base_note</th>\n",
       "      <th>middle_note</th>\n",
       "      <th>item_rating</th>\n",
       "      <th>seller</th>\n",
       "      <th>seller_rating</th>\n",
       "      <th>num_seller_ratings</th>\n",
       "    </tr>\n",
       "  </thead>\n",
       "  <tbody>\n",
       "    <tr>\n",
       "      <th>0</th>\n",
       "      <td>0</td>\n",
       "      <td>PACO RABANNE</td>\n",
       "      <td>1 Million Lucky</td>\n",
       "      <td>395.0</td>\n",
       "      <td>244.55</td>\n",
       "      <td>100</td>\n",
       "      <td>EDT</td>\n",
       "      <td>Men</td>\n",
       "      <td>Woody</td>\n",
       "      <td>Oakmoss, Patchouli and Vetiver</td>\n",
       "      <td>Hazelnut, Jasmine, Cashmir Wood, Cedar and Honey</td>\n",
       "      <td>5.0</td>\n",
       "      <td>noon</td>\n",
       "      <td>4.2</td>\n",
       "      <td>98.1K</td>\n",
       "    </tr>\n",
       "    <tr>\n",
       "      <th>1</th>\n",
       "      <td>1</td>\n",
       "      <td>Roberto Cavalli</td>\n",
       "      <td>Paradiso Assoluto</td>\n",
       "      <td>415.0</td>\n",
       "      <td>107.95</td>\n",
       "      <td>50</td>\n",
       "      <td>EDP</td>\n",
       "      <td>Women</td>\n",
       "      <td>Floral</td>\n",
       "      <td>Vanilla, Sandalwood And Patchouli</td>\n",
       "      <td>Wild Jasmine and Red Lily</td>\n",
       "      <td>4.8</td>\n",
       "      <td>noon</td>\n",
       "      <td>4.2</td>\n",
       "      <td>98.1K</td>\n",
       "    </tr>\n",
       "    <tr>\n",
       "      <th>2</th>\n",
       "      <td>2</td>\n",
       "      <td>S.T.Dupont</td>\n",
       "      <td>Royal Amber</td>\n",
       "      <td>265.0</td>\n",
       "      <td>186.90</td>\n",
       "      <td>100</td>\n",
       "      <td>EDP</td>\n",
       "      <td>Unisex</td>\n",
       "      <td>Arabian</td>\n",
       "      <td>Lemon, Mint and Wood Moss</td>\n",
       "      <td>Sandalwood and Cedar</td>\n",
       "      <td>5.0</td>\n",
       "      <td>noon</td>\n",
       "      <td>4.2</td>\n",
       "      <td>98.1K</td>\n",
       "    </tr>\n",
       "    <tr>\n",
       "      <th>3</th>\n",
       "      <td>3</td>\n",
       "      <td>GUESS</td>\n",
       "      <td>Seductive Blue</td>\n",
       "      <td>290.0</td>\n",
       "      <td>103.20</td>\n",
       "      <td>100</td>\n",
       "      <td>EDT</td>\n",
       "      <td>Men</td>\n",
       "      <td>Spicy</td>\n",
       "      <td>Cashmere Wood, Moss And Rippled Sand Accord</td>\n",
       "      <td>Blue Coral Aquaspace Accord And Geranium</td>\n",
       "      <td>3.0</td>\n",
       "      <td>noon</td>\n",
       "      <td>4.2</td>\n",
       "      <td>98.1K</td>\n",
       "    </tr>\n",
       "    <tr>\n",
       "      <th>4</th>\n",
       "      <td>4</td>\n",
       "      <td>Roberto Cavalli</td>\n",
       "      <td>Uomo</td>\n",
       "      <td>260.0</td>\n",
       "      <td>94.95</td>\n",
       "      <td>50</td>\n",
       "      <td>EDP</td>\n",
       "      <td>Women</td>\n",
       "      <td>Arabian</td>\n",
       "      <td>Vanille, Benzoin, Tonka Bean</td>\n",
       "      <td>African Orange Flower</td>\n",
       "      <td>4.8</td>\n",
       "      <td>noon</td>\n",
       "      <td>4.2</td>\n",
       "      <td>98.1K</td>\n",
       "    </tr>\n",
       "  </tbody>\n",
       "</table>\n",
       "</div>"
      ],
      "text/plain": [
       "   Unnamed: 0            brand               name  old_price  new_price   ml  \\\n",
       "0           0     PACO RABANNE    1 Million Lucky      395.0     244.55  100   \n",
       "1           1  Roberto Cavalli  Paradiso Assoluto      415.0     107.95   50   \n",
       "2           2       S.T.Dupont        Royal Amber      265.0     186.90  100   \n",
       "3           3            GUESS     Seductive Blue      290.0     103.20  100   \n",
       "4           4  Roberto Cavalli               Uomo      260.0      94.95   50   \n",
       "\n",
       "  concentration department   scents  \\\n",
       "0           EDT        Men    Woody   \n",
       "1           EDP      Women   Floral   \n",
       "2           EDP     Unisex  Arabian   \n",
       "3           EDT        Men    Spicy   \n",
       "4           EDP      Women  Arabian   \n",
       "\n",
       "                                     base_note  \\\n",
       "0               Oakmoss, Patchouli and Vetiver   \n",
       "1            Vanilla, Sandalwood And Patchouli   \n",
       "2                    Lemon, Mint and Wood Moss   \n",
       "3  Cashmere Wood, Moss And Rippled Sand Accord   \n",
       "4                 Vanille, Benzoin, Tonka Bean   \n",
       "\n",
       "                                        middle_note  item_rating seller  \\\n",
       "0  Hazelnut, Jasmine, Cashmir Wood, Cedar and Honey          5.0   noon   \n",
       "1                         Wild Jasmine and Red Lily          4.8   noon   \n",
       "2                              Sandalwood and Cedar          5.0   noon   \n",
       "3          Blue Coral Aquaspace Accord And Geranium          3.0   noon   \n",
       "4                             African Orange Flower          4.8   noon   \n",
       "\n",
       "   seller_rating num_seller_ratings  \n",
       "0            4.2              98.1K  \n",
       "1            4.2              98.1K  \n",
       "2            4.2              98.1K  \n",
       "3            4.2              98.1K  \n",
       "4            4.2              98.1K  "
      ]
     },
     "execution_count": 5,
     "metadata": {},
     "output_type": "execute_result"
    }
   ],
   "source": [
    "pd.set_option('display.max_columns', None)\n",
    "pd.set_option('display.max_rows', None)\n",
    "df1.head()"
   ]
  },
  {
   "cell_type": "code",
   "execution_count": 6,
   "id": "3b51b781",
   "metadata": {},
   "outputs": [
    {
     "data": {
      "text/plain": [
       "(1003, 15)"
      ]
     },
     "execution_count": 6,
     "metadata": {},
     "output_type": "execute_result"
    }
   ],
   "source": [
    "df1.shape"
   ]
  },
  {
   "cell_type": "code",
   "execution_count": 7,
   "id": "1f787125",
   "metadata": {},
   "outputs": [
    {
     "data": {
      "text/html": [
       "<div>\n",
       "<style scoped>\n",
       "    .dataframe tbody tr th:only-of-type {\n",
       "        vertical-align: middle;\n",
       "    }\n",
       "\n",
       "    .dataframe tbody tr th {\n",
       "        vertical-align: top;\n",
       "    }\n",
       "\n",
       "    .dataframe thead th {\n",
       "        text-align: right;\n",
       "    }\n",
       "</style>\n",
       "<table border=\"1\" class=\"dataframe\">\n",
       "  <thead>\n",
       "    <tr style=\"text-align: right;\">\n",
       "      <th></th>\n",
       "      <th>Unnamed: 0</th>\n",
       "      <th>old_price</th>\n",
       "      <th>new_price</th>\n",
       "      <th>ml</th>\n",
       "      <th>item_rating</th>\n",
       "      <th>seller_rating</th>\n",
       "    </tr>\n",
       "  </thead>\n",
       "  <tbody>\n",
       "    <tr>\n",
       "      <th>count</th>\n",
       "      <td>1003.000000</td>\n",
       "      <td>1003.000000</td>\n",
       "      <td>1003.000000</td>\n",
       "      <td>1003.000000</td>\n",
       "      <td>1003.000000</td>\n",
       "      <td>1003.000000</td>\n",
       "    </tr>\n",
       "    <tr>\n",
       "      <th>mean</th>\n",
       "      <td>501.000000</td>\n",
       "      <td>321.176022</td>\n",
       "      <td>149.574307</td>\n",
       "      <td>92.862413</td>\n",
       "      <td>4.530907</td>\n",
       "      <td>14.143170</td>\n",
       "    </tr>\n",
       "    <tr>\n",
       "      <th>std</th>\n",
       "      <td>289.685462</td>\n",
       "      <td>234.195846</td>\n",
       "      <td>108.686013</td>\n",
       "      <td>27.496053</td>\n",
       "      <td>0.555504</td>\n",
       "      <td>64.706572</td>\n",
       "    </tr>\n",
       "    <tr>\n",
       "      <th>min</th>\n",
       "      <td>0.000000</td>\n",
       "      <td>5.350000</td>\n",
       "      <td>5.350000</td>\n",
       "      <td>1.000000</td>\n",
       "      <td>1.000000</td>\n",
       "      <td>3.500000</td>\n",
       "    </tr>\n",
       "    <tr>\n",
       "      <th>25%</th>\n",
       "      <td>250.500000</td>\n",
       "      <td>140.500000</td>\n",
       "      <td>80.325000</td>\n",
       "      <td>80.000000</td>\n",
       "      <td>4.400000</td>\n",
       "      <td>3.800000</td>\n",
       "    </tr>\n",
       "    <tr>\n",
       "      <th>50%</th>\n",
       "      <td>501.000000</td>\n",
       "      <td>310.000000</td>\n",
       "      <td>135.000000</td>\n",
       "      <td>100.000000</td>\n",
       "      <td>4.600000</td>\n",
       "      <td>3.900000</td>\n",
       "    </tr>\n",
       "    <tr>\n",
       "      <th>75%</th>\n",
       "      <td>751.500000</td>\n",
       "      <td>455.000000</td>\n",
       "      <td>198.525000</td>\n",
       "      <td>100.000000</td>\n",
       "      <td>5.000000</td>\n",
       "      <td>4.200000</td>\n",
       "    </tr>\n",
       "    <tr>\n",
       "      <th>max</th>\n",
       "      <td>1002.000000</td>\n",
       "      <td>2350.000000</td>\n",
       "      <td>904.850000</td>\n",
       "      <td>200.000000</td>\n",
       "      <td>5.000000</td>\n",
       "      <td>454.000000</td>\n",
       "    </tr>\n",
       "  </tbody>\n",
       "</table>\n",
       "</div>"
      ],
      "text/plain": [
       "        Unnamed: 0    old_price    new_price           ml  item_rating  \\\n",
       "count  1003.000000  1003.000000  1003.000000  1003.000000  1003.000000   \n",
       "mean    501.000000   321.176022   149.574307    92.862413     4.530907   \n",
       "std     289.685462   234.195846   108.686013    27.496053     0.555504   \n",
       "min       0.000000     5.350000     5.350000     1.000000     1.000000   \n",
       "25%     250.500000   140.500000    80.325000    80.000000     4.400000   \n",
       "50%     501.000000   310.000000   135.000000   100.000000     4.600000   \n",
       "75%     751.500000   455.000000   198.525000   100.000000     5.000000   \n",
       "max    1002.000000  2350.000000   904.850000   200.000000     5.000000   \n",
       "\n",
       "       seller_rating  \n",
       "count    1003.000000  \n",
       "mean       14.143170  \n",
       "std        64.706572  \n",
       "min         3.500000  \n",
       "25%         3.800000  \n",
       "50%         3.900000  \n",
       "75%         4.200000  \n",
       "max       454.000000  "
      ]
     },
     "execution_count": 7,
     "metadata": {},
     "output_type": "execute_result"
    }
   ],
   "source": [
    "df1.describe()"
   ]
  },
  {
   "cell_type": "code",
   "execution_count": 8,
   "id": "1e2e1c98",
   "metadata": {},
   "outputs": [
    {
     "name": "stdout",
     "output_type": "stream",
     "text": [
      "<class 'pandas.core.frame.DataFrame'>\n",
      "RangeIndex: 1003 entries, 0 to 1002\n",
      "Data columns (total 15 columns):\n",
      " #   Column              Non-Null Count  Dtype  \n",
      "---  ------              --------------  -----  \n",
      " 0   Unnamed: 0          1003 non-null   int64  \n",
      " 1   brand               1003 non-null   object \n",
      " 2   name                1003 non-null   object \n",
      " 3   old_price           1003 non-null   float64\n",
      " 4   new_price           1003 non-null   float64\n",
      " 5   ml                  1003 non-null   int64  \n",
      " 6   concentration       1003 non-null   object \n",
      " 7   department          1003 non-null   object \n",
      " 8   scents              1003 non-null   object \n",
      " 9   base_note           1003 non-null   object \n",
      " 10  middle_note         1003 non-null   object \n",
      " 11  item_rating         1003 non-null   float64\n",
      " 12  seller              1003 non-null   object \n",
      " 13  seller_rating       1003 non-null   float64\n",
      " 14  num_seller_ratings  1003 non-null   object \n",
      "dtypes: float64(4), int64(2), object(9)\n",
      "memory usage: 117.7+ KB\n"
     ]
    }
   ],
   "source": [
    "df1.info()"
   ]
  },
  {
   "cell_type": "code",
   "execution_count": 9,
   "id": "9be5f3ea",
   "metadata": {},
   "outputs": [],
   "source": [
    "# df1['num_seller_ratings']"
   ]
  },
  {
   "cell_type": "code",
   "execution_count": 10,
   "id": "f5f4da6d",
   "metadata": {},
   "outputs": [],
   "source": [
    "df1.drop('Unnamed: 0', axis=1, inplace=True)"
   ]
  },
  {
   "cell_type": "code",
   "execution_count": 11,
   "id": "86b74dcc",
   "metadata": {},
   "outputs": [
    {
     "data": {
      "text/plain": [
       "Index(['brand', 'name', 'old_price', 'new_price', 'ml', 'concentration',\n",
       "       'department', 'scents', 'base_note', 'middle_note', 'item_rating',\n",
       "       'seller', 'seller_rating', 'num_seller_ratings'],\n",
       "      dtype='object')"
      ]
     },
     "execution_count": 11,
     "metadata": {},
     "output_type": "execute_result"
    }
   ],
   "source": [
    "df1.columns"
   ]
  },
  {
   "cell_type": "code",
   "execution_count": 12,
   "id": "44a17e9d",
   "metadata": {},
   "outputs": [
    {
     "data": {
      "text/plain": [
       "Women     503\n",
       "Men       433\n",
       "Unisex     67\n",
       "Name: department, dtype: int64"
      ]
     },
     "execution_count": 12,
     "metadata": {},
     "output_type": "execute_result"
    }
   ],
   "source": [
    "df1['department'].replace({'Kids Unisex':'Unisex'},inplace=True)\n",
    "df1['department'].value_counts()"
   ]
  },
  {
   "cell_type": "code",
   "execution_count": 13,
   "id": "9ea2cc54",
   "metadata": {},
   "outputs": [
    {
     "data": {
      "text/plain": [
       "Calvin Klein                 44\n",
       "BURBERRY                     39\n",
       "HUGO BOSS                    36\n",
       "Roberto Cavalli              34\n",
       "DORALL COLLECTION            32\n",
       "VERSACE                      31\n",
       "GUCCI                        29\n",
       "PACO RABANNE                 23\n",
       "LACOSTE                      23\n",
       "Dolce & Gabbana              23\n",
       "GUESS                        21\n",
       "MONTBLANC                    20\n",
       "CAROLINA HERRERA             19\n",
       "Mancera                      19\n",
       "Rasasi                       19\n",
       "Lattafa                      18\n",
       "DAVIDOFF                     16\n",
       "GIORGIO ARMANI               16\n",
       "S.T.Dupont                   16\n",
       "Estee Lauder                 16\n",
       "Guerlain                     15\n",
       "BVLGARI                      15\n",
       "Givenchy                     15\n",
       "Yves Saint Laurent           15\n",
       "Ajmal                        14\n",
       "CARTIER                      13\n",
       "Dunhill                      13\n",
       "CHANEL                       11\n",
       "JAGUAR                       11\n",
       "Dior                         10\n",
       "LALIQUE                      10\n",
       "NARCISO RODRIGUEZ             9\n",
       "AZZARO                        9\n",
       "CHOPARD                       9\n",
       "TED LAPIDUS                   8\n",
       "CHLOE                         8\n",
       "COACH                         8\n",
       "J.CASANOVA                    8\n",
       "Lancome                       8\n",
       "BOUCHERON                     7\n",
       "joop                          7\n",
       "Ferrari                       7\n",
       "Alina Corel                   7\n",
       "TRUSSARDI                     6\n",
       "UNITED COLORS OF BENETTON     6\n",
       "jennifer lopez                6\n",
       "TOMMY HILFIGER                5\n",
       "LANVIN                        5\n",
       "DIESEL                        5\n",
       "Genie                         5\n",
       "TESORI D´ORIENTE              5\n",
       "Juicy Couture                 5\n",
       "AVON                          5\n",
       "Sedr Al-Khaleej Perfumes      5\n",
       "NINA RICCI                    4\n",
       "PRADA                         4\n",
       "Franck Olivier                4\n",
       "Al Fakhr                      4\n",
       "Jean Paul GAULTIER            4\n",
       "AMOUAGE                       4\n",
       "ELIE SAAB                     4\n",
       "LOEWE                         4\n",
       "Elizabeth Arden               4\n",
       "Fendi                         4\n",
       "BENTLEY                       4\n",
       "Van Cleef & Arpels            4\n",
       "Marbert                       3\n",
       "Jimmy Choo                    3\n",
       "ESCADA                        3\n",
       "Jacques Bogart                3\n",
       "Aramis                        3\n",
       "MINI COLLECTION               3\n",
       "Armaf                         3\n",
       "Parfums Gres                  3\n",
       "LANVIN PARIS                  3\n",
       "JOVAN                         3\n",
       "Ard Al Zaafaran               3\n",
       "Britney Spears                3\n",
       "armani                        3\n",
       "AIGNER                        3\n",
       "HERMES                        3\n",
       "Geoffrey Beene                3\n",
       "EMPORIO ARMANI                3\n",
       "Revlon                        3\n",
       "ANGEL SCHLESSER               3\n",
       "cacharel                      3\n",
       "Nikos                         2\n",
       "Marc Jacobs                   2\n",
       "ARMAND BASI                   2\n",
       "Shirley May                   2\n",
       "SWISS ARABIAN                 2\n",
       "Bill Blass                    2\n",
       "ROGER & GALLET                2\n",
       "CARON                         2\n",
       "Remy Marquis                  2\n",
       "Kenneth Cole                  2\n",
       "Mont Blanc                    2\n",
       "Arabian Oud                   2\n",
       "Justcavalli                   2\n",
       "MONTALE                       2\n",
       "Emper                         2\n",
       "Parfums De Marly              2\n",
       "CERRUTI 1881                  2\n",
       "KORLOFF                       2\n",
       "TRI                           2\n",
       "DKNY                          2\n",
       "Genie Collection              2\n",
       "Niya                          2\n",
       "RALPH LAUREN                  2\n",
       "Elizabeth Taylor              2\n",
       "Paris Hilton                  2\n",
       "Roberto                       2\n",
       "Milton Lloyd                  2\n",
       "Alrehab                       2\n",
       "Kenzo                         2\n",
       "Benetton                      2\n",
       "MB                            2\n",
       "LE CHAMEAU                    2\n",
       "Creation Lamis                1\n",
       "LA PERLA                      1\n",
       "ISSEY MIYAKE                  1\n",
       "Dorall                        1\n",
       "YVES                          1\n",
       "Misk Perfumes                 1\n",
       "MOSCHINO                      1\n",
       "Gres                          1\n",
       "Pierra Katra                  1\n",
       "Mandarina Duck                1\n",
       "STELLA MCCARTNEY              1\n",
       "ST Dupont                     1\n",
       "al raheeb                     1\n",
       "Al Rasasi                     1\n",
       "Pino Silvestre                1\n",
       "TOM FORD                      1\n",
       "Michael Kors                  1\n",
       "Dupont                        1\n",
       "Carrera                       1\n",
       "Salvatore Ferragamo           1\n",
       "VALENTINO                     1\n",
       "YSL                           1\n",
       "PRIVE                         1\n",
       "Jacomo                        1\n",
       "jil sander                    1\n",
       "Giorgio Beverly Hills         1\n",
       "ADOLFO DOMINGUEZ              1\n",
       "ROCHAS                        1\n",
       "Miu Miu                       1\n",
       "Shiseido                      1\n",
       "Laura Mars                    1\n",
       "Lolita Lempicka               1\n",
       "CREED                         1\n",
       "Mercedes-Benz                 1\n",
       "MING NA                       1\n",
       "adidas                        1\n",
       "PENHALIGON'S                  1\n",
       "Laura Biagiotti               1\n",
       "HOUBIGANT                     1\n",
       "NICOLAI                       1\n",
       "marbert man                   1\n",
       "Mariah Carey                  1\n",
       "Name: brand, dtype: int64"
      ]
     },
     "execution_count": 13,
     "metadata": {},
     "output_type": "execute_result"
    }
   ],
   "source": [
    "df1['brand'].value_counts()"
   ]
  },
  {
   "cell_type": "code",
   "execution_count": 14,
   "id": "319c207e",
   "metadata": {},
   "outputs": [
    {
     "name": "stdout",
     "output_type": "stream",
     "text": [
      "Roses Vanille                       8\n",
      "Pour Homme                          8\n",
      "Uomo                                8\n",
      "Eros                                8\n",
      "Homme                               8\n",
      "Essence Pure                        7\n",
      "Marciano                            7\n",
      "Encre Noire                         7\n",
      "Sauvage                             6\n",
      "Paradiso Assoluto                   6\n",
      "Passenger                           6\n",
      "Beauty                              6\n",
      "London                              6\n",
      "Crystal Noir                        5\n",
      "One Shock                           5\n",
      "The One                             5\n",
      "Legend                              5\n",
      "Pour Femme                          5\n",
      "Dylan Blue                          5\n",
      "CK One                              5\n",
      "Cool Water                          5\n",
      "Sacrifice                           5\n",
      "Stronger With You                   4\n",
      "Euphoria                            4\n",
      "Florence                            4\n",
      "The Scent                           4\n",
      "Emblem                              4\n",
      "Good Girl                           4\n",
      "Just Cavalli                        4\n",
      "Burberry Body                       4\n",
      "Scandal                             4\n",
      "Desire                              4\n",
      "Guilty Absolute                     4\n",
      "Dare                                4\n",
      "Private Collection                  4\n",
      "212 Sexy                            4\n",
      "Narciso Rodriguez                   4\n",
      "My Burberry                         4\n",
      "Petits Et Mamans                    4\n",
      "Bleu De Chanel                      4\n",
      "Love Story                          4\n",
      "L'Homme                             4\n",
      "K                                   3\n",
      "Boss The Scent                      3\n",
      "Bright Crystal                      3\n",
      "Plus Plus Masculine                 3\n",
      "Ma Vie                              3\n",
      "La Vie Est Belle                    3\n",
      "Escape                              3\n",
      "Declaration                         3\n",
      "Happy Spirit                        3\n",
      "Femme                               3\n",
      "Essential                           3\n",
      "Plaisir                             3\n",
      "Furiosa                             3\n",
      "Bloom Nettare Di Fiori              3\n",
      "L.12.12 Blanc                       3\n",
      "Shuhrah                             3\n",
      "Explorer                            3\n",
      "Floral                              3\n",
      "Chrome                              3\n",
      "Classic Black                       3\n",
      "Scuderia Red                        3\n",
      "L.12.12 Blanc-Pure                  3\n",
      "Mr. Burberry                        3\n",
      "Hot                                 3\n",
      "Bloom                               3\n",
      "Black                               3\n",
      "Guilty                              3\n",
      "Creation                            3\n",
      "Cabotine                            3\n",
      "Sheikh Al Shuyukh                   3\n",
      "Still                               3\n",
      "Musk Cologne Sp                     3\n",
      "The Game                            3\n",
      "3 L'Imperatrice                     3\n",
      "First                               3\n",
      "Chloe                               3\n",
      "Xeryus Rouge                        3\n",
      "Rouat Al Oud                        3\n",
      "Invictus                            3\n",
      "Nero Assoluto                       3\n",
      "Black Opium                         3\n",
      "Fantasy                             3\n",
      "Quatre                              3\n",
      "Eternity                            3\n",
      "Hugo                                3\n",
      "Dupont                              3\n",
      "Paradiso Azzurro                    3\n",
      "Lacoste                             3\n",
      "For Women EDP Natural Sp            3\n",
      "Man Pure                            2\n",
      "My Burberry Bl                      2\n",
      "Lady Emblem                         2\n",
      "Seductive                           2\n",
      "Oud Al-Mubakhar                     2\n",
      "The Only One 2                      2\n",
      "Pandora                             2\n",
      "Man In Red                          2\n",
      "Esencia                             2\n",
      "Silver Scent                        2\n",
      "In White                            2\n",
      "My Burberry Blush                   2\n",
      "Magnetism                           2\n",
      "Lancy                               2\n",
      "Pasha Edition Noir                  2\n",
      "Pink Hearts                         2\n",
      "Rose Greedy                         2\n",
      "Miracle                             2\n",
      "jimmy                               2\n",
      "Mademoiselle Ricci                  2\n",
      "For Ever                            2\n",
      "Red Tobacco                         2\n",
      "1029 Collection                     2\n",
      "Classic Blue                        2\n",
      "Extreme                             2\n",
      "New York                            2\n",
      "Beautiful                           2\n",
      "Intenso                             2\n",
      "Sculpture Homme                     2\n",
      "Open                                2\n",
      "The Beat                            2\n",
      "Grey Flannel                        2\n",
      "Chrome Legend                       2\n",
      "DC                                  2\n",
      "212 Vip                             2\n",
      "Tommy Girl                          2\n",
      "La Panthere                         2\n",
      "Viva La Juicy                       2\n",
      "Bottled Unlimited                   2\n",
      "Oud Wood                            2\n",
      "Boss                                2\n",
      "Daisy Eau So Fresh                  2\n",
      "Versace Pour Homme                  2\n",
      "Visit                               2\n",
      "Narciso Rodriguez For Her           2\n",
      "The Dreamer                         2\n",
      "Custom                              2\n",
      "Flora                               2\n",
      "212 VIP                             2\n",
      "Velvet Oud                          2\n",
      "Habit Rouge                         2\n",
      "Bottled Night                       2\n",
      "Allure Homme Sport EDT For          2\n",
      "Aqva Marine Pour Homme              2\n",
      "Si                                  2\n",
      "Oud Sharqia                         2\n",
      "Reveal                              2\n",
      "Legend Spirit                       2\n",
      "Body                                2\n",
      "Esencia Pour Homme                  2\n",
      "Declaration Essence                 2\n",
      "White Linen                         2\n",
      "Ultraviolet                         2\n",
      "Brown                               2\n",
      "Jaguar                              2\n",
      "Eternally Hot                       2\n",
      "Place Vendome                       2\n",
      "Wisal                               2\n",
      "Lotus Flower Aromatic Par           2\n",
      "1 Million Lucky                     2\n",
      "Bloom Aqua Di Fiori                 2\n",
      "Cold                                2\n",
      "Nude Natural Spray Colo             2\n",
      "Anfas Aloud                         2\n",
      "Addict                              2\n",
      "London Burberry                     2\n",
      "Al Wisam Day                        2\n",
      "Women                               2\n",
      "Oud Maaruf                          2\n",
      "Man In Black                        2\n",
      "Paradiso Azzuro                     2\n",
      "Oud Touch                           2\n",
      "Nuit                                2\n",
      "White Diamonds                      2\n",
      "Girl Of Now                         2\n",
      "Adventure                           2\n",
      "Body Kouros                         2\n",
      "One Million                         2\n",
      "Terre D' Hermes                     2\n",
      "Raindrops                           2\n",
      "In Red                              2\n",
      "Intense Euphoria                    2\n",
      "Wish                                2\n",
      "L'interdit                          2\n",
      "Zino                                2\n",
      "Lady Million                        2\n",
      "Monsieur Oud                        2\n",
      "Live                                2\n",
      "Idylle                              2\n",
      "Premium                             2\n",
      "Modern Muse                         2\n",
      "Euphoria Intense                    2\n",
      "Burberry Body Intense               2\n",
      "Ana Abiyedh Leather                 2\n",
      "CK Be                               2\n",
      "Brit Rhythm Intense                 2\n",
      "My Name                             2\n",
      "Tommy                               2\n",
      "Si Passione EDP For Wo              2\n",
      "Premier Jour                        2\n",
      "Oud Mood                            2\n",
      "Hot Water                           2\n",
      "Sheer Beauty                        2\n",
      "Obsession                           2\n",
      "Rouat Al Musk                       2\n",
      "White Musk                          2\n",
      "Eau de Lacoste L. 12.12 Noir        2\n",
      "Coco Mademoiselle                   2\n",
      "Emotion                             2\n",
      "Bamboo                              2\n",
      "Desire Blue                         2\n",
      "Tomorrow                            2\n",
      "cavalli                             2\n",
      "Sheikh Shuyukh                      2\n",
      "Eau Pour Homme Reno 2013            2\n",
      "L'Instant Magic                     2\n",
      "Ideal                               2\n",
      "Acqua Di Gio                        2\n",
      "Hawaii London                       2\n",
      "Ameer Al Oud Khususi                2\n",
      "Romance                             2\n",
      "Blue                                2\n",
      "1 Million                           2\n",
      "Touch Of Pink                       2\n",
      "En Joy                              2\n",
      "Gold                                2\n",
      "Amber Intense                       2\n",
      "Code                                1\n",
      "Delina Exclusive                    1\n",
      "Sweetheart Rockstar                 1\n",
      "Epic                                1\n",
      "900 Herbal Spray                    1\n",
      "Especially Elixir                   1\n",
      "Always                              1\n",
      "Marbert Man                         1\n",
      "L'Acquarossa                        1\n",
      "Goldea The Roman Night Absolute     1\n",
      "Patchouli Intense                   1\n",
      "Stella                              1\n",
      "Pleasures Intense                   1\n",
      "Roses Greedy                        1\n",
      "Rush 2                              1\n",
      "Light Blue                          1\n",
      "Amethyst Exquise                    1\n",
      "Eau De Lacoste                      1\n",
      "Club De Nuit Intense Man            1\n",
      "Manifesto                           1\n",
      "L'Homme Sport                       1\n",
      "Ambre Imperial                      1\n",
      "Green Tea                           1\n",
      "My Blush                            1\n",
      "Body Mini ED                        1\n",
      "Kouros Silver                       1\n",
      "The Brilliant Game                  1\n",
      "Modern Princess                     1\n",
      "Rive Gauche Homme                   1\n",
      "Intense                             1\n",
      "Bottled Tonic                       1\n",
      "Blu                                 1\n",
      "La Nuit De L`Homme                  1\n",
      "Sauvage Perf                        1\n",
      "Because It's You by Emporio         1\n",
      "Royale                              1\n",
      "Armani Code                         1\n",
      "Olympéa Intense                     1\n",
      "Secret Obsession                    1\n",
      "Wanted                              1\n",
      "Prive Maison Sandalwood             1\n",
      "Eau De lacoste                      1\n",
      "The One Royal Night                 1\n",
      "Quelques Fleurs L'Original          1\n",
      "Anais Anais Loriginal               1\n",
      "Hawaiian Musk                       1\n",
      "Club De Nuit Intense                1\n",
      "Classic                             1\n",
      "EDTTouch Of Pink For Wom            1\n",
      "Victory League                      1\n",
      "Musky Garden                        1\n",
      "Emblem Intense                      1\n",
      "2.2 s..y  No.1139 Eau De Par        1\n",
      "Blue Lady                           1\n",
      "Roma Uomo                           1\n",
      "L'Interdit EDP For Wo               1\n",
      "Portraits George                    1\n",
      "By Marciano                         1\n",
      "Alf Laila O Laila                   1\n",
      "Tim Tom Leather Black               1\n",
      "Pour Un Homme De Caron              1\n",
      "Kalam Al Oud                        1\n",
      "Sheer Beauty Essence                1\n",
      "Flora Gorgeous Gardenia             1\n",
      "Orange EDT Sp                       1\n",
      "Flora Gardenia                      1\n",
      "Remy                                1\n",
      "Natural Spray                       1\n",
      "Lady Emblem Elixir                  1\n",
      "Code Absolu ED                      1\n",
      "Club De Nuit Milestone              1\n",
      "Green Secret                        1\n",
      "Santos D Concentree                 1\n",
      "Divina                              1\n",
      "Eau Fraiche                         1\n",
      "24 Carat Pure Gold                  1\n",
      "Wood Mystique                       1\n",
      "Touch                               1\n",
      "Rush                                1\n",
      "Pure Oudi Liquid Gold               1\n",
      "Challenge                           1\n",
      "8839 Collection                     1\n",
      "Si Possione                         1\n",
      "Wild Leather                        1\n",
      "Beach Palm                          1\n",
      "Oud Al Misk                         1\n",
      "Body Tender                         1\n",
      "Yellow Diamond                      1\n",
      "Above The Law                       1\n",
      "Quatre Absolue De Nuit              1\n",
      "Red Door                            1\n",
      "L'Homme Ideal                       1\n",
      "White Musk Perfume                  1\n",
      "Paris Vivaldi                       1\n",
      "Monsieur Coco Vanilla               1\n",
      "Baiser Vole                         1\n",
      "Golden Blaze                        1\n",
      "Only The Brave Tattoo               1\n",
      "Musk Mood                           1\n",
      "L'eau D'issey Pour Homme            1\n",
      "Guilty Black                        1\n",
      "Bottled Intense                     1\n",
      "1000 Miglia                         1\n",
      "212 VIP Rose                        1\n",
      "Si Passione                         1\n",
      "Lady Presidente                     1\n",
      "Oxygene                             1\n",
      "Brit Rhythm                         1\n",
      "Black Xs Potion                     1\n",
      "Emblem ED                           1\n",
      "Plus Plus Feminine                  1\n",
      "Vision III                          1\n",
      "Dirham                              1\n",
      "Eclat D'arpege                      1\n",
      "Amber                               1\n",
      "Pleasures                           1\n",
      "Just Different                      1\n",
      "Vivaldi                             1\n",
      "Blue Princess                       1\n",
      "Desire Extreme                      1\n",
      "Schlesser Essential                 1\n",
      "Mont Blanc Legend                   1\n",
      "Be Delicious Red                    1\n",
      "Today Tomorrow Always               1\n",
      "Organza                             1\n",
      "Love Touch Body Sp                  1\n",
      "Tool Box                            1\n",
      "Zen                                 1\n",
      "Modern Muse Chic                    1\n",
      "One Man Show                        1\n",
      "Cheap And Chic                      1\n",
      "DC Charged                          1\n",
      "Red                                 1\n",
      "Lady Dorall                         1\n",
      "Bakhoor Al Arais                    1\n",
      "Boss Orange                         1\n",
      "Invictus Intense                    1\n",
      "212 Wild Party                      1\n",
      "212 S**Y                            1\n",
      "Cedar Essence                       1\n",
      "Chance Eau Tendre                   1\n",
      "Boss Bottled Man Of Today           1\n",
      "Islanders                           1\n",
      "Oud Khurafi                         1\n",
      "Pure Musc                           1\n",
      "Black Orchid                        1\n",
      "Eghra Perfume                       1\n",
      "Yes I Am ED                         1\n",
      "Mon Bloom Of Rose                   1\n",
      "Guess                               1\n",
      "Goldea The Roman Night              1\n",
      "Forever                             1\n",
      "Vision II                           1\n",
      "L' Imperatrice 3                    1\n",
      "World Intense                       1\n",
      "Roses Musk                          1\n",
      "Pino Silvester Original             1\n",
      "Million                             1\n",
      "Happy Spirit Forever                1\n",
      "Frank Olivier                       1\n",
      "Classic Gold                        1\n",
      "Samsara                             1\n",
      "Seductive Homme                     1\n",
      "Nomade                              1\n",
      "Noa                                 1\n",
      "5th Avenue                          1\n",
      "Lalique                             1\n",
      "Because It's You                    1\n",
      "One Million Lucky                   1\n",
      "Scuderia Black                      1\n",
      "Paco Rabanne                        1\n",
      "Black Opium Nuit Blanche            1\n",
      "Olympea                             1\n",
      "Pasha de Cartier                    1\n",
      "Olympêa                             1\n",
      "Brit Splash                         1\n",
      "Khalis Pure Oudi                    1\n",
      "Oud Arabi                           1\n",
      "Coach                               1\n",
      "United Colors Of Benetton Hot       1\n",
      "Dahlia Divin Nude                   1\n",
      "Classic Red                         1\n",
      "Blanc Pour Homme                    1\n",
      "Rose Malaki                         1\n",
      "Cold Silver                         1\n",
      "Man                                 1\n",
      "Idol                                1\n",
      "Guess Pink                          1\n",
      "Euphoria Amber Gold                 1\n",
      "Desire Silver                       1\n",
      "Honour                              1\n",
      "Rumba                               1\n",
      "Oud                                 1\n",
      "Rumeur                              1\n",
      "Love Touch                          1\n",
      "Man in Black                        1\n",
      "Serpentine                          1\n",
      "Debut                               1\n",
      "Classic Amber                       1\n",
      "Gentlemen Only                      1\n",
      "Weekend                             1\n",
      "Coco Vanille                        1\n",
      "Evoke                               1\n",
      "Passenger Spray                     1\n",
      "Starwalker                          1\n",
      "Hot Gold                            1\n",
      "Terre D'Hermes                      1\n",
      "Splandid                            1\n",
      "Vivi La Juicy Limited Edition       1\n",
      "La Nuit De L'Homme L'Intense        1\n",
      "Azure                               1\n",
      "Starlight                           1\n",
      "Black Vanilla                       1\n",
      "The Only One                        1\n",
      "Grey Flannel For Men                1\n",
      "Knowing                             1\n",
      "S.T. Dupont                         1\n",
      "Charlie Gold                        1\n",
      "Monsieur Intense Gold               1\n",
      "24 Pure                             1\n",
      "Narciso Rouge                       1\n",
      "Black Oud                           1\n",
      "Royale Blue                         1\n",
      "IN 2 U MEN                          1\n",
      "1881                                1\n",
      "M7 Oud Absolu                       1\n",
      "Gold Secret                         1\n",
      "Seductive Blue                      1\n",
      "Royal Amber                         1\n",
      "5Th Avenue                          1\n",
      "Scholar                             1\n",
      "My Land                             1\n",
      "Viva La Juicy Noir                  1\n",
      "Moon Light                          1\n",
      "XX                                  1\n",
      "Nashwa                              1\n",
      "Signorina Eleganza                  1\n",
      "Genesis Oud Malaki                  1\n",
      "Atelier Intense                     1\n",
      "Tommy Hilfiger                      1\n",
      "CKIN2U                              1\n",
      "Emblem Absolu                       1\n",
      "Girl of Now Shine                   1\n",
      "Mr.Burberry                         1\n",
      "Be Delicious                        1\n",
      "Oud 24 Hours                        1\n",
      "Valentina                           1\n",
      "Stronger With You Intensely         1\n",
      "Molto Carina                        1\n",
      "Dark Blue                           1\n",
      "Rumba Passion Ted Lapidus           1\n",
      "Safari                              1\n",
      "Supreme Bouquet                     1\n",
      "ICQ                                 1\n",
      "Libre                               1\n",
      "giorgio                             1\n",
      "Ch Men Sports                       1\n",
      "Cedrat Boise                        1\n",
      "Paradiso                            1\n",
      "Blue Jeans                          1\n",
      "Eau De Moiselle                     1\n",
      "Oud Vanille                         1\n",
      "L.12.12 Rouge                       1\n",
      "Aventus                             1\n",
      "Courageous                          1\n",
      "Oud Mood Gold Elixir                1\n",
      "L'imperatrice 3                     1\n",
      "Shiyoukh Al Oud                     1\n",
      "Leather Blend                       1\n",
      "Declaration D'Un Soir               1\n",
      "Simple                              1\n",
      "Bad Boy                             1\n",
      "Edition                             1\n",
      "Lapidus Pour Homme                  1\n",
      "Eaudemoiselle No.1154               1\n",
      "Polo Blue                           1\n",
      "lolita                              1\n",
      "Super Cobra                         1\n",
      "Absolute                            1\n",
      "Hugo Man                            1\n",
      "Charli Blue                         1\n",
      "DC Marine Noir                      1\n",
      "Orchidea della Cina                 1\n",
      "Momentum Intense                    1\n",
      "play around                         1\n",
      "New York Platinum                   1\n",
      "Club Black                          1\n",
      "Vetiver                             1\n",
      "Beibei Bear Blue Par                1\n",
      "Love You Like Crazy                 1\n",
      "Heiress                             1\n",
      "De Caron                            1\n",
      "Florence Amber                      1\n",
      "cavali                              1\n",
      "Rumeur 2 Rose                       1\n",
      "Shalis                              1\n",
      "New York Coach Dreams               1\n",
      "Magie Noire L'eau                   1\n",
      "Cabotine De Gres                    1\n",
      "Rose Essentielle                    1\n",
      "L'instant                           1\n",
      "Casmir                              1\n",
      "Versace                             1\n",
      "Memoire  D'une Odeur EDP For Uni    1\n",
      "Le'Parfum                           1\n",
      "Joy Of Pink                         1\n",
      "Hatem                               1\n",
      "Modern Muse Nuit                    1\n",
      "Santal Royal                        1\n",
      "Black Car                           1\n",
      "Darknet Pour Homme                  1\n",
      "Paradisio Azzuro                    1\n",
      "Gabrielle                           1\n",
      "Brit Sheer                          1\n",
      "Prive                               1\n",
      "Dionysus                            1\n",
      "Deep Red                            1\n",
      "Man Ice                             1\n",
      "Eau De Cedre                        1\n",
      "Allure Sensuelle                    1\n",
      "Rain Drops                          1\n",
      "Mini Collection No.1075             1\n",
      "Hugo Boss                           1\n",
      "Nice Girl                           1\n",
      "Interlude                           1\n",
      "Jil Sander                          1\n",
      "Silences                            1\n",
      "Cinema                              1\n",
      "Narciso                             1\n",
      "Windsor                             1\n",
      "Fairy Dust                          1\n",
      "Go                                  1\n",
      "Eventful                            1\n",
      "Relation                            1\n",
      "Cerruti                             1\n",
      "Black XS                            1\n",
      "Joy                                 1\n",
      "Blue Label                          1\n",
      "Oud Noir                            1\n",
      "Vetiver Hombre                      1\n",
      "Play Intense                        1\n",
      "Rare Pearls                         1\n",
      "L'Interdit                          1\n",
      "miu miu                             1\n",
      "Guilty Pour Homme                   1\n",
      "Pegasus                             1\n",
      "Jeu D'Amour L'elixir                1\n",
      "212 Men Nyc                         1\n",
      "Si Fiori                            1\n",
      "Royal                               1\n",
      "Lanvin                              1\n",
      "Idôle ED                            1\n",
      "Omnia Crystalline                   1\n",
      "Debut Night                         1\n",
      "Premiere                            1\n",
      "CK IN2U                             1\n",
      "Charlie Blue                        1\n",
      "Goldea                              1\n",
      "Teenz                               1\n",
      "kors                                1\n",
      "Milano Infusion D'iris              1\n",
      "Guilty Intense                      1\n",
      "Mon Florale                         1\n",
      "Live Luxe                           1\n",
      "Secret De Rochas                    1\n",
      "Layali CPO At                       1\n",
      "Name: name, dtype: int64\n"
     ]
    },
    {
     "data": {
      "text/plain": [
       "roses vanille                       8\n",
       "uomo                                8\n",
       "pour homme                          8\n",
       "homme                               8\n",
       "eros                                8\n",
       "encre noire                         7\n",
       "marciano                            7\n",
       "essence pure                        7\n",
       "paradiso assoluto                   6\n",
       "london                              6\n",
       "passenger                           6\n",
       "sauvage                             6\n",
       "beauty                              6\n",
       "dylan blue                          5\n",
       "sacrifice                           5\n",
       "pour femme                          5\n",
       "crystal noir                        5\n",
       "the one                             5\n",
       "ck one                              5\n",
       "cool water                          5\n",
       "one shock                           5\n",
       "legend                              5\n",
       "scandal                             4\n",
       "private collection                  4\n",
       "212 vip                             4\n",
       "florence                            4\n",
       "stronger with you                   4\n",
       "good girl                           4\n",
       "burberry body                       4\n",
       "212 sexy                            4\n",
       "dare                                4\n",
       "emblem                              4\n",
       "guilty absolute                     4\n",
       "narciso rodriguez                   4\n",
       "the scent                           4\n",
       "my burberry                         4\n",
       "petits et mamans                    4\n",
       "love story                          4\n",
       "bleu de chanel                      4\n",
       "l'homme                             4\n",
       "euphoria                            4\n",
       "just cavalli                        4\n",
       "desire                              4\n",
       "floral                              3\n",
       "shuhrah                             3\n",
       "3 l'imperatrice                     3\n",
       "scuderia red                        3\n",
       "boss the scent                      3\n",
       "happy spirit                        3\n",
       "creation                            3\n",
       "explorer                            3\n",
       "cabotine                            3\n",
       "plaisir                             3\n",
       "hot                                 3\n",
       "black opium                         3\n",
       "dupont                              3\n",
       "xeryus rouge                        3\n",
       "essential                           3\n",
       "declaration                         3\n",
       "classic black                       3\n",
       "rouat al oud                        3\n",
       "the game                            3\n",
       "la vie est belle                    3\n",
       "ma vie                              3\n",
       "mr. burberry                        3\n",
       "bloom nettare di fiori              3\n",
       "furiosa                             3\n",
       "l'interdit                          3\n",
       "first                               3\n",
       "fantasy                             3\n",
       "l.12.12 blanc                       3\n",
       "quatre                              3\n",
       "chrome                              3\n",
       "paradiso azzurro                    3\n",
       "for women edp natural sp            3\n",
       "musk cologne sp                     3\n",
       "l.12.12 blanc-pure                  3\n",
       "black                               3\n",
       "still                               3\n",
       "femme                               3\n",
       "sheikh al shuyukh                   3\n",
       "guilty                              3\n",
       "lacoste                             3\n",
       "plus plus masculine                 3\n",
       "k                                   3\n",
       "hugo                                3\n",
       "bright crystal                      3\n",
       "eternity                            3\n",
       "nero assoluto                       3\n",
       "escape                              3\n",
       "bloom                               3\n",
       "invictus                            3\n",
       "man in black                        3\n",
       "chloe                               3\n",
       "esencia                             2\n",
       "lady emblem                         2\n",
       "jimmy                               2\n",
       "in white                            2\n",
       "pandora                             2\n",
       "amber intense                       2\n",
       "seductive                           2\n",
       "hawaii london                       2\n",
       "lotus flower aromatic par           2\n",
       "open                                2\n",
       "beautiful                           2\n",
       "sculpture homme                     2\n",
       "intenso                             2\n",
       "my burberry bl                      2\n",
       "man pure                            2\n",
       "my burberry blush                   2\n",
       "1 million lucky                     2\n",
       "custom                              2\n",
       "new york                            2\n",
       "the only one 2                      2\n",
       "eternally hot                       2\n",
       "1029 collection                     2\n",
       "jaguar                              2\n",
       "velvet oud                          2\n",
       "habit rouge                         2\n",
       "ultraviolet                         2\n",
       "white linen                         2\n",
       "declaration essence                 2\n",
       "for ever                            2\n",
       "esencia pour homme                  2\n",
       "bottled night                       2\n",
       "legend spirit                       2\n",
       "allure homme sport edt for          2\n",
       "aqva marine pour homme              2\n",
       "si                                  2\n",
       "flora                               2\n",
       "oud sharqia                         2\n",
       "place vendome                       2\n",
       "red tobacco                         2\n",
       "brown                               2\n",
       "lancy                               2\n",
       "miracle                             2\n",
       "rose greedy                         2\n",
       "extreme                             2\n",
       "classic blue                        2\n",
       "pink hearts                         2\n",
       "narciso rodriguez for her           2\n",
       "pasha edition noir                  2\n",
       "the dreamer                         2\n",
       "mademoiselle ricci                  2\n",
       "coco mademoiselle                   2\n",
       "magnetism                           2\n",
       "silver scent                        2\n",
       "man in red                          2\n",
       "oud al-mubakhar                     2\n",
       "body                                2\n",
       "wisal                               2\n",
       "the beat                            2\n",
       "gold                                2\n",
       "reveal                              2\n",
       "1 million                           2\n",
       "boss                                2\n",
       "nuit                                2\n",
       "chrome legend                       2\n",
       "oud mood                            2\n",
       "ideal                               2\n",
       "acqua di gio                        2\n",
       "white diamonds                      2\n",
       "adventure                           2\n",
       "eau de lacoste l. 12.12 noir        2\n",
       "premier jour                        2\n",
       "desire blue                         2\n",
       "body kouros                         2\n",
       "bloom aqua di fiori                 2\n",
       "tomorrow                            2\n",
       "paradiso azzuro                     2\n",
       "oud wood                            2\n",
       "premium                             2\n",
       "al wisam day                        2\n",
       "daisy eau so fresh                  2\n",
       "nude natural spray colo             2\n",
       "hot water                           2\n",
       "5th avenue                          2\n",
       "ana abiyedh leather                 2\n",
       "si passione edp for wo              2\n",
       "monsieur oud                        2\n",
       "lady million                        2\n",
       "burberry body intense               2\n",
       "idylle                              2\n",
       "ck be                               2\n",
       "oud maaruf                          2\n",
       "raindrops                           2\n",
       "cold                                2\n",
       "en joy                              2\n",
       "tommy                               2\n",
       "l'instant magic                     2\n",
       "brit rhythm intense                 2\n",
       "white musk                          2\n",
       "addict                              2\n",
       "romance                             2\n",
       "modern muse                         2\n",
       "bottled unlimited                   2\n",
       "emotion                             2\n",
       "sheikh shuyukh                      2\n",
       "ameer al oud khususi                2\n",
       "blue                                2\n",
       "eau pour homme reno 2013            2\n",
       "bamboo                              2\n",
       "touch of pink                       2\n",
       "tommy girl                          2\n",
       "eau de lacoste                      2\n",
       "oud touch                           2\n",
       "cavalli                             2\n",
       "visit                               2\n",
       "grey flannel                        2\n",
       "dc                                  2\n",
       "rouat al musk                       2\n",
       "sheer beauty                        2\n",
       "obsession                           2\n",
       "girl of now                         2\n",
       "one million                         2\n",
       "intense euphoria                    2\n",
       "euphoria intense                    2\n",
       "women                               2\n",
       "london burberry                     2\n",
       "la panthere                         2\n",
       "zino                                2\n",
       "anfas aloud                         2\n",
       "terre d' hermes                     2\n",
       "live                                2\n",
       "my name                             2\n",
       "in red                              2\n",
       "versace pour homme                  2\n",
       "wish                                2\n",
       "viva la juicy                       2\n",
       "schlesser essential                 1\n",
       "la nuit de l`homme                  1\n",
       "intense                             1\n",
       "organza                             1\n",
       "because it's you by emporio         1\n",
       "by marciano                         1\n",
       "si passione                         1\n",
       "blu                                 1\n",
       "bottled tonic                       1\n",
       "desire extreme                      1\n",
       "mont blanc legend                   1\n",
       "be delicious red                    1\n",
       "classic                             1\n",
       "rive gauche homme                   1\n",
       "modern princess                     1\n",
       "club de nuit intense                1\n",
       "anais anais loriginal               1\n",
       "musky garden                        1\n",
       "quelques fleurs l'original          1\n",
       "the one royal night                 1\n",
       "2.2 s..y  no.1139 eau de par        1\n",
       "club de nuit intense man            1\n",
       "blue lady                           1\n",
       "code                                1\n",
       "roma uomo                           1\n",
       "portraits george                    1\n",
       "victory league                      1\n",
       "delina exclusive                    1\n",
       "especially elixir                   1\n",
       "wanted                              1\n",
       "patchouli intense                   1\n",
       "secret obsession                    1\n",
       "l'homme sport                       1\n",
       "ambre imperial                      1\n",
       "green tea                           1\n",
       "l'acquarossa                        1\n",
       "light blue                          1\n",
       "pleasures intense                   1\n",
       "goldea the roman night absolute     1\n",
       "marbert man                         1\n",
       "always                              1\n",
       "the brilliant game                  1\n",
       "900 herbal spray                    1\n",
       "yes i am ed                         1\n",
       "just different                      1\n",
       "only the brave tattoo               1\n",
       "islanders                           1\n",
       "cedar essence                       1\n",
       "invictus intense                    1\n",
       "bakhoor al arais                    1\n",
       "dc charged                          1\n",
       "pure oudi liquid gold               1\n",
       "wood mystique                       1\n",
       "club de nuit milestone              1\n",
       "orange edt sp                       1\n",
       "kalam al oud                        1\n",
       "golden blaze                        1\n",
       "black xs potion                     1\n",
       "monsieur coco vanilla               1\n",
       "white musk perfume                  1\n",
       "wild leather                        1\n",
       "l'homme ideal                       1\n",
       "quatre absolue de nuit              1\n",
       "yellow diamond                      1\n",
       "amethyst exquise                    1\n",
       "pleasures                           1\n",
       "beach palm                          1\n",
       "oud al misk                         1\n",
       "oud khurafi                         1\n",
       "vision iii                          1\n",
       "alf laila o laila                   1\n",
       "manifesto                           1\n",
       "armani code                         1\n",
       "sauvage perf                        1\n",
       "kouros silver                       1\n",
       "body mini ed                        1\n",
       "my blush                            1\n",
       "olympéa intense                     1\n",
       "l'interdit edp for wo               1\n",
       "emblem intense                      1\n",
       "prive maison sandalwood             1\n",
       "hawaiian musk                       1\n",
       "rush 2                              1\n",
       "dirham                              1\n",
       "roses greedy                        1\n",
       "stella                              1\n",
       "sweetheart rockstar                 1\n",
       "epic                                1\n",
       "edttouch of pink for wom            1\n",
       "tim tom leather black               1\n",
       "today tomorrow always               1\n",
       "blue princess                       1\n",
       "vivaldi                             1\n",
       "eclat d'arpege                      1\n",
       "body tender                         1\n",
       "above the law                       1\n",
       "red door                            1\n",
       "pure musc                           1\n",
       "lady presidente                     1\n",
       "one man show                        1\n",
       "cheap and chic                      1\n",
       "red                                 1\n",
       "lady dorall                         1\n",
       "boss orange                         1\n",
       "modern muse chic                    1\n",
       "212 wild party                      1\n",
       "chance eau tendre                   1\n",
       "boss bottled man of today           1\n",
       "black orchid                        1\n",
       "baiser vole                         1\n",
       "eghra perfume                       1\n",
       "212 s**y                            1\n",
       "zen                                 1\n",
       "tool box                            1\n",
       "love touch body sp                  1\n",
       "oxygene                             1\n",
       "brit rhythm                         1\n",
       "emblem ed                           1\n",
       "plus plus feminine                  1\n",
       "amber                               1\n",
       "212 vip rose                        1\n",
       "pour un homme de caron              1\n",
       "1000 miglia                         1\n",
       "rush                                1\n",
       "musk mood                           1\n",
       "l'eau d'issey pour homme            1\n",
       "guilty black                        1\n",
       "bottled intense                     1\n",
       "paris vivaldi                       1\n",
       "si possione                         1\n",
       "8839 collection                     1\n",
       "challenge                           1\n",
       "sheer beauty essence                1\n",
       "flora gorgeous gardenia             1\n",
       "flora gardenia                      1\n",
       "remy                                1\n",
       "natural spray                       1\n",
       "lady emblem elixir                  1\n",
       "code absolu ed                      1\n",
       "green secret                        1\n",
       "santos d concentree                 1\n",
       "divina                              1\n",
       "eau fraiche                         1\n",
       "24 carat pure gold                  1\n",
       "touch                               1\n",
       "royale                              1\n",
       "paradisio azzuro                    1\n",
       "guess                               1\n",
       "khalis pure oudi                    1\n",
       "forever                             1\n",
       "vision ii                           1\n",
       "l' imperatrice 3                    1\n",
       "world intense                       1\n",
       "roses musk                          1\n",
       "pino silvester original             1\n",
       "million                             1\n",
       "happy spirit forever                1\n",
       "frank olivier                       1\n",
       "classic gold                        1\n",
       "samsara                             1\n",
       "goldea the roman night              1\n",
       "seductive homme                     1\n",
       "noa                                 1\n",
       "lalique                             1\n",
       "because it's you                    1\n",
       "one million lucky                   1\n",
       "scuderia black                      1\n",
       "paco rabanne                        1\n",
       "black opium nuit blanche            1\n",
       "olympea                             1\n",
       "pasha de cartier                    1\n",
       "olympêa                             1\n",
       "brit splash                         1\n",
       "oud arabi                           1\n",
       "cedrat boise                        1\n",
       "coach                               1\n",
       "ch men sports                       1\n",
       "united colors of benetton hot       1\n",
       "dahlia divin nude                   1\n",
       "classic red                         1\n",
       "blanc pour homme                    1\n",
       "rose malaki                         1\n",
       "cold silver                         1\n",
       "man                                 1\n",
       "idol                                1\n",
       "guess pink                          1\n",
       "euphoria amber gold                 1\n",
       "desire silver                       1\n",
       "honour                              1\n",
       "rumba                               1\n",
       "oud                                 1\n",
       "rumeur                              1\n",
       "love touch                          1\n",
       "serpentine                          1\n",
       "debut                               1\n",
       "classic amber                       1\n",
       "gentlemen only                      1\n",
       "weekend                             1\n",
       "coco vanille                        1\n",
       "evoke                               1\n",
       "passenger spray                     1\n",
       "starwalker                          1\n",
       "my land                             1\n",
       "terre d'hermes                      1\n",
       "splandid                            1\n",
       "vivi la juicy limited edition       1\n",
       "la nuit de l'homme l'intense        1\n",
       "azure                               1\n",
       "starlight                           1\n",
       "black vanilla                       1\n",
       "the only one                        1\n",
       "grey flannel for men                1\n",
       "knowing                             1\n",
       "s.t. dupont                         1\n",
       "charlie gold                        1\n",
       "monsieur intense gold               1\n",
       "24 pure                             1\n",
       "narciso rouge                       1\n",
       "black oud                           1\n",
       "royale blue                         1\n",
       "in 2 u men                          1\n",
       "1881                                1\n",
       "m7 oud absolu                       1\n",
       "gold secret                         1\n",
       "seductive blue                      1\n",
       "royal amber                         1\n",
       "hot gold                            1\n",
       "scholar                             1\n",
       "viva la juicy noir                  1\n",
       "mr.burberry                         1\n",
       "moon light                          1\n",
       "xx                                  1\n",
       "nashwa                              1\n",
       "signorina eleganza                  1\n",
       "genesis oud malaki                  1\n",
       "atelier intense                     1\n",
       "tommy hilfiger                      1\n",
       "ckin2u                              1\n",
       "emblem absolu                       1\n",
       "girl of now shine                   1\n",
       "be delicious                        1\n",
       "giorgio                             1\n",
       "oud 24 hours                        1\n",
       "valentina                           1\n",
       "stronger with you intensely         1\n",
       "molto carina                        1\n",
       "dark blue                           1\n",
       "rumba passion ted lapidus           1\n",
       "safari                              1\n",
       "supreme bouquet                     1\n",
       "icq                                 1\n",
       "libre                               1\n",
       "nomade                              1\n",
       "edition                             1\n",
       "paradiso                            1\n",
       "new york platinum                   1\n",
       "eau de moiselle                     1\n",
       "oud vanille                         1\n",
       "l.12.12 rouge                       1\n",
       "aventus                             1\n",
       "courageous                          1\n",
       "oud mood gold elixir                1\n",
       "l'imperatrice 3                     1\n",
       "shiyoukh al oud                     1\n",
       "leather blend                       1\n",
       "declaration d'un soir               1\n",
       "simple                              1\n",
       "blue jeans                          1\n",
       "bad boy                             1\n",
       "lapidus pour homme                  1\n",
       "eaudemoiselle no.1154               1\n",
       "polo blue                           1\n",
       "lolita                              1\n",
       "super cobra                         1\n",
       "absolute                            1\n",
       "hugo man                            1\n",
       "charli blue                         1\n",
       "dc marine noir                      1\n",
       "orchidea della cina                 1\n",
       "play around                         1\n",
       "club black                          1\n",
       "blue label                          1\n",
       "vetiver                             1\n",
       "beibei bear blue par                1\n",
       "love you like crazy                 1\n",
       "heiress                             1\n",
       "de caron                            1\n",
       "florence amber                      1\n",
       "cavali                              1\n",
       "rumeur 2 rose                       1\n",
       "shalis                              1\n",
       "new york coach dreams               1\n",
       "magie noire l'eau                   1\n",
       "cabotine de gres                    1\n",
       "rose essentielle                    1\n",
       "l'instant                           1\n",
       "casmir                              1\n",
       "versace                             1\n",
       "memoire  d'une odeur edp for uni    1\n",
       "le'parfum                           1\n",
       "joy of pink                         1\n",
       "hatem                               1\n",
       "modern muse nuit                    1\n",
       "santal royal                        1\n",
       "black car                           1\n",
       "darknet pour homme                  1\n",
       "mon bloom of rose                   1\n",
       "momentum intense                    1\n",
       "gabrielle                           1\n",
       "brit sheer                          1\n",
       "oud noir                            1\n",
       "dionysus                            1\n",
       "deep red                            1\n",
       "man ice                             1\n",
       "eau de cedre                        1\n",
       "allure sensuelle                    1\n",
       "rain drops                          1\n",
       "mini collection no.1075             1\n",
       "hugo boss                           1\n",
       "nice girl                           1\n",
       "interlude                           1\n",
       "jil sander                          1\n",
       "silences                            1\n",
       "cinema                              1\n",
       "narciso                             1\n",
       "windsor                             1\n",
       "fairy dust                          1\n",
       "go                                  1\n",
       "eventful                            1\n",
       "relation                            1\n",
       "cerruti                             1\n",
       "black xs                            1\n",
       "joy                                 1\n",
       "prive                               1\n",
       "vetiver hombre                      1\n",
       "rare pearls                         1\n",
       "omnia crystalline                   1\n",
       "play intense                        1\n",
       "miu miu                             1\n",
       "guilty pour homme                   1\n",
       "pegasus                             1\n",
       "jeu d'amour l'elixir                1\n",
       "212 men nyc                         1\n",
       "si fiori                            1\n",
       "royal                               1\n",
       "lanvin                              1\n",
       "idôle ed                            1\n",
       "debut night                         1\n",
       "secret de rochas                    1\n",
       "premiere                            1\n",
       "ck in2u                             1\n",
       "charlie blue                        1\n",
       "goldea                              1\n",
       "teenz                               1\n",
       "kors                                1\n",
       "milano infusion d'iris              1\n",
       "guilty intense                      1\n",
       "mon florale                         1\n",
       "live luxe                           1\n",
       "layali cpo at                       1\n",
       "Name: name, dtype: int64"
      ]
     },
     "execution_count": 14,
     "metadata": {},
     "output_type": "execute_result"
    }
   ],
   "source": [
    "nn='name'\n",
    "print(df1[nn].value_counts())\n",
    "\n",
    "df1[nn]=df1[nn].apply(lambda x:x.lower())\n",
    "df1[nn].value_counts()"
   ]
  },
  {
   "cell_type": "code",
   "execution_count": 15,
   "id": "43350749",
   "metadata": {},
   "outputs": [],
   "source": [
    "# nn='seller'\n",
    "# print(df1[nn].value_counts())\n",
    "\n",
    "# df1[nn]=df1[nn].apply(lambda x:x.lower())\n",
    "# df1[nn].value_counts()"
   ]
  },
  {
   "cell_type": "code",
   "execution_count": 16,
   "id": "b2978d11",
   "metadata": {},
   "outputs": [],
   "source": [
    "df1['seller'].replace({'Swiss Arabian PerfumesPRICE UPDATE WITH 15% VAT 1 JULY 2020':'Swiss Arabian'},inplace=True)\n"
   ]
  },
  {
   "cell_type": "code",
   "execution_count": 17,
   "id": "4c1239d4",
   "metadata": {},
   "outputs": [
    {
     "data": {
      "text/plain": [
       "noon                                     277\n",
       "AMLAQ                                     92\n",
       "hadayiq baris                             52\n",
       "Star.perfume                              45\n",
       "B.A.G                                     29\n",
       "Al-Najm                                   26\n",
       "top langri                                21\n",
       "Beautiful Live                            18\n",
       "Faces                                     17\n",
       "Parfume-Stor                              16\n",
       "Parvant Store                             15\n",
       "Number One                                13\n",
       "King-Perfume                              13\n",
       "Princess of beauty                        13\n",
       "Abu Al Tayyeb Perfumes                    13\n",
       "neo lek                                   12\n",
       "Cute Shop                                 11\n",
       "Grass gulf                                10\n",
       "Perfume Ms                                10\n",
       "Parisian Store                            10\n",
       "VIP.PARFUME                                9\n",
       "the beauty                                 9\n",
       "garmid                                     9\n",
       "hawas                                      8\n",
       "Pinch Of Perfum                            7\n",
       "Tiffany                                    7\n",
       "Attractive perfume                         7\n",
       "Beauty Gallery                             7\n",
       "Beuatyone1                                 6\n",
       "Lolita Shop                                6\n",
       "flower                                     6\n",
       "Rayhanti                                   6\n",
       "perfumes--addresses                        6\n",
       "PARFUM.1990                                5\n",
       "Asrar Aljamal                              5\n",
       "Perfume Ports                              5\n",
       "Acacia Rose                                5\n",
       "KAYA                                       5\n",
       "ثروة الجمال                                5\n",
       "alkhalijiah  perfume                       4\n",
       "Y                                          4\n",
       "kikup                                      4\n",
       "Beautify                                   4\n",
       "Ryhana Perfume                             4\n",
       "Dior Fragrances                            4\n",
       "rich&light                                 4\n",
       "Rose Gallary                               4\n",
       "Lady Style                                 4\n",
       "Royal Scent                                4\n",
       "Nawaem_perfumes                            4\n",
       "MOON LIGHT                                 4\n",
       "Diorworld                                  4\n",
       "London store                               3\n",
       "Spicebomb                                  3\n",
       "Golden Perfumesعطر أصلي 100 %              3\n",
       "noon100% Genuine Product                   3\n",
       "Kado Store                                 3\n",
       "Queen Beauty                               3\n",
       "Instant                                    3\n",
       "Chansles                                   3\n",
       "Bismat Eatar                               3\n",
       "noon100  % original genuine product        3\n",
       "عالم المشاهير                              3\n",
       "moon perfume                               3\n",
       "beautiful lady                             3\n",
       "Boutique Wareef                            3\n",
       "Alabeer                                    3\n",
       "Modon                                      3\n",
       "warddah                                    2\n",
       "goldiaa                                    2\n",
       "Creativity star                            2\n",
       "The first fragrance                        2\n",
       "Cute                                       2\n",
       "Rihanna World Store                        2\n",
       "Beauty Group                               2\n",
       "Genie collection                           2\n",
       "S2021                                      2\n",
       "Golen Dream                                2\n",
       "The smart store                            2\n",
       "noon100 %  genuine product                 2\n",
       "Precious Store                             2\n",
       "Brand Land                                 2\n",
       "Kathya                                     2\n",
       "Golden Perfumesعطر أصلي 100  %             2\n",
       "Shopping life                              2\n",
       "Victoria                                   2\n",
       "Fnoon                                      1\n",
       "Majestueuse                                1\n",
       "Beauty Ideas                               1\n",
       "Emper Perfumes                             1\n",
       "Queen Line                                 1\n",
       "Brides Palace                              1\n",
       "SEDR                                       1\n",
       "diffrent                                   1\n",
       "magic flower                               1\n",
       "Golden Perfumesعطر أصلي 100                1\n",
       "alryhanaksa                                1\n",
       "GOLDEN                                     1\n",
       "aRt Ti Ci                                  1\n",
       "BOUTIQUE PERFUMES                          1\n",
       "Lolita ShopNo Exchange or Return           1\n",
       "MAKE UP                                    1\n",
       "Noor                                       1\n",
       "KOZMA                                      1\n",
       "Ahmed Mohamed Abbas Abbas Trading Est      1\n",
       "Perfume World Store                        1\n",
       "Golden Perfumesعطر اصلي 100 %              1\n",
       "Pink Box                                   1\n",
       "Willow flower                              1\n",
       "fajr-perfume                               1\n",
       "Perfumes-shop                              1\n",
       "Banorama                                   1\n",
       "Luxury                                     1\n",
       "Nuna                                       1\n",
       "original                                   1\n",
       "Dary.Dar                                   1\n",
       "Swiss Arabian                              1\n",
       "Name: seller, dtype: int64"
      ]
     },
     "execution_count": 17,
     "metadata": {},
     "output_type": "execute_result"
    }
   ],
   "source": [
    "df1['seller'].value_counts()"
   ]
  },
  {
   "cell_type": "markdown",
   "id": "3805054d",
   "metadata": {},
   "source": [
    "### Add new columns"
   ]
  },
  {
   "cell_type": "code",
   "execution_count": 18,
   "id": "d0d4a7ec",
   "metadata": {},
   "outputs": [
    {
     "data": {
      "text/html": [
       "<div>\n",
       "<style scoped>\n",
       "    .dataframe tbody tr th:only-of-type {\n",
       "        vertical-align: middle;\n",
       "    }\n",
       "\n",
       "    .dataframe tbody tr th {\n",
       "        vertical-align: top;\n",
       "    }\n",
       "\n",
       "    .dataframe thead th {\n",
       "        text-align: right;\n",
       "    }\n",
       "</style>\n",
       "<table border=\"1\" class=\"dataframe\">\n",
       "  <thead>\n",
       "    <tr style=\"text-align: right;\">\n",
       "      <th></th>\n",
       "      <th>brand</th>\n",
       "      <th>name</th>\n",
       "      <th>old_price</th>\n",
       "      <th>new_price</th>\n",
       "      <th>ml</th>\n",
       "      <th>concentration</th>\n",
       "      <th>department</th>\n",
       "      <th>scents</th>\n",
       "      <th>base_note</th>\n",
       "      <th>middle_note</th>\n",
       "      <th>item_rating</th>\n",
       "      <th>seller</th>\n",
       "      <th>seller_rating</th>\n",
       "      <th>num_seller_ratings</th>\n",
       "      <th>discount%</th>\n",
       "      <th>discount_price</th>\n",
       "      <th>price/ml</th>\n",
       "    </tr>\n",
       "  </thead>\n",
       "  <tbody>\n",
       "    <tr>\n",
       "      <th>0</th>\n",
       "      <td>PACO RABANNE</td>\n",
       "      <td>1 million lucky</td>\n",
       "      <td>395.0</td>\n",
       "      <td>244.55</td>\n",
       "      <td>100</td>\n",
       "      <td>EDT</td>\n",
       "      <td>Men</td>\n",
       "      <td>Woody</td>\n",
       "      <td>Oakmoss, Patchouli and Vetiver</td>\n",
       "      <td>Hazelnut, Jasmine, Cashmir Wood, Cedar and Honey</td>\n",
       "      <td>5.0</td>\n",
       "      <td>noon</td>\n",
       "      <td>4.2</td>\n",
       "      <td>98.1K</td>\n",
       "      <td>61.9</td>\n",
       "      <td>150.4</td>\n",
       "      <td>2.4</td>\n",
       "    </tr>\n",
       "    <tr>\n",
       "      <th>1</th>\n",
       "      <td>Roberto Cavalli</td>\n",
       "      <td>paradiso assoluto</td>\n",
       "      <td>415.0</td>\n",
       "      <td>107.95</td>\n",
       "      <td>50</td>\n",
       "      <td>EDP</td>\n",
       "      <td>Women</td>\n",
       "      <td>Floral</td>\n",
       "      <td>Vanilla, Sandalwood And Patchouli</td>\n",
       "      <td>Wild Jasmine and Red Lily</td>\n",
       "      <td>4.8</td>\n",
       "      <td>noon</td>\n",
       "      <td>4.2</td>\n",
       "      <td>98.1K</td>\n",
       "      <td>26.0</td>\n",
       "      <td>307.0</td>\n",
       "      <td>2.2</td>\n",
       "    </tr>\n",
       "    <tr>\n",
       "      <th>2</th>\n",
       "      <td>S.T.Dupont</td>\n",
       "      <td>royal amber</td>\n",
       "      <td>265.0</td>\n",
       "      <td>186.90</td>\n",
       "      <td>100</td>\n",
       "      <td>EDP</td>\n",
       "      <td>Unisex</td>\n",
       "      <td>Arabian</td>\n",
       "      <td>Lemon, Mint and Wood Moss</td>\n",
       "      <td>Sandalwood and Cedar</td>\n",
       "      <td>5.0</td>\n",
       "      <td>noon</td>\n",
       "      <td>4.2</td>\n",
       "      <td>98.1K</td>\n",
       "      <td>70.5</td>\n",
       "      <td>78.1</td>\n",
       "      <td>1.9</td>\n",
       "    </tr>\n",
       "    <tr>\n",
       "      <th>3</th>\n",
       "      <td>GUESS</td>\n",
       "      <td>seductive blue</td>\n",
       "      <td>290.0</td>\n",
       "      <td>103.20</td>\n",
       "      <td>100</td>\n",
       "      <td>EDT</td>\n",
       "      <td>Men</td>\n",
       "      <td>Spicy</td>\n",
       "      <td>Cashmere Wood, Moss And Rippled Sand Accord</td>\n",
       "      <td>Blue Coral Aquaspace Accord And Geranium</td>\n",
       "      <td>3.0</td>\n",
       "      <td>noon</td>\n",
       "      <td>4.2</td>\n",
       "      <td>98.1K</td>\n",
       "      <td>35.6</td>\n",
       "      <td>186.8</td>\n",
       "      <td>1.0</td>\n",
       "    </tr>\n",
       "    <tr>\n",
       "      <th>4</th>\n",
       "      <td>Roberto Cavalli</td>\n",
       "      <td>uomo</td>\n",
       "      <td>260.0</td>\n",
       "      <td>94.95</td>\n",
       "      <td>50</td>\n",
       "      <td>EDP</td>\n",
       "      <td>Women</td>\n",
       "      <td>Arabian</td>\n",
       "      <td>Vanille, Benzoin, Tonka Bean</td>\n",
       "      <td>African Orange Flower</td>\n",
       "      <td>4.8</td>\n",
       "      <td>noon</td>\n",
       "      <td>4.2</td>\n",
       "      <td>98.1K</td>\n",
       "      <td>36.5</td>\n",
       "      <td>165.0</td>\n",
       "      <td>1.9</td>\n",
       "    </tr>\n",
       "  </tbody>\n",
       "</table>\n",
       "</div>"
      ],
      "text/plain": [
       "             brand               name  old_price  new_price   ml  \\\n",
       "0     PACO RABANNE    1 million lucky      395.0     244.55  100   \n",
       "1  Roberto Cavalli  paradiso assoluto      415.0     107.95   50   \n",
       "2       S.T.Dupont        royal amber      265.0     186.90  100   \n",
       "3            GUESS     seductive blue      290.0     103.20  100   \n",
       "4  Roberto Cavalli               uomo      260.0      94.95   50   \n",
       "\n",
       "  concentration department   scents  \\\n",
       "0           EDT        Men    Woody   \n",
       "1           EDP      Women   Floral   \n",
       "2           EDP     Unisex  Arabian   \n",
       "3           EDT        Men    Spicy   \n",
       "4           EDP      Women  Arabian   \n",
       "\n",
       "                                     base_note  \\\n",
       "0               Oakmoss, Patchouli and Vetiver   \n",
       "1            Vanilla, Sandalwood And Patchouli   \n",
       "2                    Lemon, Mint and Wood Moss   \n",
       "3  Cashmere Wood, Moss And Rippled Sand Accord   \n",
       "4                 Vanille, Benzoin, Tonka Bean   \n",
       "\n",
       "                                        middle_note  item_rating seller  \\\n",
       "0  Hazelnut, Jasmine, Cashmir Wood, Cedar and Honey          5.0   noon   \n",
       "1                         Wild Jasmine and Red Lily          4.8   noon   \n",
       "2                              Sandalwood and Cedar          5.0   noon   \n",
       "3          Blue Coral Aquaspace Accord And Geranium          3.0   noon   \n",
       "4                             African Orange Flower          4.8   noon   \n",
       "\n",
       "   seller_rating num_seller_ratings  discount%  discount_price  price/ml  \n",
       "0            4.2              98.1K       61.9           150.4       2.4  \n",
       "1            4.2              98.1K       26.0           307.0       2.2  \n",
       "2            4.2              98.1K       70.5            78.1       1.9  \n",
       "3            4.2              98.1K       35.6           186.8       1.0  \n",
       "4            4.2              98.1K       36.5           165.0       1.9  "
      ]
     },
     "execution_count": 18,
     "metadata": {},
     "output_type": "execute_result"
    }
   ],
   "source": [
    "df1['discount%']=np.round((df1['new_price']/df1['old_price']*100),decimals=1)\n",
    "df1['discount_price']=np.round((df1['old_price']-df1['new_price']),decimals=1)\n",
    "df1['price/ml']=np.round((df1['new_price']/df1['ml']),decimals=1)\n",
    "df1.head()"
   ]
  },
  {
   "cell_type": "code",
   "execution_count": 19,
   "id": "1303c04c",
   "metadata": {},
   "outputs": [
    {
     "data": {
      "text/plain": [
       "Index(['brand', 'name', 'old_price', 'new_price', 'ml', 'concentration',\n",
       "       'department', 'scents', 'base_note', 'middle_note', 'item_rating',\n",
       "       'seller', 'seller_rating', 'num_seller_ratings', 'discount%',\n",
       "       'discount_price', 'price/ml'],\n",
       "      dtype='object')"
      ]
     },
     "execution_count": 19,
     "metadata": {},
     "output_type": "execute_result"
    }
   ],
   "source": [
    "df1.columns"
   ]
  },
  {
   "cell_type": "code",
   "execution_count": 20,
   "id": "ce21455b",
   "metadata": {},
   "outputs": [
    {
     "data": {
      "text/plain": [
       "brand                 0\n",
       "name                  0\n",
       "old_price             0\n",
       "new_price             0\n",
       "ml                    0\n",
       "concentration         0\n",
       "department            0\n",
       "scents                0\n",
       "base_note             0\n",
       "middle_note           0\n",
       "item_rating           0\n",
       "seller                0\n",
       "seller_rating         0\n",
       "num_seller_ratings    0\n",
       "discount%             0\n",
       "discount_price        0\n",
       "price/ml              0\n",
       "dtype: int64"
      ]
     },
     "execution_count": 20,
     "metadata": {},
     "output_type": "execute_result"
    }
   ],
   "source": [
    "df1.isnull().sum()"
   ]
  },
  {
   "cell_type": "code",
   "execution_count": 21,
   "id": "b103cce6",
   "metadata": {},
   "outputs": [
    {
     "data": {
      "text/plain": [
       "['roses vanille',\n",
       " 'uomo',\n",
       " 'pour homme',\n",
       " 'homme',\n",
       " 'eros',\n",
       " 'encre noire',\n",
       " 'marciano',\n",
       " 'essence pure',\n",
       " 'paradiso assoluto',\n",
       " 'london',\n",
       " 'passenger',\n",
       " 'sauvage',\n",
       " 'beauty',\n",
       " 'dylan blue',\n",
       " 'sacrifice',\n",
       " 'pour femme',\n",
       " 'crystal noir',\n",
       " 'the one',\n",
       " 'ck one',\n",
       " 'cool water',\n",
       " 'one shock',\n",
       " 'legend',\n",
       " 'scandal',\n",
       " 'private collection',\n",
       " '212 vip',\n",
       " 'florence',\n",
       " 'stronger with you',\n",
       " 'good girl',\n",
       " 'burberry body',\n",
       " '212 sexy',\n",
       " 'dare',\n",
       " 'emblem',\n",
       " 'guilty absolute',\n",
       " 'narciso rodriguez',\n",
       " 'the scent',\n",
       " 'my burberry',\n",
       " 'petits et mamans',\n",
       " 'love story',\n",
       " 'bleu de chanel',\n",
       " \"l'homme\",\n",
       " 'euphoria',\n",
       " 'just cavalli',\n",
       " 'desire',\n",
       " 'floral',\n",
       " 'shuhrah',\n",
       " \"3 l'imperatrice\",\n",
       " 'scuderia red',\n",
       " 'boss the scent',\n",
       " 'happy spirit',\n",
       " 'creation',\n",
       " 'explorer',\n",
       " 'cabotine',\n",
       " 'plaisir',\n",
       " 'hot',\n",
       " 'black opium',\n",
       " 'dupont',\n",
       " 'xeryus rouge',\n",
       " 'essential',\n",
       " 'declaration',\n",
       " 'classic black',\n",
       " 'rouat al oud',\n",
       " 'the game',\n",
       " 'la vie est belle',\n",
       " 'ma vie',\n",
       " 'mr. burberry',\n",
       " 'bloom nettare di fiori',\n",
       " 'furiosa',\n",
       " \"l'interdit\",\n",
       " 'first',\n",
       " 'fantasy',\n",
       " 'l.12.12 blanc',\n",
       " 'quatre',\n",
       " 'chrome',\n",
       " 'paradiso azzurro',\n",
       " 'for women edp natural sp',\n",
       " 'musk cologne sp',\n",
       " 'l.12.12 blanc-pure',\n",
       " 'black',\n",
       " 'still',\n",
       " 'femme',\n",
       " 'sheikh al shuyukh',\n",
       " 'guilty',\n",
       " 'lacoste',\n",
       " 'plus plus masculine',\n",
       " 'k',\n",
       " 'hugo',\n",
       " 'bright crystal',\n",
       " 'eternity',\n",
       " 'nero assoluto',\n",
       " 'escape',\n",
       " 'bloom',\n",
       " 'invictus',\n",
       " 'man in black',\n",
       " 'chloe',\n",
       " 'esencia',\n",
       " 'lady emblem',\n",
       " 'jimmy',\n",
       " 'in white',\n",
       " 'pandora',\n",
       " 'amber intense',\n",
       " 'seductive',\n",
       " 'hawaii london',\n",
       " 'lotus flower aromatic par',\n",
       " 'open',\n",
       " 'beautiful',\n",
       " 'sculpture homme',\n",
       " 'intenso',\n",
       " 'my burberry bl',\n",
       " 'man pure',\n",
       " 'my burberry blush',\n",
       " '1 million lucky',\n",
       " 'custom',\n",
       " 'new york',\n",
       " 'the only one 2',\n",
       " 'eternally hot',\n",
       " '1029 collection',\n",
       " 'jaguar',\n",
       " 'velvet oud',\n",
       " 'habit rouge',\n",
       " 'ultraviolet',\n",
       " 'white linen',\n",
       " 'declaration essence',\n",
       " 'for ever',\n",
       " 'esencia pour homme',\n",
       " 'bottled night',\n",
       " 'legend spirit',\n",
       " 'allure homme sport edt for',\n",
       " 'aqva marine pour homme',\n",
       " 'si',\n",
       " 'flora',\n",
       " 'oud sharqia',\n",
       " 'place vendome',\n",
       " 'red tobacco',\n",
       " 'brown',\n",
       " 'lancy',\n",
       " 'miracle',\n",
       " 'rose greedy',\n",
       " 'extreme',\n",
       " 'classic blue',\n",
       " 'pink hearts',\n",
       " 'narciso rodriguez for her',\n",
       " 'pasha edition noir',\n",
       " 'the dreamer',\n",
       " 'mademoiselle ricci',\n",
       " 'coco mademoiselle',\n",
       " 'magnetism',\n",
       " 'silver scent',\n",
       " 'man in red',\n",
       " 'oud al-mubakhar',\n",
       " 'body',\n",
       " 'wisal',\n",
       " 'the beat',\n",
       " 'gold',\n",
       " 'reveal',\n",
       " '1 million',\n",
       " 'boss',\n",
       " 'nuit',\n",
       " 'chrome legend',\n",
       " 'oud mood',\n",
       " 'ideal',\n",
       " 'acqua di gio',\n",
       " 'white diamonds',\n",
       " 'adventure',\n",
       " 'eau de lacoste l. 12.12 noir',\n",
       " 'premier jour',\n",
       " 'desire blue',\n",
       " 'body kouros',\n",
       " 'bloom aqua di fiori',\n",
       " 'tomorrow',\n",
       " 'paradiso azzuro',\n",
       " 'oud wood',\n",
       " 'premium',\n",
       " 'al wisam day',\n",
       " 'daisy eau so fresh',\n",
       " 'nude natural spray colo',\n",
       " 'hot water',\n",
       " '5th avenue',\n",
       " 'ana abiyedh leather',\n",
       " 'si passione edp for wo',\n",
       " 'monsieur oud',\n",
       " 'lady million',\n",
       " 'burberry body intense',\n",
       " 'idylle',\n",
       " 'ck be',\n",
       " 'oud maaruf',\n",
       " 'raindrops',\n",
       " 'cold',\n",
       " 'en joy',\n",
       " 'tommy',\n",
       " \"l'instant magic\",\n",
       " 'brit rhythm intense',\n",
       " 'white musk',\n",
       " 'addict',\n",
       " 'romance',\n",
       " 'modern muse',\n",
       " 'bottled unlimited',\n",
       " 'emotion',\n",
       " 'sheikh shuyukh',\n",
       " 'ameer al oud khususi',\n",
       " 'blue',\n",
       " 'eau pour homme reno 2013',\n",
       " 'bamboo',\n",
       " 'touch of pink',\n",
       " 'tommy girl',\n",
       " 'eau de lacoste',\n",
       " 'oud touch',\n",
       " 'cavalli',\n",
       " 'visit',\n",
       " 'grey flannel',\n",
       " 'dc',\n",
       " 'rouat al musk',\n",
       " 'sheer beauty',\n",
       " 'obsession',\n",
       " 'girl of now',\n",
       " 'one million',\n",
       " 'intense euphoria',\n",
       " 'euphoria intense',\n",
       " 'women',\n",
       " 'london burberry',\n",
       " 'la panthere',\n",
       " 'zino',\n",
       " 'anfas aloud',\n",
       " \"terre d' hermes\",\n",
       " 'live',\n",
       " 'my name',\n",
       " 'in red',\n",
       " 'versace pour homme',\n",
       " 'wish',\n",
       " 'viva la juicy',\n",
       " 'schlesser essential',\n",
       " 'la nuit de l`homme',\n",
       " 'intense',\n",
       " 'organza',\n",
       " \"because it's you by emporio\",\n",
       " 'by marciano',\n",
       " 'si passione',\n",
       " 'blu',\n",
       " 'bottled tonic',\n",
       " 'desire extreme',\n",
       " 'mont blanc legend',\n",
       " 'be delicious red',\n",
       " 'classic',\n",
       " 'rive gauche homme',\n",
       " 'modern princess',\n",
       " 'club de nuit intense',\n",
       " 'anais anais loriginal',\n",
       " 'musky garden',\n",
       " \"quelques fleurs l'original\",\n",
       " 'the one royal night',\n",
       " '2.2 s..y  no.1139 eau de par',\n",
       " 'club de nuit intense man',\n",
       " 'blue lady',\n",
       " 'code',\n",
       " 'roma uomo',\n",
       " 'portraits george',\n",
       " 'victory league',\n",
       " 'delina exclusive',\n",
       " 'especially elixir',\n",
       " 'wanted',\n",
       " 'patchouli intense',\n",
       " 'secret obsession',\n",
       " \"l'homme sport\",\n",
       " 'ambre imperial',\n",
       " 'green tea',\n",
       " \"l'acquarossa\",\n",
       " 'light blue',\n",
       " 'pleasures intense',\n",
       " 'goldea the roman night absolute',\n",
       " 'marbert man',\n",
       " 'always',\n",
       " 'the brilliant game',\n",
       " '900 herbal spray',\n",
       " 'yes i am ed',\n",
       " 'just different',\n",
       " 'only the brave tattoo',\n",
       " 'islanders',\n",
       " 'cedar essence',\n",
       " 'invictus intense',\n",
       " 'bakhoor al arais',\n",
       " 'dc charged',\n",
       " 'pure oudi liquid gold',\n",
       " 'wood mystique',\n",
       " 'club de nuit milestone',\n",
       " 'orange edt sp',\n",
       " 'kalam al oud',\n",
       " 'golden blaze',\n",
       " 'black xs potion',\n",
       " 'monsieur coco vanilla',\n",
       " 'white musk perfume',\n",
       " 'wild leather',\n",
       " \"l'homme ideal\",\n",
       " 'quatre absolue de nuit',\n",
       " 'yellow diamond',\n",
       " 'amethyst exquise',\n",
       " 'pleasures',\n",
       " 'beach palm',\n",
       " 'oud al misk',\n",
       " 'oud khurafi',\n",
       " 'vision iii',\n",
       " 'alf laila o laila',\n",
       " 'manifesto',\n",
       " 'armani code',\n",
       " 'sauvage perf',\n",
       " 'kouros silver',\n",
       " 'body mini ed',\n",
       " 'my blush',\n",
       " 'olympéa intense',\n",
       " \"l'interdit edp for wo\",\n",
       " 'emblem intense',\n",
       " 'prive maison sandalwood',\n",
       " 'hawaiian musk',\n",
       " 'rush 2',\n",
       " 'dirham',\n",
       " 'roses greedy',\n",
       " 'stella',\n",
       " 'sweetheart rockstar',\n",
       " 'epic',\n",
       " 'edttouch of pink for wom',\n",
       " 'tim tom leather black',\n",
       " 'today tomorrow always',\n",
       " 'blue princess',\n",
       " 'vivaldi',\n",
       " \"eclat d'arpege\",\n",
       " 'body tender',\n",
       " 'above the law',\n",
       " 'red door',\n",
       " 'pure musc',\n",
       " 'lady presidente',\n",
       " 'one man show',\n",
       " 'cheap and chic',\n",
       " 'red',\n",
       " 'lady dorall',\n",
       " 'boss orange',\n",
       " 'modern muse chic',\n",
       " '212 wild party',\n",
       " 'chance eau tendre',\n",
       " 'boss bottled man of today',\n",
       " 'black orchid',\n",
       " 'baiser vole',\n",
       " 'eghra perfume',\n",
       " '212 s**y',\n",
       " 'zen',\n",
       " 'tool box',\n",
       " 'love touch body sp',\n",
       " 'oxygene',\n",
       " 'brit rhythm',\n",
       " 'emblem ed',\n",
       " 'plus plus feminine',\n",
       " 'amber',\n",
       " '212 vip rose',\n",
       " 'pour un homme de caron',\n",
       " '1000 miglia',\n",
       " 'rush',\n",
       " 'musk mood',\n",
       " \"l'eau d'issey pour homme\",\n",
       " 'guilty black',\n",
       " 'bottled intense',\n",
       " 'paris vivaldi',\n",
       " 'si possione',\n",
       " '8839 collection',\n",
       " 'challenge',\n",
       " 'sheer beauty essence',\n",
       " 'flora gorgeous gardenia',\n",
       " 'flora gardenia',\n",
       " 'remy',\n",
       " 'natural spray',\n",
       " 'lady emblem elixir',\n",
       " 'code absolu ed',\n",
       " 'green secret',\n",
       " 'santos d concentree',\n",
       " 'divina',\n",
       " 'eau fraiche',\n",
       " '24 carat pure gold',\n",
       " 'touch',\n",
       " 'royale',\n",
       " 'paradisio azzuro',\n",
       " 'guess',\n",
       " 'khalis pure oudi',\n",
       " 'forever',\n",
       " 'vision ii',\n",
       " \"l' imperatrice 3\",\n",
       " 'world intense',\n",
       " 'roses musk',\n",
       " 'pino silvester original',\n",
       " 'million',\n",
       " 'happy spirit forever',\n",
       " 'frank olivier',\n",
       " 'classic gold',\n",
       " 'samsara',\n",
       " 'goldea the roman night',\n",
       " 'seductive homme',\n",
       " 'noa',\n",
       " 'lalique',\n",
       " \"because it's you\",\n",
       " 'one million lucky',\n",
       " 'scuderia black',\n",
       " 'paco rabanne',\n",
       " 'black opium nuit blanche',\n",
       " 'olympea',\n",
       " 'pasha de cartier',\n",
       " 'olympêa',\n",
       " 'brit splash',\n",
       " 'oud arabi',\n",
       " 'cedrat boise',\n",
       " 'coach',\n",
       " 'ch men sports',\n",
       " 'united colors of benetton hot',\n",
       " 'dahlia divin nude',\n",
       " 'classic red',\n",
       " 'blanc pour homme',\n",
       " 'rose malaki',\n",
       " 'cold silver',\n",
       " 'man',\n",
       " 'idol',\n",
       " 'guess pink',\n",
       " 'euphoria amber gold',\n",
       " 'desire silver',\n",
       " 'honour',\n",
       " 'rumba',\n",
       " 'oud',\n",
       " 'rumeur',\n",
       " 'love touch',\n",
       " 'serpentine',\n",
       " 'debut',\n",
       " 'classic amber',\n",
       " 'gentlemen only',\n",
       " 'weekend',\n",
       " 'coco vanille',\n",
       " 'evoke',\n",
       " 'passenger spray',\n",
       " 'starwalker',\n",
       " 'my land',\n",
       " \"terre d'hermes\",\n",
       " 'splandid',\n",
       " 'vivi la juicy limited edition',\n",
       " \"la nuit de l'homme l'intense\",\n",
       " 'azure',\n",
       " 'starlight',\n",
       " 'black vanilla',\n",
       " 'the only one',\n",
       " 'grey flannel for men',\n",
       " 'knowing',\n",
       " 's.t. dupont',\n",
       " 'charlie gold',\n",
       " 'monsieur intense gold',\n",
       " '24 pure',\n",
       " 'narciso rouge',\n",
       " 'black oud',\n",
       " 'royale blue',\n",
       " 'in 2 u men',\n",
       " '1881',\n",
       " 'm7 oud absolu',\n",
       " 'gold secret',\n",
       " 'seductive blue',\n",
       " 'royal amber',\n",
       " 'hot gold',\n",
       " 'scholar',\n",
       " 'viva la juicy noir',\n",
       " 'mr.burberry',\n",
       " 'moon light',\n",
       " 'xx',\n",
       " 'nashwa',\n",
       " 'signorina eleganza',\n",
       " 'genesis oud malaki',\n",
       " 'atelier intense',\n",
       " 'tommy hilfiger',\n",
       " 'ckin2u',\n",
       " 'emblem absolu',\n",
       " 'girl of now shine',\n",
       " 'be delicious',\n",
       " 'giorgio',\n",
       " 'oud 24 hours',\n",
       " 'valentina',\n",
       " 'stronger with you intensely',\n",
       " 'molto carina',\n",
       " 'dark blue',\n",
       " 'rumba passion ted lapidus',\n",
       " 'safari',\n",
       " 'supreme bouquet',\n",
       " 'icq',\n",
       " 'libre',\n",
       " 'nomade',\n",
       " 'edition',\n",
       " 'paradiso',\n",
       " 'new york platinum',\n",
       " 'eau de moiselle',\n",
       " 'oud vanille',\n",
       " 'l.12.12 rouge',\n",
       " 'aventus',\n",
       " 'courageous',\n",
       " 'oud mood gold elixir',\n",
       " \"l'imperatrice 3\",\n",
       " 'shiyoukh al oud',\n",
       " 'leather blend',\n",
       " \"declaration d'un soir\",\n",
       " 'simple',\n",
       " 'blue jeans',\n",
       " 'bad boy',\n",
       " 'lapidus pour homme',\n",
       " 'eaudemoiselle no.1154',\n",
       " 'polo blue',\n",
       " 'lolita',\n",
       " 'super cobra',\n",
       " 'absolute',\n",
       " 'hugo man',\n",
       " 'charli blue',\n",
       " 'dc marine noir',\n",
       " 'orchidea della cina',\n",
       " 'play around',\n",
       " 'club black',\n",
       " 'blue label',\n",
       " 'vetiver',\n",
       " 'beibei bear blue par',\n",
       " 'love you like crazy',\n",
       " 'heiress',\n",
       " 'de caron',\n",
       " 'florence amber',\n",
       " 'cavali',\n",
       " 'rumeur 2 rose',\n",
       " 'shalis',\n",
       " 'new york coach dreams',\n",
       " \"magie noire l'eau\",\n",
       " 'cabotine de gres',\n",
       " 'rose essentielle',\n",
       " \"l'instant\",\n",
       " 'casmir',\n",
       " 'versace',\n",
       " \"memoire  d'une odeur edp for uni\",\n",
       " \"le'parfum\",\n",
       " 'joy of pink',\n",
       " 'hatem',\n",
       " 'modern muse nuit',\n",
       " 'santal royal',\n",
       " 'black car',\n",
       " 'darknet pour homme',\n",
       " 'mon bloom of rose',\n",
       " 'momentum intense',\n",
       " 'gabrielle',\n",
       " 'brit sheer',\n",
       " 'oud noir',\n",
       " 'dionysus',\n",
       " 'deep red',\n",
       " 'man ice',\n",
       " 'eau de cedre',\n",
       " 'allure sensuelle',\n",
       " 'rain drops',\n",
       " 'mini collection no.1075',\n",
       " 'hugo boss',\n",
       " 'nice girl',\n",
       " 'interlude',\n",
       " 'jil sander',\n",
       " 'silences',\n",
       " 'cinema',\n",
       " 'narciso',\n",
       " 'windsor',\n",
       " 'fairy dust',\n",
       " 'go',\n",
       " 'eventful',\n",
       " 'relation',\n",
       " 'cerruti',\n",
       " 'black xs',\n",
       " 'joy',\n",
       " 'prive',\n",
       " 'vetiver hombre',\n",
       " 'rare pearls',\n",
       " 'omnia crystalline',\n",
       " 'play intense',\n",
       " 'miu miu',\n",
       " 'guilty pour homme',\n",
       " 'pegasus',\n",
       " \"jeu d'amour l'elixir\",\n",
       " '212 men nyc',\n",
       " 'si fiori',\n",
       " 'royal',\n",
       " 'lanvin',\n",
       " 'idôle ed',\n",
       " 'debut night',\n",
       " 'secret de rochas',\n",
       " 'premiere',\n",
       " 'ck in2u',\n",
       " 'charlie blue',\n",
       " 'goldea',\n",
       " 'teenz',\n",
       " 'kors',\n",
       " \"milano infusion d'iris\",\n",
       " 'guilty intense',\n",
       " 'mon florale',\n",
       " 'live luxe',\n",
       " 'layali cpo at']"
      ]
     },
     "execution_count": 21,
     "metadata": {},
     "output_type": "execute_result"
    }
   ],
   "source": [
    "df1['name'].value_counts().to_frame().index.to_list()"
   ]
  },
  {
   "cell_type": "code",
   "execution_count": 22,
   "id": "64e33a20",
   "metadata": {},
   "outputs": [
    {
     "data": {
      "text/plain": [
       "5.0    275\n",
       "4.5    137\n",
       "4.6     93\n",
       "4.7     85\n",
       "4.8     83\n",
       "4.4     72\n",
       "4.0     61\n",
       "4.3     54\n",
       "4.9     28\n",
       "4.2     28\n",
       "3.0     18\n",
       "4.1     15\n",
       "3.7      7\n",
       "3.3      7\n",
       "3.8      7\n",
       "3.5      6\n",
       "1.0      6\n",
       "2.0      6\n",
       "3.4      6\n",
       "3.9      4\n",
       "2.3      3\n",
       "3.6      1\n",
       "2.9      1\n",
       "Name: item_rating, dtype: int64"
      ]
     },
     "execution_count": 22,
     "metadata": {},
     "output_type": "execute_result"
    }
   ],
   "source": [
    "df1['item_rating'].value_counts()"
   ]
  },
  {
   "cell_type": "code",
   "execution_count": 23,
   "id": "5066ca78",
   "metadata": {},
   "outputs": [
    {
     "data": {
      "text/plain": [
       "4.2      346\n",
       "3.9      217\n",
       "3.7      119\n",
       "3.8      106\n",
       "3.5       72\n",
       "3.6       46\n",
       "4.1       34\n",
       "4.3       22\n",
       "412.0     15\n",
       "4.4       12\n",
       "454.0      6\n",
       "445.0      3\n",
       "43.0       2\n",
       "4.8        2\n",
       "4.0        1\n",
       "Name: seller_rating, dtype: int64"
      ]
     },
     "execution_count": 23,
     "metadata": {},
     "output_type": "execute_result"
    }
   ],
   "source": [
    "df1['seller_rating'].value_counts() "
   ]
  },
  {
   "cell_type": "code",
   "execution_count": 24,
   "id": "6f7a21ce",
   "metadata": {},
   "outputs": [
    {
     "data": {
      "text/plain": [
       "4.2    346\n",
       "3.9    217\n",
       "3.7    119\n",
       "3.8    106\n",
       "3.5     72\n",
       "4.1     49\n",
       "3.6     46\n",
       "4.3     24\n",
       "4.4     15\n",
       "4.5      6\n",
       "4.8      2\n",
       "4.0      1\n",
       "Name: seller_rating, dtype: int64"
      ]
     },
     "execution_count": 24,
     "metadata": {},
     "output_type": "execute_result"
    }
   ],
   "source": [
    "df1['seller_rating']=df1['seller_rating'].replace({412.0:4.1, 454.0:4.5, 445.0:4.4, 43:4.3})\n",
    "df1['seller_rating'].value_counts() "
   ]
  },
  {
   "cell_type": "code",
   "execution_count": 25,
   "id": "0d19cbb9",
   "metadata": {},
   "outputs": [
    {
     "data": {
      "text/plain": [
       "98.1K    287\n",
       "135      103\n",
       "537       61\n",
       "347       57\n",
       "122       52\n",
       "14.1K     29\n",
       "98        26\n",
       "7         26\n",
       "88        23\n",
       "61        22\n",
       "76        21\n",
       "66        20\n",
       "59        18\n",
       "5         16\n",
       "75        15\n",
       "425       14\n",
       "467       14\n",
       "23        13\n",
       "450       13\n",
       "538       12\n",
       "244       12\n",
       "33        11\n",
       "69        11\n",
       "63        10\n",
       "111        9\n",
       "9          9\n",
       "4K         8\n",
       "319        7\n",
       "20         6\n",
       "32         5\n",
       "118        5\n",
       "30         5\n",
       "25         5\n",
       "8          4\n",
       "113        4\n",
       "1.9K       4\n",
       "27         4\n",
       "124        4\n",
       "1.3K       3\n",
       "199        3\n",
       "44         3\n",
       "71         3\n",
       "98.4K      2\n",
       "78         2\n",
       "56         2\n",
       "77         2\n",
       "528        2\n",
       "116        2\n",
       "531        2\n",
       "54         2\n",
       "337        1\n",
       "178        1\n",
       "235        1\n",
       "266        1\n",
       "288        1\n",
       "81         1\n",
       "21         1\n",
       "22         1\n",
       "41         1\n",
       "539        1\n",
       "Name: num_seller_ratings, dtype: int64"
      ]
     },
     "execution_count": 25,
     "metadata": {},
     "output_type": "execute_result"
    }
   ],
   "source": [
    "df1['num_seller_ratings'].value_counts()"
   ]
  },
  {
   "cell_type": "code",
   "execution_count": 26,
   "id": "96c3ad15",
   "metadata": {},
   "outputs": [],
   "source": [
    "def edit(tx):\n",
    "    if tx.rfind('K') != -1:\n",
    "        tx=tx.replace('K','')\n",
    "        if tx.rfind('.') != -1:\n",
    "            n1,n2=tx.split('.')\n",
    "            tx=f'{n1}000'\n",
    "        else:\n",
    "            tx=tx+'000'\n",
    "            \n",
    "    return float(tx)  \n",
    "    \n",
    "        \n",
    "df1['num_seller_ratings']= df1['num_seller_ratings'].apply(edit).astype(int)\n",
    "\n"
   ]
  },
  {
   "cell_type": "code",
   "execution_count": 27,
   "id": "a6a86dbc",
   "metadata": {},
   "outputs": [
    {
     "data": {
      "text/plain": [
       "98000    289\n",
       "135      103\n",
       "537       61\n",
       "347       57\n",
       "122       52\n",
       "14000     29\n",
       "98        26\n",
       "7         26\n",
       "88        23\n",
       "61        22\n",
       "76        21\n",
       "66        20\n",
       "59        18\n",
       "5         16\n",
       "75        15\n",
       "425       14\n",
       "467       14\n",
       "23        13\n",
       "450       13\n",
       "244       12\n",
       "538       12\n",
       "33        11\n",
       "69        11\n",
       "63        10\n",
       "111        9\n",
       "9          9\n",
       "4000       8\n",
       "319        7\n",
       "1000       7\n",
       "20         6\n",
       "118        5\n",
       "32         5\n",
       "25         5\n",
       "30         5\n",
       "27         4\n",
       "124        4\n",
       "8          4\n",
       "113        4\n",
       "199        3\n",
       "71         3\n",
       "44         3\n",
       "56         2\n",
       "116        2\n",
       "78         2\n",
       "77         2\n",
       "54         2\n",
       "531        2\n",
       "528        2\n",
       "41         1\n",
       "22         1\n",
       "21         1\n",
       "235        1\n",
       "337        1\n",
       "178        1\n",
       "266        1\n",
       "288        1\n",
       "81         1\n",
       "539        1\n",
       "Name: num_seller_ratings, dtype: int64"
      ]
     },
     "execution_count": 27,
     "metadata": {},
     "output_type": "execute_result"
    }
   ],
   "source": [
    "df1['num_seller_ratings'].value_counts()"
   ]
  },
  {
   "cell_type": "code",
   "execution_count": 28,
   "id": "41c02fe7",
   "metadata": {},
   "outputs": [
    {
     "name": "stdout",
     "output_type": "stream",
     "text": [
      "<class 'pandas.core.frame.DataFrame'>\n",
      "RangeIndex: 1003 entries, 0 to 1002\n",
      "Data columns (total 17 columns):\n",
      " #   Column              Non-Null Count  Dtype  \n",
      "---  ------              --------------  -----  \n",
      " 0   brand               1003 non-null   object \n",
      " 1   name                1003 non-null   object \n",
      " 2   old_price           1003 non-null   float64\n",
      " 3   new_price           1003 non-null   float64\n",
      " 4   ml                  1003 non-null   int64  \n",
      " 5   concentration       1003 non-null   object \n",
      " 6   department          1003 non-null   object \n",
      " 7   scents              1003 non-null   object \n",
      " 8   base_note           1003 non-null   object \n",
      " 9   middle_note         1003 non-null   object \n",
      " 10  item_rating         1003 non-null   float64\n",
      " 11  seller              1003 non-null   object \n",
      " 12  seller_rating       1003 non-null   float64\n",
      " 13  num_seller_ratings  1003 non-null   int32  \n",
      " 14  discount%           1003 non-null   float64\n",
      " 15  discount_price      1003 non-null   float64\n",
      " 16  price/ml            1003 non-null   float64\n",
      "dtypes: float64(7), int32(1), int64(1), object(8)\n",
      "memory usage: 129.4+ KB\n"
     ]
    }
   ],
   "source": [
    "df1.info()"
   ]
  },
  {
   "cell_type": "code",
   "execution_count": 29,
   "id": "2804be0c",
   "metadata": {},
   "outputs": [
    {
     "data": {
      "text/html": [
       "<div>\n",
       "<style scoped>\n",
       "    .dataframe tbody tr th:only-of-type {\n",
       "        vertical-align: middle;\n",
       "    }\n",
       "\n",
       "    .dataframe tbody tr th {\n",
       "        vertical-align: top;\n",
       "    }\n",
       "\n",
       "    .dataframe thead th {\n",
       "        text-align: right;\n",
       "    }\n",
       "</style>\n",
       "<table border=\"1\" class=\"dataframe\">\n",
       "  <thead>\n",
       "    <tr style=\"text-align: right;\">\n",
       "      <th></th>\n",
       "      <th>brand</th>\n",
       "      <th>name</th>\n",
       "      <th>old_price</th>\n",
       "      <th>new_price</th>\n",
       "      <th>ml</th>\n",
       "      <th>concentration</th>\n",
       "      <th>department</th>\n",
       "      <th>scents</th>\n",
       "      <th>base_note</th>\n",
       "      <th>middle_note</th>\n",
       "      <th>item_rating</th>\n",
       "      <th>seller</th>\n",
       "      <th>seller_rating</th>\n",
       "      <th>num_seller_ratings</th>\n",
       "      <th>discount%</th>\n",
       "      <th>discount_price</th>\n",
       "      <th>price/ml</th>\n",
       "    </tr>\n",
       "  </thead>\n",
       "  <tbody>\n",
       "    <tr>\n",
       "      <th>0</th>\n",
       "      <td>PACO RABANNE</td>\n",
       "      <td>1 million lucky</td>\n",
       "      <td>395.0</td>\n",
       "      <td>244.55</td>\n",
       "      <td>100</td>\n",
       "      <td>EDT</td>\n",
       "      <td>Men</td>\n",
       "      <td>Woody</td>\n",
       "      <td>Oakmoss, Patchouli and Vetiver</td>\n",
       "      <td>Hazelnut, Jasmine, Cashmir Wood, Cedar and Honey</td>\n",
       "      <td>5.0</td>\n",
       "      <td>noon</td>\n",
       "      <td>4.2</td>\n",
       "      <td>98000</td>\n",
       "      <td>61.9</td>\n",
       "      <td>150.4</td>\n",
       "      <td>2.4</td>\n",
       "    </tr>\n",
       "    <tr>\n",
       "      <th>1</th>\n",
       "      <td>Roberto Cavalli</td>\n",
       "      <td>paradiso assoluto</td>\n",
       "      <td>415.0</td>\n",
       "      <td>107.95</td>\n",
       "      <td>50</td>\n",
       "      <td>EDP</td>\n",
       "      <td>Women</td>\n",
       "      <td>Floral</td>\n",
       "      <td>Vanilla, Sandalwood And Patchouli</td>\n",
       "      <td>Wild Jasmine and Red Lily</td>\n",
       "      <td>4.8</td>\n",
       "      <td>noon</td>\n",
       "      <td>4.2</td>\n",
       "      <td>98000</td>\n",
       "      <td>26.0</td>\n",
       "      <td>307.0</td>\n",
       "      <td>2.2</td>\n",
       "    </tr>\n",
       "    <tr>\n",
       "      <th>2</th>\n",
       "      <td>S.T.Dupont</td>\n",
       "      <td>royal amber</td>\n",
       "      <td>265.0</td>\n",
       "      <td>186.90</td>\n",
       "      <td>100</td>\n",
       "      <td>EDP</td>\n",
       "      <td>Unisex</td>\n",
       "      <td>Arabian</td>\n",
       "      <td>Lemon, Mint and Wood Moss</td>\n",
       "      <td>Sandalwood and Cedar</td>\n",
       "      <td>5.0</td>\n",
       "      <td>noon</td>\n",
       "      <td>4.2</td>\n",
       "      <td>98000</td>\n",
       "      <td>70.5</td>\n",
       "      <td>78.1</td>\n",
       "      <td>1.9</td>\n",
       "    </tr>\n",
       "    <tr>\n",
       "      <th>3</th>\n",
       "      <td>GUESS</td>\n",
       "      <td>seductive blue</td>\n",
       "      <td>290.0</td>\n",
       "      <td>103.20</td>\n",
       "      <td>100</td>\n",
       "      <td>EDT</td>\n",
       "      <td>Men</td>\n",
       "      <td>Spicy</td>\n",
       "      <td>Cashmere Wood, Moss And Rippled Sand Accord</td>\n",
       "      <td>Blue Coral Aquaspace Accord And Geranium</td>\n",
       "      <td>3.0</td>\n",
       "      <td>noon</td>\n",
       "      <td>4.2</td>\n",
       "      <td>98000</td>\n",
       "      <td>35.6</td>\n",
       "      <td>186.8</td>\n",
       "      <td>1.0</td>\n",
       "    </tr>\n",
       "    <tr>\n",
       "      <th>4</th>\n",
       "      <td>Roberto Cavalli</td>\n",
       "      <td>uomo</td>\n",
       "      <td>260.0</td>\n",
       "      <td>94.95</td>\n",
       "      <td>50</td>\n",
       "      <td>EDP</td>\n",
       "      <td>Women</td>\n",
       "      <td>Arabian</td>\n",
       "      <td>Vanille, Benzoin, Tonka Bean</td>\n",
       "      <td>African Orange Flower</td>\n",
       "      <td>4.8</td>\n",
       "      <td>noon</td>\n",
       "      <td>4.2</td>\n",
       "      <td>98000</td>\n",
       "      <td>36.5</td>\n",
       "      <td>165.0</td>\n",
       "      <td>1.9</td>\n",
       "    </tr>\n",
       "  </tbody>\n",
       "</table>\n",
       "</div>"
      ],
      "text/plain": [
       "             brand               name  old_price  new_price   ml  \\\n",
       "0     PACO RABANNE    1 million lucky      395.0     244.55  100   \n",
       "1  Roberto Cavalli  paradiso assoluto      415.0     107.95   50   \n",
       "2       S.T.Dupont        royal amber      265.0     186.90  100   \n",
       "3            GUESS     seductive blue      290.0     103.20  100   \n",
       "4  Roberto Cavalli               uomo      260.0      94.95   50   \n",
       "\n",
       "  concentration department   scents  \\\n",
       "0           EDT        Men    Woody   \n",
       "1           EDP      Women   Floral   \n",
       "2           EDP     Unisex  Arabian   \n",
       "3           EDT        Men    Spicy   \n",
       "4           EDP      Women  Arabian   \n",
       "\n",
       "                                     base_note  \\\n",
       "0               Oakmoss, Patchouli and Vetiver   \n",
       "1            Vanilla, Sandalwood And Patchouli   \n",
       "2                    Lemon, Mint and Wood Moss   \n",
       "3  Cashmere Wood, Moss And Rippled Sand Accord   \n",
       "4                 Vanille, Benzoin, Tonka Bean   \n",
       "\n",
       "                                        middle_note  item_rating seller  \\\n",
       "0  Hazelnut, Jasmine, Cashmir Wood, Cedar and Honey          5.0   noon   \n",
       "1                         Wild Jasmine and Red Lily          4.8   noon   \n",
       "2                              Sandalwood and Cedar          5.0   noon   \n",
       "3          Blue Coral Aquaspace Accord And Geranium          3.0   noon   \n",
       "4                             African Orange Flower          4.8   noon   \n",
       "\n",
       "   seller_rating  num_seller_ratings  discount%  discount_price  price/ml  \n",
       "0            4.2               98000       61.9           150.4       2.4  \n",
       "1            4.2               98000       26.0           307.0       2.2  \n",
       "2            4.2               98000       70.5            78.1       1.9  \n",
       "3            4.2               98000       35.6           186.8       1.0  \n",
       "4            4.2               98000       36.5           165.0       1.9  "
      ]
     },
     "execution_count": 29,
     "metadata": {},
     "output_type": "execute_result"
    }
   ],
   "source": [
    "df1.head()"
   ]
  },
  {
   "cell_type": "code",
   "execution_count": 30,
   "id": "abf1ecf6",
   "metadata": {},
   "outputs": [
    {
     "data": {
      "application/vnd.plotly.v1+json": {
       "config": {
        "plotlyServerURL": "https://plot.ly"
       },
       "data": [
        {
         "alignmentgroup": "True",
         "hovertemplate": "scents=%{x}<br>item_rating=%{text}<extra></extra>",
         "legendgroup": "Oriental, Floral",
         "marker": {
          "color": "rgb(229, 134, 6)",
          "pattern": {
           "shape": ""
          }
         },
         "name": "Oriental, Floral",
         "offsetgroup": "Oriental, Floral",
         "orientation": "v",
         "showlegend": true,
         "text": [
          5
         ],
         "textposition": "auto",
         "type": "bar",
         "x": [
          "Oriental, Floral"
         ],
         "xaxis": "x",
         "y": [
          5
         ],
         "yaxis": "y"
        },
        {
         "alignmentgroup": "True",
         "hovertemplate": "scents=%{x}<br>item_rating=%{text}<extra></extra>",
         "legendgroup": "Aromatic,Citrus",
         "marker": {
          "color": "rgb(93, 105, 177)",
          "pattern": {
           "shape": ""
          }
         },
         "name": "Aromatic,Citrus",
         "offsetgroup": "Aromatic,Citrus",
         "orientation": "v",
         "showlegend": true,
         "text": [
          5
         ],
         "textposition": "auto",
         "type": "bar",
         "x": [
          "Aromatic,Citrus"
         ],
         "xaxis": "x",
         "y": [
          5
         ],
         "yaxis": "y"
        },
        {
         "alignmentgroup": "True",
         "hovertemplate": "scents=%{x}<br>item_rating=%{text}<extra></extra>",
         "legendgroup": "Woody And Spicy",
         "marker": {
          "color": "rgb(82, 188, 163)",
          "pattern": {
           "shape": ""
          }
         },
         "name": "Woody And Spicy",
         "offsetgroup": "Woody And Spicy",
         "orientation": "v",
         "showlegend": true,
         "text": [
          4.9
         ],
         "textposition": "auto",
         "type": "bar",
         "x": [
          "Woody And Spicy"
         ],
         "xaxis": "x",
         "y": [
          4.9
         ],
         "yaxis": "y"
        },
        {
         "alignmentgroup": "True",
         "hovertemplate": "scents=%{x}<br>item_rating=%{text}<extra></extra>",
         "legendgroup": "Sweet Aromatic",
         "marker": {
          "color": "rgb(153, 201, 69)",
          "pattern": {
           "shape": ""
          }
         },
         "name": "Sweet Aromatic",
         "offsetgroup": "Sweet Aromatic",
         "orientation": "v",
         "showlegend": true,
         "text": [
          4.8
         ],
         "textposition": "auto",
         "type": "bar",
         "x": [
          "Sweet Aromatic"
         ],
         "xaxis": "x",
         "y": [
          4.8
         ],
         "yaxis": "y"
        },
        {
         "alignmentgroup": "True",
         "hovertemplate": "scents=%{x}<br>item_rating=%{text}<extra></extra>",
         "legendgroup": "Sandalwood",
         "marker": {
          "color": "rgb(204, 97, 176)",
          "pattern": {
           "shape": ""
          }
         },
         "name": "Sandalwood",
         "offsetgroup": "Sandalwood",
         "orientation": "v",
         "showlegend": true,
         "text": [
          4.6
         ],
         "textposition": "auto",
         "type": "bar",
         "x": [
          "Sandalwood"
         ],
         "xaxis": "x",
         "y": [
          4.6
         ],
         "yaxis": "y"
        },
        {
         "alignmentgroup": "True",
         "hovertemplate": "scents=%{x}<br>item_rating=%{text}<extra></extra>",
         "legendgroup": "Fruity",
         "marker": {
          "color": "rgb(36, 121, 108)",
          "pattern": {
           "shape": ""
          }
         },
         "name": "Fruity",
         "offsetgroup": "Fruity",
         "orientation": "v",
         "showlegend": true,
         "text": [
          4.58
         ],
         "textposition": "auto",
         "type": "bar",
         "x": [
          "Fruity"
         ],
         "xaxis": "x",
         "y": [
          4.58
         ],
         "yaxis": "y"
        },
        {
         "alignmentgroup": "True",
         "hovertemplate": "scents=%{x}<br>item_rating=%{text}<extra></extra>",
         "legendgroup": "Floral",
         "marker": {
          "color": "rgb(218, 165, 27)",
          "pattern": {
           "shape": ""
          }
         },
         "name": "Floral",
         "offsetgroup": "Floral",
         "orientation": "v",
         "showlegend": true,
         "text": [
          4.57
         ],
         "textposition": "auto",
         "type": "bar",
         "x": [
          "Floral"
         ],
         "xaxis": "x",
         "y": [
          4.57
         ],
         "yaxis": "y"
        },
        {
         "alignmentgroup": "True",
         "hovertemplate": "scents=%{x}<br>item_rating=%{text}<extra></extra>",
         "legendgroup": "Vanilla",
         "marker": {
          "color": "rgb(47, 138, 196)",
          "pattern": {
           "shape": ""
          }
         },
         "name": "Vanilla",
         "offsetgroup": "Vanilla",
         "orientation": "v",
         "showlegend": true,
         "text": [
          4.57
         ],
         "textposition": "auto",
         "type": "bar",
         "x": [
          "Vanilla"
         ],
         "xaxis": "x",
         "y": [
          4.57
         ],
         "yaxis": "y"
        },
        {
         "alignmentgroup": "True",
         "hovertemplate": "scents=%{x}<br>item_rating=%{text}<extra></extra>",
         "legendgroup": "Spicy",
         "marker": {
          "color": "rgb(118, 78, 159)",
          "pattern": {
           "shape": ""
          }
         },
         "name": "Spicy",
         "offsetgroup": "Spicy",
         "orientation": "v",
         "showlegend": true,
         "text": [
          4.56
         ],
         "textposition": "auto",
         "type": "bar",
         "x": [
          "Spicy"
         ],
         "xaxis": "x",
         "y": [
          4.56
         ],
         "yaxis": "y"
        },
        {
         "alignmentgroup": "True",
         "hovertemplate": "scents=%{x}<br>item_rating=%{text}<extra></extra>",
         "legendgroup": "Oriental",
         "marker": {
          "color": "rgb(237, 100, 90)",
          "pattern": {
           "shape": ""
          }
         },
         "name": "Oriental",
         "offsetgroup": "Oriental",
         "orientation": "v",
         "showlegend": true,
         "text": [
          4.55
         ],
         "textposition": "auto",
         "type": "bar",
         "x": [
          "Oriental"
         ],
         "xaxis": "x",
         "y": [
          4.55
         ],
         "yaxis": "y"
        }
       ],
       "layout": {
        "barmode": "relative",
        "legend": {
         "title": {
          "text": "scents"
         },
         "tracegroupgap": 0
        },
        "margin": {
         "t": 60
        },
        "template": {
         "data": {
          "bar": [
           {
            "error_x": {
             "color": "#2a3f5f"
            },
            "error_y": {
             "color": "#2a3f5f"
            },
            "marker": {
             "line": {
              "color": "#E5ECF6",
              "width": 0.5
             },
             "pattern": {
              "fillmode": "overlay",
              "size": 10,
              "solidity": 0.2
             }
            },
            "type": "bar"
           }
          ],
          "barpolar": [
           {
            "marker": {
             "line": {
              "color": "#E5ECF6",
              "width": 0.5
             },
             "pattern": {
              "fillmode": "overlay",
              "size": 10,
              "solidity": 0.2
             }
            },
            "type": "barpolar"
           }
          ],
          "carpet": [
           {
            "aaxis": {
             "endlinecolor": "#2a3f5f",
             "gridcolor": "white",
             "linecolor": "white",
             "minorgridcolor": "white",
             "startlinecolor": "#2a3f5f"
            },
            "baxis": {
             "endlinecolor": "#2a3f5f",
             "gridcolor": "white",
             "linecolor": "white",
             "minorgridcolor": "white",
             "startlinecolor": "#2a3f5f"
            },
            "type": "carpet"
           }
          ],
          "choropleth": [
           {
            "colorbar": {
             "outlinewidth": 0,
             "ticks": ""
            },
            "type": "choropleth"
           }
          ],
          "contour": [
           {
            "colorbar": {
             "outlinewidth": 0,
             "ticks": ""
            },
            "colorscale": [
             [
              0,
              "#0d0887"
             ],
             [
              0.1111111111111111,
              "#46039f"
             ],
             [
              0.2222222222222222,
              "#7201a8"
             ],
             [
              0.3333333333333333,
              "#9c179e"
             ],
             [
              0.4444444444444444,
              "#bd3786"
             ],
             [
              0.5555555555555556,
              "#d8576b"
             ],
             [
              0.6666666666666666,
              "#ed7953"
             ],
             [
              0.7777777777777778,
              "#fb9f3a"
             ],
             [
              0.8888888888888888,
              "#fdca26"
             ],
             [
              1,
              "#f0f921"
             ]
            ],
            "type": "contour"
           }
          ],
          "contourcarpet": [
           {
            "colorbar": {
             "outlinewidth": 0,
             "ticks": ""
            },
            "type": "contourcarpet"
           }
          ],
          "heatmap": [
           {
            "colorbar": {
             "outlinewidth": 0,
             "ticks": ""
            },
            "colorscale": [
             [
              0,
              "#0d0887"
             ],
             [
              0.1111111111111111,
              "#46039f"
             ],
             [
              0.2222222222222222,
              "#7201a8"
             ],
             [
              0.3333333333333333,
              "#9c179e"
             ],
             [
              0.4444444444444444,
              "#bd3786"
             ],
             [
              0.5555555555555556,
              "#d8576b"
             ],
             [
              0.6666666666666666,
              "#ed7953"
             ],
             [
              0.7777777777777778,
              "#fb9f3a"
             ],
             [
              0.8888888888888888,
              "#fdca26"
             ],
             [
              1,
              "#f0f921"
             ]
            ],
            "type": "heatmap"
           }
          ],
          "heatmapgl": [
           {
            "colorbar": {
             "outlinewidth": 0,
             "ticks": ""
            },
            "colorscale": [
             [
              0,
              "#0d0887"
             ],
             [
              0.1111111111111111,
              "#46039f"
             ],
             [
              0.2222222222222222,
              "#7201a8"
             ],
             [
              0.3333333333333333,
              "#9c179e"
             ],
             [
              0.4444444444444444,
              "#bd3786"
             ],
             [
              0.5555555555555556,
              "#d8576b"
             ],
             [
              0.6666666666666666,
              "#ed7953"
             ],
             [
              0.7777777777777778,
              "#fb9f3a"
             ],
             [
              0.8888888888888888,
              "#fdca26"
             ],
             [
              1,
              "#f0f921"
             ]
            ],
            "type": "heatmapgl"
           }
          ],
          "histogram": [
           {
            "marker": {
             "pattern": {
              "fillmode": "overlay",
              "size": 10,
              "solidity": 0.2
             }
            },
            "type": "histogram"
           }
          ],
          "histogram2d": [
           {
            "colorbar": {
             "outlinewidth": 0,
             "ticks": ""
            },
            "colorscale": [
             [
              0,
              "#0d0887"
             ],
             [
              0.1111111111111111,
              "#46039f"
             ],
             [
              0.2222222222222222,
              "#7201a8"
             ],
             [
              0.3333333333333333,
              "#9c179e"
             ],
             [
              0.4444444444444444,
              "#bd3786"
             ],
             [
              0.5555555555555556,
              "#d8576b"
             ],
             [
              0.6666666666666666,
              "#ed7953"
             ],
             [
              0.7777777777777778,
              "#fb9f3a"
             ],
             [
              0.8888888888888888,
              "#fdca26"
             ],
             [
              1,
              "#f0f921"
             ]
            ],
            "type": "histogram2d"
           }
          ],
          "histogram2dcontour": [
           {
            "colorbar": {
             "outlinewidth": 0,
             "ticks": ""
            },
            "colorscale": [
             [
              0,
              "#0d0887"
             ],
             [
              0.1111111111111111,
              "#46039f"
             ],
             [
              0.2222222222222222,
              "#7201a8"
             ],
             [
              0.3333333333333333,
              "#9c179e"
             ],
             [
              0.4444444444444444,
              "#bd3786"
             ],
             [
              0.5555555555555556,
              "#d8576b"
             ],
             [
              0.6666666666666666,
              "#ed7953"
             ],
             [
              0.7777777777777778,
              "#fb9f3a"
             ],
             [
              0.8888888888888888,
              "#fdca26"
             ],
             [
              1,
              "#f0f921"
             ]
            ],
            "type": "histogram2dcontour"
           }
          ],
          "mesh3d": [
           {
            "colorbar": {
             "outlinewidth": 0,
             "ticks": ""
            },
            "type": "mesh3d"
           }
          ],
          "parcoords": [
           {
            "line": {
             "colorbar": {
              "outlinewidth": 0,
              "ticks": ""
             }
            },
            "type": "parcoords"
           }
          ],
          "pie": [
           {
            "automargin": true,
            "type": "pie"
           }
          ],
          "scatter": [
           {
            "fillpattern": {
             "fillmode": "overlay",
             "size": 10,
             "solidity": 0.2
            },
            "type": "scatter"
           }
          ],
          "scatter3d": [
           {
            "line": {
             "colorbar": {
              "outlinewidth": 0,
              "ticks": ""
             }
            },
            "marker": {
             "colorbar": {
              "outlinewidth": 0,
              "ticks": ""
             }
            },
            "type": "scatter3d"
           }
          ],
          "scattercarpet": [
           {
            "marker": {
             "colorbar": {
              "outlinewidth": 0,
              "ticks": ""
             }
            },
            "type": "scattercarpet"
           }
          ],
          "scattergeo": [
           {
            "marker": {
             "colorbar": {
              "outlinewidth": 0,
              "ticks": ""
             }
            },
            "type": "scattergeo"
           }
          ],
          "scattergl": [
           {
            "marker": {
             "colorbar": {
              "outlinewidth": 0,
              "ticks": ""
             }
            },
            "type": "scattergl"
           }
          ],
          "scattermapbox": [
           {
            "marker": {
             "colorbar": {
              "outlinewidth": 0,
              "ticks": ""
             }
            },
            "type": "scattermapbox"
           }
          ],
          "scatterpolar": [
           {
            "marker": {
             "colorbar": {
              "outlinewidth": 0,
              "ticks": ""
             }
            },
            "type": "scatterpolar"
           }
          ],
          "scatterpolargl": [
           {
            "marker": {
             "colorbar": {
              "outlinewidth": 0,
              "ticks": ""
             }
            },
            "type": "scatterpolargl"
           }
          ],
          "scatterternary": [
           {
            "marker": {
             "colorbar": {
              "outlinewidth": 0,
              "ticks": ""
             }
            },
            "type": "scatterternary"
           }
          ],
          "surface": [
           {
            "colorbar": {
             "outlinewidth": 0,
             "ticks": ""
            },
            "colorscale": [
             [
              0,
              "#0d0887"
             ],
             [
              0.1111111111111111,
              "#46039f"
             ],
             [
              0.2222222222222222,
              "#7201a8"
             ],
             [
              0.3333333333333333,
              "#9c179e"
             ],
             [
              0.4444444444444444,
              "#bd3786"
             ],
             [
              0.5555555555555556,
              "#d8576b"
             ],
             [
              0.6666666666666666,
              "#ed7953"
             ],
             [
              0.7777777777777778,
              "#fb9f3a"
             ],
             [
              0.8888888888888888,
              "#fdca26"
             ],
             [
              1,
              "#f0f921"
             ]
            ],
            "type": "surface"
           }
          ],
          "table": [
           {
            "cells": {
             "fill": {
              "color": "#EBF0F8"
             },
             "line": {
              "color": "white"
             }
            },
            "header": {
             "fill": {
              "color": "#C8D4E3"
             },
             "line": {
              "color": "white"
             }
            },
            "type": "table"
           }
          ]
         },
         "layout": {
          "annotationdefaults": {
           "arrowcolor": "#2a3f5f",
           "arrowhead": 0,
           "arrowwidth": 1
          },
          "autotypenumbers": "strict",
          "coloraxis": {
           "colorbar": {
            "outlinewidth": 0,
            "ticks": ""
           }
          },
          "colorscale": {
           "diverging": [
            [
             0,
             "#8e0152"
            ],
            [
             0.1,
             "#c51b7d"
            ],
            [
             0.2,
             "#de77ae"
            ],
            [
             0.3,
             "#f1b6da"
            ],
            [
             0.4,
             "#fde0ef"
            ],
            [
             0.5,
             "#f7f7f7"
            ],
            [
             0.6,
             "#e6f5d0"
            ],
            [
             0.7,
             "#b8e186"
            ],
            [
             0.8,
             "#7fbc41"
            ],
            [
             0.9,
             "#4d9221"
            ],
            [
             1,
             "#276419"
            ]
           ],
           "sequential": [
            [
             0,
             "#0d0887"
            ],
            [
             0.1111111111111111,
             "#46039f"
            ],
            [
             0.2222222222222222,
             "#7201a8"
            ],
            [
             0.3333333333333333,
             "#9c179e"
            ],
            [
             0.4444444444444444,
             "#bd3786"
            ],
            [
             0.5555555555555556,
             "#d8576b"
            ],
            [
             0.6666666666666666,
             "#ed7953"
            ],
            [
             0.7777777777777778,
             "#fb9f3a"
            ],
            [
             0.8888888888888888,
             "#fdca26"
            ],
            [
             1,
             "#f0f921"
            ]
           ],
           "sequentialminus": [
            [
             0,
             "#0d0887"
            ],
            [
             0.1111111111111111,
             "#46039f"
            ],
            [
             0.2222222222222222,
             "#7201a8"
            ],
            [
             0.3333333333333333,
             "#9c179e"
            ],
            [
             0.4444444444444444,
             "#bd3786"
            ],
            [
             0.5555555555555556,
             "#d8576b"
            ],
            [
             0.6666666666666666,
             "#ed7953"
            ],
            [
             0.7777777777777778,
             "#fb9f3a"
            ],
            [
             0.8888888888888888,
             "#fdca26"
            ],
            [
             1,
             "#f0f921"
            ]
           ]
          },
          "colorway": [
           "#636efa",
           "#EF553B",
           "#00cc96",
           "#ab63fa",
           "#FFA15A",
           "#19d3f3",
           "#FF6692",
           "#B6E880",
           "#FF97FF",
           "#FECB52"
          ],
          "font": {
           "color": "#2a3f5f"
          },
          "geo": {
           "bgcolor": "white",
           "lakecolor": "white",
           "landcolor": "#E5ECF6",
           "showlakes": true,
           "showland": true,
           "subunitcolor": "white"
          },
          "hoverlabel": {
           "align": "left"
          },
          "hovermode": "closest",
          "mapbox": {
           "style": "light"
          },
          "paper_bgcolor": "white",
          "plot_bgcolor": "#E5ECF6",
          "polar": {
           "angularaxis": {
            "gridcolor": "white",
            "linecolor": "white",
            "ticks": ""
           },
           "bgcolor": "#E5ECF6",
           "radialaxis": {
            "gridcolor": "white",
            "linecolor": "white",
            "ticks": ""
           }
          },
          "scene": {
           "xaxis": {
            "backgroundcolor": "#E5ECF6",
            "gridcolor": "white",
            "gridwidth": 2,
            "linecolor": "white",
            "showbackground": true,
            "ticks": "",
            "zerolinecolor": "white"
           },
           "yaxis": {
            "backgroundcolor": "#E5ECF6",
            "gridcolor": "white",
            "gridwidth": 2,
            "linecolor": "white",
            "showbackground": true,
            "ticks": "",
            "zerolinecolor": "white"
           },
           "zaxis": {
            "backgroundcolor": "#E5ECF6",
            "gridcolor": "white",
            "gridwidth": 2,
            "linecolor": "white",
            "showbackground": true,
            "ticks": "",
            "zerolinecolor": "white"
           }
          },
          "shapedefaults": {
           "line": {
            "color": "#2a3f5f"
           }
          },
          "ternary": {
           "aaxis": {
            "gridcolor": "white",
            "linecolor": "white",
            "ticks": ""
           },
           "baxis": {
            "gridcolor": "white",
            "linecolor": "white",
            "ticks": ""
           },
           "bgcolor": "#E5ECF6",
           "caxis": {
            "gridcolor": "white",
            "linecolor": "white",
            "ticks": ""
           }
          },
          "title": {
           "x": 0.05
          },
          "xaxis": {
           "automargin": true,
           "gridcolor": "white",
           "linecolor": "white",
           "ticks": "",
           "title": {
            "standoff": 15
           },
           "zerolinecolor": "white",
           "zerolinewidth": 2
          },
          "yaxis": {
           "automargin": true,
           "gridcolor": "white",
           "linecolor": "white",
           "ticks": "",
           "title": {
            "standoff": 15
           },
           "zerolinecolor": "white",
           "zerolinewidth": 2
          }
         }
        },
        "title": {
         "text": "Top 10 Rated ScentsTop 10 Rated Scents",
         "x": 0.5,
         "xanchor": "center",
         "y": 0.95,
         "yanchor": "top"
        },
        "xaxis": {
         "anchor": "y",
         "categoryarray": [
          "Oriental, Floral",
          "Aromatic,Citrus",
          "Woody And Spicy",
          "Sweet Aromatic",
          "Sandalwood",
          "Fruity",
          "Floral",
          "Vanilla",
          "Spicy",
          "Oriental"
         ],
         "categoryorder": "array",
         "domain": [
          0,
          1
         ],
         "title": {
          "text": "scents"
         }
        },
        "yaxis": {
         "anchor": "x",
         "domain": [
          0,
          1
         ],
         "title": {
          "text": "item_rating"
         }
        }
       }
      }
     },
     "metadata": {},
     "output_type": "display_data"
    }
   ],
   "source": [
    "df2 = df1.copy()\n",
    "mean = df1.groupby('scents')['item_rating'].mean()\n",
    "df3 = mean.reset_index()\n",
    "df3['item_rating'] = df3['item_rating'].round(decimals=2)\n",
    "df3 = df3.sort_values('item_rating',ascending=False).head(10)\n",
    "fig = px.bar(df3,x='scents',y='item_rating',color_discrete_sequence=px.colors.qualitative.Vivid,color='scents',text='item_rating')\n",
    "fig.update_layout(title={'text': 'Top 10 Rated ScentsTop 10 Rated Scents','y':0.95,'x':0.5, 'xanchor': 'center', 'yanchor': 'top' })\n",
    "fig.show()\n"
   ]
  },
  {
   "cell_type": "code",
   "execution_count": 31,
   "id": "a288afbf",
   "metadata": {},
   "outputs": [
    {
     "data": {
      "application/vnd.plotly.v1+json": {
       "config": {
        "plotlyServerURL": "https://plot.ly"
       },
       "data": [
        {
         "coloraxis": "coloraxis",
         "hovertemplate": "x: %{x}<br>y: %{y}<br>color: %{z}<extra></extra>",
         "name": "0",
         "texttemplate": "%{z}",
         "type": "heatmap",
         "x": [
          "old_price",
          "new_price",
          "ml",
          "item_rating",
          "seller_rating",
          "num_seller_ratings",
          "discount%",
          "discount_price",
          "price/ml"
         ],
         "xaxis": "x",
         "y": [
          "old_price",
          "new_price",
          "ml",
          "item_rating",
          "seller_rating",
          "num_seller_ratings",
          "discount%",
          "discount_price",
          "price/ml"
         ],
         "yaxis": "y",
         "z": [
          [
           1,
           0.84,
           0.14,
           0.08,
           0.04,
           0.02,
           -0.42,
           0.93,
           0.65
          ],
          [
           0.84,
           1,
           0.14,
           0.11,
           0.03,
           -0.01,
           -0.02,
           0.58,
           0.8
          ],
          [
           0.14,
           0.14,
           1,
           -0.03,
           0.03,
           0.07,
           -0.08,
           0.11,
           -0.35
          ],
          [
           0.08,
           0.11,
           -0.03,
           1,
           0.06,
           0.04,
           0,
           0.04,
           0.08
          ],
          [
           0.04,
           0.03,
           0.03,
           0.06,
           1,
           0.6,
           -0.07,
           0.04,
           -0.02
          ],
          [
           0.02,
           -0.01,
           0.07,
           0.04,
           0.6,
           1,
           -0.14,
           0.04,
           -0.05
          ],
          [
           -0.42,
           -0.02,
           -0.08,
           0,
           -0.07,
           -0.14,
           1,
           -0.63,
           0.05
          ],
          [
           0.93,
           0.58,
           0.11,
           0.04,
           0.04,
           0.04,
           -0.63,
           1,
           0.43
          ],
          [
           0.65,
           0.8,
           -0.35,
           0.08,
           -0.02,
           -0.05,
           0.05,
           0.43,
           1
          ]
         ]
        }
       ],
       "layout": {
        "coloraxis": {
         "colorscale": [
          [
           0,
           "#000004"
          ],
          [
           0.1111111111111111,
           "#1b0c41"
          ],
          [
           0.2222222222222222,
           "#4a0c6b"
          ],
          [
           0.3333333333333333,
           "#781c6d"
          ],
          [
           0.4444444444444444,
           "#a52c60"
          ],
          [
           0.5555555555555556,
           "#cf4446"
          ],
          [
           0.6666666666666666,
           "#ed6925"
          ],
          [
           0.7777777777777778,
           "#fb9b06"
          ],
          [
           0.8888888888888888,
           "#f7d13d"
          ],
          [
           1,
           "#fcffa4"
          ]
         ]
        },
        "margin": {
         "t": 60
        },
        "template": {
         "data": {
          "bar": [
           {
            "error_x": {
             "color": "#2a3f5f"
            },
            "error_y": {
             "color": "#2a3f5f"
            },
            "marker": {
             "line": {
              "color": "#E5ECF6",
              "width": 0.5
             },
             "pattern": {
              "fillmode": "overlay",
              "size": 10,
              "solidity": 0.2
             }
            },
            "type": "bar"
           }
          ],
          "barpolar": [
           {
            "marker": {
             "line": {
              "color": "#E5ECF6",
              "width": 0.5
             },
             "pattern": {
              "fillmode": "overlay",
              "size": 10,
              "solidity": 0.2
             }
            },
            "type": "barpolar"
           }
          ],
          "carpet": [
           {
            "aaxis": {
             "endlinecolor": "#2a3f5f",
             "gridcolor": "white",
             "linecolor": "white",
             "minorgridcolor": "white",
             "startlinecolor": "#2a3f5f"
            },
            "baxis": {
             "endlinecolor": "#2a3f5f",
             "gridcolor": "white",
             "linecolor": "white",
             "minorgridcolor": "white",
             "startlinecolor": "#2a3f5f"
            },
            "type": "carpet"
           }
          ],
          "choropleth": [
           {
            "colorbar": {
             "outlinewidth": 0,
             "ticks": ""
            },
            "type": "choropleth"
           }
          ],
          "contour": [
           {
            "colorbar": {
             "outlinewidth": 0,
             "ticks": ""
            },
            "colorscale": [
             [
              0,
              "#0d0887"
             ],
             [
              0.1111111111111111,
              "#46039f"
             ],
             [
              0.2222222222222222,
              "#7201a8"
             ],
             [
              0.3333333333333333,
              "#9c179e"
             ],
             [
              0.4444444444444444,
              "#bd3786"
             ],
             [
              0.5555555555555556,
              "#d8576b"
             ],
             [
              0.6666666666666666,
              "#ed7953"
             ],
             [
              0.7777777777777778,
              "#fb9f3a"
             ],
             [
              0.8888888888888888,
              "#fdca26"
             ],
             [
              1,
              "#f0f921"
             ]
            ],
            "type": "contour"
           }
          ],
          "contourcarpet": [
           {
            "colorbar": {
             "outlinewidth": 0,
             "ticks": ""
            },
            "type": "contourcarpet"
           }
          ],
          "heatmap": [
           {
            "colorbar": {
             "outlinewidth": 0,
             "ticks": ""
            },
            "colorscale": [
             [
              0,
              "#0d0887"
             ],
             [
              0.1111111111111111,
              "#46039f"
             ],
             [
              0.2222222222222222,
              "#7201a8"
             ],
             [
              0.3333333333333333,
              "#9c179e"
             ],
             [
              0.4444444444444444,
              "#bd3786"
             ],
             [
              0.5555555555555556,
              "#d8576b"
             ],
             [
              0.6666666666666666,
              "#ed7953"
             ],
             [
              0.7777777777777778,
              "#fb9f3a"
             ],
             [
              0.8888888888888888,
              "#fdca26"
             ],
             [
              1,
              "#f0f921"
             ]
            ],
            "type": "heatmap"
           }
          ],
          "heatmapgl": [
           {
            "colorbar": {
             "outlinewidth": 0,
             "ticks": ""
            },
            "colorscale": [
             [
              0,
              "#0d0887"
             ],
             [
              0.1111111111111111,
              "#46039f"
             ],
             [
              0.2222222222222222,
              "#7201a8"
             ],
             [
              0.3333333333333333,
              "#9c179e"
             ],
             [
              0.4444444444444444,
              "#bd3786"
             ],
             [
              0.5555555555555556,
              "#d8576b"
             ],
             [
              0.6666666666666666,
              "#ed7953"
             ],
             [
              0.7777777777777778,
              "#fb9f3a"
             ],
             [
              0.8888888888888888,
              "#fdca26"
             ],
             [
              1,
              "#f0f921"
             ]
            ],
            "type": "heatmapgl"
           }
          ],
          "histogram": [
           {
            "marker": {
             "pattern": {
              "fillmode": "overlay",
              "size": 10,
              "solidity": 0.2
             }
            },
            "type": "histogram"
           }
          ],
          "histogram2d": [
           {
            "colorbar": {
             "outlinewidth": 0,
             "ticks": ""
            },
            "colorscale": [
             [
              0,
              "#0d0887"
             ],
             [
              0.1111111111111111,
              "#46039f"
             ],
             [
              0.2222222222222222,
              "#7201a8"
             ],
             [
              0.3333333333333333,
              "#9c179e"
             ],
             [
              0.4444444444444444,
              "#bd3786"
             ],
             [
              0.5555555555555556,
              "#d8576b"
             ],
             [
              0.6666666666666666,
              "#ed7953"
             ],
             [
              0.7777777777777778,
              "#fb9f3a"
             ],
             [
              0.8888888888888888,
              "#fdca26"
             ],
             [
              1,
              "#f0f921"
             ]
            ],
            "type": "histogram2d"
           }
          ],
          "histogram2dcontour": [
           {
            "colorbar": {
             "outlinewidth": 0,
             "ticks": ""
            },
            "colorscale": [
             [
              0,
              "#0d0887"
             ],
             [
              0.1111111111111111,
              "#46039f"
             ],
             [
              0.2222222222222222,
              "#7201a8"
             ],
             [
              0.3333333333333333,
              "#9c179e"
             ],
             [
              0.4444444444444444,
              "#bd3786"
             ],
             [
              0.5555555555555556,
              "#d8576b"
             ],
             [
              0.6666666666666666,
              "#ed7953"
             ],
             [
              0.7777777777777778,
              "#fb9f3a"
             ],
             [
              0.8888888888888888,
              "#fdca26"
             ],
             [
              1,
              "#f0f921"
             ]
            ],
            "type": "histogram2dcontour"
           }
          ],
          "mesh3d": [
           {
            "colorbar": {
             "outlinewidth": 0,
             "ticks": ""
            },
            "type": "mesh3d"
           }
          ],
          "parcoords": [
           {
            "line": {
             "colorbar": {
              "outlinewidth": 0,
              "ticks": ""
             }
            },
            "type": "parcoords"
           }
          ],
          "pie": [
           {
            "automargin": true,
            "type": "pie"
           }
          ],
          "scatter": [
           {
            "fillpattern": {
             "fillmode": "overlay",
             "size": 10,
             "solidity": 0.2
            },
            "type": "scatter"
           }
          ],
          "scatter3d": [
           {
            "line": {
             "colorbar": {
              "outlinewidth": 0,
              "ticks": ""
             }
            },
            "marker": {
             "colorbar": {
              "outlinewidth": 0,
              "ticks": ""
             }
            },
            "type": "scatter3d"
           }
          ],
          "scattercarpet": [
           {
            "marker": {
             "colorbar": {
              "outlinewidth": 0,
              "ticks": ""
             }
            },
            "type": "scattercarpet"
           }
          ],
          "scattergeo": [
           {
            "marker": {
             "colorbar": {
              "outlinewidth": 0,
              "ticks": ""
             }
            },
            "type": "scattergeo"
           }
          ],
          "scattergl": [
           {
            "marker": {
             "colorbar": {
              "outlinewidth": 0,
              "ticks": ""
             }
            },
            "type": "scattergl"
           }
          ],
          "scattermapbox": [
           {
            "marker": {
             "colorbar": {
              "outlinewidth": 0,
              "ticks": ""
             }
            },
            "type": "scattermapbox"
           }
          ],
          "scatterpolar": [
           {
            "marker": {
             "colorbar": {
              "outlinewidth": 0,
              "ticks": ""
             }
            },
            "type": "scatterpolar"
           }
          ],
          "scatterpolargl": [
           {
            "marker": {
             "colorbar": {
              "outlinewidth": 0,
              "ticks": ""
             }
            },
            "type": "scatterpolargl"
           }
          ],
          "scatterternary": [
           {
            "marker": {
             "colorbar": {
              "outlinewidth": 0,
              "ticks": ""
             }
            },
            "type": "scatterternary"
           }
          ],
          "surface": [
           {
            "colorbar": {
             "outlinewidth": 0,
             "ticks": ""
            },
            "colorscale": [
             [
              0,
              "#0d0887"
             ],
             [
              0.1111111111111111,
              "#46039f"
             ],
             [
              0.2222222222222222,
              "#7201a8"
             ],
             [
              0.3333333333333333,
              "#9c179e"
             ],
             [
              0.4444444444444444,
              "#bd3786"
             ],
             [
              0.5555555555555556,
              "#d8576b"
             ],
             [
              0.6666666666666666,
              "#ed7953"
             ],
             [
              0.7777777777777778,
              "#fb9f3a"
             ],
             [
              0.8888888888888888,
              "#fdca26"
             ],
             [
              1,
              "#f0f921"
             ]
            ],
            "type": "surface"
           }
          ],
          "table": [
           {
            "cells": {
             "fill": {
              "color": "#EBF0F8"
             },
             "line": {
              "color": "white"
             }
            },
            "header": {
             "fill": {
              "color": "#C8D4E3"
             },
             "line": {
              "color": "white"
             }
            },
            "type": "table"
           }
          ]
         },
         "layout": {
          "annotationdefaults": {
           "arrowcolor": "#2a3f5f",
           "arrowhead": 0,
           "arrowwidth": 1
          },
          "autotypenumbers": "strict",
          "coloraxis": {
           "colorbar": {
            "outlinewidth": 0,
            "ticks": ""
           }
          },
          "colorscale": {
           "diverging": [
            [
             0,
             "#8e0152"
            ],
            [
             0.1,
             "#c51b7d"
            ],
            [
             0.2,
             "#de77ae"
            ],
            [
             0.3,
             "#f1b6da"
            ],
            [
             0.4,
             "#fde0ef"
            ],
            [
             0.5,
             "#f7f7f7"
            ],
            [
             0.6,
             "#e6f5d0"
            ],
            [
             0.7,
             "#b8e186"
            ],
            [
             0.8,
             "#7fbc41"
            ],
            [
             0.9,
             "#4d9221"
            ],
            [
             1,
             "#276419"
            ]
           ],
           "sequential": [
            [
             0,
             "#0d0887"
            ],
            [
             0.1111111111111111,
             "#46039f"
            ],
            [
             0.2222222222222222,
             "#7201a8"
            ],
            [
             0.3333333333333333,
             "#9c179e"
            ],
            [
             0.4444444444444444,
             "#bd3786"
            ],
            [
             0.5555555555555556,
             "#d8576b"
            ],
            [
             0.6666666666666666,
             "#ed7953"
            ],
            [
             0.7777777777777778,
             "#fb9f3a"
            ],
            [
             0.8888888888888888,
             "#fdca26"
            ],
            [
             1,
             "#f0f921"
            ]
           ],
           "sequentialminus": [
            [
             0,
             "#0d0887"
            ],
            [
             0.1111111111111111,
             "#46039f"
            ],
            [
             0.2222222222222222,
             "#7201a8"
            ],
            [
             0.3333333333333333,
             "#9c179e"
            ],
            [
             0.4444444444444444,
             "#bd3786"
            ],
            [
             0.5555555555555556,
             "#d8576b"
            ],
            [
             0.6666666666666666,
             "#ed7953"
            ],
            [
             0.7777777777777778,
             "#fb9f3a"
            ],
            [
             0.8888888888888888,
             "#fdca26"
            ],
            [
             1,
             "#f0f921"
            ]
           ]
          },
          "colorway": [
           "#636efa",
           "#EF553B",
           "#00cc96",
           "#ab63fa",
           "#FFA15A",
           "#19d3f3",
           "#FF6692",
           "#B6E880",
           "#FF97FF",
           "#FECB52"
          ],
          "font": {
           "color": "#2a3f5f"
          },
          "geo": {
           "bgcolor": "white",
           "lakecolor": "white",
           "landcolor": "#E5ECF6",
           "showlakes": true,
           "showland": true,
           "subunitcolor": "white"
          },
          "hoverlabel": {
           "align": "left"
          },
          "hovermode": "closest",
          "mapbox": {
           "style": "light"
          },
          "paper_bgcolor": "white",
          "plot_bgcolor": "#E5ECF6",
          "polar": {
           "angularaxis": {
            "gridcolor": "white",
            "linecolor": "white",
            "ticks": ""
           },
           "bgcolor": "#E5ECF6",
           "radialaxis": {
            "gridcolor": "white",
            "linecolor": "white",
            "ticks": ""
           }
          },
          "scene": {
           "xaxis": {
            "backgroundcolor": "#E5ECF6",
            "gridcolor": "white",
            "gridwidth": 2,
            "linecolor": "white",
            "showbackground": true,
            "ticks": "",
            "zerolinecolor": "white"
           },
           "yaxis": {
            "backgroundcolor": "#E5ECF6",
            "gridcolor": "white",
            "gridwidth": 2,
            "linecolor": "white",
            "showbackground": true,
            "ticks": "",
            "zerolinecolor": "white"
           },
           "zaxis": {
            "backgroundcolor": "#E5ECF6",
            "gridcolor": "white",
            "gridwidth": 2,
            "linecolor": "white",
            "showbackground": true,
            "ticks": "",
            "zerolinecolor": "white"
           }
          },
          "shapedefaults": {
           "line": {
            "color": "#2a3f5f"
           }
          },
          "ternary": {
           "aaxis": {
            "gridcolor": "white",
            "linecolor": "white",
            "ticks": ""
           },
           "baxis": {
            "gridcolor": "white",
            "linecolor": "white",
            "ticks": ""
           },
           "bgcolor": "#E5ECF6",
           "caxis": {
            "gridcolor": "white",
            "linecolor": "white",
            "ticks": ""
           }
          },
          "title": {
           "x": 0.05
          },
          "xaxis": {
           "automargin": true,
           "gridcolor": "white",
           "linecolor": "white",
           "ticks": "",
           "title": {
            "standoff": 15
           },
           "zerolinecolor": "white",
           "zerolinewidth": 2
          },
          "yaxis": {
           "automargin": true,
           "gridcolor": "white",
           "linecolor": "white",
           "ticks": "",
           "title": {
            "standoff": 15
           },
           "zerolinecolor": "white",
           "zerolinewidth": 2
          }
         }
        },
        "title": {
         "text": "Variables Correlation",
         "x": 0.5,
         "xanchor": "center",
         "y": 0.95,
         "yanchor": "top"
        },
        "xaxis": {
         "anchor": "y",
         "domain": [
          0,
          1
         ]
        },
        "yaxis": {
         "anchor": "x",
         "autorange": "reversed",
         "domain": [
          0,
          1
         ]
        }
       }
      }
     },
     "metadata": {},
     "output_type": "display_data"
    }
   ],
   "source": [
    "fig = px.imshow(df1.corr().round(2),color_continuous_scale='Inferno',aspect=\"auto\",text_auto=True)\n",
    "fig.update_layout(title={'text': 'Variables Correlation','y':0.95,'x':0.5, 'xanchor': 'center', 'yanchor': 'top'})\n",
    "\n"
   ]
  },
  {
   "cell_type": "code",
   "execution_count": 32,
   "id": "2ae4d398",
   "metadata": {},
   "outputs": [
    {
     "data": {
      "application/vnd.plotly.v1+json": {
       "config": {
        "plotlyServerURL": "https://plot.ly"
       },
       "data": [
        {
         "name": "New Price",
         "text": [
          904.85,
          886,
          785,
          716.8,
          710.95,
          699,
          653.65,
          653,
          593.3,
          560
         ],
         "type": "bar",
         "x": [
          "AMOUAGE gold",
          "PENHALIGON'S portraits george",
          "Parfums De Marly delina exclusive",
          "AMOUAGE interlude",
          "AMOUAGE honour",
          "YSL supreme bouquet",
          "NICOLAI patchouli intense",
          "AMOUAGE epic",
          "CREED aventus",
          "Yves Saint Laurent rive gauche homme"
         ],
         "y": [
          904.85,
          886,
          785,
          716.8,
          710.95,
          699,
          653.65,
          653,
          593.3,
          560
         ]
        },
        {
         "name": "Old Price",
         "text": [
          1376,
          2350,
          1696,
          854,
          1607,
          1215,
          1714,
          653,
          1375,
          560
         ],
         "type": "bar",
         "x": [
          "AMOUAGE gold",
          "PENHALIGON'S portraits george",
          "Parfums De Marly delina exclusive",
          "AMOUAGE interlude",
          "AMOUAGE honour",
          "YSL supreme bouquet",
          "NICOLAI patchouli intense",
          "AMOUAGE epic",
          "CREED aventus",
          "Yves Saint Laurent rive gauche homme"
         ],
         "y": [
          1376,
          2350,
          1696,
          854,
          1607,
          1215,
          1714,
          653,
          1375,
          560
         ]
        }
       ],
       "layout": {
        "barmode": "group",
        "template": {
         "data": {
          "bar": [
           {
            "error_x": {
             "color": "#2a3f5f"
            },
            "error_y": {
             "color": "#2a3f5f"
            },
            "marker": {
             "line": {
              "color": "#E5ECF6",
              "width": 0.5
             },
             "pattern": {
              "fillmode": "overlay",
              "size": 10,
              "solidity": 0.2
             }
            },
            "type": "bar"
           }
          ],
          "barpolar": [
           {
            "marker": {
             "line": {
              "color": "#E5ECF6",
              "width": 0.5
             },
             "pattern": {
              "fillmode": "overlay",
              "size": 10,
              "solidity": 0.2
             }
            },
            "type": "barpolar"
           }
          ],
          "carpet": [
           {
            "aaxis": {
             "endlinecolor": "#2a3f5f",
             "gridcolor": "white",
             "linecolor": "white",
             "minorgridcolor": "white",
             "startlinecolor": "#2a3f5f"
            },
            "baxis": {
             "endlinecolor": "#2a3f5f",
             "gridcolor": "white",
             "linecolor": "white",
             "minorgridcolor": "white",
             "startlinecolor": "#2a3f5f"
            },
            "type": "carpet"
           }
          ],
          "choropleth": [
           {
            "colorbar": {
             "outlinewidth": 0,
             "ticks": ""
            },
            "type": "choropleth"
           }
          ],
          "contour": [
           {
            "colorbar": {
             "outlinewidth": 0,
             "ticks": ""
            },
            "colorscale": [
             [
              0,
              "#0d0887"
             ],
             [
              0.1111111111111111,
              "#46039f"
             ],
             [
              0.2222222222222222,
              "#7201a8"
             ],
             [
              0.3333333333333333,
              "#9c179e"
             ],
             [
              0.4444444444444444,
              "#bd3786"
             ],
             [
              0.5555555555555556,
              "#d8576b"
             ],
             [
              0.6666666666666666,
              "#ed7953"
             ],
             [
              0.7777777777777778,
              "#fb9f3a"
             ],
             [
              0.8888888888888888,
              "#fdca26"
             ],
             [
              1,
              "#f0f921"
             ]
            ],
            "type": "contour"
           }
          ],
          "contourcarpet": [
           {
            "colorbar": {
             "outlinewidth": 0,
             "ticks": ""
            },
            "type": "contourcarpet"
           }
          ],
          "heatmap": [
           {
            "colorbar": {
             "outlinewidth": 0,
             "ticks": ""
            },
            "colorscale": [
             [
              0,
              "#0d0887"
             ],
             [
              0.1111111111111111,
              "#46039f"
             ],
             [
              0.2222222222222222,
              "#7201a8"
             ],
             [
              0.3333333333333333,
              "#9c179e"
             ],
             [
              0.4444444444444444,
              "#bd3786"
             ],
             [
              0.5555555555555556,
              "#d8576b"
             ],
             [
              0.6666666666666666,
              "#ed7953"
             ],
             [
              0.7777777777777778,
              "#fb9f3a"
             ],
             [
              0.8888888888888888,
              "#fdca26"
             ],
             [
              1,
              "#f0f921"
             ]
            ],
            "type": "heatmap"
           }
          ],
          "heatmapgl": [
           {
            "colorbar": {
             "outlinewidth": 0,
             "ticks": ""
            },
            "colorscale": [
             [
              0,
              "#0d0887"
             ],
             [
              0.1111111111111111,
              "#46039f"
             ],
             [
              0.2222222222222222,
              "#7201a8"
             ],
             [
              0.3333333333333333,
              "#9c179e"
             ],
             [
              0.4444444444444444,
              "#bd3786"
             ],
             [
              0.5555555555555556,
              "#d8576b"
             ],
             [
              0.6666666666666666,
              "#ed7953"
             ],
             [
              0.7777777777777778,
              "#fb9f3a"
             ],
             [
              0.8888888888888888,
              "#fdca26"
             ],
             [
              1,
              "#f0f921"
             ]
            ],
            "type": "heatmapgl"
           }
          ],
          "histogram": [
           {
            "marker": {
             "pattern": {
              "fillmode": "overlay",
              "size": 10,
              "solidity": 0.2
             }
            },
            "type": "histogram"
           }
          ],
          "histogram2d": [
           {
            "colorbar": {
             "outlinewidth": 0,
             "ticks": ""
            },
            "colorscale": [
             [
              0,
              "#0d0887"
             ],
             [
              0.1111111111111111,
              "#46039f"
             ],
             [
              0.2222222222222222,
              "#7201a8"
             ],
             [
              0.3333333333333333,
              "#9c179e"
             ],
             [
              0.4444444444444444,
              "#bd3786"
             ],
             [
              0.5555555555555556,
              "#d8576b"
             ],
             [
              0.6666666666666666,
              "#ed7953"
             ],
             [
              0.7777777777777778,
              "#fb9f3a"
             ],
             [
              0.8888888888888888,
              "#fdca26"
             ],
             [
              1,
              "#f0f921"
             ]
            ],
            "type": "histogram2d"
           }
          ],
          "histogram2dcontour": [
           {
            "colorbar": {
             "outlinewidth": 0,
             "ticks": ""
            },
            "colorscale": [
             [
              0,
              "#0d0887"
             ],
             [
              0.1111111111111111,
              "#46039f"
             ],
             [
              0.2222222222222222,
              "#7201a8"
             ],
             [
              0.3333333333333333,
              "#9c179e"
             ],
             [
              0.4444444444444444,
              "#bd3786"
             ],
             [
              0.5555555555555556,
              "#d8576b"
             ],
             [
              0.6666666666666666,
              "#ed7953"
             ],
             [
              0.7777777777777778,
              "#fb9f3a"
             ],
             [
              0.8888888888888888,
              "#fdca26"
             ],
             [
              1,
              "#f0f921"
             ]
            ],
            "type": "histogram2dcontour"
           }
          ],
          "mesh3d": [
           {
            "colorbar": {
             "outlinewidth": 0,
             "ticks": ""
            },
            "type": "mesh3d"
           }
          ],
          "parcoords": [
           {
            "line": {
             "colorbar": {
              "outlinewidth": 0,
              "ticks": ""
             }
            },
            "type": "parcoords"
           }
          ],
          "pie": [
           {
            "automargin": true,
            "type": "pie"
           }
          ],
          "scatter": [
           {
            "fillpattern": {
             "fillmode": "overlay",
             "size": 10,
             "solidity": 0.2
            },
            "type": "scatter"
           }
          ],
          "scatter3d": [
           {
            "line": {
             "colorbar": {
              "outlinewidth": 0,
              "ticks": ""
             }
            },
            "marker": {
             "colorbar": {
              "outlinewidth": 0,
              "ticks": ""
             }
            },
            "type": "scatter3d"
           }
          ],
          "scattercarpet": [
           {
            "marker": {
             "colorbar": {
              "outlinewidth": 0,
              "ticks": ""
             }
            },
            "type": "scattercarpet"
           }
          ],
          "scattergeo": [
           {
            "marker": {
             "colorbar": {
              "outlinewidth": 0,
              "ticks": ""
             }
            },
            "type": "scattergeo"
           }
          ],
          "scattergl": [
           {
            "marker": {
             "colorbar": {
              "outlinewidth": 0,
              "ticks": ""
             }
            },
            "type": "scattergl"
           }
          ],
          "scattermapbox": [
           {
            "marker": {
             "colorbar": {
              "outlinewidth": 0,
              "ticks": ""
             }
            },
            "type": "scattermapbox"
           }
          ],
          "scatterpolar": [
           {
            "marker": {
             "colorbar": {
              "outlinewidth": 0,
              "ticks": ""
             }
            },
            "type": "scatterpolar"
           }
          ],
          "scatterpolargl": [
           {
            "marker": {
             "colorbar": {
              "outlinewidth": 0,
              "ticks": ""
             }
            },
            "type": "scatterpolargl"
           }
          ],
          "scatterternary": [
           {
            "marker": {
             "colorbar": {
              "outlinewidth": 0,
              "ticks": ""
             }
            },
            "type": "scatterternary"
           }
          ],
          "surface": [
           {
            "colorbar": {
             "outlinewidth": 0,
             "ticks": ""
            },
            "colorscale": [
             [
              0,
              "#0d0887"
             ],
             [
              0.1111111111111111,
              "#46039f"
             ],
             [
              0.2222222222222222,
              "#7201a8"
             ],
             [
              0.3333333333333333,
              "#9c179e"
             ],
             [
              0.4444444444444444,
              "#bd3786"
             ],
             [
              0.5555555555555556,
              "#d8576b"
             ],
             [
              0.6666666666666666,
              "#ed7953"
             ],
             [
              0.7777777777777778,
              "#fb9f3a"
             ],
             [
              0.8888888888888888,
              "#fdca26"
             ],
             [
              1,
              "#f0f921"
             ]
            ],
            "type": "surface"
           }
          ],
          "table": [
           {
            "cells": {
             "fill": {
              "color": "#EBF0F8"
             },
             "line": {
              "color": "white"
             }
            },
            "header": {
             "fill": {
              "color": "#C8D4E3"
             },
             "line": {
              "color": "white"
             }
            },
            "type": "table"
           }
          ]
         },
         "layout": {
          "annotationdefaults": {
           "arrowcolor": "#2a3f5f",
           "arrowhead": 0,
           "arrowwidth": 1
          },
          "autotypenumbers": "strict",
          "coloraxis": {
           "colorbar": {
            "outlinewidth": 0,
            "ticks": ""
           }
          },
          "colorscale": {
           "diverging": [
            [
             0,
             "#8e0152"
            ],
            [
             0.1,
             "#c51b7d"
            ],
            [
             0.2,
             "#de77ae"
            ],
            [
             0.3,
             "#f1b6da"
            ],
            [
             0.4,
             "#fde0ef"
            ],
            [
             0.5,
             "#f7f7f7"
            ],
            [
             0.6,
             "#e6f5d0"
            ],
            [
             0.7,
             "#b8e186"
            ],
            [
             0.8,
             "#7fbc41"
            ],
            [
             0.9,
             "#4d9221"
            ],
            [
             1,
             "#276419"
            ]
           ],
           "sequential": [
            [
             0,
             "#0d0887"
            ],
            [
             0.1111111111111111,
             "#46039f"
            ],
            [
             0.2222222222222222,
             "#7201a8"
            ],
            [
             0.3333333333333333,
             "#9c179e"
            ],
            [
             0.4444444444444444,
             "#bd3786"
            ],
            [
             0.5555555555555556,
             "#d8576b"
            ],
            [
             0.6666666666666666,
             "#ed7953"
            ],
            [
             0.7777777777777778,
             "#fb9f3a"
            ],
            [
             0.8888888888888888,
             "#fdca26"
            ],
            [
             1,
             "#f0f921"
            ]
           ],
           "sequentialminus": [
            [
             0,
             "#0d0887"
            ],
            [
             0.1111111111111111,
             "#46039f"
            ],
            [
             0.2222222222222222,
             "#7201a8"
            ],
            [
             0.3333333333333333,
             "#9c179e"
            ],
            [
             0.4444444444444444,
             "#bd3786"
            ],
            [
             0.5555555555555556,
             "#d8576b"
            ],
            [
             0.6666666666666666,
             "#ed7953"
            ],
            [
             0.7777777777777778,
             "#fb9f3a"
            ],
            [
             0.8888888888888888,
             "#fdca26"
            ],
            [
             1,
             "#f0f921"
            ]
           ]
          },
          "colorway": [
           "#636efa",
           "#EF553B",
           "#00cc96",
           "#ab63fa",
           "#FFA15A",
           "#19d3f3",
           "#FF6692",
           "#B6E880",
           "#FF97FF",
           "#FECB52"
          ],
          "font": {
           "color": "#2a3f5f"
          },
          "geo": {
           "bgcolor": "white",
           "lakecolor": "white",
           "landcolor": "#E5ECF6",
           "showlakes": true,
           "showland": true,
           "subunitcolor": "white"
          },
          "hoverlabel": {
           "align": "left"
          },
          "hovermode": "closest",
          "mapbox": {
           "style": "light"
          },
          "paper_bgcolor": "white",
          "plot_bgcolor": "#E5ECF6",
          "polar": {
           "angularaxis": {
            "gridcolor": "white",
            "linecolor": "white",
            "ticks": ""
           },
           "bgcolor": "#E5ECF6",
           "radialaxis": {
            "gridcolor": "white",
            "linecolor": "white",
            "ticks": ""
           }
          },
          "scene": {
           "xaxis": {
            "backgroundcolor": "#E5ECF6",
            "gridcolor": "white",
            "gridwidth": 2,
            "linecolor": "white",
            "showbackground": true,
            "ticks": "",
            "zerolinecolor": "white"
           },
           "yaxis": {
            "backgroundcolor": "#E5ECF6",
            "gridcolor": "white",
            "gridwidth": 2,
            "linecolor": "white",
            "showbackground": true,
            "ticks": "",
            "zerolinecolor": "white"
           },
           "zaxis": {
            "backgroundcolor": "#E5ECF6",
            "gridcolor": "white",
            "gridwidth": 2,
            "linecolor": "white",
            "showbackground": true,
            "ticks": "",
            "zerolinecolor": "white"
           }
          },
          "shapedefaults": {
           "line": {
            "color": "#2a3f5f"
           }
          },
          "ternary": {
           "aaxis": {
            "gridcolor": "white",
            "linecolor": "white",
            "ticks": ""
           },
           "baxis": {
            "gridcolor": "white",
            "linecolor": "white",
            "ticks": ""
           },
           "bgcolor": "#E5ECF6",
           "caxis": {
            "gridcolor": "white",
            "linecolor": "white",
            "ticks": ""
           }
          },
          "title": {
           "x": 0.05
          },
          "xaxis": {
           "automargin": true,
           "gridcolor": "white",
           "linecolor": "white",
           "ticks": "",
           "title": {
            "standoff": 15
           },
           "zerolinecolor": "white",
           "zerolinewidth": 2
          },
          "yaxis": {
           "automargin": true,
           "gridcolor": "white",
           "linecolor": "white",
           "ticks": "",
           "title": {
            "standoff": 15
           },
           "zerolinecolor": "white",
           "zerolinewidth": 2
          }
         }
        },
        "title": {
         "text": "10 Most Expensive Perfumes",
         "x": 0.5,
         "xanchor": "center",
         "y": 0.9,
         "yanchor": "top"
        },
        "xaxis": {
         "title": {
          "text": "Perfumes"
         }
        },
        "yaxis": {
         "title": {
          "text": "Prices"
         }
        }
       }
      }
     },
     "metadata": {},
     "output_type": "display_data"
    }
   ],
   "source": [
    "import plotly.graph_objects as go\n",
    "df2 = df1.copy()\n",
    "\n",
    "df2 = df2.sort_values('new_price',ascending=False).head(10)\n",
    "fig = go.Figure(data=[go.Bar(name='New Price', x= df2['brand']+' '+df2['name'], y=df2['new_price'],text=df2['new_price']),go.Bar(name='Old Price', x=df2['brand']+' '+df2['name'], y=df2['old_price'],text=df2['old_price'])])\n",
    "fig.update_layout(barmode='group',title = {'text': '10 Most Expensive Perfumes','y':0.9,'x':0.5, 'xanchor': 'center', 'yanchor': 'top' },xaxis_title=\"Perfumes\",yaxis_title=\"Prices\")\n",
    "fig.show()"
   ]
  },
  {
   "cell_type": "code",
   "execution_count": 33,
   "id": "5900fdcd",
   "metadata": {},
   "outputs": [
    {
     "data": {
      "application/vnd.plotly.v1+json": {
       "config": {
        "plotlyServerURL": "https://plot.ly"
       },
       "data": [
        {
         "autobinx": false,
         "histnorm": "probability density",
         "legendgroup": "Men",
         "marker": {
          "color": "rgb(31, 119, 180)"
         },
         "name": "Men",
         "opacity": 0.7,
         "type": "histogram",
         "x": [
          -1.6,
          -3,
          -3.9,
          -0.6000000000000001,
          -2.8,
          -3.2,
          -3.4,
          -1.6,
          -1.2999999999999998,
          -3.9,
          -3.6,
          -2,
          -3.2,
          -3.3,
          -3.2,
          -2.9,
          -2.5,
          -3.5,
          -2.9,
          0.09999999999999964,
          -2,
          -2.3,
          0.7999999999999998,
          -1.7999999999999998,
          -1.9,
          -3.9,
          -3,
          -2.2,
          -2,
          0.09999999999999964,
          -3.2,
          -2.7,
          -2.6,
          -2.2,
          -2.3,
          -1.7999999999999998,
          -0.6000000000000001,
          -2.3,
          -2,
          -1.7999999999999998,
          -1.7000000000000002,
          -2.7,
          -2.8,
          -3.2,
          -3.2,
          -2.8,
          -3.1,
          -1.9,
          -3.6,
          -3.1,
          -3.2,
          -1.6,
          -2.4,
          -3,
          -3.1,
          -2.6,
          -2.3,
          -3.9,
          -3.3,
          -2.1,
          -3.2,
          -3,
          -2.7,
          -3.2,
          -2.9,
          -1.4,
          -2.3,
          -3.1,
          -2.7,
          -2.6,
          -3.1,
          -3.1,
          -2.8,
          -3.6,
          -0.2999999999999998,
          -2.8,
          -3.2,
          -3.4,
          -2.2,
          -2.9,
          -2.9,
          -3,
          -3.3,
          -2.1,
          -0.7999999999999998,
          -3.6,
          -1.4,
          -3.2,
          -2,
          0.20000000000000018,
          -3.3,
          -2.5,
          -2.9,
          -2.8,
          0.7000000000000002,
          -3.6,
          -2.8,
          -0.7000000000000002,
          -3.5,
          -3,
          -3.5,
          -1.6,
          -3.6,
          -3.5,
          -2.5,
          -3.7,
          -3,
          -3.4,
          -2.1,
          -3.7,
          -3.7,
          -1.7000000000000002,
          -2.9,
          -2,
          -2.6,
          -2.6,
          -0.8999999999999999,
          -2.7,
          -2.8,
          -2.3,
          -1.7000000000000002,
          -2.6,
          -3.4,
          -3,
          -3.4,
          -2.2,
          0.7999999999999998,
          -2.7,
          -2.8,
          -3.2,
          -2.6,
          3.2,
          -3.5,
          -3.2,
          -3.1,
          -3.5,
          0.7000000000000002,
          -1.2000000000000002,
          -2,
          -3.9,
          -1.4,
          -2.7,
          -2.6,
          -3.1,
          -1.7999999999999998,
          -1.5,
          -0.6000000000000001,
          -2.6,
          -3.2,
          0.20000000000000018,
          -2.4,
          3.5999999999999996,
          -3.4,
          -1.2999999999999998,
          -2.2,
          -2.9,
          -2.4,
          -3.1,
          -3,
          -2.6,
          -2,
          -2.1,
          -2.6,
          -2.8,
          -2.1,
          -1.7999999999999998,
          -2.9,
          1.2000000000000002,
          -3.4,
          -1.7999999999999998,
          -2.7,
          -2.6,
          -2.7,
          -2.6,
          -3.9,
          -2.7,
          -2.5,
          -2.5,
          -2.6,
          -3.1,
          -1.4,
          -1.7000000000000002,
          -3.3,
          -2,
          -2.5,
          -2,
          -3.2,
          -1.9,
          0.20000000000000018,
          -2.4,
          -3.4,
          -3.5,
          1.9000000000000004,
          -2.9,
          -3.1,
          -3,
          -3.9,
          0,
          -2.4,
          -2.3,
          -1.9,
          -3.9,
          -3.2,
          -2.4,
          -3.9,
          -3.2,
          -2.6,
          -2.8,
          -3,
          -2.9,
          -2.4,
          -3.5,
          -2.5,
          -3.1,
          -3.4,
          -3.1,
          -2.7,
          -2.4,
          -2.6,
          -2.9,
          -3,
          -2.4,
          -3.4,
          -0.8999999999999999,
          -2.4,
          -2.6,
          -2.3,
          -2.8,
          -2.7,
          -2.6,
          3,
          -0.2999999999999998,
          -3.5,
          -3.1,
          -2.5,
          -2,
          -2.2,
          -3.7,
          -3.2,
          7.800000000000001,
          -2.7,
          -1.6,
          -2.6,
          -3.5,
          -0.7999999999999998,
          -2.9,
          -0.2999999999999998,
          -3.2,
          -3.3,
          -3.4,
          -3,
          -3,
          -1.1,
          -2,
          -2.8,
          -3.9,
          -1.2000000000000002,
          -0.5,
          -2,
          -3.3,
          -2.6,
          -3,
          -0.6000000000000001,
          -3,
          -3.2,
          -2.2,
          -3.4,
          -3.1,
          -2.7,
          -2.3,
          -3.7,
          -2.7,
          -2.6,
          -2.3,
          -2.9,
          -2.8,
          -1.5,
          -2.7,
          -3.9,
          0.5,
          -2.7,
          -3,
          -3.1,
          -2.4,
          -2.3,
          -3.5,
          -2.2,
          -2.1,
          -2.4,
          -1.2999999999999998,
          -3.1,
          -2,
          -3,
          -3.6,
          -3.6,
          -3.1,
          -2.1,
          -3.7,
          -3.6,
          -2.2,
          -3.3,
          -2.6,
          -3.5,
          -1.6,
          -3.9,
          0.20000000000000018,
          -3.4,
          -3.1,
          -2.3,
          -3.4,
          -3.2,
          -3.6,
          -2.4,
          -2.6,
          -2.8,
          -3.2,
          -3.1,
          -1.6,
          -1.6,
          -3.5,
          -2.8,
          -0.2999999999999998,
          -2.1,
          -3.4,
          -3.7,
          -3.6,
          -3.3,
          -3,
          -3.2,
          -2.7,
          -2.6,
          -3.2,
          -2.1,
          -2.7,
          -3,
          -2.7,
          2.5,
          -0.7999999999999998,
          -2.9,
          -2.1,
          -3,
          -3,
          -3.6,
          -2.9,
          -3.3,
          -2.4,
          -3.2,
          -2.7,
          -2,
          -2.9,
          -3.9,
          -2.4,
          -2.8,
          -2.7,
          -3.3,
          -2.8,
          -3.9,
          -2.7,
          -3.8,
          -3.6,
          -1.4,
          -3.2,
          -3.3,
          -3,
          -1.9,
          -3.6,
          -3.6,
          -3.7,
          -2.2,
          -2.3,
          -2.5,
          -2.2,
          -3.9,
          -1.9,
          -2.8,
          -3.2,
          -2.1,
          -2.6,
          -1.9,
          -3,
          -2,
          -2.7,
          -3.1,
          -3.1,
          -3.3,
          -3.5,
          -3,
          -3.3,
          -3,
          -3.2,
          -2.9,
          -2.8,
          -2.5,
          -2.7,
          -2.5,
          -3.2,
          -3.3,
          -3.1,
          -1.7999999999999998,
          -1.2000000000000002,
          -1.4,
          -3.1,
          -3.3,
          -1.2999999999999998,
          -3.9,
          -3.1,
          -3.6,
          -2.7,
          -2.3,
          -1.9,
          -3.6,
          -2.5,
          -3.9,
          -3.2,
          -2.1,
          -0.7000000000000002,
          -3,
          -3.3,
          -2.4,
          -1.9,
          -3.2,
          -1.7999999999999998,
          -3,
          -3.7,
          -3,
          -3.2,
          -2.9,
          -2.8,
          -2.5,
          -2.5,
          -2,
          -2.6,
          -3.1
         ],
         "xaxis": "x",
         "xbins": {
          "end": 7.800000000000001,
          "size": 0.5,
          "start": -3.9
         },
         "yaxis": "y"
        },
        {
         "autobinx": false,
         "histnorm": "probability density",
         "legendgroup": "Women",
         "marker": {
          "color": "rgb(255, 127, 14)"
         },
         "name": "Women",
         "opacity": 0.7,
         "type": "histogram",
         "x": [
          2.2,
          1.9,
          1.9,
          4.4,
          2.5,
          3.7,
          3.1,
          0.8,
          1.7,
          2,
          0.4,
          0.9,
          3.1,
          1.7,
          2.3,
          2.9,
          1.9,
          3.3,
          2.9,
          1.3,
          3.3,
          1.5,
          0.4,
          2.5,
          0.7,
          0.3,
          1.7,
          1.4,
          2.6,
          1.3,
          2.6,
          4.6,
          5.8,
          1,
          3.7,
          0.3,
          1,
          1.7,
          0.1,
          3,
          1.5,
          2.4,
          2.7,
          2.1,
          4.3,
          1,
          2.2,
          1.4,
          1.5,
          0.1,
          1.6,
          0.3,
          1,
          0.8,
          1.2,
          2,
          2.6,
          1.3,
          1.9,
          2,
          1.7,
          1,
          3,
          1.5,
          2,
          4.6,
          3.7,
          1.5,
          0.6,
          1.4,
          2.5,
          1.2,
          2.8,
          1.5,
          1.9,
          1.6,
          3.1,
          2.2,
          1.6,
          1.2,
          1.3,
          3.3,
          2.4,
          1.3,
          2,
          1.6,
          1.3,
          0.4,
          0.8,
          4.4,
          2.4,
          1.6,
          4,
          9,
          1.4,
          0.9,
          1.6,
          1,
          3.3,
          2.8,
          0.5,
          0.3,
          2,
          0.5,
          2.2,
          0.7,
          5.1,
          0.6,
          7.1,
          1.9,
          0.9,
          1.2,
          6,
          1.4,
          2.4,
          2.4,
          4.7,
          4,
          4,
          3.9,
          4,
          1.1,
          1.9,
          0.1,
          1.9,
          2.8,
          0.9,
          0.3,
          3.2,
          2.1,
          1.4,
          1.1,
          0.3,
          1,
          4.8,
          4.4,
          2,
          0.9,
          0.4,
          2.9,
          1.7,
          1.5,
          1.8,
          1,
          1.4,
          0.7,
          1,
          3.2,
          3.4,
          2.7,
          1.5,
          1.6,
          2.2,
          0.3,
          3.9,
          2.3,
          1.7,
          4.3,
          7.5,
          1.7,
          3.2,
          1.9,
          1,
          2.7,
          3.2,
          2.6,
          0.9,
          2,
          2.5,
          4.6,
          3.3,
          3.6,
          1.9,
          1.2,
          2.9,
          0.1,
          1.9,
          4.6,
          1.7,
          2.2,
          2.7,
          0.4,
          1.1,
          1.7,
          2.5,
          0.4,
          1.9,
          0.1,
          2.2,
          1.1,
          2,
          3.8,
          1.4,
          0.1,
          2.1,
          2,
          1.8,
          1.5,
          0.1,
          1.5,
          2,
          1.4,
          1.8,
          1.3,
          1.8,
          1.2,
          2,
          3.1,
          2.8,
          2.5,
          1.3,
          1.4,
          1.4,
          0.9,
          1.5,
          2.6,
          2.7,
          0.8,
          5.3,
          1.4,
          2.2,
          0.8,
          1.1,
          2.8,
          1.5,
          2.4,
          0.8,
          3.6,
          0.1,
          2.2,
          4.6,
          1.1,
          1.1,
          1,
          3.9,
          1.5,
          2,
          0.4,
          1.6,
          4.2,
          2.2,
          4.4,
          1.9,
          1.7,
          1.1,
          0.8,
          0.7,
          1.6,
          1.9,
          1.6,
          3.3,
          2.8,
          1.5,
          4.1,
          1.6,
          1.1,
          0.7,
          0.7,
          2.5,
          1.5,
          1.7,
          0.8,
          1.1,
          0.6,
          3.1,
          2.8,
          1.4,
          2.4,
          2.1,
          1.7,
          10.5,
          2.6,
          1.9,
          3.2,
          2.8,
          2.2,
          2.6,
          1.2,
          3.5,
          1.9,
          0.1,
          1.7,
          1.1,
          2.5,
          2.5,
          3.1,
          3.6,
          1.8,
          0.5,
          1.2,
          1.5,
          1.5,
          0.1,
          0.6,
          2.6,
          1.4,
          1.8,
          4.8,
          1.9,
          2.1,
          1.1,
          4.2,
          1.6,
          3.1,
          2.6,
          1.1,
          4.8,
          2.9,
          2.9,
          2.8,
          1.5,
          1.9,
          0.1,
          1.8,
          2.2,
          0.8,
          2.1,
          1.7,
          2.9,
          0.8,
          1.5,
          0.8,
          1.2,
          0.1,
          2,
          3.5,
          1.7,
          0.1,
          1.9,
          2.3,
          2.3,
          1.7,
          1.8,
          1,
          2.5,
          1.1,
          0.9,
          1.2,
          4.4,
          2,
          0.9,
          4.1,
          2.3,
          1.3,
          1.2,
          2.3,
          2.6,
          1.8,
          1.3,
          0.8,
          1.2,
          0.6,
          0.2,
          1.7,
          0.8,
          2,
          1.9,
          2,
          2.8,
          0.4,
          1.3,
          1.7,
          1,
          0.4,
          1.1,
          0.1,
          0.9,
          1.3,
          2.3,
          0.8,
          2.1,
          2.3,
          2.9,
          0.7,
          0.3,
          1.1,
          0.1,
          2.9,
          4.3,
          0.1,
          1.1,
          0.8,
          1.8,
          0.8,
          3.2,
          2,
          2.1,
          0.4,
          2.4,
          0.9,
          3.4,
          1.4,
          3,
          0.9,
          2.7,
          4.1,
          1.4,
          1.2,
          1.6,
          1,
          6.5,
          1.9,
          0.1,
          1.8,
          2,
          2.8,
          0.4,
          2.1,
          1,
          1.7,
          0.5,
          4.2,
          0.4,
          0.1,
          0.9,
          2.5,
          2.4,
          2,
          2.3,
          0.6,
          2.1,
          2.3,
          2.4,
          1.6,
          0.3,
          7.2,
          1.7,
          1.9,
          4.4,
          1.1,
          2.3,
          3.3,
          2.9,
          3.2,
          1.9,
          3.3,
          2.4,
          1.4,
          0.8,
          1.9,
          0.8,
          2.2,
          2.1,
          1.2,
          2.6,
          1.6,
          1.7,
          3,
          1.9,
          1.5,
          2.4,
          2.3,
          2.2,
          1.4,
          0.8,
          1.5,
          1.4,
          0.3,
          1.6,
          2.1,
          3,
          6.9,
          6.9,
          1.9,
          6.7,
          6.7,
          0.8,
          1.5,
          0.3,
          1.8,
          0.1,
          1.4,
          2.1,
          3.6,
          2.2,
          4.2,
          4.6,
          0.1,
          2.5,
          2.4,
          2,
          0.8,
          2.4,
          1.9,
          1.8,
          4.4,
          3.1,
          3.3,
          1.9,
          3.3,
          2.4,
          2.1,
          1.7,
          1.4,
          2.2,
          1.2,
          1.4,
          2,
          1.9,
          2.2,
          0.8,
          1.5,
          0.3
         ],
         "xaxis": "x",
         "xbins": {
          "end": 10.5,
          "size": 0.5,
          "start": 0.1
         },
         "yaxis": "y"
        },
        {
         "autobinx": false,
         "histnorm": "probability density",
         "legendgroup": "Unisex",
         "marker": {
          "color": "rgb(44, 160, 44)"
         },
         "name": "Unisex",
         "opacity": 0.7,
         "type": "histogram",
         "x": [
          5.9,
          4.3,
          6.5,
          13.3,
          4.5,
          4.7,
          5.4,
          4.1,
          5.4,
          4.7,
          4.4,
          4.1,
          4.1,
          4.4,
          5.7,
          5.5,
          6.1,
          5,
          4.4,
          4.4,
          4.6,
          4.2,
          4.5,
          4.6,
          6.2,
          4.1,
          4.5,
          4.2,
          7.2,
          4.9,
          7.5,
          4.1,
          4.6,
          4.4,
          10.4,
          10.5,
          6.6,
          5.2,
          7,
          4.5,
          4.1,
          6.2,
          4.5,
          4.3,
          5.9,
          4.9,
          4.3,
          4.6,
          4.1,
          8.8,
          4.5,
          4.3,
          4.5,
          4.4,
          5.3,
          4.4,
          4.3,
          6.2,
          4.6,
          4.3,
          4.6,
          4.5,
          4.4,
          6.2,
          4.3,
          4.6,
          9.1
         ],
         "xaxis": "x",
         "xbins": {
          "end": 13.3,
          "size": 0.5,
          "start": 4.1
         },
         "yaxis": "y"
        },
        {
         "legendgroup": "Men",
         "marker": {
          "color": "rgb(31, 119, 180)"
         },
         "mode": "lines",
         "name": "Men",
         "showlegend": false,
         "type": "scatter",
         "x": [
          -3.9,
          -3.8766,
          -3.8531999999999997,
          -3.8298,
          -3.8064,
          -3.783,
          -3.7596,
          -3.7361999999999997,
          -3.7128,
          -3.6894,
          -3.666,
          -3.6426,
          -3.6191999999999998,
          -3.5957999999999997,
          -3.5724,
          -3.549,
          -3.5256,
          -3.5021999999999998,
          -3.4787999999999997,
          -3.4554,
          -3.432,
          -3.4086,
          -3.3851999999999998,
          -3.3617999999999997,
          -3.3384,
          -3.315,
          -3.2916,
          -3.2681999999999998,
          -3.2447999999999997,
          -3.2214,
          -3.198,
          -3.1746,
          -3.1512,
          -3.1277999999999997,
          -3.1044,
          -3.081,
          -3.0576,
          -3.0342,
          -3.0107999999999997,
          -2.9873999999999996,
          -2.9639999999999995,
          -2.9406,
          -2.9172,
          -2.8937999999999997,
          -2.8704,
          -2.847,
          -2.8236,
          -2.8002,
          -2.7767999999999997,
          -2.7534,
          -2.73,
          -2.7066,
          -2.6832,
          -2.6597999999999997,
          -2.6364,
          -2.6129999999999995,
          -2.5896,
          -2.5662,
          -2.5427999999999997,
          -2.5194,
          -2.4959999999999996,
          -2.4726,
          -2.4492,
          -2.4257999999999997,
          -2.4024,
          -2.3789999999999996,
          -2.3556,
          -2.3322,
          -2.3087999999999997,
          -2.2854,
          -2.2619999999999996,
          -2.2386,
          -2.2152,
          -2.1917999999999997,
          -2.1684,
          -2.1449999999999996,
          -2.1216,
          -2.0981999999999994,
          -2.0747999999999998,
          -2.0513999999999997,
          -2.0279999999999996,
          -2.0046,
          -1.9811999999999996,
          -1.9577999999999995,
          -1.9343999999999997,
          -1.9109999999999996,
          -1.8876,
          -1.8641999999999999,
          -1.8407999999999998,
          -1.8173999999999997,
          -1.794,
          -1.7706,
          -1.7471999999999999,
          -1.7237999999999998,
          -1.7003999999999997,
          -1.677,
          -1.6536,
          -1.6301999999999999,
          -1.6067999999999998,
          -1.5833999999999997,
          -1.56,
          -1.5366,
          -1.5131999999999999,
          -1.4897999999999998,
          -1.4663999999999997,
          -1.443,
          -1.4196,
          -1.3961999999999999,
          -1.3727999999999998,
          -1.3493999999999997,
          -1.3259999999999996,
          -1.3026,
          -1.2792,
          -1.2557999999999998,
          -1.2323999999999997,
          -1.2089999999999996,
          -1.1856,
          -1.1622,
          -1.1387999999999998,
          -1.1153999999999997,
          -1.0919999999999996,
          -1.0686,
          -1.0452,
          -1.0217999999999998,
          -0.9983999999999997,
          -0.9749999999999996,
          -0.9516,
          -0.9281999999999999,
          -0.9047999999999998,
          -0.8813999999999997,
          -0.8579999999999997,
          -0.8346,
          -0.8111999999999999,
          -0.7877999999999998,
          -0.7643999999999997,
          -0.7409999999999997,
          -0.7176,
          -0.6941999999999999,
          -0.6707999999999998,
          -0.6473999999999998,
          -0.6239999999999997,
          -0.6006,
          -0.5771999999999999,
          -0.5537999999999998,
          -0.5303999999999998,
          -0.5069999999999997,
          -0.48360000000000003,
          -0.46019999999999994,
          -0.43679999999999986,
          -0.41339999999999977,
          -0.38999999999999924,
          -0.36659999999999915,
          -0.34319999999999995,
          -0.3197999999999994,
          -0.29639999999999933,
          -0.27299999999999924,
          -0.24959999999999916,
          -0.2261999999999995,
          -0.20279999999999943,
          -0.17939999999999934,
          -0.15599999999999925,
          -0.13259999999999916,
          -0.10919999999999952,
          -0.08579999999999943,
          -0.062399999999999345,
          -0.03899999999999926,
          -0.01559999999999917,
          0.007800000000000473,
          0.03120000000000056,
          0.05460000000000065,
          0.07800000000000074,
          0.10140000000000038,
          0.12480000000000002,
          0.14820000000000055,
          0.1716000000000002,
          0.19500000000000073,
          0.21840000000000037,
          0.24180000000000001,
          0.26520000000000055,
          0.2886000000000002,
          0.31199999999999983,
          0.33540000000000036,
          0.3588,
          0.38220000000000054,
          0.4056000000000002,
          0.4289999999999998,
          0.45240000000000036,
          0.4758,
          0.49920000000000053,
          0.5226000000000002,
          0.5459999999999998,
          0.5694000000000004,
          0.5928,
          0.6162000000000005,
          0.6396000000000002,
          0.6629999999999998,
          0.6864000000000003,
          0.7098,
          0.7332000000000005,
          0.7566000000000002,
          0.7799999999999998,
          0.8034000000000003,
          0.8268,
          0.8502000000000005,
          0.8736000000000002,
          0.8969999999999998,
          0.9204000000000003,
          0.9438,
          0.9672000000000005,
          0.9906000000000001,
          1.0139999999999998,
          1.0374000000000003,
          1.0608,
          1.0842000000000005,
          1.1076000000000001,
          1.1310000000000007,
          1.1544000000000003,
          1.1778,
          1.2012000000000005,
          1.2246000000000001,
          1.2480000000000007,
          1.2714000000000003,
          1.2948,
          1.3182000000000005,
          1.3416000000000001,
          1.3650000000000007,
          1.3884000000000003,
          1.4118,
          1.4352000000000005,
          1.4586000000000001,
          1.4820000000000007,
          1.5054000000000003,
          1.5288,
          1.5522000000000005,
          1.5756000000000001,
          1.5990000000000006,
          1.6224000000000003,
          1.6458,
          1.6692000000000005,
          1.6926,
          1.7160000000000006,
          1.7394000000000003,
          1.7628,
          1.7862000000000005,
          1.8096,
          1.8330000000000006,
          1.8564000000000003,
          1.8798,
          1.9032000000000004,
          1.9266,
          1.9500000000000006,
          1.9734000000000003,
          1.9968,
          2.0202000000000004,
          2.0436,
          2.0670000000000006,
          2.0904000000000003,
          2.1138,
          2.1372000000000004,
          2.1606,
          2.1840000000000006,
          2.2074000000000003,
          2.2308,
          2.2542000000000004,
          2.2776,
          2.3010000000000006,
          2.3244000000000002,
          2.3478,
          2.3712000000000004,
          2.3946,
          2.4180000000000006,
          2.4414000000000002,
          2.4648,
          2.4882000000000004,
          2.5116,
          2.5350000000000006,
          2.5584000000000002,
          2.5818,
          2.6052000000000004,
          2.6286,
          2.6520000000000006,
          2.6754000000000002,
          2.6988,
          2.7222000000000004,
          2.7456,
          2.7690000000000006,
          2.7924,
          2.8158,
          2.8392000000000004,
          2.8626,
          2.8860000000000006,
          2.9094,
          2.9328,
          2.9562000000000004,
          2.9796,
          3.0030000000000006,
          3.0264,
          3.0498,
          3.0732000000000004,
          3.0966,
          3.1200000000000014,
          3.1434,
          3.1668000000000016,
          3.1902000000000013,
          3.2136,
          3.2370000000000014,
          3.260400000000001,
          3.2838000000000016,
          3.3072000000000012,
          3.330600000000001,
          3.3540000000000014,
          3.377400000000001,
          3.4008000000000016,
          3.4242000000000012,
          3.447600000000001,
          3.4710000000000014,
          3.494400000000001,
          3.5178000000000016,
          3.5412000000000012,
          3.564600000000001,
          3.5880000000000014,
          3.611400000000001,
          3.6348000000000016,
          3.6582000000000012,
          3.681600000000001,
          3.7050000000000014,
          3.728400000000001,
          3.7518000000000016,
          3.775200000000001,
          3.798600000000001,
          3.8220000000000014,
          3.845400000000001,
          3.8688000000000016,
          3.892200000000001,
          3.915600000000001,
          3.9390000000000014,
          3.962400000000001,
          3.9858000000000016,
          4.009200000000002,
          4.0326,
          4.056000000000001,
          4.0794000000000015,
          4.1028,
          4.126200000000001,
          4.1495999999999995,
          4.173,
          4.196400000000001,
          4.219800000000001,
          4.2432,
          4.2666,
          4.290000000000001,
          4.3134000000000015,
          4.3368,
          4.360200000000001,
          4.3835999999999995,
          4.407,
          4.430400000000001,
          4.453800000000001,
          4.4772,
          4.5006,
          4.523999999999999,
          4.547400000000001,
          4.5708,
          4.594200000000001,
          4.6175999999999995,
          4.641,
          4.6644000000000005,
          4.687800000000001,
          4.7112,
          4.7346,
          4.757999999999999,
          4.781400000000001,
          4.8048,
          4.828200000000001,
          4.8515999999999995,
          4.875,
          4.8984000000000005,
          4.921800000000001,
          4.9452,
          4.9686,
          4.991999999999999,
          5.015400000000001,
          5.0388,
          5.062200000000001,
          5.0855999999999995,
          5.109,
          5.1324000000000005,
          5.155800000000001,
          5.1792,
          5.2026,
          5.225999999999999,
          5.249400000000001,
          5.2728,
          5.296200000000001,
          5.319599999999999,
          5.343,
          5.3664000000000005,
          5.389800000000001,
          5.4132,
          5.4366,
          5.459999999999999,
          5.483400000000001,
          5.5068,
          5.530200000000001,
          5.553599999999999,
          5.577,
          5.6004000000000005,
          5.623800000000001,
          5.6472,
          5.6706,
          5.693999999999999,
          5.717400000000001,
          5.7408,
          5.764200000000001,
          5.787599999999999,
          5.811,
          5.8344000000000005,
          5.857800000000001,
          5.8812,
          5.9046,
          5.927999999999999,
          5.951400000000001,
          5.9748,
          5.998200000000001,
          6.021599999999999,
          6.045,
          6.0684000000000005,
          6.091800000000001,
          6.1152,
          6.1386,
          6.162000000000001,
          6.185400000000001,
          6.2088,
          6.232200000000001,
          6.255599999999999,
          6.279000000000002,
          6.3024000000000004,
          6.325800000000001,
          6.3492,
          6.3726,
          6.396000000000001,
          6.419400000000001,
          6.4428,
          6.466200000000001,
          6.489599999999999,
          6.513000000000002,
          6.5364,
          6.559800000000001,
          6.5832,
          6.6066,
          6.630000000000001,
          6.653400000000001,
          6.6768,
          6.700200000000001,
          6.723599999999999,
          6.747000000000002,
          6.7704,
          6.793800000000001,
          6.8172,
          6.8406,
          6.864000000000001,
          6.887400000000001,
          6.9108,
          6.934200000000001,
          6.957599999999999,
          6.981000000000002,
          7.0044,
          7.027800000000001,
          7.0512,
          7.0746,
          7.098000000000001,
          7.121400000000001,
          7.1448,
          7.168200000000001,
          7.191599999999999,
          7.215000000000002,
          7.2384,
          7.261800000000001,
          7.2852,
          7.3086,
          7.332000000000001,
          7.355400000000001,
          7.3788,
          7.402200000000001,
          7.425599999999999,
          7.449000000000002,
          7.4724,
          7.495800000000001,
          7.5192,
          7.5426,
          7.566000000000001,
          7.589400000000001,
          7.6128,
          7.6362000000000005,
          7.659599999999999,
          7.683000000000002,
          7.7064,
          7.729800000000001,
          7.7532,
          7.7766
         ],
         "xaxis": "x",
         "y": [
          0.16341885767233863,
          0.1731898587465795,
          0.18319378406092596,
          0.19341567972478743,
          0.20383971727208644,
          0.2144491672942145,
          0.2252263585386195,
          0.23615262499291026,
          0.24720824434431457,
          0.25837237196608703,
          0.2696229751985627,
          0.2809367731301075,
          0.2922891873159681,
          0.30365430888217876,
          0.3150048872376327,
          0.3263123451600262,
          0.3375468243407688,
          0.3486772645903857,
          0.3596715188491779,
          0.37049650495648295,
          0.38111839385175417,
          0.39150283256275137,
          0.40161519903530885,
          0.4114208846303182,
          0.42088559901034744,
          0.4299756912097516,
          0.4386584799699043,
          0.4469025859581744,
          0.45467825829699604,
          0.4619576879166972,
          0.4687153006086763,
          0.47492802327663003,
          0.48057551773297547,
          0.48564037742469474,
          0.49010828364764586,
          0.4939681190651841,
          0.49721203762639066,
          0.49983549122242826,
          0.5018372145707604,
          0.5032191708272703,
          0.5039864612557781,
          0.5041472029047521,
          0.5037123786369956,
          0.5026956640275707,
          0.5011132356003302,
          0.498983564637715,
          0.4963272004068123,
          0.4931665461393877,
          0.4895256305323921,
          0.4854298769477372,
          0.4809058719334974,
          0.47598113420628463,
          0.47068388486149326,
          0.4650428193397526,
          0.459086881588144,
          0.4528450409148281,
          0.44634607223495615,
          0.43961834072197176,
          0.43268959227971104,
          0.425586751697893,
          0.41833573080291536,
          0.4109612493221479,
          0.4034866714994579,
          0.3959338616940953,
          0.388323062232837,
          0.38067279664509424,
          0.37299980108229447,
          0.365318986208319,
          0.3576434311611256,
          0.3499844103527806,
          0.34235145293152613,
          0.3347524337189854,
          0.32719369340730636,
          0.31968018480657173,
          0.31221564102352434,
          0.30480276067613976,
          0.2974434046467046,
          0.29013879848146495,
          0.2828897343805601,
          0.27569676679835925,
          0.2685603959903075,
          0.26148123438431276,
          0.2544601513976238,
          0.24749839322932163,
          0.24059767519091557,
          0.23376024524481429,
          0.22698891855074374,
          0.22028708392182336,
          0.21365868411521258,
          0.20710817278227744,
          0.20064045164237274,
          0.1942607919936563,
          0.18797474501485087,
          0.18178804543556576,
          0.17570651306226978,
          0.16973595635560648,
          0.16388208178504474,
          0.15815041206963018,
          0.15254621568586102,
          0.14707444922660867,
          0.14173971337174077,
          0.13654622242461897,
          0.13149778661941078,
          0.12659780574833623,
          0.12184927212558407,
          0.11725478051836709,
          0.11281654244977389,
          0.10853640221831966,
          0.10441585208220093,
          0.10045604431073897,
          0.09665779819225667,
          0.09302160058147206,
          0.08954759914013374,
          0.08623558803884597,
          0.08308498651107706,
          0.08009481124798008,
          0.07726364416265624,
          0.074589597506487,
          0.07207027866466202,
          0.06970275717572615,
          0.06748353660027262,
          0.06540853380342002,
          0.0634730680180422,
          0.06167186173135004,
          0.05999905500275358,
          0.05844823429748481,
          0.05701247633361569,
          0.05568440681778261,
          0.05445627331607833,
          0.053320030899954116,
          0.052267438649534675,
          0.05129016461269614,
          0.050379896427765164,
          0.04952845453640997,
          0.04872790475151359,
          0.04797066690753121,
          0.047249616407522524,
          0.04655817568612837,
          0.045890392920956195,
          0.04524100573196153,
          0.044605488092101214,
          0.043980079213153396,
          0.04336179374720684,
          0.042748413235459255,
          0.0421384593206195,
          0.0415311497974414,
          0.040926339089568047,
          0.04032444519401191,
          0.03972636551394822,
          0.03913338429560763,
          0.0385470745884942,
          0.03796919775551727,
          0.03740160356948928,
          0.036846133846306174,
          0.036304532387197226,
          0.03577836373952335,
          0.035268942946881925,
          0.03477727805603751,
          0.03430402669363324,
          0.03384946753450567,
          0.033413486971727774,
          0.03299558078310035,
          0.03259487008693188,
          0.032210130408748976,
          0.031839832256505336,
          0.031482191240138166,
          0.031135225485249364,
          0.030796817891158155,
          0.03046478067837576,
          0.030136919664048627,
          0.029811095796583774,
          0.029485281668951854,
          0.029157611006445212,
          0.028826419477442272,
          0.028490275589998226,
          0.02814800089493564,
          0.02779867919746804,
          0.027441654962960478,
          0.02707652156667381,
          0.026703100461532396,
          0.026321412703274778,
          0.025931644562781502,
          0.025534109158623235,
          0.02512920615092668,
          0.02471738154729953,
          0.024299089584433567,
          0.023874758471613886,
          0.02344476152557396,
          0.02300939490466674,
          0.022568862781816076,
          0.022123270399822925,
          0.02167262504983421,
          0.02121684462442278,
          0.020755773039708866,
          0.02028920151289332,
          0.019816894435918806,
          0.01933861841238178,
          0.018854172928756675,
          0.018363421113594562,
          0.01786631909655922,
          0.017362942606021402,
          0.016853509629234147,
          0.01633839819007919,
          0.0158181585615254,
          0.015293519508004194,
          0.014765388431727025,
          0.014234845562374076,
          0.013703132569116778,
          0.013171636177490067,
          0.012641867533847361,
          0.012115438172651606,
          0.011594033505357256,
          0.011079384765668627,
          0.010573240318630446,
          0.010077337176530624,
          0.009593373470721157,
          0.009122982513878733,
          0.008667708960909905,
          0.008228987447341482,
          0.007808123959469663,
          0.007406280077343268,
          0.007024460134806699,
          0.006663501263516744,
          0.006324066231439077,
          0.006006638950423202,
          0.005711522510091827,
          0.005438839593230742,
          0.005188535136983877,
          0.004960381119794674,
          0.0047539833714357795,
          0.004568790318180299,
          0.004404103583380085,
          0.004259090362548068,
          0.004132797479745932,
          0.004024167008144717,
          0.0039320533027996955,
          0.0038552412498806484,
          0.0037924654867510033,
          0.003742430295098813,
          0.0037038298189797517,
          0.0036753682155004,
          0.00365577931215343,
          0.0036438453252458894,
          0.0036384141914132507,
          0.0036384150808707254,
          0.003642871697652104,
          0.0036509130282100454,
          0.003661781273731443,
          0.003674836790503952,
          0.003689559962767827,
          0.003705550038995257,
          0.003722521070205476,
          0.0037402951922569307,
          0.003758793587657239,
          0.003778025541311931,
          0.0037980760645312936,
          0.003819092599254685,
          0.0038412713277549545,
          0.0038648436013094104,
          0.003890062965124078,
          0.003917193198206465,
          0.003946497709201898,
          0.003978230536833531,
          0.004012629101751572,
          0.004049908751080044,
          0.004090259033732056,
          0.004133841549485242,
          0.004180789133217627,
          0.004231206072144758,
          0.004285169011839856,
          0.004342728188444249,
          0.004403908630554451,
          0.004468711004111702,
          0.004537111825103881,
          0.004609062834607422,
          0.004684489414145699,
          0.004763288011196919,
          0.0048453226391264505,
          0.004930420606872701,
          0.005018367715622215,
          0.005108903227265617,
          0.005201714958301202,
          0.005296434879849345,
          0.005392635607683405,
          0.005489828145231154,
          0.005587461198372426,
          0.005684922315963662,
          0.005781541028014103,
          0.005876594058996346,
          0.0059693125923093865,
          0.006058891459246918,
          0.006144500027839998,
          0.0062252944792326485,
          0.006300431086780104,
          0.006369080059889937,
          0.0064304394836668805,
          0.006483748878278325,
          0.006528301918846291,
          0.00656345789642674,
          0.006588651560795189,
          0.006603401062722847,
          0.006607313802701135,
          0.006600090089534359,
          0.0065815246104414795,
          0.006551505808878927,
          0.006510013352145107,
          0.006457113943512943,
          0.0063929557895975025,
          0.006317762070408581,
          0.006231823775758226,
          0.006135492267320284,
          0.006029171901804469,
          0.005913313009641798,
          0.005788405468442162,
          0.005654973045150177,
          0.005513568609618758,
          0.00536477024974452,
          0.005209178248770298,
          0.005047412822900593,
          0.0048801124654458015,
          0.0047079327049856946,
          0.0045315450612874114,
          0.004351635974719685,
          0.004168905492482531,
          0.003984065517001428,
          0.0037978374563835907,
          0.003610949161302734,
          0.003424131083996549,
          0.003238111649889647,
          0.0030536118873013777,
          0.0028713394125245827,
          0.002691981913362988,
          0.0025162003115801026,
          0.0023446218118324366,
          0.002177833060401285,
          0.0020163736409703668,
          0.0018607301270720052,
          0.001711330892519877,
          0.0015685418535726953,
          0.0014326632815580382,
          0.0013039277843433102,
          0.0011824995116293394,
          0.0010684745948304037,
          0.0009618827894438663,
          0.0008626902482295448,
          0.0007708033188275386,
          0.0006860732308886509,
          0.0006083015162091889,
          0.0005372459911792289,
          0.0004726271240978147,
          0.00041413461025072027,
          0.00036143398445016384,
          0.00031417311312447247,
          0.0002719884249708938,
          0.00023451075950057818,
          0.0002013707353341522,
          0.00017220356370614088,
          0.00014665325624691017,
          0.0001243761988005941,
          0.00010504408402985766,
          0.00008834621425113141,
          0.00007399120191324019,
          0.00006170810812954031,
          0.00005124706961149544,
          0.00004237947128593632,
          0.000034897725983030156,
          0.00002861472412450135,
          0.00002336301565437023,
          0.000018993783910398233,
          0.000015375667122566984,
          0.000012393478130524242,
          0.000009946867099196414,
          0.00000794896581142203,
          0.00000632504581649636,
          0.000005011216554385268,
          0.00000395318374769993,
          0.0000031050829993464907,
          0.0000024283987492803445,
          0.0000018909745842528958,
          0.0000014661173797212099,
          0.0000011317948740372419,
          8.699239997396441e-7,
          6.657455767363062e-7,
          5.072797478430687e-7,
          3.8485574289523233e-7,
          2.90709125823165e-7,
          2.1863954335743945e-7,
          1.63722091872536e-7,
          1.220656933259282e-7,
          9.06122719771524e-8,
          6.697100743083759e-8,
          4.928247063701943e-8,
          3.6107998874624576e-8,
          2.6340210963572634e-8,
          1.913108828924671e-8,
          1.383453896551149e-8,
          9.960814091425306e-9,
          7.1405524690354985e-9,
          5.0965919296916355e-9,
          3.622002180624335e-9,
          2.5630679124206716e-9,
          1.8061848667485483e-9,
          1.267829312896464e-9,
          8.869268708914325e-10,
          6.190838550532311e-10,
          4.322571929303575e-10,
          3.035311789858213e-10,
          2.1674424290902137e-10,
          1.6076962654802368e-10,
          1.283031316990954e-10,
          1.150513861724915e-10,
          1.192475773833568e-10,
          1.414503031859063e-10,
          1.8460690568576609e-10,
          2.5438709436471906e-10,
          3.598174909295169e-10,
          5.142746132256534e-10,
          7.369245052171835e-10,
          1.0547335906901927e-9,
          1.5052194405140966e-9,
          2.1401642892018907e-9,
          3.0305808778415668e-9,
          4.273302392366817e-9,
          5.999669062040592e-9,
          8.386906813780716e-9,
          1.1672941897485044e-8,
          1.6175573385726808e-8,
          2.2317136664706896e-8,
          3.065603899269262e-8,
          4.1926835905979835e-8,
          5.709084680806385e-8,
          7.739968024196572e-8,
          1.0447445297043204e-7,
          1.4040393837403067e-7,
          1.8786536183865053e-7,
          2.502720626734097e-7,
          3.319527476857093e-7,
          4.3836754909154253e-7,
          5.763665406649703e-7,
          7.54496725455087e-7,
          9.833637429200787e-7,
          0.0000012760546021096328,
          0.0000016486275722990135,
          0.0000021206748883963943,
          0.000002715963085603803,
          0.0000034631544935280977,
          0.000004396611621883953,
          0.000005557283790192797,
          0.000006993672333893534,
          0.000008762867015684824,
          0.000010931641862054298,
          0.000013577593537980877,
          0.000016790299610901715,
          0.000020672467724526618,
          0.000025341039939694876,
          0.00003092820949347268,
          0.000037582300226933416,
          0.00004546845224265809,
          0.0000547690513363252,
          0.00006568383481336054,
          0.00007842960289974527,
          0.00009323946355700981,
          0.00011036153958862637,
          0.00013005707093063446,
          0.00015259785235535443,
          0.00017826295780521952,
          0.00020733471742274848,
          0.0002400939321171421,
          0.00027681433309800253,
          0.0003177563199045697,
          0.00036316003953943316,
          0.0004132379006296383,
          0.00046816664911270863,
          0.0005280791646015348,
          0.0005930561679628673,
          0.0006631180592597166,
          0.0007382171294894597,
          0.0008182304079250125,
          0.0009029534178313056,
          0.0009920951155413535,
          0.0010852742802323477,
          0.0011820176034712875,
          0.001281759698330435,
          0.001383845207700124,
          0.0014875331409495683,
          0.0015920035084304813,
          0.0016963662561232755,
          0.0017996724301128687,
          0.001900927425080932,
          0.0019991060954689345,
          0.0020931694354509377,
          0.0021820824674766335,
          0.002264832921933029,
          0.0023404502452200613,
          0.002408024442643752,
          0.0024667242478767807,
          0.002515814113555701,
          0.0025546695383859004,
          0.0025827902846397945,
          0.002599811095104542
         ],
         "yaxis": "y"
        },
        {
         "legendgroup": "Women",
         "marker": {
          "color": "rgb(255, 127, 14)"
         },
         "mode": "lines",
         "name": "Women",
         "showlegend": false,
         "type": "scatter",
         "x": [
          0.1,
          0.1208,
          0.1416,
          0.16240000000000002,
          0.1832,
          0.20400000000000001,
          0.2248,
          0.2456,
          0.26639999999999997,
          0.2872,
          0.308,
          0.3288,
          0.3496,
          0.37040000000000006,
          0.3912,
          0.41200000000000003,
          0.43279999999999996,
          0.4536,
          0.47440000000000004,
          0.4952,
          0.516,
          0.5368,
          0.5576,
          0.5784,
          0.5992000000000001,
          0.62,
          0.6408,
          0.6616,
          0.6824,
          0.7032,
          0.724,
          0.7448,
          0.7656,
          0.7864,
          0.8072,
          0.828,
          0.8488,
          0.8696,
          0.8904,
          0.9112,
          0.9319999999999999,
          0.9528000000000001,
          0.9736,
          0.9944,
          1.0152,
          1.036,
          1.0568000000000002,
          1.0776000000000001,
          1.0984,
          1.1192000000000002,
          1.1400000000000001,
          1.1608,
          1.1816000000000002,
          1.2024000000000001,
          1.2232,
          1.244,
          1.2648000000000001,
          1.2856000000000003,
          1.3064000000000002,
          1.3272000000000002,
          1.348,
          1.3688,
          1.3896000000000002,
          1.4104,
          1.4312,
          1.4520000000000002,
          1.4728,
          1.4936000000000003,
          1.5144000000000002,
          1.5352000000000001,
          1.556,
          1.5768,
          1.5976000000000001,
          1.6184000000000003,
          1.6392000000000002,
          1.6600000000000001,
          1.6808,
          1.7016000000000002,
          1.7224000000000002,
          1.7432,
          1.764,
          1.7848,
          1.8056000000000003,
          1.8264000000000002,
          1.8472000000000002,
          1.868,
          1.8888,
          1.9096000000000002,
          1.9304000000000001,
          1.9512,
          1.9720000000000002,
          1.9928000000000001,
          2.0136000000000003,
          2.0344,
          2.0552,
          2.076,
          2.0968,
          2.1176000000000004,
          2.1384000000000003,
          2.1592000000000002,
          2.18,
          2.2008,
          2.2216,
          2.2424000000000004,
          2.2632000000000003,
          2.2840000000000003,
          2.3048,
          2.3256,
          2.3464,
          2.3672000000000004,
          2.388,
          2.4088000000000003,
          2.4296,
          2.4504,
          2.4712000000000005,
          2.492,
          2.5128000000000004,
          2.5336,
          2.5544000000000002,
          2.5752,
          2.596,
          2.6168000000000005,
          2.6376,
          2.6584000000000003,
          2.6792000000000002,
          2.7,
          2.7208,
          2.7416,
          2.7624,
          2.7832000000000003,
          2.8040000000000003,
          2.8248,
          2.8456,
          2.8664,
          2.8872000000000004,
          2.908,
          2.9288000000000003,
          2.9495999999999998,
          2.9704,
          2.9912000000000005,
          3.012,
          3.0328000000000004,
          3.0536,
          3.0744000000000002,
          3.0952,
          3.116,
          3.1368000000000005,
          3.1576,
          3.1784000000000003,
          3.1992000000000003,
          3.22,
          3.2408,
          3.2616,
          3.2824,
          3.3032000000000004,
          3.3240000000000003,
          3.3448,
          3.3656,
          3.3864,
          3.4072000000000005,
          3.428,
          3.4488000000000003,
          3.4696,
          3.4904,
          3.5112000000000005,
          3.532,
          3.5528000000000004,
          3.5736,
          3.5944000000000003,
          3.6152,
          3.636,
          3.6568,
          3.6776,
          3.6984000000000004,
          3.7192000000000003,
          3.74,
          3.7608,
          3.7816,
          3.8024,
          3.8232000000000004,
          3.8440000000000003,
          3.8648000000000002,
          3.8856,
          3.9064,
          3.9272000000000005,
          3.948,
          3.9688000000000003,
          3.9896,
          4.0104,
          4.0312,
          4.052,
          4.0728,
          4.0936,
          4.1144,
          4.1352,
          4.156,
          4.1768,
          4.1976,
          4.2184,
          4.239199999999999,
          4.26,
          4.2808,
          4.3016,
          4.3224,
          4.3431999999999995,
          4.364,
          4.3848,
          4.4056,
          4.4264,
          4.4472,
          4.468,
          4.4887999999999995,
          4.5096,
          4.5304,
          4.5512,
          4.572,
          4.5927999999999995,
          4.6136,
          4.6344,
          4.6552,
          4.675999999999999,
          4.6968,
          4.7176,
          4.7384,
          4.7592,
          4.779999999999999,
          4.8008,
          4.8216,
          4.8424000000000005,
          4.863199999999999,
          4.8839999999999995,
          4.9048,
          4.9256,
          4.946400000000001,
          4.967199999999999,
          4.9879999999999995,
          5.0088,
          5.0296,
          5.0504,
          5.071199999999999,
          5.092,
          5.1128,
          5.1336,
          5.1544,
          5.175199999999999,
          5.196,
          5.2168,
          5.2376,
          5.2584,
          5.2791999999999994,
          5.3,
          5.3208,
          5.3416,
          5.3624,
          5.3831999999999995,
          5.404,
          5.424799999999999,
          5.4456,
          5.4664,
          5.4872,
          5.508,
          5.5287999999999995,
          5.5496,
          5.5704,
          5.5912,
          5.611999999999999,
          5.6328,
          5.6536,
          5.6744,
          5.6952,
          5.715999999999999,
          5.7368,
          5.7576,
          5.7784,
          5.799199999999999,
          5.819999999999999,
          5.8408,
          5.8616,
          5.8824000000000005,
          5.903199999999999,
          5.9239999999999995,
          5.9448,
          5.9656,
          5.986400000000001,
          6.007199999999999,
          6.028,
          6.0488,
          6.0696,
          6.0904,
          6.111199999999999,
          6.132,
          6.1528,
          6.1736,
          6.1944,
          6.215199999999999,
          6.236,
          6.2568,
          6.2776,
          6.2984,
          6.3191999999999995,
          6.34,
          6.3608,
          6.3816,
          6.4024,
          6.4232,
          6.444,
          6.464799999999999,
          6.4856,
          6.5064,
          6.5272,
          6.548,
          6.5687999999999995,
          6.5896,
          6.6104,
          6.6312,
          6.651999999999999,
          6.6728,
          6.6936,
          6.7144,
          6.7352,
          6.755999999999999,
          6.7768,
          6.7976,
          6.8184000000000005,
          6.839199999999999,
          6.859999999999999,
          6.8808,
          6.9016,
          6.9224000000000006,
          6.943199999999999,
          6.9639999999999995,
          6.9848,
          7.0056,
          7.0264,
          7.047199999999999,
          7.068,
          7.0888,
          7.1096,
          7.1304,
          7.151199999999999,
          7.172,
          7.1928,
          7.2136,
          7.2344,
          7.255199999999999,
          7.276,
          7.2968,
          7.3176,
          7.3384,
          7.3591999999999995,
          7.38,
          7.4008,
          7.4216,
          7.4424,
          7.4632,
          7.484,
          7.5047999999999995,
          7.5256,
          7.5464,
          7.5672,
          7.588,
          7.6088,
          7.6296,
          7.6504,
          7.6712,
          7.691999999999999,
          7.7128,
          7.7336,
          7.7544,
          7.7752,
          7.795999999999999,
          7.8168,
          7.8376,
          7.8584000000000005,
          7.879199999999999,
          7.8999999999999995,
          7.9208,
          7.9416,
          7.962400000000001,
          7.983199999999999,
          8.004,
          8.0248,
          8.0456,
          8.0664,
          8.087200000000001,
          8.107999999999999,
          8.1288,
          8.1496,
          8.1704,
          8.1912,
          8.212,
          8.2328,
          8.2536,
          8.2744,
          8.295200000000001,
          8.315999999999999,
          8.3368,
          8.3576,
          8.3784,
          8.3992,
          8.42,
          8.440800000000001,
          8.4616,
          8.4824,
          8.5032,
          8.524,
          8.5448,
          8.5656,
          8.5864,
          8.6072,
          8.628,
          8.648800000000001,
          8.6696,
          8.690399999999999,
          8.7112,
          8.732,
          8.7528,
          8.7736,
          8.7944,
          8.8152,
          8.836,
          8.856800000000002,
          8.8776,
          8.898399999999999,
          8.9192,
          8.94,
          8.9608,
          8.9816,
          9.0024,
          9.023200000000001,
          9.044,
          9.0648,
          9.0856,
          9.106399999999999,
          9.1272,
          9.148,
          9.168800000000001,
          9.1896,
          9.2104,
          9.231200000000001,
          9.251999999999999,
          9.2728,
          9.2936,
          9.3144,
          9.3352,
          9.356,
          9.376800000000001,
          9.3976,
          9.4184,
          9.4392,
          9.459999999999999,
          9.4808,
          9.5016,
          9.5224,
          9.5432,
          9.564,
          9.584800000000001,
          9.6056,
          9.626399999999999,
          9.6472,
          9.668,
          9.6888,
          9.7096,
          9.7304,
          9.7512,
          9.772,
          9.792800000000002,
          9.8136,
          9.834399999999999,
          9.8552,
          9.876,
          9.8968,
          9.9176,
          9.9384,
          9.959200000000001,
          9.98,
          10.0008,
          10.0216,
          10.042399999999999,
          10.0632,
          10.084,
          10.104800000000001,
          10.1256,
          10.1464,
          10.167200000000001,
          10.187999999999999,
          10.2088,
          10.2296,
          10.250399999999999,
          10.2712,
          10.292,
          10.312800000000001,
          10.3336,
          10.3544,
          10.3752,
          10.395999999999999,
          10.4168,
          10.4376,
          10.4584,
          10.4792
         ],
         "xaxis": "x",
         "y": [
          0.11345123294979842,
          0.1176069789265706,
          0.12176084878311964,
          0.12590916213463726,
          0.1300488819468179,
          0.13417762229101057,
          0.1382936438143184,
          0.14239583711015855,
          0.1464836944436235,
          0.1505572705450507,
          0.15461713342749472,
          0.158664306402845,
          0.16270020266105945,
          0.1667265539323585,
          0.1707453348688647,
          0.17475868485707374,
          0.17876882900363686,
          0.18277800002359457,
          0.18678836270295754,
          0.19080194250829,
          0.19482055977768492,
          0.19884577075451576,
          0.2028788165226867,
          0.2069205806758089,
          0.2109715563094538,
          0.21503182267237403,
          0.21910103155664154,
          0.22317840325527497,
          0.22726273167603134,
          0.23135239797824647,
          0.2354453919017018,
          0.23953933978757436,
          0.24363153815559493,
          0.2477189916016528,
          0.25179845371799003,
          0.2558664697145346,
          0.2599194194343181,
          0.26395355950658045,
          0.2679650634655157,
          0.27195005877701933,
          0.27590465985577867,
          0.27982499631588914,
          0.2837072358741137,
          0.28754760151065867,
          0.29134238268188994,
          0.2950879405674936,
          0.29878070751567565,
          0.3024171810195361,
          0.30599391271134846,
          0.3095074929957361,
          0.312954532054772,
          0.316331638046043,
          0.31963539337733005,
          0.3228623299786563,
          0.3260089045041953,
          0.3290714743841816,
          0.3320462756119761,
          0.33492940309620595,
          0.33771679433470886,
          0.3404042170788302,
          0.342987261556355,
          0.3454613377120215,
          0.3478216778090991,
          0.35006334461678734,
          0.35218124528886924,
          0.35417015092143417,
          0.3560247216637909,
          0.35773953714869167,
          0.359309131907133,
          0.3607280353407109,
          0.36199081574144687,
          0.3630921277762247,
          0.3640267627907396,
          0.3647897012366371,
          0.3653761664855903,
          0.36578167926529476,
          0.36600211193515614,
          0.3660337418134272,
          0.3658733027728334,
          0.3655180343381244,
          0.36496572754625795,
          0.36421476686782656,
          0.36326416753649937,
          0.3621136076911074,
          0.3607634548020624,
          0.3592147859291464,
          0.35746940144049216,
          0.3555298319116486,
          0.35339933801772044,
          0.351081903329177,
          0.3485822200215966,
          0.3459056676094753,
          0.3430582849126524,
          0.3400467355590288,
          0.33687826741729504,
          0.33356066643664833,
          0.3301022054454015,
          0.3265115885255181,
          0.3227978916343689,
          0.31897050018731177,
          0.3150390443446826,
          0.3110133327639141,
          0.30690328558191443,
          0.3027188673849101,
          0.2984700209032755,
          0.2941666021383369,
          0.28981831758802923,
          0.2854346641898873,
          0.28102487254457803,
          0.27659785392282255,
          0.27216215149450684,
          0.26772589615269726,
          0.26329676723870304,
          0.25888195840843886,
          0.2544881488165376,
          0.25012147973367727,
          0.245787536655362,
          0.24149133690731525,
          0.2372373227040051,
          0.23302935957271714,
          0.22887074001584998,
          0.2247641922483468,
          0.22071189381510664,
          0.21671548986405947,
          0.21277611582400371,
          0.20889442421143764,
          0.20507061526710282,
          0.20130447110019406,
          0.19759539299578438,
          0.19394244151883794,
          0.19034437902596496,
          0.18679971417407737,
          0.18330674799342803,
          0.17986362107167747,
          0.1764683613761334,
          0.17311893222386665,
          0.16981327989483472,
          0.166549380372213,
          0.16332528468787766,
          0.160139162350097,
          0.15698934233592915,
          0.15387435114321565,
          0.1507929474170442,
          0.14774415269349497,
          0.14472727783963224,
          0.1417419448130533,
          0.13878810341656225,
          0.1358660427833425,
          0.1329763973944641,
          0.13012014750292844,
          0.12729861391542316,
          0.12451344716326214,
          0.12176661117617459,
          0.11906036165500146,
          0.1163972194204166,
          0.11377993909276617,
          0.11121147353139789,
          0.10869493452892763,
          0.10623355031520601,
          0.1038306204761893,
          0.10148946893327167,
          0.0992133956581491,
          0.09700562781635906,
          0.09486927103890182,
          0.09280726151583625,
          0.09082231958862065,
          0.08891690548974175,
          0.08709317783960134,
          0.0853529554626031,
          0.08369768302812157,
          0.08212840095872898,
          0.0806457199792096,
          0.07924980060688823,
          0.07794033780821073,
          0.07671655096978526,
          0.07557717925570637,
          0.07452048234826557,
          0.0735442464973848,
          0.07264579573637399,
          0.07182200805888526,
          0.0710693362949712,
          0.07038383337357561,
          0.06976118161499328,
          0.06919672566008848,
          0.06868550861342673,
          0.06822231095487387,
          0.06780169175845467,
          0.06741803174797578,
          0.06706557771572023,
          0.06673848783289564,
          0.06643087738791302,
          0.06613686450045055,
          0.06585061537500034,
          0.06556638867666671,
          0.06527857863384039,
          0.06498175649651128,
          0.06467071000496374,
          0.06434048055104342,
          0.06398639774274335,
          0.06360411111229912,
          0.06318961873806542,
          0.0627392925810343,
          0.06224990036783884,
          0.06171862388337988,
          0.06114307356777495,
          0.06052129934411873,
          0.05985179763554375,
          0.05913351456219313,
          0.058365845340972555,
          0.05754862994315782,
          0.05668214509705487,
          0.055767092754691314,
          0.05480458517281204,
          0.05379612678894728,
          0.05274359310273023,
          0.05164920680061644,
          0.05051551138830573,
          0.04934534261908535,
          0.04814179802758134,
          0.046908204896601566,
          0.04564808699945917,
          0.04436513047101718,
          0.043063149167335314,
          0.041746049875975515,
          0.04041779773650111,
          0.03908238222339228,
          0.037743784031452086,
          0.03640594318688592,
          0.035072728685782255,
          0.033747909936004204,
          0.032435130248918295,
          0.031137882594450415,
          0.02985948779724933,
          0.02860307531394902,
          0.027371566692363975,
          0.02616766177371502,
          0.024993827659467102,
          0.023852290425840892,
          0.022745029532339846,
          0.02167377483640232,
          0.020640006095226572,
          0.019644954808475352,
          0.018689608232411985,
          0.01777471537738633,
          0.016900794786691258,
          0.016068143885713825,
          0.015276849685954266,
          0.014526800628676987,
          0.01381769935737146,
          0.013149076216404784,
          0.012520303284706252,
          0.011930608767438431,
          0.01137909158471334,
          0.010864736013820084,
          0.010386426259449407,
          0.009942960844352068,
          0.009533066730131256,
          0.009155413093871871,
          0.00880862470057895,
          0.008491294823554624,
          0.008201997674619375,
          0.007939300313336827,
          0.007701774009101578,
          0.0074880050321970695,
          0.007296604849925754,
          0.007126219701970564,
          0.0069755395256576175,
          0.006843306197216405,
          0.0067283210499920025,
          0.00662945162538523,
          0.006545637607626698,
          0.006475895889844021,
          0.006419324716743271,
          0.006375106849006586,
          0.006342511696551477,
          0.006320896372345442,
          0.006309705625665789,
          0.006308470623568488,
          0.006316806561801467,
          0.006334409101274091,
          0.00636104964317908,
          0.006396569474563307,
          0.0064408728360871624,
          0.006493918984357612,
          0.0065557133419828495,
          0.006626297848761271,
          0.006705740646565086,
          0.006794125247903676,
          0.006891539353281708,
          0.0069980634947881416,
          0.007113759692415684,
          0.007238660315058819,
          0.007372757339708684,
          0.007515992199897863,
          0.007668246407903062,
          0.007829333124654222,
          0.007998989836901886,
          0.008176872283241725,
          0.008362549749463061,
          0.008555501829838495,
          0.008755116724937083,
          0.00896069111891006,
          0.0091714316505937,
          0.00938645796384145,
          0.00960480729388902,
          0.009825440518903928,
          0.010047249579776976,
          0.010269066147236404,
          0.010489671393998347,
          0.010707806711338015,
          0.01092218519451521,
          0.011131503710176587,
          0.011334455351348369,
          0.011529742082002668,
          0.011716087373411092,
          0.011892248638485776,
          0.012057029277863293,
          0.012209290162351312,
          0.012347960390204438,
          0.012472047174142567,
          0.012580644731649255,
          0.01267294207243166,
          0.012748229598511537,
          0.012805904454764896,
          0.012845474590356249,
          0.012866561513955866,
          0.012868901747444053,
          0.012852347003587396,
          0.012816863132550243,
          0.012762527899760751,
          0.01268952767331551,
          0.012598153112567267,
          0.01248879396063908,
          0.012361933052248569,
          0.012218139654364203,
          0.012058062260867121,
          0.01188242096362103,
          0.011691999521274766,
          0.011487637243892512,
          0.011270220806322982,
          0.011040676096305843,
          0.010799960194925231,
          0.01054905357742617,
          0.010288952611893852,
          0.010020662422143188,
          0.009745190169663588,
          0.00946353879788779,
          0.009176701270663723,
          0.008885655325848346,
          0.008591358754626915,
          0.008294745207676611,
          0.007996720520794065,
          0.007698159545209684,
          0.0073999034616000076,
          0.007102757551825263,
          0.006807489398670484,
          0.0065148274813285,
          0.006225460132965322,
          0.005940034826369636,
          0.005659157754283964,
          0.00538339367241377,
          0.005113265975157772,
          0.004849256976633855,
          0.004591808372426228,
          0.004341321860482861,
          0.004098159902592231,
          0.003862646610716934,
          0.003635068745032787,
          0.0034156768127060547,
          0.0032046862581573813,
          0.0030022787367498093,
          0.0028086034644738754,
          0.002623778636282066,
          0.0024478929052765405,
          0.002281006914029178,
          0.0021231548679890096,
          0.0019743461393029156,
          0.0018345668875546987,
          0.0017037816820367484,
          0.0015819351083387189,
          0.0014689533403981455,
          0.0013647456578383729,
          0.0012692058875356381,
          0.0011822137480174079,
          0.0011036360755838233,
          0.0010333279120305766,
          0.0009711334355758249,
          0.0009168867190725623,
          0.000870412302805771,
          0.0008315255730925962,
          0.0008000329424513834,
          0.000775731832187715,
          0.000758410463740136,
          0.0007478474708939403,
          0.0007438113508471501,
          0.0007460597779257113,
          0.0007543388093127749,
          0.0007683820172952239,
          0.0007879095870573255,
          0.0008126274227932793,
          0.0008422263077088178,
          0.0008763811651981309,
          0.0009147504690027823,
          0.0009569758494007169,
          0.00100268194038595,
          0.001051476509370929,
          0.0011029509061997438,
          0.0011566808622678994,
          0.0012122276634091125,
          0.0012691397120753306,
          0.001326954485382688,
          0.0013852008860336868,
          0.0014434019731913495,
          0.0015010780503315524,
          0.001557750077204027,
          0.0016129433635658445,
          0.001666191493584723,
          0.001717040422002649,
          0.0017650526765437863,
          0.0018098115958555415,
          0.0018509255286656378,
          0.0018880319179560797,
          0.0019208011938857314,
          0.0019489404009756272,
          0.001972196488690108,
          0.001990359199935795,
          0.0020032634990390526,
          0.0020107914892831583,
          0.0020128737798756065,
          0.002009490273022606,
          0.002000670353329885,
          0.00198649247372126,
          0.001967083144151831,
          0.0019426153412692953,
          0.0019133063685305783,
          0.0018794152068128357,
          0.0018412394049951621,
          0.0017991115680904355,
          0.001753395507077029,
          0.0017044821194660714,
          0.0016527850727400361,
          0.0015987363640654203,
          0.0015427818291230003,
          0.0014853766705725082,
          0.0014269810726869152,
          0.001368055963210004,
          0.0013090589767085477,
          0.0012504406658392995,
          0.0011926409982884157,
          0.0011360861679446535,
          0.0010811857394222065,
          0.001028330135641336,
          0.0009778884690824802,
          0.0009302067088140788,
          0.0008856061676940866,
          0.0008443822874664409,
          0.0008068036939889535,
          0.0007731114906686957,
          0.0007435187554318028,
          0.0007182102052601341,
          0.0006973419924825007,
          0.000681041598565451,
          0.0006694077940165667,
          0.0006625106370605357,
          0.0006603914888093269,
          0.0006630630285259258,
          0.0006705092590562171,
          0.0006826854993376805,
          0.0006995183678382225,
          0.0007209057675819396,
          0.0007467168898333427,
          0.0007767922593011864,
          0.0008109438486694828,
          0.0008489552941735001,
          0.0008905822466496608,
          0.0009355528938738816,
          0.0009835686899760014,
          0.0010343053262347514,
          0.0010874139746198355,
          0.0011425228311018076,
          0.0011992389800888905,
          0.00125715059450814,
          0.0013158294782013497,
          0.00137483394866523,
          0.0014337120489704978,
          0.0014920050682099301,
          0.001549251340329993,
          0.001604990281980714,
          0.0016587666213599848,
          0.0017101347622053707,
          0.0017586632203562763,
          0.0018039390649004733,
          0.0018455722920264178,
          0.0018832000574803265,
          0.0019164906930808497,
          0.0019451474341314378,
          0.001968911787793805,
          0.001987566477495175,
          0.002000937905133943,
          0.002008898081069785
         ],
         "yaxis": "y"
        },
        {
         "legendgroup": "Unisex",
         "marker": {
          "color": "rgb(44, 160, 44)"
         },
         "mode": "lines",
         "name": "Unisex",
         "showlegend": false,
         "type": "scatter",
         "x": [
          4.1,
          4.118399999999999,
          4.1368,
          4.1552,
          4.1735999999999995,
          4.191999999999999,
          4.2104,
          4.2288,
          4.247199999999999,
          4.2656,
          4.284,
          4.3024,
          4.320799999999999,
          4.3392,
          4.3576,
          4.3759999999999994,
          4.3944,
          4.4128,
          4.4312,
          4.449599999999999,
          4.468,
          4.4864,
          4.5047999999999995,
          4.523199999999999,
          4.5416,
          4.56,
          4.578399999999999,
          4.5968,
          4.6152,
          4.6335999999999995,
          4.652,
          4.6704,
          4.6888,
          4.707199999999999,
          4.7256,
          4.744,
          4.7623999999999995,
          4.780799999999999,
          4.7992,
          4.8176,
          4.835999999999999,
          4.8544,
          4.8728,
          4.8911999999999995,
          4.909599999999999,
          4.928,
          4.9464,
          4.964799999999999,
          4.9832,
          5.0016,
          5.02,
          5.038399999999999,
          5.0568,
          5.0752,
          5.0935999999999995,
          5.112,
          5.1304,
          5.1488,
          5.167199999999999,
          5.1856,
          5.204,
          5.2223999999999995,
          5.2408,
          5.2592,
          5.2776,
          5.295999999999999,
          5.3144,
          5.3328,
          5.3511999999999995,
          5.3696,
          5.388,
          5.4064,
          5.424799999999999,
          5.443199999999999,
          5.4616,
          5.48,
          5.4984,
          5.5168,
          5.5352,
          5.553599999999999,
          5.572,
          5.5904,
          5.6088,
          5.6272,
          5.6456,
          5.664,
          5.6823999999999995,
          5.7008,
          5.7192,
          5.7376,
          5.756,
          5.7744,
          5.7928,
          5.8111999999999995,
          5.829599999999999,
          5.848,
          5.8664,
          5.8848,
          5.9032,
          5.9216,
          5.9399999999999995,
          5.9584,
          5.9768,
          5.9952,
          6.0136,
          6.032,
          6.0504,
          6.0687999999999995,
          6.0872,
          6.1056,
          6.124,
          6.1424,
          6.1608,
          6.1792,
          6.1975999999999996,
          6.216,
          6.2344,
          6.2528,
          6.2712,
          6.2896,
          6.308,
          6.3264,
          6.344799999999999,
          6.3632,
          6.381600000000001,
          6.4,
          6.4184,
          6.4368,
          6.4552,
          6.473599999999999,
          6.492,
          6.5104,
          6.5288,
          6.5472,
          6.5656,
          6.584,
          6.602399999999999,
          6.6208,
          6.6392,
          6.6576,
          6.676,
          6.6944,
          6.7128,
          6.731199999999999,
          6.7496,
          6.768000000000001,
          6.7863999999999995,
          6.8048,
          6.8232,
          6.8416,
          6.86,
          6.8784,
          6.8968,
          6.9152000000000005,
          6.9336,
          6.952,
          6.9704,
          6.9887999999999995,
          7.0072,
          7.0256,
          7.0440000000000005,
          7.0624,
          7.0808,
          7.0992,
          7.1175999999999995,
          7.136,
          7.154400000000001,
          7.1728,
          7.1912,
          7.2096,
          7.228,
          7.2464,
          7.264799999999999,
          7.2832,
          7.3016000000000005,
          7.32,
          7.3384,
          7.3568,
          7.3751999999999995,
          7.3936,
          7.412,
          7.430400000000001,
          7.4488,
          7.4672,
          7.4856,
          7.504,
          7.5224,
          7.5408,
          7.5592,
          7.5776,
          7.596,
          7.6144,
          7.6328,
          7.651199999999999,
          7.6696,
          7.688000000000001,
          7.7064,
          7.7248,
          7.7432,
          7.7616,
          7.78,
          7.7984,
          7.816800000000001,
          7.8352,
          7.8536,
          7.872,
          7.8904,
          7.9088,
          7.9272,
          7.945600000000001,
          7.964,
          7.9824,
          8.0008,
          8.0192,
          8.0376,
          8.056000000000001,
          8.0744,
          8.0928,
          8.1112,
          8.1296,
          8.148,
          8.1664,
          8.1848,
          8.2032,
          8.221599999999999,
          8.24,
          8.2584,
          8.2768,
          8.295200000000001,
          8.313600000000001,
          8.332,
          8.3504,
          8.3688,
          8.3872,
          8.4056,
          8.424,
          8.4424,
          8.460799999999999,
          8.4792,
          8.4976,
          8.516000000000002,
          8.5344,
          8.5528,
          8.571200000000001,
          8.5896,
          8.608,
          8.6264,
          8.6448,
          8.6632,
          8.6816,
          8.7,
          8.718399999999999,
          8.736799999999999,
          8.7552,
          8.7736,
          8.792000000000002,
          8.810400000000001,
          8.828800000000001,
          8.8472,
          8.8656,
          8.884,
          8.9024,
          8.9208,
          8.9392,
          8.9576,
          8.976,
          8.9944,
          9.012799999999999,
          9.0312,
          9.0496,
          9.068000000000001,
          9.086400000000001,
          9.104800000000001,
          9.1232,
          9.1416,
          9.16,
          9.1784,
          9.1968,
          9.2152,
          9.2336,
          9.252,
          9.2704,
          9.2888,
          9.307200000000002,
          9.3256,
          9.344000000000001,
          9.362400000000001,
          9.3808,
          9.3992,
          9.4176,
          9.436,
          9.4544,
          9.4728,
          9.4912,
          9.509599999999999,
          9.528,
          9.5464,
          9.5648,
          9.583200000000001,
          9.601600000000001,
          9.620000000000001,
          9.6384,
          9.6568,
          9.6752,
          9.6936,
          9.712,
          9.7304,
          9.748800000000001,
          9.7672,
          9.785599999999999,
          9.804,
          9.8224,
          9.840800000000002,
          9.859200000000001,
          9.877600000000001,
          9.896,
          9.9144,
          9.9328,
          9.9512,
          9.9696,
          9.988,
          10.0064,
          10.0248,
          10.0432,
          10.0616,
          10.080000000000002,
          10.0984,
          10.116800000000001,
          10.135200000000001,
          10.1536,
          10.172,
          10.1904,
          10.2088,
          10.2272,
          10.2456,
          10.264,
          10.282399999999999,
          10.3008,
          10.3192,
          10.3376,
          10.356000000000002,
          10.374400000000001,
          10.392800000000001,
          10.411200000000001,
          10.4296,
          10.448,
          10.4664,
          10.4848,
          10.5032,
          10.5216,
          10.540000000000001,
          10.558399999999999,
          10.5768,
          10.5952,
          10.6136,
          10.632000000000001,
          10.650400000000001,
          10.668800000000001,
          10.6872,
          10.7056,
          10.724,
          10.7424,
          10.7608,
          10.7792,
          10.7976,
          10.816,
          10.8344,
          10.852800000000002,
          10.8712,
          10.8896,
          10.908000000000001,
          10.926400000000001,
          10.9448,
          10.9632,
          10.9816,
          11,
          11.0184,
          11.0368,
          11.0552,
          11.073599999999999,
          11.092,
          11.1104,
          11.128800000000002,
          11.147200000000002,
          11.165600000000001,
          11.184000000000001,
          11.2024,
          11.2208,
          11.2392,
          11.2576,
          11.276,
          11.2944,
          11.312800000000001,
          11.331199999999999,
          11.3496,
          11.368,
          11.3864,
          11.404800000000002,
          11.423200000000001,
          11.441600000000001,
          11.46,
          11.4784,
          11.4968,
          11.5152,
          11.5336,
          11.552,
          11.5704,
          11.5888,
          11.6072,
          11.625600000000002,
          11.644,
          11.6624,
          11.680800000000001,
          11.699200000000001,
          11.717600000000001,
          11.736,
          11.7544,
          11.7728,
          11.7912,
          11.8096,
          11.828,
          11.8464,
          11.8648,
          11.8832,
          11.901600000000002,
          11.920000000000002,
          11.938400000000001,
          11.956800000000001,
          11.975200000000001,
          11.9936,
          12.012,
          12.0304,
          12.0488,
          12.0672,
          12.085600000000001,
          12.104000000000001,
          12.1224,
          12.1408,
          12.1592,
          12.177600000000002,
          12.196,
          12.2144,
          12.232800000000001,
          12.2512,
          12.2696,
          12.288,
          12.306400000000002,
          12.324800000000002,
          12.3432,
          12.3616,
          12.38,
          12.3984,
          12.4168,
          12.4352,
          12.4536,
          12.472000000000001,
          12.490400000000001,
          12.5088,
          12.5272,
          12.5456,
          12.564000000000002,
          12.582400000000002,
          12.600800000000001,
          12.619200000000001,
          12.6376,
          12.656,
          12.6744,
          12.6928,
          12.7112,
          12.7296,
          12.748000000000001,
          12.7664,
          12.7848,
          12.8032,
          12.8216,
          12.840000000000002,
          12.858400000000001,
          12.876800000000001,
          12.8952,
          12.9136,
          12.932000000000002,
          12.950400000000002,
          12.9688,
          12.9872,
          13.0056,
          13.024000000000001,
          13.0424,
          13.0608,
          13.0792,
          13.0976,
          13.116000000000001,
          13.134400000000001,
          13.152800000000001,
          13.1712,
          13.1896,
          13.208000000000002,
          13.226400000000002,
          13.244800000000001,
          13.263200000000001,
          13.2816
         ],
         "xaxis": "x",
         "y": [
          0.32051382148430796,
          0.32402806143558227,
          0.327414075510448,
          0.3306676884636241,
          0.33378492590762604,
          0.3367620244396674,
          0.3395954412206369,
          0.34228186296968355,
          0.3448182143400456,
          0.34720166564403093,
          0.3494296398975123,
          0.35149981915686734,
          0.35341015012402327,
          0.3551588489981102,
          0.35674440555516757,
          0.3581655864404055,
          0.359421437660635,
          0.36051128626766316,
          0.3614347412266943,
          0.3621916934670202,
          0.3627823151155709,
          0.36320705791715807,
          0.36346665084850244,
          0.36356209693634456,
          0.36349466929310315,
          0.3632659063866389,
          0.3628776065636949,
          0.36233182184948554,
          0.3616308510487177,
          0.36077723217598684,
          0.35977373424603326,
          0.3586233484567096,
          0.3573292787997419,
          0.35589493213640405,
          0.3543239077770827,
          0.35261998660538807,
          0.3507871197889433,
          0.34882941712024546,
          0.34675113503206656,
          0.3445566643327161,
          0.34225051770711906,
          0.3398373170301015,
          0.33732178053848455,
          0.3347087099085848,
          0.3320029772855204,
          0.32920951231030016,
          0.32633328919005977,
          0.32337931385599716,
          0.32035261125256126,
          0.3172582128002686,
          0.3141011440731587,
          0.3108864127304019,
          0.3076189967398802,
          0.30430383292977564,
          0.30094580590223413,
          0.29754973734113166,
          0.29412037574378935,
          0.29066238660422794,
          0.28718034307321294,
          0.2836787171179171,
          0.28016187120158853,
          0.27663405050107404,
          0.27309937567754367,
          0.26956183621319,
          0.26602528432413697,
          0.26249342945724763,
          0.258969833376001,
          0.2554579058381266,
          0.25196090086523704,
          0.24848191360233385,
          0.24502387776273019,
          0.24158956365169973,
          0.23818157676001467,
          0.23480235691646822,
          0.23145417798651904,
          0.22813914810235092,
          0.2248592104079031,
          0.22161614430080598,
          0.21841156715167742,
          0.21524693647985982,
          0.21212355256345533,
          0.2090425614604166,
          0.20600495841648184,
          0.20301159163492763,
          0.20006316638240998,
          0.197160249404613,
          0.19430327362500613,
          0.1914925430997106,
          0.18872823820132537,
          0.18601042100451837,
          0.18333904084628186,
          0.18071394003395286,
          0.17813485967441786,
          0.17560144559834792,
          0.1731132543538392,
          0.1706697592444603,
          0.16827035638742108,
          0.1659143707683822,
          0.1636010622703006,
          0.1613296316546521,
          0.15909922647439087,
          0.15690894689906965,
          0.1547578514336645,
          0.15264496251381024,
          0.15056927196135028,
          0.14852974628532897,
          0.14652533181479904,
          0.1445549596510887,
          0.14261755042842728,
          0.1407120188731191,
          0.13883727815270366,
          0.13699224400781773,
          0.13517583866069696,
          0.13338699449549019,
          0.1316246575067417,
          0.12988779051356691,
          0.12817537613816424,
          0.12648641954840043,
          0.12481995096523787,
          0.12317502793678078,
          0.12155073738164161,
          0.11994619740523814,
          0.11836055889345518,
          0.11679300688888287,
          0.11524276175556655,
          0.11370908013885243,
          0.11219125572751588,
          0.11068861982588833,
          0.10920054174416924,
          0.10772642901552304,
          0.10626572744890002,
          0.10481792102681482,
          0.10338253165753099,
          0.10195911879127897,
          0.10054727891023033,
          0.09914664490201767,
          0.09775688532657993,
          0.09637770358606661,
          0.09500883700743276,
          0.09365005584721035,
          0.09230116222775436,
          0.09096198901402525,
          0.08963239863971048,
          0.08831228189117821,
          0.08700155665742756,
          0.0857001666538364,
          0.08440808012712275,
          0.08312528854852917,
          0.08185180530181557,
          0.08058766437220315,
          0.07933291904196649,
          0.07808764059790946,
          0.07685191705549696,
          0.07562585190395041,
          0.07440956287615129,
          0.0732031807467373,
          0.07200684816132218,
          0.07082071849932661,
          0.0696449547724788,
          0.06847972856062408,
          0.06732521898608189,
          0.0661816117274089,
          0.06504909807306224,
          0.06392787401511751,
          0.06281813938288057,
          0.06172009701593507,
          0.06063395197590411,
          0.059559910795960715,
          0.058498180766906355,
          0.05744896925845087,
          0.05641248307416286,
          0.05538892783842957,
          0.05437850741365561,
          0.053381423345852094,
          0.05239787433671241,
          0.051428055740242146,
          0.05047215908200711,
          0.04953037159908261,
          0.04860287579882856,
          0.04768984903467671,
          0.046791463097199955,
          0.045907883818832186,
          0.04503927069072689,
          0.044185776490367826,
          0.04334754691869943,
          0.042524720245690276,
          0.041717426963415204,
          0.04092578944591248,
          0.04014992161524938,
          0.039389928613414935,
          0.03864590647984119,
          0.03791794183453824,
          0.03720611156701511,
          0.03651048253133217,
          0.035831111247811596,
          0.03516804361209586,
          0.034521314612405915,
          0.03389094805600018,
          0.033276956305975776,
          0.03267934002967786,
          0.03209808796009906,
          0.03153317667174877,
          0.030984570372555396,
          0.030452220713434897,
          0.029936066617206998,
          0.029436034128577263,
          0.02895203628691874,
          0.028483973023584862,
          0.02803173108546876,
          0.027595183986483883,
          0.027174191988590845,
          0.026768602113919262,
          0.026378248189448318,
          0.02600295092560279,
          0.02564251803000237,
          0.025296744357464852,
          0.024965412097216564,
          0.0246482909980989,
          0.02434513863238723,
          0.024055700698652753,
          0.02377971136390263,
          0.023516893645031997,
          0.02326695982941157,
          0.023029611934218347,
          0.02280454220389963,
          0.02259143364493729,
          0.0223899605968576,
          0.022199789338209704,
          0.02202057872601509,
          0.02185198086697475,
          0.02169364181850884,
          0.02154520231749845,
          0.02140629853440227,
          0.02127656285023343,
          0.021155624653704155,
          0.021043111155681048,
          0.02093864821794207,
          0.020841861193087882,
          0.020752375772338474,
          0.02066981883783919,
          0.02059381931601178,
          0.02052400902841474,
          0.02046002353652423,
          0.02040150297681421,
          0.02034809288249943,
          0.020299444988311578,
          0.02025521801470429,
          0.020215078427928926,
          0.020178701172489103,
          0.02014577037256804,
          0.020115979999128168,
          0.020089034499507677,
          0.020064649386482267,
          0.02004255178392178,
          0.020022480926350915,
          0.020004188609918643,
          0.019987439592491975,
          0.01997201194081593,
          0.019957697322920076,
          0.0199443012442037,
          0.01993164322589378,
          0.01991955692484137,
          0.019907890193901937,
          0.019896505082431522,
          0.019885277776721687,
          0.019874098480491285,
          0.019862871235849636,
          0.01985151368544265,
          0.019839956776788698,
          0.01982814441010398,
          0.019816033031204338,
          0.019803591171352358,
          0.019790798936191945,
          0.019777647446177007,
          0.019764138231153767,
          0.019750282581997375,
          0.019736100862430217,
          0.01972162178436162,
          0.019706881650283906,
          0.019691923566437963,
          0.019676796630621,
          0.019661555098649124,
          0.019646257533606836,
          0.019630965942114137,
          0.019615744901918405,
          0.01960066068517276,
          0.019585780381794284,
          0.019571171027303956,
          0.019556898739536647,
          0.019543027868571206,
          0.019529620164171216,
          0.01951673396494357,
          0.01950442341331739,
          0.01949273770031794,
          0.019481720343963154,
          0.019471408504941303,
          0.019461832343040497,
          0.019453014417594686,
          0.019444969134986605,
          0.019437702246008527,
          0.019431210395626713,
          0.0194254807274271,
          0.019420490544739495,
          0.019416207030146765,
          0.01941258702478538,
          0.019409576868537132,
          0.01940711230189892,
          0.01940511843000097,
          0.019403509748925716,
          0.01940219023415988,
          0.019401053490695697,
          0.01939998296398198,
          0.019398852210616775,
          0.01939752522737028,
          0.019395856836831725,
          0.019393693127689744,
          0.01939087194738147,
          0.01938722344458571,
          0.019382570658788907,
          0.019376730153921978,
          0.01936951269285237,
          0.019360723949319352,
          0.019350165253724252,
          0.019337634369029418,
          0.019322926292883902,
          0.019305834081978175,
          0.019286149694537142,
          0.01926366484678912,
          0.019238171879200523,
          0.019209464628238956,
          0.019177339299424993,
          0.01914159533745115,
          0.019102036289188423,
          0.019058470655463598,
          0.019010712727574933,
          0.01895858340461925,
          0.018901910987827997,
          0.018840531948254448,
          0.018774291664315507,
          0.018703045125871925,
          0.018626657601724113,
          0.018545005267611537,
          0.01845797579202556,
          0.018365468877380442,
          0.01826739675433181,
          0.018163684627286396,
          0.018054271069406966,
          0.01793910836568404,
          0.01781816280291684,
          0.017691414905719315,
          0.017558859617942537,
          0.017420506429178015,
          0.017276379446278835,
          0.017126517410104444,
          0.016970973657957404,
          0.016809816032437305,
          0.016643126737686503,
          0.016471002144240906,
          0.016293552543929193,
          0.016110901856480606,
          0.015923187289706944,
          0.015730558955315325,
          0.015533179442585266,
          0.015331223352305171,
          0.015124876793509092,
          0.014914336845683263,
          0.014699810989225402,
          0.01448151650703326,
          0.014259679860178042,
          0.014034536040677087,
          0.013806327904424142,
          0.013575305487358946,
          0.01334172530796711,
          0.013105849659191671,
          0.012867945892812,
          0.01262828569930476,
          0.012387144386144055,
          0.012144800157427103,
          0.011901533397625735,
          0.011657625962165663,
          0.01141336047742484,
          0.011169019652620047,
          0.0109248856059185,
          0.010681239206970599,
          0.010438359437909302,
          0.010196522774706198,
          0.009956002590611277,
          0.009717068583236801,
          0.009479986226674501,
          0.009245016249862837,
          0.00901241414224605,
          0.008782429687592443,
          0.008555306526665704,
          0.008331281749270805,
          0.00811058551602731,
          0.00789344071005881,
          0.007680062618625219,
          0.007470658644572527,
          0.007265428047324992,
          0.00706456171300487,
          0.006868241953132503,
          0.006676642331234672,
          0.006489927516574832,
          0.006308253164113544,
          0.006131765819711415,
          0.005960602849502786,
          0.005794892392293064,
          0.005634753333769362,
          0.00548029530126132,
          0.005331618677746248,
          0.0051888146337625484,
          0.005051965175873722,
          0.00492114321031632,
          0.004796412620464556,
          0.004677828356754791,
          0.004565436537733102,
          0.004459274560917561,
          0.00435937122220471,
          0.004265746842595173,
          0.004178413401066833,
          0.00409737467248389,
          0.004022626369496975,
          0.0039541562874613094,
          0.0038919444514773516,
          0.0038359632647393766,
          0.003786177657462716,
          0.0037425452357476106,
          0.00370501642982762,
          0.003673534641241397,
          0.003648036388558107,
          0.003628451451378263,
          0.0036147030124221067,
          0.0036067077976066923,
          0.0036043762140993457,
          0.0036076124864190535,
          0.0036163147907375417,
          0.0036303753876079483,
          0.0036496807534205367,
          0.0036741117109513137,
          0.00370354355943014,
          0.0037378462046096525,
          0.00377688428936492,
          0.003820517325394961,
          0.003868599826632443,
          0.003920981444994952,
          0.003977507109131534,
          0.004038017166830765,
          0.00410234753176168,
          0.004170329835216463,
          0.004241791583513848,
          0.004316556321704653,
          0.004394443804196615,
          0.0044752701728836344,
          0.004558848143326419,
          0.004644987199486329,
          0.004733493797463438,
          0.004824171578632412,
          0.004916821592508451,
          0.005011242529607568,
          0.005107230964494425,
          0.0052045816091358015,
          0.005303087576598555,
          0.005402540655050076,
          0.005502731591935238,
          0.005603450388119187,
          0.005704486601698919,
          0.005805629661100621,
          0.005906669186993451,
          0.006007395322465959,
          0.006107599070827341,
          0.006207072640315084,
          0.006305609794911816,
          0.006403006210399387,
          0.006499059834707069,
          0.006593571251544331,
          0.0066863440462468695,
          0.00677718517270873,
          0.006865905320223203,
          0.006952319279010785,
          0.0070362463031760835,
          0.007117510469804659,
          0.007195941032888094,
          0.0072713727707500505,
          0.007343646325638173,
          0.007412608534146482,
          0.007478112747140836,
          0.007540019137875443,
          0.007598194997011787,
          0.00765251501328254,
          0.007702861538581662,
          0.00774912483630806,
          0.007791203311843271,
          0.007829003724104243,
          0.00786244137717835,
          0.007891440291121344,
          0.007915933351077074,
          0.00793586243396225,
          0.00795117851204802,
          0.007961841732863434,
          0.007967821474942814
         ],
         "yaxis": "y"
        },
        {
         "legendgroup": "Men",
         "marker": {
          "color": "rgb(31, 119, 180)",
          "symbol": "line-ns-open"
         },
         "mode": "markers",
         "name": "Men",
         "showlegend": false,
         "type": "scatter",
         "x": [
          -1.6,
          -3,
          -3.9,
          -0.6000000000000001,
          -2.8,
          -3.2,
          -3.4,
          -1.6,
          -1.2999999999999998,
          -3.9,
          -3.6,
          -2,
          -3.2,
          -3.3,
          -3.2,
          -2.9,
          -2.5,
          -3.5,
          -2.9,
          0.09999999999999964,
          -2,
          -2.3,
          0.7999999999999998,
          -1.7999999999999998,
          -1.9,
          -3.9,
          -3,
          -2.2,
          -2,
          0.09999999999999964,
          -3.2,
          -2.7,
          -2.6,
          -2.2,
          -2.3,
          -1.7999999999999998,
          -0.6000000000000001,
          -2.3,
          -2,
          -1.7999999999999998,
          -1.7000000000000002,
          -2.7,
          -2.8,
          -3.2,
          -3.2,
          -2.8,
          -3.1,
          -1.9,
          -3.6,
          -3.1,
          -3.2,
          -1.6,
          -2.4,
          -3,
          -3.1,
          -2.6,
          -2.3,
          -3.9,
          -3.3,
          -2.1,
          -3.2,
          -3,
          -2.7,
          -3.2,
          -2.9,
          -1.4,
          -2.3,
          -3.1,
          -2.7,
          -2.6,
          -3.1,
          -3.1,
          -2.8,
          -3.6,
          -0.2999999999999998,
          -2.8,
          -3.2,
          -3.4,
          -2.2,
          -2.9,
          -2.9,
          -3,
          -3.3,
          -2.1,
          -0.7999999999999998,
          -3.6,
          -1.4,
          -3.2,
          -2,
          0.20000000000000018,
          -3.3,
          -2.5,
          -2.9,
          -2.8,
          0.7000000000000002,
          -3.6,
          -2.8,
          -0.7000000000000002,
          -3.5,
          -3,
          -3.5,
          -1.6,
          -3.6,
          -3.5,
          -2.5,
          -3.7,
          -3,
          -3.4,
          -2.1,
          -3.7,
          -3.7,
          -1.7000000000000002,
          -2.9,
          -2,
          -2.6,
          -2.6,
          -0.8999999999999999,
          -2.7,
          -2.8,
          -2.3,
          -1.7000000000000002,
          -2.6,
          -3.4,
          -3,
          -3.4,
          -2.2,
          0.7999999999999998,
          -2.7,
          -2.8,
          -3.2,
          -2.6,
          3.2,
          -3.5,
          -3.2,
          -3.1,
          -3.5,
          0.7000000000000002,
          -1.2000000000000002,
          -2,
          -3.9,
          -1.4,
          -2.7,
          -2.6,
          -3.1,
          -1.7999999999999998,
          -1.5,
          -0.6000000000000001,
          -2.6,
          -3.2,
          0.20000000000000018,
          -2.4,
          3.5999999999999996,
          -3.4,
          -1.2999999999999998,
          -2.2,
          -2.9,
          -2.4,
          -3.1,
          -3,
          -2.6,
          -2,
          -2.1,
          -2.6,
          -2.8,
          -2.1,
          -1.7999999999999998,
          -2.9,
          1.2000000000000002,
          -3.4,
          -1.7999999999999998,
          -2.7,
          -2.6,
          -2.7,
          -2.6,
          -3.9,
          -2.7,
          -2.5,
          -2.5,
          -2.6,
          -3.1,
          -1.4,
          -1.7000000000000002,
          -3.3,
          -2,
          -2.5,
          -2,
          -3.2,
          -1.9,
          0.20000000000000018,
          -2.4,
          -3.4,
          -3.5,
          1.9000000000000004,
          -2.9,
          -3.1,
          -3,
          -3.9,
          0,
          -2.4,
          -2.3,
          -1.9,
          -3.9,
          -3.2,
          -2.4,
          -3.9,
          -3.2,
          -2.6,
          -2.8,
          -3,
          -2.9,
          -2.4,
          -3.5,
          -2.5,
          -3.1,
          -3.4,
          -3.1,
          -2.7,
          -2.4,
          -2.6,
          -2.9,
          -3,
          -2.4,
          -3.4,
          -0.8999999999999999,
          -2.4,
          -2.6,
          -2.3,
          -2.8,
          -2.7,
          -2.6,
          3,
          -0.2999999999999998,
          -3.5,
          -3.1,
          -2.5,
          -2,
          -2.2,
          -3.7,
          -3.2,
          7.800000000000001,
          -2.7,
          -1.6,
          -2.6,
          -3.5,
          -0.7999999999999998,
          -2.9,
          -0.2999999999999998,
          -3.2,
          -3.3,
          -3.4,
          -3,
          -3,
          -1.1,
          -2,
          -2.8,
          -3.9,
          -1.2000000000000002,
          -0.5,
          -2,
          -3.3,
          -2.6,
          -3,
          -0.6000000000000001,
          -3,
          -3.2,
          -2.2,
          -3.4,
          -3.1,
          -2.7,
          -2.3,
          -3.7,
          -2.7,
          -2.6,
          -2.3,
          -2.9,
          -2.8,
          -1.5,
          -2.7,
          -3.9,
          0.5,
          -2.7,
          -3,
          -3.1,
          -2.4,
          -2.3,
          -3.5,
          -2.2,
          -2.1,
          -2.4,
          -1.2999999999999998,
          -3.1,
          -2,
          -3,
          -3.6,
          -3.6,
          -3.1,
          -2.1,
          -3.7,
          -3.6,
          -2.2,
          -3.3,
          -2.6,
          -3.5,
          -1.6,
          -3.9,
          0.20000000000000018,
          -3.4,
          -3.1,
          -2.3,
          -3.4,
          -3.2,
          -3.6,
          -2.4,
          -2.6,
          -2.8,
          -3.2,
          -3.1,
          -1.6,
          -1.6,
          -3.5,
          -2.8,
          -0.2999999999999998,
          -2.1,
          -3.4,
          -3.7,
          -3.6,
          -3.3,
          -3,
          -3.2,
          -2.7,
          -2.6,
          -3.2,
          -2.1,
          -2.7,
          -3,
          -2.7,
          2.5,
          -0.7999999999999998,
          -2.9,
          -2.1,
          -3,
          -3,
          -3.6,
          -2.9,
          -3.3,
          -2.4,
          -3.2,
          -2.7,
          -2,
          -2.9,
          -3.9,
          -2.4,
          -2.8,
          -2.7,
          -3.3,
          -2.8,
          -3.9,
          -2.7,
          -3.8,
          -3.6,
          -1.4,
          -3.2,
          -3.3,
          -3,
          -1.9,
          -3.6,
          -3.6,
          -3.7,
          -2.2,
          -2.3,
          -2.5,
          -2.2,
          -3.9,
          -1.9,
          -2.8,
          -3.2,
          -2.1,
          -2.6,
          -1.9,
          -3,
          -2,
          -2.7,
          -3.1,
          -3.1,
          -3.3,
          -3.5,
          -3,
          -3.3,
          -3,
          -3.2,
          -2.9,
          -2.8,
          -2.5,
          -2.7,
          -2.5,
          -3.2,
          -3.3,
          -3.1,
          -1.7999999999999998,
          -1.2000000000000002,
          -1.4,
          -3.1,
          -3.3,
          -1.2999999999999998,
          -3.9,
          -3.1,
          -3.6,
          -2.7,
          -2.3,
          -1.9,
          -3.6,
          -2.5,
          -3.9,
          -3.2,
          -2.1,
          -0.7000000000000002,
          -3,
          -3.3,
          -2.4,
          -1.9,
          -3.2,
          -1.7999999999999998,
          -3,
          -3.7,
          -3,
          -3.2,
          -2.9,
          -2.8,
          -2.5,
          -2.5,
          -2,
          -2.6,
          -3.1
         ],
         "xaxis": "x",
         "y": [
          "Men",
          "Men",
          "Men",
          "Men",
          "Men",
          "Men",
          "Men",
          "Men",
          "Men",
          "Men",
          "Men",
          "Men",
          "Men",
          "Men",
          "Men",
          "Men",
          "Men",
          "Men",
          "Men",
          "Men",
          "Men",
          "Men",
          "Men",
          "Men",
          "Men",
          "Men",
          "Men",
          "Men",
          "Men",
          "Men",
          "Men",
          "Men",
          "Men",
          "Men",
          "Men",
          "Men",
          "Men",
          "Men",
          "Men",
          "Men",
          "Men",
          "Men",
          "Men",
          "Men",
          "Men",
          "Men",
          "Men",
          "Men",
          "Men",
          "Men",
          "Men",
          "Men",
          "Men",
          "Men",
          "Men",
          "Men",
          "Men",
          "Men",
          "Men",
          "Men",
          "Men",
          "Men",
          "Men",
          "Men",
          "Men",
          "Men",
          "Men",
          "Men",
          "Men",
          "Men",
          "Men",
          "Men",
          "Men",
          "Men",
          "Men",
          "Men",
          "Men",
          "Men",
          "Men",
          "Men",
          "Men",
          "Men",
          "Men",
          "Men",
          "Men",
          "Men",
          "Men",
          "Men",
          "Men",
          "Men",
          "Men",
          "Men",
          "Men",
          "Men",
          "Men",
          "Men",
          "Men",
          "Men",
          "Men",
          "Men",
          "Men",
          "Men",
          "Men",
          "Men",
          "Men",
          "Men",
          "Men",
          "Men",
          "Men",
          "Men",
          "Men",
          "Men",
          "Men",
          "Men",
          "Men",
          "Men",
          "Men",
          "Men",
          "Men",
          "Men",
          "Men",
          "Men",
          "Men",
          "Men",
          "Men",
          "Men",
          "Men",
          "Men",
          "Men",
          "Men",
          "Men",
          "Men",
          "Men",
          "Men",
          "Men",
          "Men",
          "Men",
          "Men",
          "Men",
          "Men",
          "Men",
          "Men",
          "Men",
          "Men",
          "Men",
          "Men",
          "Men",
          "Men",
          "Men",
          "Men",
          "Men",
          "Men",
          "Men",
          "Men",
          "Men",
          "Men",
          "Men",
          "Men",
          "Men",
          "Men",
          "Men",
          "Men",
          "Men",
          "Men",
          "Men",
          "Men",
          "Men",
          "Men",
          "Men",
          "Men",
          "Men",
          "Men",
          "Men",
          "Men",
          "Men",
          "Men",
          "Men",
          "Men",
          "Men",
          "Men",
          "Men",
          "Men",
          "Men",
          "Men",
          "Men",
          "Men",
          "Men",
          "Men",
          "Men",
          "Men",
          "Men",
          "Men",
          "Men",
          "Men",
          "Men",
          "Men",
          "Men",
          "Men",
          "Men",
          "Men",
          "Men",
          "Men",
          "Men",
          "Men",
          "Men",
          "Men",
          "Men",
          "Men",
          "Men",
          "Men",
          "Men",
          "Men",
          "Men",
          "Men",
          "Men",
          "Men",
          "Men",
          "Men",
          "Men",
          "Men",
          "Men",
          "Men",
          "Men",
          "Men",
          "Men",
          "Men",
          "Men",
          "Men",
          "Men",
          "Men",
          "Men",
          "Men",
          "Men",
          "Men",
          "Men",
          "Men",
          "Men",
          "Men",
          "Men",
          "Men",
          "Men",
          "Men",
          "Men",
          "Men",
          "Men",
          "Men",
          "Men",
          "Men",
          "Men",
          "Men",
          "Men",
          "Men",
          "Men",
          "Men",
          "Men",
          "Men",
          "Men",
          "Men",
          "Men",
          "Men",
          "Men",
          "Men",
          "Men",
          "Men",
          "Men",
          "Men",
          "Men",
          "Men",
          "Men",
          "Men",
          "Men",
          "Men",
          "Men",
          "Men",
          "Men",
          "Men",
          "Men",
          "Men",
          "Men",
          "Men",
          "Men",
          "Men",
          "Men",
          "Men",
          "Men",
          "Men",
          "Men",
          "Men",
          "Men",
          "Men",
          "Men",
          "Men",
          "Men",
          "Men",
          "Men",
          "Men",
          "Men",
          "Men",
          "Men",
          "Men",
          "Men",
          "Men",
          "Men",
          "Men",
          "Men",
          "Men",
          "Men",
          "Men",
          "Men",
          "Men",
          "Men",
          "Men",
          "Men",
          "Men",
          "Men",
          "Men",
          "Men",
          "Men",
          "Men",
          "Men",
          "Men",
          "Men",
          "Men",
          "Men",
          "Men",
          "Men",
          "Men",
          "Men",
          "Men",
          "Men",
          "Men",
          "Men",
          "Men",
          "Men",
          "Men",
          "Men",
          "Men",
          "Men",
          "Men",
          "Men",
          "Men",
          "Men",
          "Men",
          "Men",
          "Men",
          "Men",
          "Men",
          "Men",
          "Men",
          "Men",
          "Men",
          "Men",
          "Men",
          "Men",
          "Men",
          "Men",
          "Men",
          "Men",
          "Men",
          "Men",
          "Men",
          "Men",
          "Men",
          "Men",
          "Men",
          "Men",
          "Men",
          "Men",
          "Men",
          "Men",
          "Men",
          "Men",
          "Men",
          "Men",
          "Men",
          "Men",
          "Men",
          "Men",
          "Men",
          "Men",
          "Men",
          "Men",
          "Men",
          "Men",
          "Men",
          "Men",
          "Men",
          "Men",
          "Men",
          "Men",
          "Men",
          "Men",
          "Men",
          "Men",
          "Men",
          "Men",
          "Men",
          "Men",
          "Men",
          "Men",
          "Men",
          "Men",
          "Men",
          "Men",
          "Men",
          "Men",
          "Men",
          "Men",
          "Men",
          "Men",
          "Men",
          "Men",
          "Men",
          "Men",
          "Men",
          "Men",
          "Men",
          "Men",
          "Men",
          "Men",
          "Men",
          "Men",
          "Men",
          "Men",
          "Men",
          "Men",
          "Men",
          "Men",
          "Men",
          "Men",
          "Men",
          "Men",
          "Men"
         ],
         "yaxis": "y2"
        },
        {
         "legendgroup": "Women",
         "marker": {
          "color": "rgb(255, 127, 14)",
          "symbol": "line-ns-open"
         },
         "mode": "markers",
         "name": "Women",
         "showlegend": false,
         "type": "scatter",
         "x": [
          2.2,
          1.9,
          1.9,
          4.4,
          2.5,
          3.7,
          3.1,
          0.8,
          1.7,
          2,
          0.4,
          0.9,
          3.1,
          1.7,
          2.3,
          2.9,
          1.9,
          3.3,
          2.9,
          1.3,
          3.3,
          1.5,
          0.4,
          2.5,
          0.7,
          0.3,
          1.7,
          1.4,
          2.6,
          1.3,
          2.6,
          4.6,
          5.8,
          1,
          3.7,
          0.3,
          1,
          1.7,
          0.1,
          3,
          1.5,
          2.4,
          2.7,
          2.1,
          4.3,
          1,
          2.2,
          1.4,
          1.5,
          0.1,
          1.6,
          0.3,
          1,
          0.8,
          1.2,
          2,
          2.6,
          1.3,
          1.9,
          2,
          1.7,
          1,
          3,
          1.5,
          2,
          4.6,
          3.7,
          1.5,
          0.6,
          1.4,
          2.5,
          1.2,
          2.8,
          1.5,
          1.9,
          1.6,
          3.1,
          2.2,
          1.6,
          1.2,
          1.3,
          3.3,
          2.4,
          1.3,
          2,
          1.6,
          1.3,
          0.4,
          0.8,
          4.4,
          2.4,
          1.6,
          4,
          9,
          1.4,
          0.9,
          1.6,
          1,
          3.3,
          2.8,
          0.5,
          0.3,
          2,
          0.5,
          2.2,
          0.7,
          5.1,
          0.6,
          7.1,
          1.9,
          0.9,
          1.2,
          6,
          1.4,
          2.4,
          2.4,
          4.7,
          4,
          4,
          3.9,
          4,
          1.1,
          1.9,
          0.1,
          1.9,
          2.8,
          0.9,
          0.3,
          3.2,
          2.1,
          1.4,
          1.1,
          0.3,
          1,
          4.8,
          4.4,
          2,
          0.9,
          0.4,
          2.9,
          1.7,
          1.5,
          1.8,
          1,
          1.4,
          0.7,
          1,
          3.2,
          3.4,
          2.7,
          1.5,
          1.6,
          2.2,
          0.3,
          3.9,
          2.3,
          1.7,
          4.3,
          7.5,
          1.7,
          3.2,
          1.9,
          1,
          2.7,
          3.2,
          2.6,
          0.9,
          2,
          2.5,
          4.6,
          3.3,
          3.6,
          1.9,
          1.2,
          2.9,
          0.1,
          1.9,
          4.6,
          1.7,
          2.2,
          2.7,
          0.4,
          1.1,
          1.7,
          2.5,
          0.4,
          1.9,
          0.1,
          2.2,
          1.1,
          2,
          3.8,
          1.4,
          0.1,
          2.1,
          2,
          1.8,
          1.5,
          0.1,
          1.5,
          2,
          1.4,
          1.8,
          1.3,
          1.8,
          1.2,
          2,
          3.1,
          2.8,
          2.5,
          1.3,
          1.4,
          1.4,
          0.9,
          1.5,
          2.6,
          2.7,
          0.8,
          5.3,
          1.4,
          2.2,
          0.8,
          1.1,
          2.8,
          1.5,
          2.4,
          0.8,
          3.6,
          0.1,
          2.2,
          4.6,
          1.1,
          1.1,
          1,
          3.9,
          1.5,
          2,
          0.4,
          1.6,
          4.2,
          2.2,
          4.4,
          1.9,
          1.7,
          1.1,
          0.8,
          0.7,
          1.6,
          1.9,
          1.6,
          3.3,
          2.8,
          1.5,
          4.1,
          1.6,
          1.1,
          0.7,
          0.7,
          2.5,
          1.5,
          1.7,
          0.8,
          1.1,
          0.6,
          3.1,
          2.8,
          1.4,
          2.4,
          2.1,
          1.7,
          10.5,
          2.6,
          1.9,
          3.2,
          2.8,
          2.2,
          2.6,
          1.2,
          3.5,
          1.9,
          0.1,
          1.7,
          1.1,
          2.5,
          2.5,
          3.1,
          3.6,
          1.8,
          0.5,
          1.2,
          1.5,
          1.5,
          0.1,
          0.6,
          2.6,
          1.4,
          1.8,
          4.8,
          1.9,
          2.1,
          1.1,
          4.2,
          1.6,
          3.1,
          2.6,
          1.1,
          4.8,
          2.9,
          2.9,
          2.8,
          1.5,
          1.9,
          0.1,
          1.8,
          2.2,
          0.8,
          2.1,
          1.7,
          2.9,
          0.8,
          1.5,
          0.8,
          1.2,
          0.1,
          2,
          3.5,
          1.7,
          0.1,
          1.9,
          2.3,
          2.3,
          1.7,
          1.8,
          1,
          2.5,
          1.1,
          0.9,
          1.2,
          4.4,
          2,
          0.9,
          4.1,
          2.3,
          1.3,
          1.2,
          2.3,
          2.6,
          1.8,
          1.3,
          0.8,
          1.2,
          0.6,
          0.2,
          1.7,
          0.8,
          2,
          1.9,
          2,
          2.8,
          0.4,
          1.3,
          1.7,
          1,
          0.4,
          1.1,
          0.1,
          0.9,
          1.3,
          2.3,
          0.8,
          2.1,
          2.3,
          2.9,
          0.7,
          0.3,
          1.1,
          0.1,
          2.9,
          4.3,
          0.1,
          1.1,
          0.8,
          1.8,
          0.8,
          3.2,
          2,
          2.1,
          0.4,
          2.4,
          0.9,
          3.4,
          1.4,
          3,
          0.9,
          2.7,
          4.1,
          1.4,
          1.2,
          1.6,
          1,
          6.5,
          1.9,
          0.1,
          1.8,
          2,
          2.8,
          0.4,
          2.1,
          1,
          1.7,
          0.5,
          4.2,
          0.4,
          0.1,
          0.9,
          2.5,
          2.4,
          2,
          2.3,
          0.6,
          2.1,
          2.3,
          2.4,
          1.6,
          0.3,
          7.2,
          1.7,
          1.9,
          4.4,
          1.1,
          2.3,
          3.3,
          2.9,
          3.2,
          1.9,
          3.3,
          2.4,
          1.4,
          0.8,
          1.9,
          0.8,
          2.2,
          2.1,
          1.2,
          2.6,
          1.6,
          1.7,
          3,
          1.9,
          1.5,
          2.4,
          2.3,
          2.2,
          1.4,
          0.8,
          1.5,
          1.4,
          0.3,
          1.6,
          2.1,
          3,
          6.9,
          6.9,
          1.9,
          6.7,
          6.7,
          0.8,
          1.5,
          0.3,
          1.8,
          0.1,
          1.4,
          2.1,
          3.6,
          2.2,
          4.2,
          4.6,
          0.1,
          2.5,
          2.4,
          2,
          0.8,
          2.4,
          1.9,
          1.8,
          4.4,
          3.1,
          3.3,
          1.9,
          3.3,
          2.4,
          2.1,
          1.7,
          1.4,
          2.2,
          1.2,
          1.4,
          2,
          1.9,
          2.2,
          0.8,
          1.5,
          0.3
         ],
         "xaxis": "x",
         "y": [
          "Women",
          "Women",
          "Women",
          "Women",
          "Women",
          "Women",
          "Women",
          "Women",
          "Women",
          "Women",
          "Women",
          "Women",
          "Women",
          "Women",
          "Women",
          "Women",
          "Women",
          "Women",
          "Women",
          "Women",
          "Women",
          "Women",
          "Women",
          "Women",
          "Women",
          "Women",
          "Women",
          "Women",
          "Women",
          "Women",
          "Women",
          "Women",
          "Women",
          "Women",
          "Women",
          "Women",
          "Women",
          "Women",
          "Women",
          "Women",
          "Women",
          "Women",
          "Women",
          "Women",
          "Women",
          "Women",
          "Women",
          "Women",
          "Women",
          "Women",
          "Women",
          "Women",
          "Women",
          "Women",
          "Women",
          "Women",
          "Women",
          "Women",
          "Women",
          "Women",
          "Women",
          "Women",
          "Women",
          "Women",
          "Women",
          "Women",
          "Women",
          "Women",
          "Women",
          "Women",
          "Women",
          "Women",
          "Women",
          "Women",
          "Women",
          "Women",
          "Women",
          "Women",
          "Women",
          "Women",
          "Women",
          "Women",
          "Women",
          "Women",
          "Women",
          "Women",
          "Women",
          "Women",
          "Women",
          "Women",
          "Women",
          "Women",
          "Women",
          "Women",
          "Women",
          "Women",
          "Women",
          "Women",
          "Women",
          "Women",
          "Women",
          "Women",
          "Women",
          "Women",
          "Women",
          "Women",
          "Women",
          "Women",
          "Women",
          "Women",
          "Women",
          "Women",
          "Women",
          "Women",
          "Women",
          "Women",
          "Women",
          "Women",
          "Women",
          "Women",
          "Women",
          "Women",
          "Women",
          "Women",
          "Women",
          "Women",
          "Women",
          "Women",
          "Women",
          "Women",
          "Women",
          "Women",
          "Women",
          "Women",
          "Women",
          "Women",
          "Women",
          "Women",
          "Women",
          "Women",
          "Women",
          "Women",
          "Women",
          "Women",
          "Women",
          "Women",
          "Women",
          "Women",
          "Women",
          "Women",
          "Women",
          "Women",
          "Women",
          "Women",
          "Women",
          "Women",
          "Women",
          "Women",
          "Women",
          "Women",
          "Women",
          "Women",
          "Women",
          "Women",
          "Women",
          "Women",
          "Women",
          "Women",
          "Women",
          "Women",
          "Women",
          "Women",
          "Women",
          "Women",
          "Women",
          "Women",
          "Women",
          "Women",
          "Women",
          "Women",
          "Women",
          "Women",
          "Women",
          "Women",
          "Women",
          "Women",
          "Women",
          "Women",
          "Women",
          "Women",
          "Women",
          "Women",
          "Women",
          "Women",
          "Women",
          "Women",
          "Women",
          "Women",
          "Women",
          "Women",
          "Women",
          "Women",
          "Women",
          "Women",
          "Women",
          "Women",
          "Women",
          "Women",
          "Women",
          "Women",
          "Women",
          "Women",
          "Women",
          "Women",
          "Women",
          "Women",
          "Women",
          "Women",
          "Women",
          "Women",
          "Women",
          "Women",
          "Women",
          "Women",
          "Women",
          "Women",
          "Women",
          "Women",
          "Women",
          "Women",
          "Women",
          "Women",
          "Women",
          "Women",
          "Women",
          "Women",
          "Women",
          "Women",
          "Women",
          "Women",
          "Women",
          "Women",
          "Women",
          "Women",
          "Women",
          "Women",
          "Women",
          "Women",
          "Women",
          "Women",
          "Women",
          "Women",
          "Women",
          "Women",
          "Women",
          "Women",
          "Women",
          "Women",
          "Women",
          "Women",
          "Women",
          "Women",
          "Women",
          "Women",
          "Women",
          "Women",
          "Women",
          "Women",
          "Women",
          "Women",
          "Women",
          "Women",
          "Women",
          "Women",
          "Women",
          "Women",
          "Women",
          "Women",
          "Women",
          "Women",
          "Women",
          "Women",
          "Women",
          "Women",
          "Women",
          "Women",
          "Women",
          "Women",
          "Women",
          "Women",
          "Women",
          "Women",
          "Women",
          "Women",
          "Women",
          "Women",
          "Women",
          "Women",
          "Women",
          "Women",
          "Women",
          "Women",
          "Women",
          "Women",
          "Women",
          "Women",
          "Women",
          "Women",
          "Women",
          "Women",
          "Women",
          "Women",
          "Women",
          "Women",
          "Women",
          "Women",
          "Women",
          "Women",
          "Women",
          "Women",
          "Women",
          "Women",
          "Women",
          "Women",
          "Women",
          "Women",
          "Women",
          "Women",
          "Women",
          "Women",
          "Women",
          "Women",
          "Women",
          "Women",
          "Women",
          "Women",
          "Women",
          "Women",
          "Women",
          "Women",
          "Women",
          "Women",
          "Women",
          "Women",
          "Women",
          "Women",
          "Women",
          "Women",
          "Women",
          "Women",
          "Women",
          "Women",
          "Women",
          "Women",
          "Women",
          "Women",
          "Women",
          "Women",
          "Women",
          "Women",
          "Women",
          "Women",
          "Women",
          "Women",
          "Women",
          "Women",
          "Women",
          "Women",
          "Women",
          "Women",
          "Women",
          "Women",
          "Women",
          "Women",
          "Women",
          "Women",
          "Women",
          "Women",
          "Women",
          "Women",
          "Women",
          "Women",
          "Women",
          "Women",
          "Women",
          "Women",
          "Women",
          "Women",
          "Women",
          "Women",
          "Women",
          "Women",
          "Women",
          "Women",
          "Women",
          "Women",
          "Women",
          "Women",
          "Women",
          "Women",
          "Women",
          "Women",
          "Women",
          "Women",
          "Women",
          "Women",
          "Women",
          "Women",
          "Women",
          "Women",
          "Women",
          "Women",
          "Women",
          "Women",
          "Women",
          "Women",
          "Women",
          "Women",
          "Women",
          "Women",
          "Women",
          "Women",
          "Women",
          "Women",
          "Women",
          "Women",
          "Women",
          "Women",
          "Women",
          "Women",
          "Women",
          "Women",
          "Women",
          "Women",
          "Women",
          "Women",
          "Women",
          "Women",
          "Women",
          "Women",
          "Women",
          "Women",
          "Women",
          "Women",
          "Women",
          "Women",
          "Women",
          "Women",
          "Women",
          "Women",
          "Women",
          "Women",
          "Women",
          "Women",
          "Women",
          "Women",
          "Women",
          "Women",
          "Women",
          "Women",
          "Women",
          "Women",
          "Women",
          "Women",
          "Women",
          "Women",
          "Women",
          "Women",
          "Women",
          "Women",
          "Women",
          "Women",
          "Women",
          "Women",
          "Women",
          "Women",
          "Women",
          "Women",
          "Women",
          "Women",
          "Women",
          "Women",
          "Women",
          "Women",
          "Women",
          "Women",
          "Women",
          "Women",
          "Women",
          "Women",
          "Women",
          "Women",
          "Women",
          "Women",
          "Women",
          "Women",
          "Women",
          "Women",
          "Women",
          "Women",
          "Women",
          "Women",
          "Women"
         ],
         "yaxis": "y2"
        },
        {
         "legendgroup": "Unisex",
         "marker": {
          "color": "rgb(44, 160, 44)",
          "symbol": "line-ns-open"
         },
         "mode": "markers",
         "name": "Unisex",
         "showlegend": false,
         "type": "scatter",
         "x": [
          5.9,
          4.3,
          6.5,
          13.3,
          4.5,
          4.7,
          5.4,
          4.1,
          5.4,
          4.7,
          4.4,
          4.1,
          4.1,
          4.4,
          5.7,
          5.5,
          6.1,
          5,
          4.4,
          4.4,
          4.6,
          4.2,
          4.5,
          4.6,
          6.2,
          4.1,
          4.5,
          4.2,
          7.2,
          4.9,
          7.5,
          4.1,
          4.6,
          4.4,
          10.4,
          10.5,
          6.6,
          5.2,
          7,
          4.5,
          4.1,
          6.2,
          4.5,
          4.3,
          5.9,
          4.9,
          4.3,
          4.6,
          4.1,
          8.8,
          4.5,
          4.3,
          4.5,
          4.4,
          5.3,
          4.4,
          4.3,
          6.2,
          4.6,
          4.3,
          4.6,
          4.5,
          4.4,
          6.2,
          4.3,
          4.6,
          9.1
         ],
         "xaxis": "x",
         "y": [
          "Unisex",
          "Unisex",
          "Unisex",
          "Unisex",
          "Unisex",
          "Unisex",
          "Unisex",
          "Unisex",
          "Unisex",
          "Unisex",
          "Unisex",
          "Unisex",
          "Unisex",
          "Unisex",
          "Unisex",
          "Unisex",
          "Unisex",
          "Unisex",
          "Unisex",
          "Unisex",
          "Unisex",
          "Unisex",
          "Unisex",
          "Unisex",
          "Unisex",
          "Unisex",
          "Unisex",
          "Unisex",
          "Unisex",
          "Unisex",
          "Unisex",
          "Unisex",
          "Unisex",
          "Unisex",
          "Unisex",
          "Unisex",
          "Unisex",
          "Unisex",
          "Unisex",
          "Unisex",
          "Unisex",
          "Unisex",
          "Unisex",
          "Unisex",
          "Unisex",
          "Unisex",
          "Unisex",
          "Unisex",
          "Unisex",
          "Unisex",
          "Unisex",
          "Unisex",
          "Unisex",
          "Unisex",
          "Unisex",
          "Unisex",
          "Unisex",
          "Unisex",
          "Unisex",
          "Unisex",
          "Unisex",
          "Unisex",
          "Unisex",
          "Unisex",
          "Unisex",
          "Unisex",
          "Unisex"
         ],
         "yaxis": "y2"
        }
       ],
       "layout": {
        "barmode": "group",
        "hovermode": "closest",
        "legend": {
         "traceorder": "reversed"
        },
        "template": {
         "data": {
          "bar": [
           {
            "error_x": {
             "color": "#2a3f5f"
            },
            "error_y": {
             "color": "#2a3f5f"
            },
            "marker": {
             "line": {
              "color": "#E5ECF6",
              "width": 0.5
             },
             "pattern": {
              "fillmode": "overlay",
              "size": 10,
              "solidity": 0.2
             }
            },
            "type": "bar"
           }
          ],
          "barpolar": [
           {
            "marker": {
             "line": {
              "color": "#E5ECF6",
              "width": 0.5
             },
             "pattern": {
              "fillmode": "overlay",
              "size": 10,
              "solidity": 0.2
             }
            },
            "type": "barpolar"
           }
          ],
          "carpet": [
           {
            "aaxis": {
             "endlinecolor": "#2a3f5f",
             "gridcolor": "white",
             "linecolor": "white",
             "minorgridcolor": "white",
             "startlinecolor": "#2a3f5f"
            },
            "baxis": {
             "endlinecolor": "#2a3f5f",
             "gridcolor": "white",
             "linecolor": "white",
             "minorgridcolor": "white",
             "startlinecolor": "#2a3f5f"
            },
            "type": "carpet"
           }
          ],
          "choropleth": [
           {
            "colorbar": {
             "outlinewidth": 0,
             "ticks": ""
            },
            "type": "choropleth"
           }
          ],
          "contour": [
           {
            "colorbar": {
             "outlinewidth": 0,
             "ticks": ""
            },
            "colorscale": [
             [
              0,
              "#0d0887"
             ],
             [
              0.1111111111111111,
              "#46039f"
             ],
             [
              0.2222222222222222,
              "#7201a8"
             ],
             [
              0.3333333333333333,
              "#9c179e"
             ],
             [
              0.4444444444444444,
              "#bd3786"
             ],
             [
              0.5555555555555556,
              "#d8576b"
             ],
             [
              0.6666666666666666,
              "#ed7953"
             ],
             [
              0.7777777777777778,
              "#fb9f3a"
             ],
             [
              0.8888888888888888,
              "#fdca26"
             ],
             [
              1,
              "#f0f921"
             ]
            ],
            "type": "contour"
           }
          ],
          "contourcarpet": [
           {
            "colorbar": {
             "outlinewidth": 0,
             "ticks": ""
            },
            "type": "contourcarpet"
           }
          ],
          "heatmap": [
           {
            "colorbar": {
             "outlinewidth": 0,
             "ticks": ""
            },
            "colorscale": [
             [
              0,
              "#0d0887"
             ],
             [
              0.1111111111111111,
              "#46039f"
             ],
             [
              0.2222222222222222,
              "#7201a8"
             ],
             [
              0.3333333333333333,
              "#9c179e"
             ],
             [
              0.4444444444444444,
              "#bd3786"
             ],
             [
              0.5555555555555556,
              "#d8576b"
             ],
             [
              0.6666666666666666,
              "#ed7953"
             ],
             [
              0.7777777777777778,
              "#fb9f3a"
             ],
             [
              0.8888888888888888,
              "#fdca26"
             ],
             [
              1,
              "#f0f921"
             ]
            ],
            "type": "heatmap"
           }
          ],
          "heatmapgl": [
           {
            "colorbar": {
             "outlinewidth": 0,
             "ticks": ""
            },
            "colorscale": [
             [
              0,
              "#0d0887"
             ],
             [
              0.1111111111111111,
              "#46039f"
             ],
             [
              0.2222222222222222,
              "#7201a8"
             ],
             [
              0.3333333333333333,
              "#9c179e"
             ],
             [
              0.4444444444444444,
              "#bd3786"
             ],
             [
              0.5555555555555556,
              "#d8576b"
             ],
             [
              0.6666666666666666,
              "#ed7953"
             ],
             [
              0.7777777777777778,
              "#fb9f3a"
             ],
             [
              0.8888888888888888,
              "#fdca26"
             ],
             [
              1,
              "#f0f921"
             ]
            ],
            "type": "heatmapgl"
           }
          ],
          "histogram": [
           {
            "marker": {
             "pattern": {
              "fillmode": "overlay",
              "size": 10,
              "solidity": 0.2
             }
            },
            "type": "histogram"
           }
          ],
          "histogram2d": [
           {
            "colorbar": {
             "outlinewidth": 0,
             "ticks": ""
            },
            "colorscale": [
             [
              0,
              "#0d0887"
             ],
             [
              0.1111111111111111,
              "#46039f"
             ],
             [
              0.2222222222222222,
              "#7201a8"
             ],
             [
              0.3333333333333333,
              "#9c179e"
             ],
             [
              0.4444444444444444,
              "#bd3786"
             ],
             [
              0.5555555555555556,
              "#d8576b"
             ],
             [
              0.6666666666666666,
              "#ed7953"
             ],
             [
              0.7777777777777778,
              "#fb9f3a"
             ],
             [
              0.8888888888888888,
              "#fdca26"
             ],
             [
              1,
              "#f0f921"
             ]
            ],
            "type": "histogram2d"
           }
          ],
          "histogram2dcontour": [
           {
            "colorbar": {
             "outlinewidth": 0,
             "ticks": ""
            },
            "colorscale": [
             [
              0,
              "#0d0887"
             ],
             [
              0.1111111111111111,
              "#46039f"
             ],
             [
              0.2222222222222222,
              "#7201a8"
             ],
             [
              0.3333333333333333,
              "#9c179e"
             ],
             [
              0.4444444444444444,
              "#bd3786"
             ],
             [
              0.5555555555555556,
              "#d8576b"
             ],
             [
              0.6666666666666666,
              "#ed7953"
             ],
             [
              0.7777777777777778,
              "#fb9f3a"
             ],
             [
              0.8888888888888888,
              "#fdca26"
             ],
             [
              1,
              "#f0f921"
             ]
            ],
            "type": "histogram2dcontour"
           }
          ],
          "mesh3d": [
           {
            "colorbar": {
             "outlinewidth": 0,
             "ticks": ""
            },
            "type": "mesh3d"
           }
          ],
          "parcoords": [
           {
            "line": {
             "colorbar": {
              "outlinewidth": 0,
              "ticks": ""
             }
            },
            "type": "parcoords"
           }
          ],
          "pie": [
           {
            "automargin": true,
            "type": "pie"
           }
          ],
          "scatter": [
           {
            "fillpattern": {
             "fillmode": "overlay",
             "size": 10,
             "solidity": 0.2
            },
            "type": "scatter"
           }
          ],
          "scatter3d": [
           {
            "line": {
             "colorbar": {
              "outlinewidth": 0,
              "ticks": ""
             }
            },
            "marker": {
             "colorbar": {
              "outlinewidth": 0,
              "ticks": ""
             }
            },
            "type": "scatter3d"
           }
          ],
          "scattercarpet": [
           {
            "marker": {
             "colorbar": {
              "outlinewidth": 0,
              "ticks": ""
             }
            },
            "type": "scattercarpet"
           }
          ],
          "scattergeo": [
           {
            "marker": {
             "colorbar": {
              "outlinewidth": 0,
              "ticks": ""
             }
            },
            "type": "scattergeo"
           }
          ],
          "scattergl": [
           {
            "marker": {
             "colorbar": {
              "outlinewidth": 0,
              "ticks": ""
             }
            },
            "type": "scattergl"
           }
          ],
          "scattermapbox": [
           {
            "marker": {
             "colorbar": {
              "outlinewidth": 0,
              "ticks": ""
             }
            },
            "type": "scattermapbox"
           }
          ],
          "scatterpolar": [
           {
            "marker": {
             "colorbar": {
              "outlinewidth": 0,
              "ticks": ""
             }
            },
            "type": "scatterpolar"
           }
          ],
          "scatterpolargl": [
           {
            "marker": {
             "colorbar": {
              "outlinewidth": 0,
              "ticks": ""
             }
            },
            "type": "scatterpolargl"
           }
          ],
          "scatterternary": [
           {
            "marker": {
             "colorbar": {
              "outlinewidth": 0,
              "ticks": ""
             }
            },
            "type": "scatterternary"
           }
          ],
          "surface": [
           {
            "colorbar": {
             "outlinewidth": 0,
             "ticks": ""
            },
            "colorscale": [
             [
              0,
              "#0d0887"
             ],
             [
              0.1111111111111111,
              "#46039f"
             ],
             [
              0.2222222222222222,
              "#7201a8"
             ],
             [
              0.3333333333333333,
              "#9c179e"
             ],
             [
              0.4444444444444444,
              "#bd3786"
             ],
             [
              0.5555555555555556,
              "#d8576b"
             ],
             [
              0.6666666666666666,
              "#ed7953"
             ],
             [
              0.7777777777777778,
              "#fb9f3a"
             ],
             [
              0.8888888888888888,
              "#fdca26"
             ],
             [
              1,
              "#f0f921"
             ]
            ],
            "type": "surface"
           }
          ],
          "table": [
           {
            "cells": {
             "fill": {
              "color": "#EBF0F8"
             },
             "line": {
              "color": "white"
             }
            },
            "header": {
             "fill": {
              "color": "#C8D4E3"
             },
             "line": {
              "color": "white"
             }
            },
            "type": "table"
           }
          ]
         },
         "layout": {
          "annotationdefaults": {
           "arrowcolor": "#2a3f5f",
           "arrowhead": 0,
           "arrowwidth": 1
          },
          "autotypenumbers": "strict",
          "coloraxis": {
           "colorbar": {
            "outlinewidth": 0,
            "ticks": ""
           }
          },
          "colorscale": {
           "diverging": [
            [
             0,
             "#8e0152"
            ],
            [
             0.1,
             "#c51b7d"
            ],
            [
             0.2,
             "#de77ae"
            ],
            [
             0.3,
             "#f1b6da"
            ],
            [
             0.4,
             "#fde0ef"
            ],
            [
             0.5,
             "#f7f7f7"
            ],
            [
             0.6,
             "#e6f5d0"
            ],
            [
             0.7,
             "#b8e186"
            ],
            [
             0.8,
             "#7fbc41"
            ],
            [
             0.9,
             "#4d9221"
            ],
            [
             1,
             "#276419"
            ]
           ],
           "sequential": [
            [
             0,
             "#0d0887"
            ],
            [
             0.1111111111111111,
             "#46039f"
            ],
            [
             0.2222222222222222,
             "#7201a8"
            ],
            [
             0.3333333333333333,
             "#9c179e"
            ],
            [
             0.4444444444444444,
             "#bd3786"
            ],
            [
             0.5555555555555556,
             "#d8576b"
            ],
            [
             0.6666666666666666,
             "#ed7953"
            ],
            [
             0.7777777777777778,
             "#fb9f3a"
            ],
            [
             0.8888888888888888,
             "#fdca26"
            ],
            [
             1,
             "#f0f921"
            ]
           ],
           "sequentialminus": [
            [
             0,
             "#0d0887"
            ],
            [
             0.1111111111111111,
             "#46039f"
            ],
            [
             0.2222222222222222,
             "#7201a8"
            ],
            [
             0.3333333333333333,
             "#9c179e"
            ],
            [
             0.4444444444444444,
             "#bd3786"
            ],
            [
             0.5555555555555556,
             "#d8576b"
            ],
            [
             0.6666666666666666,
             "#ed7953"
            ],
            [
             0.7777777777777778,
             "#fb9f3a"
            ],
            [
             0.8888888888888888,
             "#fdca26"
            ],
            [
             1,
             "#f0f921"
            ]
           ]
          },
          "colorway": [
           "#636efa",
           "#EF553B",
           "#00cc96",
           "#ab63fa",
           "#FFA15A",
           "#19d3f3",
           "#FF6692",
           "#B6E880",
           "#FF97FF",
           "#FECB52"
          ],
          "font": {
           "color": "#2a3f5f"
          },
          "geo": {
           "bgcolor": "white",
           "lakecolor": "white",
           "landcolor": "#E5ECF6",
           "showlakes": true,
           "showland": true,
           "subunitcolor": "white"
          },
          "hoverlabel": {
           "align": "left"
          },
          "hovermode": "closest",
          "mapbox": {
           "style": "light"
          },
          "paper_bgcolor": "white",
          "plot_bgcolor": "#E5ECF6",
          "polar": {
           "angularaxis": {
            "gridcolor": "white",
            "linecolor": "white",
            "ticks": ""
           },
           "bgcolor": "#E5ECF6",
           "radialaxis": {
            "gridcolor": "white",
            "linecolor": "white",
            "ticks": ""
           }
          },
          "scene": {
           "xaxis": {
            "backgroundcolor": "#E5ECF6",
            "gridcolor": "white",
            "gridwidth": 2,
            "linecolor": "white",
            "showbackground": true,
            "ticks": "",
            "zerolinecolor": "white"
           },
           "yaxis": {
            "backgroundcolor": "#E5ECF6",
            "gridcolor": "white",
            "gridwidth": 2,
            "linecolor": "white",
            "showbackground": true,
            "ticks": "",
            "zerolinecolor": "white"
           },
           "zaxis": {
            "backgroundcolor": "#E5ECF6",
            "gridcolor": "white",
            "gridwidth": 2,
            "linecolor": "white",
            "showbackground": true,
            "ticks": "",
            "zerolinecolor": "white"
           }
          },
          "shapedefaults": {
           "line": {
            "color": "#2a3f5f"
           }
          },
          "ternary": {
           "aaxis": {
            "gridcolor": "white",
            "linecolor": "white",
            "ticks": ""
           },
           "baxis": {
            "gridcolor": "white",
            "linecolor": "white",
            "ticks": ""
           },
           "bgcolor": "#E5ECF6",
           "caxis": {
            "gridcolor": "white",
            "linecolor": "white",
            "ticks": ""
           }
          },
          "title": {
           "x": 0.05
          },
          "xaxis": {
           "automargin": true,
           "gridcolor": "white",
           "linecolor": "white",
           "ticks": "",
           "title": {
            "standoff": 15
           },
           "zerolinecolor": "white",
           "zerolinewidth": 2
          },
          "yaxis": {
           "automargin": true,
           "gridcolor": "white",
           "linecolor": "white",
           "ticks": "",
           "title": {
            "standoff": 15
           },
           "zerolinecolor": "white",
           "zerolinewidth": 2
          }
         }
        },
        "title": {
         "text": "Price Per Volume Distribution Based on Sex",
         "x": 0.5,
         "xanchor": "center",
         "y": 0.9,
         "yanchor": "top"
        },
        "xaxis": {
         "anchor": "y2",
         "domain": [
          0,
          1
         ],
         "title": {
          "text": "Volume(ml)"
         },
         "zeroline": false
        },
        "yaxis": {
         "anchor": "free",
         "domain": [
          0.35,
          1
         ],
         "position": 0
        },
        "yaxis2": {
         "anchor": "x",
         "domain": [
          0,
          0.25
         ],
         "dtick": 1,
         "showticklabels": false
        }
       }
      }
     },
     "metadata": {},
     "output_type": "display_data"
    }
   ],
   "source": [
    "import plotly.figure_factory as ff\n",
    "\n",
    "# Add histogram data\n",
    "df2 = df1[df1['department'] == 'Men'] \n",
    "x1 =(df2['price/ml']) - 4\n",
    "\n",
    "df3 = df1[df1['department'] == 'Women']\n",
    "x2 = (df3['price/ml']) \n",
    "\n",
    "df4 = df1[df1['department'] == 'Unisex']\n",
    "x3 = (df4['price/ml']) + 4\n",
    "\n",
    "# Group data together\n",
    "hist_data = [x1, x2, x3]\n",
    "\n",
    "group_labels = ['Men', 'Women', 'Unisex']\n",
    "\n",
    "# Create distplot with custom bin_size\n",
    "fig = ff.create_distplot(hist_data, group_labels, bin_size=.5)\n",
    "fig.update_layout(barmode='group',title = {'text': 'Price Per Volume Distribution Based on Sex','y':0.9,'x':0.5, 'xanchor': 'center', 'yanchor': 'top' },xaxis_title=\"Volume(ml)\")\n",
    "fig.show()"
   ]
  },
  {
   "cell_type": "code",
   "execution_count": 34,
   "id": "7995186f",
   "metadata": {},
   "outputs": [
    {
     "data": {
      "application/vnd.plotly.v1+json": {
       "config": {
        "plotlyServerURL": "https://plot.ly"
       },
       "data": [
        {
         "hovertemplate": "name=212 vip-CAROLINA HERRERA-EDT<br>ml=%{x}<br>new_price=%{y}<extra></extra>",
         "legendgroup": "212 vip-CAROLINA HERRERA-EDT",
         "line": {
          "color": "rgb(229, 134, 6)",
          "dash": "solid"
         },
         "marker": {
          "symbol": "circle"
         },
         "mode": "lines+markers",
         "name": "212 vip-CAROLINA HERRERA-EDT",
         "orientation": "v",
         "showlegend": true,
         "type": "scatter",
         "x": [
          100,
          200
         ],
         "xaxis": "x",
         "y": [
          160,
          258.7
         ],
         "yaxis": "y"
        },
        {
         "hovertemplate": "name=acqua di gio-GIORGIO ARMANI-EDT<br>ml=%{x}<br>new_price=%{y}<extra></extra>",
         "legendgroup": "acqua di gio-GIORGIO ARMANI-EDT",
         "line": {
          "color": "rgb(93, 105, 177)",
          "dash": "solid"
         },
         "marker": {
          "symbol": "circle"
         },
         "mode": "lines+markers",
         "name": "acqua di gio-GIORGIO ARMANI-EDT",
         "orientation": "v",
         "showlegend": true,
         "type": "scatter",
         "x": [
          100,
          200
         ],
         "xaxis": "x",
         "y": [
          195.6,
          464.9
         ],
         "yaxis": "y"
        },
        {
         "hovertemplate": "name=bottled night-HUGO BOSS-EDT<br>ml=%{x}<br>new_price=%{y}<extra></extra>",
         "legendgroup": "bottled night-HUGO BOSS-EDT",
         "line": {
          "color": "rgb(82, 188, 163)",
          "dash": "solid"
         },
         "marker": {
          "symbol": "circle"
         },
         "mode": "lines+markers",
         "name": "bottled night-HUGO BOSS-EDT",
         "orientation": "v",
         "showlegend": true,
         "type": "scatter",
         "x": [
          100,
          200
         ],
         "xaxis": "x",
         "y": [
          170.45,
          250
         ],
         "yaxis": "y"
        },
        {
         "hovertemplate": "name=bright crystal-VERSACE-EDT<br>ml=%{x}<br>new_price=%{y}<extra></extra>",
         "legendgroup": "bright crystal-VERSACE-EDT",
         "line": {
          "color": "rgb(153, 201, 69)",
          "dash": "solid"
         },
         "marker": {
          "symbol": "circle"
         },
         "mode": "lines+markers",
         "name": "bright crystal-VERSACE-EDT",
         "orientation": "v",
         "showlegend": true,
         "type": "scatter",
         "x": [
          5,
          90
         ],
         "xaxis": "x",
         "y": [
          21.4,
          169.95
         ],
         "yaxis": "y"
        },
        {
         "hovertemplate": "name=ck one-Calvin Klein-EDT<br>ml=%{x}<br>new_price=%{y}<extra></extra>",
         "legendgroup": "ck one-Calvin Klein-EDT",
         "line": {
          "color": "rgb(204, 97, 176)",
          "dash": "solid"
         },
         "marker": {
          "symbol": "circle"
         },
         "mode": "lines+markers",
         "name": "ck one-Calvin Klein-EDT",
         "orientation": "v",
         "showlegend": true,
         "type": "scatter",
         "x": [
          200,
          100
         ],
         "xaxis": "x",
         "y": [
          102,
          98
         ],
         "yaxis": "y"
        },
        {
         "hovertemplate": "name=crystal noir-VERSACE-EDT<br>ml=%{x}<br>new_price=%{y}<extra></extra>",
         "legendgroup": "crystal noir-VERSACE-EDT",
         "line": {
          "color": "rgb(36, 121, 108)",
          "dash": "solid"
         },
         "marker": {
          "symbol": "circle"
         },
         "mode": "lines+markers",
         "name": "crystal noir-VERSACE-EDT",
         "orientation": "v",
         "showlegend": true,
         "type": "scatter",
         "x": [
          5,
          50,
          90
         ],
         "xaxis": "x",
         "y": [
          16.2,
          183.45,
          215
         ],
         "yaxis": "y"
        },
        {
         "hovertemplate": "name=desire-Dunhill-EDT<br>ml=%{x}<br>new_price=%{y}<extra></extra>",
         "legendgroup": "desire-Dunhill-EDT",
         "line": {
          "color": "rgb(218, 165, 27)",
          "dash": "solid"
         },
         "marker": {
          "symbol": "circle"
         },
         "mode": "lines+markers",
         "name": "desire-Dunhill-EDT",
         "orientation": "v",
         "showlegend": true,
         "type": "scatter",
         "x": [
          30,
          100
         ],
         "xaxis": "x",
         "y": [
          54.95,
          84.48333333333333
         ],
         "yaxis": "y"
        },
        {
         "hovertemplate": "name=dylan blue-VERSACE-EDT<br>ml=%{x}<br>new_price=%{y}<extra></extra>",
         "legendgroup": "dylan blue-VERSACE-EDT",
         "line": {
          "color": "rgb(47, 138, 196)",
          "dash": "solid"
         },
         "marker": {
          "symbol": "circle"
         },
         "mode": "lines+markers",
         "name": "dylan blue-VERSACE-EDT",
         "orientation": "v",
         "showlegend": true,
         "type": "scatter",
         "x": [
          100,
          5
         ],
         "xaxis": "x",
         "y": [
          217.85,
          26.333333333333332
         ],
         "yaxis": "y"
        },
        {
         "hovertemplate": "name=eros-VERSACE-EDT<br>ml=%{x}<br>new_price=%{y}<extra></extra>",
         "legendgroup": "eros-VERSACE-EDT",
         "line": {
          "color": "rgb(118, 78, 159)",
          "dash": "solid"
         },
         "marker": {
          "symbol": "circle"
         },
         "mode": "lines+markers",
         "name": "eros-VERSACE-EDT",
         "orientation": "v",
         "showlegend": true,
         "type": "scatter",
         "x": [
          100,
          200
         ],
         "xaxis": "x",
         "y": [
          202,
          369.7
         ],
         "yaxis": "y"
        },
        {
         "hovertemplate": "name=esencia-LOEWE-EDT<br>ml=%{x}<br>new_price=%{y}<extra></extra>",
         "legendgroup": "esencia-LOEWE-EDT",
         "line": {
          "color": "rgb(237, 100, 90)",
          "dash": "solid"
         },
         "marker": {
          "symbol": "circle"
         },
         "mode": "lines+markers",
         "name": "esencia-LOEWE-EDT",
         "orientation": "v",
         "showlegend": true,
         "type": "scatter",
         "x": [
          100,
          150
         ],
         "xaxis": "x",
         "y": [
          200,
          219.9
         ],
         "yaxis": "y"
        },
        {
         "hovertemplate": "name=flora-GUCCI-EDT<br>ml=%{x}<br>new_price=%{y}<extra></extra>",
         "legendgroup": "flora-GUCCI-EDT",
         "line": {
          "color": "rgb(165, 170, 153)",
          "dash": "solid"
         },
         "marker": {
          "symbol": "circle"
         },
         "mode": "lines+markers",
         "name": "flora-GUCCI-EDT",
         "orientation": "v",
         "showlegend": true,
         "type": "scatter",
         "x": [
          50,
          75
         ],
         "xaxis": "x",
         "y": [
          179.8,
          196.2
         ],
         "yaxis": "y"
        },
        {
         "hovertemplate": "name=homme-joop-EDT<br>ml=%{x}<br>new_price=%{y}<extra></extra>",
         "legendgroup": "homme-joop-EDT",
         "line": {
          "color": "rgb(229, 134, 6)",
          "dash": "solid"
         },
         "marker": {
          "symbol": "circle"
         },
         "mode": "lines+markers",
         "name": "homme-joop-EDT",
         "orientation": "v",
         "showlegend": true,
         "type": "scatter",
         "x": [
          125,
          75
         ],
         "xaxis": "x",
         "y": [
          56.8,
          52.15
         ],
         "yaxis": "y"
        },
        {
         "hovertemplate": "name=invictus-PACO RABANNE-EDT<br>ml=%{x}<br>new_price=%{y}<extra></extra>",
         "legendgroup": "invictus-PACO RABANNE-EDT",
         "line": {
          "color": "rgb(93, 105, 177)",
          "dash": "solid"
         },
         "marker": {
          "symbol": "circle"
         },
         "mode": "lines+markers",
         "name": "invictus-PACO RABANNE-EDT",
         "orientation": "v",
         "showlegend": true,
         "type": "scatter",
         "x": [
          100,
          150
         ],
         "xaxis": "x",
         "y": [
          210,
          279.1
         ],
         "yaxis": "y"
        },
        {
         "hovertemplate": "name=legend-MONTBLANC-EDT<br>ml=%{x}<br>new_price=%{y}<extra></extra>",
         "legendgroup": "legend-MONTBLANC-EDT",
         "line": {
          "color": "rgb(82, 188, 163)",
          "dash": "solid"
         },
         "marker": {
          "symbol": "circle"
         },
         "mode": "lines+markers",
         "name": "legend-MONTBLANC-EDT",
         "orientation": "v",
         "showlegend": true,
         "type": "scatter",
         "x": [
          100,
          200
         ],
         "xaxis": "x",
         "y": [
          108.5,
          214.55
         ],
         "yaxis": "y"
        },
        {
         "hovertemplate": "name=touch of pink-LACOSTE-EDT<br>ml=%{x}<br>new_price=%{y}<extra></extra>",
         "legendgroup": "touch of pink-LACOSTE-EDT",
         "line": {
          "color": "rgb(153, 201, 69)",
          "dash": "solid"
         },
         "marker": {
          "symbol": "circle"
         },
         "mode": "lines+markers",
         "name": "touch of pink-LACOSTE-EDT",
         "orientation": "v",
         "showlegend": true,
         "type": "scatter",
         "x": [
          50,
          90
         ],
         "xaxis": "x",
         "y": [
          95,
          90
         ],
         "yaxis": "y"
        }
       ],
       "layout": {
        "barmode": "group",
        "legend": {
         "title": {
          "text": "name"
         },
         "tracegroupgap": 0
        },
        "margin": {
         "t": 60
        },
        "template": {
         "data": {
          "bar": [
           {
            "error_x": {
             "color": "#2a3f5f"
            },
            "error_y": {
             "color": "#2a3f5f"
            },
            "marker": {
             "line": {
              "color": "#E5ECF6",
              "width": 0.5
             },
             "pattern": {
              "fillmode": "overlay",
              "size": 10,
              "solidity": 0.2
             }
            },
            "type": "bar"
           }
          ],
          "barpolar": [
           {
            "marker": {
             "line": {
              "color": "#E5ECF6",
              "width": 0.5
             },
             "pattern": {
              "fillmode": "overlay",
              "size": 10,
              "solidity": 0.2
             }
            },
            "type": "barpolar"
           }
          ],
          "carpet": [
           {
            "aaxis": {
             "endlinecolor": "#2a3f5f",
             "gridcolor": "white",
             "linecolor": "white",
             "minorgridcolor": "white",
             "startlinecolor": "#2a3f5f"
            },
            "baxis": {
             "endlinecolor": "#2a3f5f",
             "gridcolor": "white",
             "linecolor": "white",
             "minorgridcolor": "white",
             "startlinecolor": "#2a3f5f"
            },
            "type": "carpet"
           }
          ],
          "choropleth": [
           {
            "colorbar": {
             "outlinewidth": 0,
             "ticks": ""
            },
            "type": "choropleth"
           }
          ],
          "contour": [
           {
            "colorbar": {
             "outlinewidth": 0,
             "ticks": ""
            },
            "colorscale": [
             [
              0,
              "#0d0887"
             ],
             [
              0.1111111111111111,
              "#46039f"
             ],
             [
              0.2222222222222222,
              "#7201a8"
             ],
             [
              0.3333333333333333,
              "#9c179e"
             ],
             [
              0.4444444444444444,
              "#bd3786"
             ],
             [
              0.5555555555555556,
              "#d8576b"
             ],
             [
              0.6666666666666666,
              "#ed7953"
             ],
             [
              0.7777777777777778,
              "#fb9f3a"
             ],
             [
              0.8888888888888888,
              "#fdca26"
             ],
             [
              1,
              "#f0f921"
             ]
            ],
            "type": "contour"
           }
          ],
          "contourcarpet": [
           {
            "colorbar": {
             "outlinewidth": 0,
             "ticks": ""
            },
            "type": "contourcarpet"
           }
          ],
          "heatmap": [
           {
            "colorbar": {
             "outlinewidth": 0,
             "ticks": ""
            },
            "colorscale": [
             [
              0,
              "#0d0887"
             ],
             [
              0.1111111111111111,
              "#46039f"
             ],
             [
              0.2222222222222222,
              "#7201a8"
             ],
             [
              0.3333333333333333,
              "#9c179e"
             ],
             [
              0.4444444444444444,
              "#bd3786"
             ],
             [
              0.5555555555555556,
              "#d8576b"
             ],
             [
              0.6666666666666666,
              "#ed7953"
             ],
             [
              0.7777777777777778,
              "#fb9f3a"
             ],
             [
              0.8888888888888888,
              "#fdca26"
             ],
             [
              1,
              "#f0f921"
             ]
            ],
            "type": "heatmap"
           }
          ],
          "heatmapgl": [
           {
            "colorbar": {
             "outlinewidth": 0,
             "ticks": ""
            },
            "colorscale": [
             [
              0,
              "#0d0887"
             ],
             [
              0.1111111111111111,
              "#46039f"
             ],
             [
              0.2222222222222222,
              "#7201a8"
             ],
             [
              0.3333333333333333,
              "#9c179e"
             ],
             [
              0.4444444444444444,
              "#bd3786"
             ],
             [
              0.5555555555555556,
              "#d8576b"
             ],
             [
              0.6666666666666666,
              "#ed7953"
             ],
             [
              0.7777777777777778,
              "#fb9f3a"
             ],
             [
              0.8888888888888888,
              "#fdca26"
             ],
             [
              1,
              "#f0f921"
             ]
            ],
            "type": "heatmapgl"
           }
          ],
          "histogram": [
           {
            "marker": {
             "pattern": {
              "fillmode": "overlay",
              "size": 10,
              "solidity": 0.2
             }
            },
            "type": "histogram"
           }
          ],
          "histogram2d": [
           {
            "colorbar": {
             "outlinewidth": 0,
             "ticks": ""
            },
            "colorscale": [
             [
              0,
              "#0d0887"
             ],
             [
              0.1111111111111111,
              "#46039f"
             ],
             [
              0.2222222222222222,
              "#7201a8"
             ],
             [
              0.3333333333333333,
              "#9c179e"
             ],
             [
              0.4444444444444444,
              "#bd3786"
             ],
             [
              0.5555555555555556,
              "#d8576b"
             ],
             [
              0.6666666666666666,
              "#ed7953"
             ],
             [
              0.7777777777777778,
              "#fb9f3a"
             ],
             [
              0.8888888888888888,
              "#fdca26"
             ],
             [
              1,
              "#f0f921"
             ]
            ],
            "type": "histogram2d"
           }
          ],
          "histogram2dcontour": [
           {
            "colorbar": {
             "outlinewidth": 0,
             "ticks": ""
            },
            "colorscale": [
             [
              0,
              "#0d0887"
             ],
             [
              0.1111111111111111,
              "#46039f"
             ],
             [
              0.2222222222222222,
              "#7201a8"
             ],
             [
              0.3333333333333333,
              "#9c179e"
             ],
             [
              0.4444444444444444,
              "#bd3786"
             ],
             [
              0.5555555555555556,
              "#d8576b"
             ],
             [
              0.6666666666666666,
              "#ed7953"
             ],
             [
              0.7777777777777778,
              "#fb9f3a"
             ],
             [
              0.8888888888888888,
              "#fdca26"
             ],
             [
              1,
              "#f0f921"
             ]
            ],
            "type": "histogram2dcontour"
           }
          ],
          "mesh3d": [
           {
            "colorbar": {
             "outlinewidth": 0,
             "ticks": ""
            },
            "type": "mesh3d"
           }
          ],
          "parcoords": [
           {
            "line": {
             "colorbar": {
              "outlinewidth": 0,
              "ticks": ""
             }
            },
            "type": "parcoords"
           }
          ],
          "pie": [
           {
            "automargin": true,
            "type": "pie"
           }
          ],
          "scatter": [
           {
            "fillpattern": {
             "fillmode": "overlay",
             "size": 10,
             "solidity": 0.2
            },
            "type": "scatter"
           }
          ],
          "scatter3d": [
           {
            "line": {
             "colorbar": {
              "outlinewidth": 0,
              "ticks": ""
             }
            },
            "marker": {
             "colorbar": {
              "outlinewidth": 0,
              "ticks": ""
             }
            },
            "type": "scatter3d"
           }
          ],
          "scattercarpet": [
           {
            "marker": {
             "colorbar": {
              "outlinewidth": 0,
              "ticks": ""
             }
            },
            "type": "scattercarpet"
           }
          ],
          "scattergeo": [
           {
            "marker": {
             "colorbar": {
              "outlinewidth": 0,
              "ticks": ""
             }
            },
            "type": "scattergeo"
           }
          ],
          "scattergl": [
           {
            "marker": {
             "colorbar": {
              "outlinewidth": 0,
              "ticks": ""
             }
            },
            "type": "scattergl"
           }
          ],
          "scattermapbox": [
           {
            "marker": {
             "colorbar": {
              "outlinewidth": 0,
              "ticks": ""
             }
            },
            "type": "scattermapbox"
           }
          ],
          "scatterpolar": [
           {
            "marker": {
             "colorbar": {
              "outlinewidth": 0,
              "ticks": ""
             }
            },
            "type": "scatterpolar"
           }
          ],
          "scatterpolargl": [
           {
            "marker": {
             "colorbar": {
              "outlinewidth": 0,
              "ticks": ""
             }
            },
            "type": "scatterpolargl"
           }
          ],
          "scatterternary": [
           {
            "marker": {
             "colorbar": {
              "outlinewidth": 0,
              "ticks": ""
             }
            },
            "type": "scatterternary"
           }
          ],
          "surface": [
           {
            "colorbar": {
             "outlinewidth": 0,
             "ticks": ""
            },
            "colorscale": [
             [
              0,
              "#0d0887"
             ],
             [
              0.1111111111111111,
              "#46039f"
             ],
             [
              0.2222222222222222,
              "#7201a8"
             ],
             [
              0.3333333333333333,
              "#9c179e"
             ],
             [
              0.4444444444444444,
              "#bd3786"
             ],
             [
              0.5555555555555556,
              "#d8576b"
             ],
             [
              0.6666666666666666,
              "#ed7953"
             ],
             [
              0.7777777777777778,
              "#fb9f3a"
             ],
             [
              0.8888888888888888,
              "#fdca26"
             ],
             [
              1,
              "#f0f921"
             ]
            ],
            "type": "surface"
           }
          ],
          "table": [
           {
            "cells": {
             "fill": {
              "color": "#EBF0F8"
             },
             "line": {
              "color": "white"
             }
            },
            "header": {
             "fill": {
              "color": "#C8D4E3"
             },
             "line": {
              "color": "white"
             }
            },
            "type": "table"
           }
          ]
         },
         "layout": {
          "annotationdefaults": {
           "arrowcolor": "#2a3f5f",
           "arrowhead": 0,
           "arrowwidth": 1
          },
          "autotypenumbers": "strict",
          "coloraxis": {
           "colorbar": {
            "outlinewidth": 0,
            "ticks": ""
           }
          },
          "colorscale": {
           "diverging": [
            [
             0,
             "#8e0152"
            ],
            [
             0.1,
             "#c51b7d"
            ],
            [
             0.2,
             "#de77ae"
            ],
            [
             0.3,
             "#f1b6da"
            ],
            [
             0.4,
             "#fde0ef"
            ],
            [
             0.5,
             "#f7f7f7"
            ],
            [
             0.6,
             "#e6f5d0"
            ],
            [
             0.7,
             "#b8e186"
            ],
            [
             0.8,
             "#7fbc41"
            ],
            [
             0.9,
             "#4d9221"
            ],
            [
             1,
             "#276419"
            ]
           ],
           "sequential": [
            [
             0,
             "#0d0887"
            ],
            [
             0.1111111111111111,
             "#46039f"
            ],
            [
             0.2222222222222222,
             "#7201a8"
            ],
            [
             0.3333333333333333,
             "#9c179e"
            ],
            [
             0.4444444444444444,
             "#bd3786"
            ],
            [
             0.5555555555555556,
             "#d8576b"
            ],
            [
             0.6666666666666666,
             "#ed7953"
            ],
            [
             0.7777777777777778,
             "#fb9f3a"
            ],
            [
             0.8888888888888888,
             "#fdca26"
            ],
            [
             1,
             "#f0f921"
            ]
           ],
           "sequentialminus": [
            [
             0,
             "#0d0887"
            ],
            [
             0.1111111111111111,
             "#46039f"
            ],
            [
             0.2222222222222222,
             "#7201a8"
            ],
            [
             0.3333333333333333,
             "#9c179e"
            ],
            [
             0.4444444444444444,
             "#bd3786"
            ],
            [
             0.5555555555555556,
             "#d8576b"
            ],
            [
             0.6666666666666666,
             "#ed7953"
            ],
            [
             0.7777777777777778,
             "#fb9f3a"
            ],
            [
             0.8888888888888888,
             "#fdca26"
            ],
            [
             1,
             "#f0f921"
            ]
           ]
          },
          "colorway": [
           "#636efa",
           "#EF553B",
           "#00cc96",
           "#ab63fa",
           "#FFA15A",
           "#19d3f3",
           "#FF6692",
           "#B6E880",
           "#FF97FF",
           "#FECB52"
          ],
          "font": {
           "color": "#2a3f5f"
          },
          "geo": {
           "bgcolor": "white",
           "lakecolor": "white",
           "landcolor": "#E5ECF6",
           "showlakes": true,
           "showland": true,
           "subunitcolor": "white"
          },
          "hoverlabel": {
           "align": "left"
          },
          "hovermode": "closest",
          "mapbox": {
           "style": "light"
          },
          "paper_bgcolor": "white",
          "plot_bgcolor": "#E5ECF6",
          "polar": {
           "angularaxis": {
            "gridcolor": "white",
            "linecolor": "white",
            "ticks": ""
           },
           "bgcolor": "#E5ECF6",
           "radialaxis": {
            "gridcolor": "white",
            "linecolor": "white",
            "ticks": ""
           }
          },
          "scene": {
           "xaxis": {
            "backgroundcolor": "#E5ECF6",
            "gridcolor": "white",
            "gridwidth": 2,
            "linecolor": "white",
            "showbackground": true,
            "ticks": "",
            "zerolinecolor": "white"
           },
           "yaxis": {
            "backgroundcolor": "#E5ECF6",
            "gridcolor": "white",
            "gridwidth": 2,
            "linecolor": "white",
            "showbackground": true,
            "ticks": "",
            "zerolinecolor": "white"
           },
           "zaxis": {
            "backgroundcolor": "#E5ECF6",
            "gridcolor": "white",
            "gridwidth": 2,
            "linecolor": "white",
            "showbackground": true,
            "ticks": "",
            "zerolinecolor": "white"
           }
          },
          "shapedefaults": {
           "line": {
            "color": "#2a3f5f"
           }
          },
          "ternary": {
           "aaxis": {
            "gridcolor": "white",
            "linecolor": "white",
            "ticks": ""
           },
           "baxis": {
            "gridcolor": "white",
            "linecolor": "white",
            "ticks": ""
           },
           "bgcolor": "#E5ECF6",
           "caxis": {
            "gridcolor": "white",
            "linecolor": "white",
            "ticks": ""
           }
          },
          "title": {
           "x": 0.05
          },
          "xaxis": {
           "automargin": true,
           "gridcolor": "white",
           "linecolor": "white",
           "ticks": "",
           "title": {
            "standoff": 15
           },
           "zerolinecolor": "white",
           "zerolinewidth": 2
          },
          "yaxis": {
           "automargin": true,
           "gridcolor": "white",
           "linecolor": "white",
           "ticks": "",
           "title": {
            "standoff": 15
           },
           "zerolinecolor": "white",
           "zerolinewidth": 2
          }
         }
        },
        "title": {
         "text": "Volume Discount of EDT Perfumes",
         "x": 0.5,
         "xanchor": "center",
         "y": 0.95,
         "yanchor": "top"
        },
        "xaxis": {
         "anchor": "y",
         "domain": [
          0,
          1
         ],
         "title": {
          "text": "Volume(ml)"
         }
        },
        "yaxis": {
         "anchor": "x",
         "domain": [
          0,
          1
         ],
         "title": {
          "text": "Prices"
         }
        }
       }
      }
     },
     "metadata": {},
     "output_type": "display_data"
    }
   ],
   "source": [
    "df2 = df1.copy()\n",
    "mean = df1.groupby(['name','brand','concentration','ml'])['new_price'].mean()\n",
    "df3 = mean.reset_index()\n",
    "df4=df3[df3['concentration'] == 'EDT']\n",
    "df4 ['name'] = df4['name'] +\"-\"+ df4['brand'] +\"-\"+ df4['concentration']\n",
    "df4 = df4.sort_values('name',ascending=True)\n",
    "df4 = df4.drop(columns=['brand', 'concentration'])\n",
    "list = ['crystal noir-VERSACE-EDT','invictus-PACO RABANNE-EDT','touch of pink-LACOSTE-EDT', 'homme-joop-EDT','dylan blue-VERSACE-EDT','legend-MONTBLANC-EDT','flora-GUCCI-EDT','eros-VERSACE-EDT','bottled night-HUGO BOSS-EDT','desire-Dunhill-EDT','acqua di gio-GIORGIO ARMANI-EDT','212 vip-CAROLINA HERRERA-EDT','esencia-LOEWE-EDT','bright crystal-VERSACE-EDT','ck one-Calvin Klein-EDT']\n",
    "df5 = df4[df4['name'].isin(list)]\n",
    "fig = px.line(df5,x='ml',y='new_price',color_discrete_sequence=px.colors.qualitative.Vivid,color='name',markers=True,)\n",
    "fig.update_layout(barmode='group',title = {'text': 'Volume Discount of EDT Perfumes','y':0.95,'x':0.5, 'xanchor': 'center', 'yanchor': 'top' },xaxis_title=\"Volume(ml)\",yaxis_title=\"Prices\")\n",
    "fig.show()\n",
    "\n"
   ]
  },
  {
   "cell_type": "code",
   "execution_count": 42,
   "id": "63854595",
   "metadata": {},
   "outputs": [
    {
     "data": {
      "application/vnd.plotly.v1+json": {
       "config": {
        "plotlyServerURL": "https://plot.ly"
       },
       "data": [
        {
         "hovertemplate": "name=5th avenue-Elizabeth Arden-EDP<br>ml=%{x}<br>new_price=%{y}<extra></extra>",
         "legendgroup": "5th avenue-Elizabeth Arden-EDP",
         "line": {
          "color": "rgb(229, 134, 6)",
          "dash": "solid"
         },
         "marker": {
          "symbol": "circle"
         },
         "mode": "lines+markers",
         "name": "5th avenue-Elizabeth Arden-EDP",
         "orientation": "v",
         "showlegend": true,
         "type": "scatter",
         "x": [
          125,
          75
         ],
         "xaxis": "x",
         "y": [
          89.4,
          93
         ],
         "yaxis": "y"
        },
        {
         "hovertemplate": "name=cavalli-Roberto Cavalli-EDP<br>ml=%{x}<br>new_price=%{y}<extra></extra>",
         "legendgroup": "cavalli-Roberto Cavalli-EDP",
         "line": {
          "color": "rgb(93, 105, 177)",
          "dash": "solid"
         },
         "marker": {
          "symbol": "circle"
         },
         "mode": "lines+markers",
         "name": "cavalli-Roberto Cavalli-EDP",
         "orientation": "v",
         "showlegend": true,
         "type": "scatter",
         "x": [
          50,
          75
         ],
         "xaxis": "x",
         "y": [
          94.95,
          110
         ],
         "yaxis": "y"
        },
        {
         "hovertemplate": "name=chloe-CHLOE-EDP<br>ml=%{x}<br>new_price=%{y}<extra></extra>",
         "legendgroup": "chloe-CHLOE-EDP",
         "line": {
          "color": "rgb(82, 188, 163)",
          "dash": "solid"
         },
         "marker": {
          "symbol": "circle"
         },
         "mode": "lines+markers",
         "name": "chloe-CHLOE-EDP",
         "orientation": "v",
         "showlegend": true,
         "type": "scatter",
         "x": [
          50,
          75
         ],
         "xaxis": "x",
         "y": [
          188.85,
          186
         ],
         "yaxis": "y"
        },
        {
         "hovertemplate": "name=essential-ANGEL SCHLESSER-EDP<br>ml=%{x}<br>new_price=%{y}<extra></extra>",
         "legendgroup": "essential-ANGEL SCHLESSER-EDP",
         "line": {
          "color": "rgb(153, 201, 69)",
          "dash": "solid"
         },
         "marker": {
          "symbol": "circle"
         },
         "mode": "lines+markers",
         "name": "essential-ANGEL SCHLESSER-EDP",
         "orientation": "v",
         "showlegend": true,
         "type": "scatter",
         "x": [
          50,
          100
         ],
         "xaxis": "x",
         "y": [
          83.7,
          103.95
         ],
         "yaxis": "y"
        },
        {
         "hovertemplate": "name=explorer-MONTBLANC-EDP<br>ml=%{x}<br>new_price=%{y}<extra></extra>",
         "legendgroup": "explorer-MONTBLANC-EDP",
         "line": {
          "color": "rgb(204, 97, 176)",
          "dash": "solid"
         },
         "marker": {
          "symbol": "circle"
         },
         "mode": "lines+markers",
         "name": "explorer-MONTBLANC-EDP",
         "orientation": "v",
         "showlegend": true,
         "type": "scatter",
         "x": [
          2,
          100
         ],
         "xaxis": "x",
         "y": [
          9.5,
          187.9
         ],
         "yaxis": "y"
        },
        {
         "hovertemplate": "name=florence-Roberto Cavalli-EDP<br>ml=%{x}<br>new_price=%{y}<extra></extra>",
         "legendgroup": "florence-Roberto Cavalli-EDP",
         "line": {
          "color": "rgb(36, 121, 108)",
          "dash": "solid"
         },
         "marker": {
          "symbol": "circle"
         },
         "mode": "lines+markers",
         "name": "florence-Roberto Cavalli-EDP",
         "orientation": "v",
         "showlegend": true,
         "type": "scatter",
         "x": [
          50,
          75
         ],
         "xaxis": "x",
         "y": [
          139.5,
          158.9
         ],
         "yaxis": "y"
        },
        {
         "hovertemplate": "name=furiosa-Fendi-EDP<br>ml=%{x}<br>new_price=%{y}<extra></extra>",
         "legendgroup": "furiosa-Fendi-EDP",
         "line": {
          "color": "rgb(218, 165, 27)",
          "dash": "solid"
         },
         "marker": {
          "symbol": "circle"
         },
         "mode": "lines+markers",
         "name": "furiosa-Fendi-EDP",
         "orientation": "v",
         "showlegend": true,
         "type": "scatter",
         "x": [
          50,
          100
         ],
         "xaxis": "x",
         "y": [
          101.85,
          184.5
         ],
         "yaxis": "y"
        },
        {
         "hovertemplate": "name=good girl-CAROLINA HERRERA-EDP<br>ml=%{x}<br>new_price=%{y}<extra></extra>",
         "legendgroup": "good girl-CAROLINA HERRERA-EDP",
         "line": {
          "color": "rgb(47, 138, 196)",
          "dash": "solid"
         },
         "marker": {
          "symbol": "circle"
         },
         "mode": "lines+markers",
         "name": "good girl-CAROLINA HERRERA-EDP",
         "orientation": "v",
         "showlegend": true,
         "type": "scatter",
         "x": [
          50,
          80
         ],
         "xaxis": "x",
         "y": [
          242.5,
          198.1
         ],
         "yaxis": "y"
        },
        {
         "hovertemplate": "name=l'interdit-Givenchy-EDP<br>ml=%{x}<br>new_price=%{y}<extra></extra>",
         "legendgroup": "l'interdit-Givenchy-EDP",
         "line": {
          "color": "rgb(118, 78, 159)",
          "dash": "solid"
         },
         "marker": {
          "symbol": "circle"
         },
         "mode": "lines+markers",
         "name": "l'interdit-Givenchy-EDP",
         "orientation": "v",
         "showlegend": true,
         "type": "scatter",
         "x": [
          50,
          80
         ],
         "xaxis": "x",
         "y": [
          228,
          195.5
         ],
         "yaxis": "y"
        },
        {
         "hovertemplate": "name=la vie est belle-Lancome-EDP<br>ml=%{x}<br>new_price=%{y}<extra></extra>",
         "legendgroup": "la vie est belle-Lancome-EDP",
         "line": {
          "color": "rgb(237, 100, 90)",
          "dash": "solid"
         },
         "marker": {
          "symbol": "circle"
         },
         "mode": "lines+markers",
         "name": "la vie est belle-Lancome-EDP",
         "orientation": "v",
         "showlegend": true,
         "type": "scatter",
         "x": [
          50,
          75
         ],
         "xaxis": "x",
         "y": [
          233.95,
          217
         ],
         "yaxis": "y"
        },
        {
         "hovertemplate": "name=london-BURBERRY-EDP<br>ml=%{x}<br>new_price=%{y}<extra></extra>",
         "legendgroup": "london-BURBERRY-EDP",
         "line": {
          "color": "rgb(165, 170, 153)",
          "dash": "solid"
         },
         "marker": {
          "symbol": "circle"
         },
         "mode": "lines+markers",
         "name": "london-BURBERRY-EDP",
         "orientation": "v",
         "showlegend": true,
         "type": "scatter",
         "x": [
          50,
          100
         ],
         "xaxis": "x",
         "y": [
          140,
          169.06666666666666
         ],
         "yaxis": "y"
        },
        {
         "hovertemplate": "name=love story-CHLOE-EDP<br>ml=%{x}<br>new_price=%{y}<extra></extra>",
         "legendgroup": "love story-CHLOE-EDP",
         "line": {
          "color": "rgb(229, 134, 6)",
          "dash": "solid"
         },
         "marker": {
          "symbol": "circle"
         },
         "mode": "lines+markers",
         "name": "love story-CHLOE-EDP",
         "orientation": "v",
         "showlegend": true,
         "type": "scatter",
         "x": [
          50,
          75
         ],
         "xaxis": "x",
         "y": [
          237,
          239.58333333333334
         ],
         "yaxis": "y"
        },
        {
         "hovertemplate": "name=mademoiselle ricci-NINA RICCI-EDP<br>ml=%{x}<br>new_price=%{y}<extra></extra>",
         "legendgroup": "mademoiselle ricci-NINA RICCI-EDP",
         "line": {
          "color": "rgb(93, 105, 177)",
          "dash": "solid"
         },
         "marker": {
          "symbol": "circle"
         },
         "mode": "lines+markers",
         "name": "mademoiselle ricci-NINA RICCI-EDP",
         "orientation": "v",
         "showlegend": true,
         "type": "scatter",
         "x": [
          80,
          50
         ],
         "xaxis": "x",
         "y": [
          166.2,
          117
         ],
         "yaxis": "y"
        },
        {
         "hovertemplate": "name=modern muse-Estee Lauder-EDP<br>ml=%{x}<br>new_price=%{y}<extra></extra>",
         "legendgroup": "modern muse-Estee Lauder-EDP",
         "line": {
          "color": "rgb(82, 188, 163)",
          "dash": "solid"
         },
         "marker": {
          "symbol": "circle"
         },
         "mode": "lines+markers",
         "name": "modern muse-Estee Lauder-EDP",
         "orientation": "v",
         "showlegend": true,
         "type": "scatter",
         "x": [
          50,
          100
         ],
         "xaxis": "x",
         "y": [
          164.4,
          239.7
         ],
         "yaxis": "y"
        },
        {
         "hovertemplate": "name=my burberry-BURBERRY-EDP<br>ml=%{x}<br>new_price=%{y}<extra></extra>",
         "legendgroup": "my burberry-BURBERRY-EDP",
         "line": {
          "color": "rgb(153, 201, 69)",
          "dash": "solid"
         },
         "marker": {
          "symbol": "circle"
         },
         "mode": "lines+markers",
         "name": "my burberry-BURBERRY-EDP",
         "orientation": "v",
         "showlegend": true,
         "type": "scatter",
         "x": [
          50,
          90
         ],
         "xaxis": "x",
         "y": [
          179,
          207.51666666666665
         ],
         "yaxis": "y"
        },
        {
         "hovertemplate": "name=narciso rodriguez-NARCISO RODRIGUEZ-EDP<br>ml=%{x}<br>new_price=%{y}<extra></extra>",
         "legendgroup": "narciso rodriguez-NARCISO RODRIGUEZ-EDP",
         "line": {
          "color": "rgb(204, 97, 176)",
          "dash": "solid"
         },
         "marker": {
          "symbol": "circle"
         },
         "mode": "lines+markers",
         "name": "narciso rodriguez-NARCISO RODRIGUEZ-EDP",
         "orientation": "v",
         "showlegend": true,
         "type": "scatter",
         "x": [
          50,
          100
         ],
         "xaxis": "x",
         "y": [
          211.375,
          213
         ],
         "yaxis": "y"
        },
        {
         "hovertemplate": "name=pandora-J.CASANOVA-EDP<br>ml=%{x}<br>new_price=%{y}<extra></extra>",
         "legendgroup": "pandora-J.CASANOVA-EDP",
         "line": {
          "color": "rgb(36, 121, 108)",
          "dash": "solid"
         },
         "marker": {
          "symbol": "circle"
         },
         "mode": "lines+markers",
         "name": "pandora-J.CASANOVA-EDP",
         "orientation": "v",
         "showlegend": true,
         "type": "scatter",
         "x": [
          50,
          100
         ],
         "xaxis": "x",
         "y": [
          79.95,
          88.95
         ],
         "yaxis": "y"
        },
        {
         "hovertemplate": "name=paradiso assoluto-Roberto Cavalli-EDP<br>ml=%{x}<br>new_price=%{y}<extra></extra>",
         "legendgroup": "paradiso assoluto-Roberto Cavalli-EDP",
         "line": {
          "color": "rgb(218, 165, 27)",
          "dash": "solid"
         },
         "marker": {
          "symbol": "circle"
         },
         "mode": "lines+markers",
         "name": "paradiso assoluto-Roberto Cavalli-EDP",
         "orientation": "v",
         "showlegend": true,
         "type": "scatter",
         "x": [
          75,
          50
         ],
         "xaxis": "x",
         "y": [
          264.3333333333333,
          107.95
         ],
         "yaxis": "y"
        },
        {
         "hovertemplate": "name=scandal-Jean Paul GAULTIER-EDP<br>ml=%{x}<br>new_price=%{y}<extra></extra>",
         "legendgroup": "scandal-Jean Paul GAULTIER-EDP",
         "line": {
          "color": "rgb(47, 138, 196)",
          "dash": "solid"
         },
         "marker": {
          "symbol": "circle"
         },
         "mode": "lines+markers",
         "name": "scandal-Jean Paul GAULTIER-EDP",
         "orientation": "v",
         "showlegend": true,
         "type": "scatter",
         "x": [
          50,
          80
         ],
         "xaxis": "x",
         "y": [
          288,
          353.3
         ],
         "yaxis": "y"
        },
        {
         "hovertemplate": "name=sheikh al shuyukh-Arabian Oud-EDP<br>ml=%{x}<br>new_price=%{y}<extra></extra>",
         "legendgroup": "sheikh al shuyukh-Arabian Oud-EDP",
         "line": {
          "color": "rgb(118, 78, 159)",
          "dash": "solid"
         },
         "marker": {
          "symbol": "circle"
         },
         "mode": "lines+markers",
         "name": "sheikh al shuyukh-Arabian Oud-EDP",
         "orientation": "v",
         "showlegend": true,
         "type": "scatter",
         "x": [
          50,
          100
         ],
         "xaxis": "x",
         "y": [
          36.3,
          54
         ],
         "yaxis": "y"
        },
        {
         "hovertemplate": "name=the scent-HUGO BOSS-EDP<br>ml=%{x}<br>new_price=%{y}<extra></extra>",
         "legendgroup": "the scent-HUGO BOSS-EDP",
         "line": {
          "color": "rgb(237, 100, 90)",
          "dash": "solid"
         },
         "marker": {
          "symbol": "circle"
         },
         "mode": "lines+markers",
         "name": "the scent-HUGO BOSS-EDP",
         "orientation": "v",
         "showlegend": true,
         "type": "scatter",
         "x": [
          50,
          100
         ],
         "xaxis": "x",
         "y": [
          220,
          155
         ],
         "yaxis": "y"
        }
       ],
       "layout": {
        "barmode": "group",
        "legend": {
         "title": {
          "text": "name"
         },
         "tracegroupgap": 0
        },
        "margin": {
         "t": 60
        },
        "template": {
         "data": {
          "bar": [
           {
            "error_x": {
             "color": "#2a3f5f"
            },
            "error_y": {
             "color": "#2a3f5f"
            },
            "marker": {
             "line": {
              "color": "#E5ECF6",
              "width": 0.5
             },
             "pattern": {
              "fillmode": "overlay",
              "size": 10,
              "solidity": 0.2
             }
            },
            "type": "bar"
           }
          ],
          "barpolar": [
           {
            "marker": {
             "line": {
              "color": "#E5ECF6",
              "width": 0.5
             },
             "pattern": {
              "fillmode": "overlay",
              "size": 10,
              "solidity": 0.2
             }
            },
            "type": "barpolar"
           }
          ],
          "carpet": [
           {
            "aaxis": {
             "endlinecolor": "#2a3f5f",
             "gridcolor": "white",
             "linecolor": "white",
             "minorgridcolor": "white",
             "startlinecolor": "#2a3f5f"
            },
            "baxis": {
             "endlinecolor": "#2a3f5f",
             "gridcolor": "white",
             "linecolor": "white",
             "minorgridcolor": "white",
             "startlinecolor": "#2a3f5f"
            },
            "type": "carpet"
           }
          ],
          "choropleth": [
           {
            "colorbar": {
             "outlinewidth": 0,
             "ticks": ""
            },
            "type": "choropleth"
           }
          ],
          "contour": [
           {
            "colorbar": {
             "outlinewidth": 0,
             "ticks": ""
            },
            "colorscale": [
             [
              0,
              "#0d0887"
             ],
             [
              0.1111111111111111,
              "#46039f"
             ],
             [
              0.2222222222222222,
              "#7201a8"
             ],
             [
              0.3333333333333333,
              "#9c179e"
             ],
             [
              0.4444444444444444,
              "#bd3786"
             ],
             [
              0.5555555555555556,
              "#d8576b"
             ],
             [
              0.6666666666666666,
              "#ed7953"
             ],
             [
              0.7777777777777778,
              "#fb9f3a"
             ],
             [
              0.8888888888888888,
              "#fdca26"
             ],
             [
              1,
              "#f0f921"
             ]
            ],
            "type": "contour"
           }
          ],
          "contourcarpet": [
           {
            "colorbar": {
             "outlinewidth": 0,
             "ticks": ""
            },
            "type": "contourcarpet"
           }
          ],
          "heatmap": [
           {
            "colorbar": {
             "outlinewidth": 0,
             "ticks": ""
            },
            "colorscale": [
             [
              0,
              "#0d0887"
             ],
             [
              0.1111111111111111,
              "#46039f"
             ],
             [
              0.2222222222222222,
              "#7201a8"
             ],
             [
              0.3333333333333333,
              "#9c179e"
             ],
             [
              0.4444444444444444,
              "#bd3786"
             ],
             [
              0.5555555555555556,
              "#d8576b"
             ],
             [
              0.6666666666666666,
              "#ed7953"
             ],
             [
              0.7777777777777778,
              "#fb9f3a"
             ],
             [
              0.8888888888888888,
              "#fdca26"
             ],
             [
              1,
              "#f0f921"
             ]
            ],
            "type": "heatmap"
           }
          ],
          "heatmapgl": [
           {
            "colorbar": {
             "outlinewidth": 0,
             "ticks": ""
            },
            "colorscale": [
             [
              0,
              "#0d0887"
             ],
             [
              0.1111111111111111,
              "#46039f"
             ],
             [
              0.2222222222222222,
              "#7201a8"
             ],
             [
              0.3333333333333333,
              "#9c179e"
             ],
             [
              0.4444444444444444,
              "#bd3786"
             ],
             [
              0.5555555555555556,
              "#d8576b"
             ],
             [
              0.6666666666666666,
              "#ed7953"
             ],
             [
              0.7777777777777778,
              "#fb9f3a"
             ],
             [
              0.8888888888888888,
              "#fdca26"
             ],
             [
              1,
              "#f0f921"
             ]
            ],
            "type": "heatmapgl"
           }
          ],
          "histogram": [
           {
            "marker": {
             "pattern": {
              "fillmode": "overlay",
              "size": 10,
              "solidity": 0.2
             }
            },
            "type": "histogram"
           }
          ],
          "histogram2d": [
           {
            "colorbar": {
             "outlinewidth": 0,
             "ticks": ""
            },
            "colorscale": [
             [
              0,
              "#0d0887"
             ],
             [
              0.1111111111111111,
              "#46039f"
             ],
             [
              0.2222222222222222,
              "#7201a8"
             ],
             [
              0.3333333333333333,
              "#9c179e"
             ],
             [
              0.4444444444444444,
              "#bd3786"
             ],
             [
              0.5555555555555556,
              "#d8576b"
             ],
             [
              0.6666666666666666,
              "#ed7953"
             ],
             [
              0.7777777777777778,
              "#fb9f3a"
             ],
             [
              0.8888888888888888,
              "#fdca26"
             ],
             [
              1,
              "#f0f921"
             ]
            ],
            "type": "histogram2d"
           }
          ],
          "histogram2dcontour": [
           {
            "colorbar": {
             "outlinewidth": 0,
             "ticks": ""
            },
            "colorscale": [
             [
              0,
              "#0d0887"
             ],
             [
              0.1111111111111111,
              "#46039f"
             ],
             [
              0.2222222222222222,
              "#7201a8"
             ],
             [
              0.3333333333333333,
              "#9c179e"
             ],
             [
              0.4444444444444444,
              "#bd3786"
             ],
             [
              0.5555555555555556,
              "#d8576b"
             ],
             [
              0.6666666666666666,
              "#ed7953"
             ],
             [
              0.7777777777777778,
              "#fb9f3a"
             ],
             [
              0.8888888888888888,
              "#fdca26"
             ],
             [
              1,
              "#f0f921"
             ]
            ],
            "type": "histogram2dcontour"
           }
          ],
          "mesh3d": [
           {
            "colorbar": {
             "outlinewidth": 0,
             "ticks": ""
            },
            "type": "mesh3d"
           }
          ],
          "parcoords": [
           {
            "line": {
             "colorbar": {
              "outlinewidth": 0,
              "ticks": ""
             }
            },
            "type": "parcoords"
           }
          ],
          "pie": [
           {
            "automargin": true,
            "type": "pie"
           }
          ],
          "scatter": [
           {
            "fillpattern": {
             "fillmode": "overlay",
             "size": 10,
             "solidity": 0.2
            },
            "type": "scatter"
           }
          ],
          "scatter3d": [
           {
            "line": {
             "colorbar": {
              "outlinewidth": 0,
              "ticks": ""
             }
            },
            "marker": {
             "colorbar": {
              "outlinewidth": 0,
              "ticks": ""
             }
            },
            "type": "scatter3d"
           }
          ],
          "scattercarpet": [
           {
            "marker": {
             "colorbar": {
              "outlinewidth": 0,
              "ticks": ""
             }
            },
            "type": "scattercarpet"
           }
          ],
          "scattergeo": [
           {
            "marker": {
             "colorbar": {
              "outlinewidth": 0,
              "ticks": ""
             }
            },
            "type": "scattergeo"
           }
          ],
          "scattergl": [
           {
            "marker": {
             "colorbar": {
              "outlinewidth": 0,
              "ticks": ""
             }
            },
            "type": "scattergl"
           }
          ],
          "scattermapbox": [
           {
            "marker": {
             "colorbar": {
              "outlinewidth": 0,
              "ticks": ""
             }
            },
            "type": "scattermapbox"
           }
          ],
          "scatterpolar": [
           {
            "marker": {
             "colorbar": {
              "outlinewidth": 0,
              "ticks": ""
             }
            },
            "type": "scatterpolar"
           }
          ],
          "scatterpolargl": [
           {
            "marker": {
             "colorbar": {
              "outlinewidth": 0,
              "ticks": ""
             }
            },
            "type": "scatterpolargl"
           }
          ],
          "scatterternary": [
           {
            "marker": {
             "colorbar": {
              "outlinewidth": 0,
              "ticks": ""
             }
            },
            "type": "scatterternary"
           }
          ],
          "surface": [
           {
            "colorbar": {
             "outlinewidth": 0,
             "ticks": ""
            },
            "colorscale": [
             [
              0,
              "#0d0887"
             ],
             [
              0.1111111111111111,
              "#46039f"
             ],
             [
              0.2222222222222222,
              "#7201a8"
             ],
             [
              0.3333333333333333,
              "#9c179e"
             ],
             [
              0.4444444444444444,
              "#bd3786"
             ],
             [
              0.5555555555555556,
              "#d8576b"
             ],
             [
              0.6666666666666666,
              "#ed7953"
             ],
             [
              0.7777777777777778,
              "#fb9f3a"
             ],
             [
              0.8888888888888888,
              "#fdca26"
             ],
             [
              1,
              "#f0f921"
             ]
            ],
            "type": "surface"
           }
          ],
          "table": [
           {
            "cells": {
             "fill": {
              "color": "#EBF0F8"
             },
             "line": {
              "color": "white"
             }
            },
            "header": {
             "fill": {
              "color": "#C8D4E3"
             },
             "line": {
              "color": "white"
             }
            },
            "type": "table"
           }
          ]
         },
         "layout": {
          "annotationdefaults": {
           "arrowcolor": "#2a3f5f",
           "arrowhead": 0,
           "arrowwidth": 1
          },
          "autotypenumbers": "strict",
          "coloraxis": {
           "colorbar": {
            "outlinewidth": 0,
            "ticks": ""
           }
          },
          "colorscale": {
           "diverging": [
            [
             0,
             "#8e0152"
            ],
            [
             0.1,
             "#c51b7d"
            ],
            [
             0.2,
             "#de77ae"
            ],
            [
             0.3,
             "#f1b6da"
            ],
            [
             0.4,
             "#fde0ef"
            ],
            [
             0.5,
             "#f7f7f7"
            ],
            [
             0.6,
             "#e6f5d0"
            ],
            [
             0.7,
             "#b8e186"
            ],
            [
             0.8,
             "#7fbc41"
            ],
            [
             0.9,
             "#4d9221"
            ],
            [
             1,
             "#276419"
            ]
           ],
           "sequential": [
            [
             0,
             "#0d0887"
            ],
            [
             0.1111111111111111,
             "#46039f"
            ],
            [
             0.2222222222222222,
             "#7201a8"
            ],
            [
             0.3333333333333333,
             "#9c179e"
            ],
            [
             0.4444444444444444,
             "#bd3786"
            ],
            [
             0.5555555555555556,
             "#d8576b"
            ],
            [
             0.6666666666666666,
             "#ed7953"
            ],
            [
             0.7777777777777778,
             "#fb9f3a"
            ],
            [
             0.8888888888888888,
             "#fdca26"
            ],
            [
             1,
             "#f0f921"
            ]
           ],
           "sequentialminus": [
            [
             0,
             "#0d0887"
            ],
            [
             0.1111111111111111,
             "#46039f"
            ],
            [
             0.2222222222222222,
             "#7201a8"
            ],
            [
             0.3333333333333333,
             "#9c179e"
            ],
            [
             0.4444444444444444,
             "#bd3786"
            ],
            [
             0.5555555555555556,
             "#d8576b"
            ],
            [
             0.6666666666666666,
             "#ed7953"
            ],
            [
             0.7777777777777778,
             "#fb9f3a"
            ],
            [
             0.8888888888888888,
             "#fdca26"
            ],
            [
             1,
             "#f0f921"
            ]
           ]
          },
          "colorway": [
           "#636efa",
           "#EF553B",
           "#00cc96",
           "#ab63fa",
           "#FFA15A",
           "#19d3f3",
           "#FF6692",
           "#B6E880",
           "#FF97FF",
           "#FECB52"
          ],
          "font": {
           "color": "#2a3f5f"
          },
          "geo": {
           "bgcolor": "white",
           "lakecolor": "white",
           "landcolor": "#E5ECF6",
           "showlakes": true,
           "showland": true,
           "subunitcolor": "white"
          },
          "hoverlabel": {
           "align": "left"
          },
          "hovermode": "closest",
          "mapbox": {
           "style": "light"
          },
          "paper_bgcolor": "white",
          "plot_bgcolor": "#E5ECF6",
          "polar": {
           "angularaxis": {
            "gridcolor": "white",
            "linecolor": "white",
            "ticks": ""
           },
           "bgcolor": "#E5ECF6",
           "radialaxis": {
            "gridcolor": "white",
            "linecolor": "white",
            "ticks": ""
           }
          },
          "scene": {
           "xaxis": {
            "backgroundcolor": "#E5ECF6",
            "gridcolor": "white",
            "gridwidth": 2,
            "linecolor": "white",
            "showbackground": true,
            "ticks": "",
            "zerolinecolor": "white"
           },
           "yaxis": {
            "backgroundcolor": "#E5ECF6",
            "gridcolor": "white",
            "gridwidth": 2,
            "linecolor": "white",
            "showbackground": true,
            "ticks": "",
            "zerolinecolor": "white"
           },
           "zaxis": {
            "backgroundcolor": "#E5ECF6",
            "gridcolor": "white",
            "gridwidth": 2,
            "linecolor": "white",
            "showbackground": true,
            "ticks": "",
            "zerolinecolor": "white"
           }
          },
          "shapedefaults": {
           "line": {
            "color": "#2a3f5f"
           }
          },
          "ternary": {
           "aaxis": {
            "gridcolor": "white",
            "linecolor": "white",
            "ticks": ""
           },
           "baxis": {
            "gridcolor": "white",
            "linecolor": "white",
            "ticks": ""
           },
           "bgcolor": "#E5ECF6",
           "caxis": {
            "gridcolor": "white",
            "linecolor": "white",
            "ticks": ""
           }
          },
          "title": {
           "x": 0.05
          },
          "xaxis": {
           "automargin": true,
           "gridcolor": "white",
           "linecolor": "white",
           "ticks": "",
           "title": {
            "standoff": 15
           },
           "zerolinecolor": "white",
           "zerolinewidth": 2
          },
          "yaxis": {
           "automargin": true,
           "gridcolor": "white",
           "linecolor": "white",
           "ticks": "",
           "title": {
            "standoff": 15
           },
           "zerolinecolor": "white",
           "zerolinewidth": 2
          }
         }
        },
        "title": {
         "text": "Volume Discount of EDT Perfumes",
         "x": 0.5,
         "xanchor": "center",
         "y": 0.95,
         "yanchor": "top"
        },
        "xaxis": {
         "anchor": "y",
         "domain": [
          0,
          1
         ],
         "title": {
          "text": "Volume(ml)"
         }
        },
        "yaxis": {
         "anchor": "x",
         "domain": [
          0,
          1
         ],
         "title": {
          "text": "Prices"
         }
        }
       }
      }
     },
     "metadata": {},
     "output_type": "display_data"
    }
   ],
   "source": [
    "df2 = df1.copy()\n",
    "mean = df1.groupby(['name','brand','concentration','ml'])['new_price'].mean()\n",
    "df3 = mean.reset_index()\n",
    "df4=df3[df3['concentration'] == 'EDP']\n",
    "df4 ['name'] = df4['name'] +\"-\"+ df4['brand'] +\"-\"+ df4['concentration']\n",
    "df4 = df4.sort_values('name',ascending=True)\n",
    "df4 = df4.drop(columns=['brand', 'concentration'])\n",
    "df4\n",
    "count = df4.groupby(['name'])['name'].count()\n",
    "count.sort_values(ascending=False)\n",
    "list = [\"109 collection-Genie-EDP\",\"my burberry-BURBERRY-EDP\",\"essential-ANGEL SCHLESSER-EDP\",\"florence-Roberto Cavalli-EDP\",\"furiosa-Fendi-EDP\",\"good girl-CAROLINA HERRERA-EDP\",\"paradiso assoluto-Roberto Cavalli-EDP\",\"chloe-CHLOE-EDP\",\"scandal-Jean Paul GAULTIER-EDP\",\"cavalli-Roberto Cavalli-EDP\",\"pandora-J.CASANOVA-EDP\",\"sheikh al shuyukh-Arabian Oud-EDP\",\"l'interdit-Givenchy-EDP\",\"la vie est belle-Lancome-EDP\",\"the scent-HUGO BOSS-EDP\",\"narciso rodriguez-NARCISO RODRIGUEZ-EDP\",\"explorer-MONTBLANC-EDP\",\"5th avenue-Elizabeth Arden-EDP\",\"mademoiselle ricci-NINA RICCI-EDP\",\"london-BURBERRY-EDP\",\"love story-CHLOE-EDP\",\"modern muse-Estee Lauder-EDP\"]\n",
    "df5 = df4[df4['name'].isin(list)]\n",
    "fig = px.line(df5,x='ml',y='new_price',color_discrete_sequence=px.colors.qualitative.Vivid,color='name',markers=True,)\n",
    "fig.update_layout(barmode='group',title = {'text': 'Volume Discount of EDP Perfumes','y':0.95,'x':0.5, 'xanchor': 'center', 'yanchor': 'top' },xaxis_title=\"Volume(ml)\",yaxis_title=\"Prices\")\n",
    "fig.show()"
   ]
  }
 ],
 "metadata": {
  "kernelspec": {
   "display_name": "base",
   "language": "python",
   "name": "python3"
  },
  "language_info": {
   "codemirror_mode": {
    "name": "ipython",
    "version": 3
   },
   "file_extension": ".py",
   "mimetype": "text/x-python",
   "name": "python",
   "nbconvert_exporter": "python",
   "pygments_lexer": "ipython3",
   "version": "3.9.15"
  },
  "vscode": {
   "interpreter": {
    "hash": "2a7afba27c518e8de91f0dcbbf52f585a98159ed07d23f137e86bc0c773efb76"
   }
  }
 },
 "nbformat": 4,
 "nbformat_minor": 5
}
